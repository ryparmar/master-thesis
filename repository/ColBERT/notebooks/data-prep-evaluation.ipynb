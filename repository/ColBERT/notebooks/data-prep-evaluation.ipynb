{
 "cells": [
  {
   "cell_type": "code",
   "execution_count": 4,
   "metadata": {},
   "outputs": [],
   "source": [
    "from tqdm import tqdm\n",
    "from datetime import datetime\n",
    "import sys, os\n",
    "import logging\n",
    "\n",
    "import torch \n",
    "import transformers\n",
    "\n",
    "import faiss\n",
    "import jsonlines"
   ]
  },
  {
   "cell_type": "code",
   "execution_count": 5,
   "metadata": {},
   "outputs": [],
   "source": [
    "if '/home/ryparmar/experimental-martin/pretraining/src/' not in sys.path:\n",
    "    sys.path.append('/home/ryparmar/experimental-martin/pretraining/src')\n",
    "\n",
    "import io_util, eval"
   ]
  },
  {
   "cell_type": "code",
   "execution_count": 6,
   "metadata": {},
   "outputs": [],
   "source": [
    "def load_claims(split: str, path):\n",
    "    \"\"\"\n",
    "    split = [\"train\", \"dev\", \"test\"]\n",
    "    :return: (claims, evidence, labels)\n",
    "    \"\"\"\n",
    "    if split in ['train', 'dev', 'test']:\n",
    "        claims_data = io_util.load_jsonl(path)\n",
    "        db_cols = ['id', 'verifiable', 'label', 'claim', 'evidence', 'claim_en']\n",
    "\n",
    "        data = {}\n",
    "        for c in claims_data:\n",
    "            for col in db_cols:\n",
    "                if col in data:\n",
    "                    data[col].append(c.get(col, float('nan')))\n",
    "                else:\n",
    "                    data[col] = [c.get(col, float('nan'))]\n",
    "\n",
    "        assert len(data['claim']) == len(data['evidence']) == len(data['label'])\n",
    "        print(f\"Loaded {len(data['claim'])} claims from {split} split.\")\n",
    "    return data['claim'], data['evidence'], data['label']"
   ]
  },
  {
   "cell_type": "code",
   "execution_count": 4,
   "metadata": {},
   "outputs": [],
   "source": [
    "### FEVER\n",
    "# dev_path = '/mnt/data/factcheck/fever/data-cs/fever-data/dev.jsonl'\n",
    "# dev_queris_path = \"/mnt/data/factcheck/fever/data-cs/fever/dev_queries.tsv\"\n",
    "# collection_path = \"/mnt/data/factcheck/fever/data-cs/fever/ \"\n",
    "# ranking_path = \"/home/ryparmar/trained_models/colbert-fever2/fever/retrieve.py/2021-03-20_11.36.39/ranking.tsv\"\n",
    "\n",
    "### CTK\n",
    "dev_path = '/mnt/data/factcheck/CTK/par5/'\n",
    "dev_jsonl = os.path.join(dev_path, 'ctk-data', 'dev.jsonl')\n",
    "dev_queries_path = os.path.join(dev_path, 'ctk-data', 'dev_queries.tsv')\n",
    "test_path = '/mnt/data/factcheck/CTK/par5/'\n",
    "test_jsonl = os.path.join(dev_path, 'ctk-data', 'test.jsonl')\n",
    "test_queries_path = os.path.join(dev_path, 'ctk-data', 'test_queries.tsv')\n",
    "collection_path = os.path.join(dev_path, 'interim', 'collection_filtered.tsv')\n",
    "idx2title_path = os.path.join(dev_path, 'interim', 'old-id2new-id.tsv')\n",
    "\n",
    "ranking_path = \"/home/ryparmar/trained_models/colbert/ctk-fever/rerank.py/test/ranking.tsv\""
   ]
  },
  {
   "cell_type": "code",
   "execution_count": 48,
   "metadata": {},
   "outputs": [
    {
     "name": "stdout",
     "output_type": "stream",
     "text": [
      "Loaded 161 claims from dev split.\n"
     ]
    }
   ],
   "source": [
    "claims, evidence, labels = load_claims('dev', dev_jsonl)"
   ]
  },
  {
   "cell_type": "code",
   "execution_count": 12,
   "metadata": {},
   "outputs": [
    {
     "name": "stdout",
     "output_type": "stream",
     "text": [
      "{\"id\": 24, \"verifiable\": \"VERIFIABLE\", \"label\": \"SUPPORTS\", \"claim\": \"Společnost Bühler Motor Hradec Králové vlastní výrobní halu za 90 miliónů korun.\", \"evidence\": [[[-1, 15, \"20020322E03049_1\", -1]], [[-1, 260, \"20020322E03049_1\", -1]], [[-1, 957, \"20020322E03049_1\", -1]]], \"orig_par_id\": \"20020322E03049_1\"}\r\n"
     ]
    }
   ],
   "source": [
    "!head -n 1 {dev_jsonl}"
   ]
  },
  {
   "cell_type": "code",
   "execution_count": 13,
   "metadata": {},
   "outputs": [
    {
     "name": "stdout",
     "output_type": "stream",
     "text": [
      "0\tSpolečnost Bühler Motor Hradec Králové vlastní výrobní halu za 90 miliónů korun.\r\n",
      "1\tAndrzej Žulawski zemřel na rakovinu.\r\n"
     ]
    }
   ],
   "source": [
    "!head -n 2 {dev_queries_path}"
   ]
  },
  {
   "cell_type": "code",
   "execution_count": 14,
   "metadata": {},
   "outputs": [
    {
     "name": "stdout",
     "output_type": "stream",
     "text": [
      "0\tDokazování v kauze korupce na finančním úřadu se blíží ke konci\r\n",
      "1\tZlín 15. srpna ( ČTK ) - Krajský soud ve Zlíně dokončuje dokazování v korupční kauze kolem finančního úřadu v Kroměříži . Podle obžaloby braly tři úřednice úplatky za ovlivňování daňového řízení . V případu je stíhána i zastupitelka Kroměříže za KSČM Kamila Dudová , která podle obžaloby s korupcí pomáhala , a podnikatel Milan Macourek , v jehož prospěch byla daň krácena . Úřednice i Dudová vinu odmítají , Macourek se přiznal .\r\n",
      "2\tDudová podle obžaloby pomáhala s daňovým řízením obchodníkovi s trvanlivými potravinami Macourkovi . Jeho společnosti DUHAN byla podle státní zástupkyně neoprávněně vyplacena daň z přidané hodnoty 22,5 milionu korun a o vyplacení dalších 5,8 milionu se pokusil . Podle obžaloby se na tom podílely pracovnice finančního úřadu Lenka Burianová , Jarmila Červinková a Alena Olšinová , které ale tvrdí , že samy odhalily Macourkův podvod .\r\n",
      "3\tDnes u soudu vypovídali svědkové obhajoby , mimo jiné znalci , kteří oponovali odbornému vyjádření zpracovanému generálním finančním ředitelstvím . Soud ještě čeká přehrání pořízených odposlechů . Hlavní líčení pokračuje v úterý a ve čtvrtek .\r\n",
      "4\tPodle obžaloby Macourek na radu Burianové a Červinkové vyráběl fiktivní doklady od dodavatelů za daňová období v letech 2011 a 2012 . Podnikatel je podezřelý , že úřednicím za to , že nebudou ověřovat fiktivní doklady ani padělané bankovní výpisy , poskytl každé úplatek 550.000 korun . Olšinová podle obžaloby prostřednictvím Dudové žádala úplatek 500.000 Kč , který ale Macourek , jenž je považován za spolupracujícího obviněného , nevyplatil .\r\n"
     ]
    }
   ],
   "source": [
    "!head -n 5 {collection_path}"
   ]
  },
  {
   "cell_type": "code",
   "execution_count": 15,
   "metadata": {},
   "outputs": [
    {
     "name": "stdout",
     "output_type": "stream",
     "text": [
      "T201608150566901_0\t0\r\n",
      "T201608150566901_1\t1\r\n",
      "T201608150566901_2\t2\r\n",
      "T201608150566901_3\t3\r\n",
      "T201608150566901_4\t4\r\n"
     ]
    }
   ],
   "source": [
    "!head -n 5 {idx2title_path}"
   ]
  },
  {
   "cell_type": "code",
   "execution_count": 16,
   "metadata": {},
   "outputs": [],
   "source": [
    "# !ls /mnt/data/factcheck/fever/data-cs/fever/ "
   ]
  },
  {
   "cell_type": "code",
   "execution_count": 17,
   "metadata": {},
   "outputs": [],
   "source": [
    "def read_tsv_col(path):\n",
    "    with open(path, 'r') as fr:\n",
    "        ids, data = [], []\n",
    "        for l in tqdm(fr.readlines()):\n",
    "            tmp = l.split('\\t')\n",
    "            if len(tmp) > 1:\n",
    "                ids.append(tmp[0].strip())\n",
    "                data.append(tmp[1].strip())\n",
    "            else:\n",
    "                print(f\"Problem -- only one value in {tmp}?\")\n",
    "    return ids, data\n",
    "\n",
    "def read_tsv_ranking(path):\n",
    "    with open(path, 'r') as fr:\n",
    "        data = []\n",
    "        for l in tqdm(fr.readlines()):\n",
    "            tmp = l.split('\\t')\n",
    "            query, doc = int(tmp[0].strip()), int(tmp[1].strip())\n",
    "            if len(data) == query:\n",
    "                data.append([doc])\n",
    "            else:\n",
    "                data[query].append(doc)\n",
    "    return data"
   ]
  },
  {
   "cell_type": "code",
   "execution_count": 18,
   "metadata": {},
   "outputs": [
    {
     "name": "stderr",
     "output_type": "stream",
     "text": [
      "100%|██████████| 161/161 [00:00<00:00, 86808.45it/s]\n",
      "100%|██████████| 13619573/13619573 [00:28<00:00, 481261.94it/s]\n"
     ]
    }
   ],
   "source": [
    "_, dev_queries = read_tsv_col(dev_queries_path)\n",
    "collection_ids, collection = read_tsv_col(collection_path)"
   ]
  },
  {
   "cell_type": "code",
   "execution_count": 19,
   "metadata": {
    "scrolled": true
   },
   "outputs": [
    {
     "data": {
      "text/plain": [
       "['Společnost Bühler Motor Hradec Králové vlastní výrobní halu za 90 miliónů korun.',\n",
       " 'Andrzej Žulawski zemřel na rakovinu.',\n",
       " 'Společnost Bühler Motor otevřela výrobní halu za 90 miliónů korun v Hradci Králové.',\n",
       " 'Christof Furtwängler nepracuje pro firmu Bühler Motor.',\n",
       " 'Christof Furtwängler je jednatelem firmy.']"
      ]
     },
     "execution_count": 19,
     "metadata": {},
     "output_type": "execute_result"
    }
   ],
   "source": [
    "dev_queries[:5]"
   ]
  },
  {
   "cell_type": "code",
   "execution_count": 20,
   "metadata": {},
   "outputs": [
    {
     "data": {
      "text/plain": [
       "['0', '1', '2', '3', '4']"
      ]
     },
     "execution_count": 20,
     "metadata": {},
     "output_type": "execute_result"
    }
   ],
   "source": [
    "collection_ids[:5]"
   ]
  },
  {
   "cell_type": "code",
   "execution_count": 21,
   "metadata": {},
   "outputs": [
    {
     "name": "stderr",
     "output_type": "stream",
     "text": [
      "100%|██████████| 161000/161000 [00:00<00:00, 643558.10it/s]\n"
     ]
    }
   ],
   "source": [
    "predicted = read_tsv_ranking(ranking_path)"
   ]
  },
  {
   "cell_type": "code",
   "execution_count": 25,
   "metadata": {},
   "outputs": [
    {
     "data": {
      "text/plain": [
       "[3904887, 566765, 11280881, 3904886, 566764]"
      ]
     },
     "execution_count": 25,
     "metadata": {},
     "output_type": "execute_result"
    }
   ],
   "source": [
    "predicted[1][:5]"
   ]
  },
  {
   "cell_type": "code",
   "execution_count": 23,
   "metadata": {},
   "outputs": [
    {
     "data": {
      "text/plain": [
       "13619573"
      ]
     },
     "execution_count": 23,
     "metadata": {},
     "output_type": "execute_result"
    }
   ],
   "source": [
    "len(collection_ids)"
   ]
  },
  {
   "cell_type": "code",
   "execution_count": 26,
   "metadata": {},
   "outputs": [],
   "source": [
    "with open(idx2title_path) as fr:\n",
    "    idx2title = [l.split('\\t')[0].strip() for l in fr.readlines()]"
   ]
  },
  {
   "cell_type": "code",
   "execution_count": 27,
   "metadata": {},
   "outputs": [
    {
     "data": {
      "text/plain": [
       "'T201401160579001_0'"
      ]
     },
     "execution_count": 27,
     "metadata": {},
     "output_type": "execute_result"
    }
   ],
   "source": [
    "idx2title[10584065]"
   ]
  },
  {
   "cell_type": "code",
   "execution_count": 28,
   "metadata": {},
   "outputs": [
    {
     "data": {
      "text/plain": [
       "13619573"
      ]
     },
     "execution_count": 28,
     "metadata": {},
     "output_type": "execute_result"
    }
   ],
   "source": [
    "len(idx2title)"
   ]
  },
  {
   "cell_type": "code",
   "execution_count": null,
   "metadata": {},
   "outputs": [],
   "source": []
  },
  {
   "cell_type": "code",
   "execution_count": 81,
   "metadata": {},
   "outputs": [
    {
     "name": "stdout",
     "output_type": "stream",
     "text": [
      "query: Andrzej Žulawski zemřel na rakovinu.\n",
      "0 \n",
      " PRAHA 24. června ( ČTK ) - Předsedou České strany národně sociální ( ČSNS ) bude nadále bývalý ředitel ekonomické kontrarozvědky Jan Šula , který stojí v jejím čele již od října 1998\\ . Opětovně jej dnes večer do této funkce zvolilo 88 ze 112 delegátů dvoudenního 30. celostátního sjezdu ČSNS v Praze .\n",
      "1 \n",
      " Pětačtyřicetiletý Šula , který pochází z rodiny pronásledované komunistickým režimem , je ženatý a má dvě dcery . V roce 1991 stál u zrodu policejní Služby na ochranu ekonomických zájmů a dva roky zastával funkci ředitele ekonomické kontrarozvědky . Toto místo opustil oficiálně z osobních důvodů . Podle informací některých sdělovacích prostředků však od policie odešel kvůli problematickému policejnímu zásahu v pražské restauraci u Holubů , údajně pro neshody s tehdejším ministrem vnitra Janem Rumlem . Před vstupem do ČSNS byl také členem KDU-ČSL a ODA .\n",
      "2 \n",
      " Podle bývalého polského prezidenta a šéfa hnutí Solidarita Lecha Walesy byl Havel velkým člověkem , který by si zasloužil Nobelovu cenu za mír a který bude chybět . `` Myslím , že všichni dokonale cítíme , že jsme utrpěli velkou ztrátu . Ztratili jsme přítele , který se osvědčil i v těžkých dobách , '' vyjádřil se polský prezident Bronislaw Komorowski , který také informoval o stažení vlajek na prezidentském paláci ve Varšavě .\n",
      "3 \n",
      " Ali s Frazierem byli soupeři nejen v ringu , ale i mimo něj . Výřečný a mediálně zdatný Ali málokdy vynechal příležitost si do svého soka rýpnout a urazit ho , což mu Frazier ani dlouho po ukončení kariéry neodpustil . Asi nejvíce kontroverzí vyvolala Aliho rýmovačka : `` To bude mazec až dostanu tu gorilu v Manile . '' Frazier zemřel v roce 2011 v 67 letech na rakovinu jater . Ali , který se potýká s Parkinsonovou chorobou , se s ním osobně přijel rozloučit .\n",
      "4 \n",
      " Na sochu Žižky na Vítkově kdosi umístil protikomunistický nápis\n",
      "5 \n",
      " Praha 31. ledna ( ČTK ) - V Česku velmi populární slovenská skupina Horkýže slíže rekapituluje svoji dosavadní kariéru albem největších hitů s názvem V dobrej viere ( 2001 - 2011 ) , které vyjde 4. března . Vedle 17 nejžádanějších koncertních písní výběr nabídne dvě nové skladby , singl s názvem Mám v p… na lehátku a svérázný Megamix největších hitů Horkýže slíže . ČTK o tom dnes za kapelu informovala Martina Žáková .\n",
      "6 \n",
      " Yasmina Reza se narodila v roce 1957 v Paříži jako jedna ze tří dětí Maďarky a Íránce . Vystudovala herectví , herečkou však nechtěla zůstat , protože je to podle ní otrocké povolání , závislé na režisérovi . Začala sama psát , jejím prvním dílem byla adaptace pohádky Marie Vlčice . Průlom znamenala její hra Obraz , někdy uváděná jako Umění a na Slovensku Kumšt . V polovině 90. let ji nastudovali v Divadle ABC , odkud ji převzalo Divadlo Bez zábradlí . Vystupovali v ní Zdeněk Žák , Jan Hrušínský a Otakar Brousek ml. Hra získala hned po svém vzniku v Paříži prestižní cenu Moliere . Překladatel Michal Lázňovský ji charakterizoval jako typicky pařížskou bulvární komedii v tom nejlepším slova smyslu s inteligentním humorem . Po pětileté odmlce uvedla Reza v roce 2000 hru Tři verze života , v níž ztvárnila jednu z rolí .\n",
      "7 \n",
      " Praha 29. prosince ( ČTK ) - Desítky smutečních hostů se dnes odpoledne v obřadní síni motolského krematoria rozloučily se spisovatelkou Hanou Andronikovou , autorkou úspěšných a oceňovaných knih Zvuk slunečních hodin či Nebe nemá dno , ve které mladá autorka líčí svůj boj s rakovinou . Zhoubné nemoci nakonec 44letá Andronikova 20. prosince podlehla .\n",
      "8 \n",
      " PAŘÍŽ - Japonsko-švédská společnost Sony Ericsson , která je nyní pátým největším výrobcem mobilních telefonů na světě , chce rozšířit výrobkovou řadu a zaujmout třetí místo na světovém žebříčku výrobců . Prohlásil to její prezident Miles Flint na telekomunikačním , mediálním a technologickém summitu Reuters v Paříži .\n",
      "9 \n",
      " Jednou z písní by podle agentury WENN měla být i Smile z klasického Chaplinova filmu Moderní doba , na kterou měla až dosud patent Judy Garlandová . Písnička má pro 61letou Barbru zvláštní význam - natočila ji jen několik dnů poté , co její milovaný pejsek Sammy podlehl rakovině .\n"
     ]
    }
   ],
   "source": [
    "idx = 1\n",
    "print(f\"query: {dev_queries[idx]}\")\n",
    "for i, ii in enumerate(predicted[idx][:10]):\n",
    "    print(i, '\\n', collection[ii])"
   ]
  },
  {
   "cell_type": "code",
   "execution_count": 82,
   "metadata": {},
   "outputs": [],
   "source": [
    "### CTK\n",
    "predicted_ev = [[idx2title[int(i)] for i in q] for q in predicted]\n",
    "# FEVER\n",
    "# predicted_ev = [[collection_ids[i] for i in q] for q in predicted]"
   ]
  },
  {
   "cell_type": "code",
   "execution_count": 83,
   "metadata": {},
   "outputs": [
    {
     "data": {
      "text/plain": [
       "['T201401160579001_0',\n",
       " 'T201402120559701_1',\n",
       " '20020820E01165_4',\n",
       " '20050527F00773_5',\n",
       " '20020815E04359_5',\n",
       " 'T200912100852402_3',\n",
       " 'T201205240484301_0',\n",
       " 'T201410290396001_2',\n",
       " '20031117E03556_6',\n",
       " 'T201203300776501_2']"
      ]
     },
     "execution_count": 83,
     "metadata": {},
     "output_type": "execute_result"
    }
   ],
   "source": [
    "predicted_ev[0][:10]"
   ]
  },
  {
   "cell_type": "code",
   "execution_count": null,
   "metadata": {},
   "outputs": [],
   "source": []
  },
  {
   "cell_type": "code",
   "execution_count": 84,
   "metadata": {},
   "outputs": [],
   "source": [
    "assert len(predicted_ev) == len(dev_queries)"
   ]
  },
  {
   "cell_type": "code",
   "execution_count": 88,
   "metadata": {},
   "outputs": [
    {
     "ename": "NameError",
     "evalue": "name 'claim' is not defined",
     "output_type": "error",
     "traceback": [
      "\u001b[0;31m---------------------------------------------------------------------------\u001b[0m",
      "\u001b[0;31mNameError\u001b[0m                                 Traceback (most recent call last)",
      "\u001b[0;32m<ipython-input-88-7e52cb1068d5>\u001b[0m in \u001b[0;36m<module>\u001b[0;34m\u001b[0m\n\u001b[0;32m----> 1\u001b[0;31m \u001b[0mclaim\u001b[0m\u001b[0;34m[\u001b[0m\u001b[0;36m0\u001b[0m\u001b[0;34m]\u001b[0m\u001b[0;34m\u001b[0m\u001b[0;34m\u001b[0m\u001b[0m\n\u001b[0m",
      "\u001b[0;31mNameError\u001b[0m: name 'claim' is not defined"
     ]
    }
   ],
   "source": [
    "claim[0]"
   ]
  },
  {
   "cell_type": "code",
   "execution_count": 90,
   "metadata": {},
   "outputs": [
    {
     "data": {
      "text/plain": [
       "'Andrzej Žulawski zemřel na rakovinu.'"
      ]
     },
     "execution_count": 90,
     "metadata": {},
     "output_type": "execute_result"
    }
   ],
   "source": [
    "claims[1]"
   ]
  },
  {
   "cell_type": "code",
   "execution_count": 97,
   "metadata": {},
   "outputs": [
    {
     "data": {
      "text/plain": [
       "'T201602170468301_1'"
      ]
     },
     "execution_count": 97,
     "metadata": {},
     "output_type": "execute_result"
    }
   ],
   "source": [
    "evidence[1][0][0][2]"
   ]
  },
  {
   "cell_type": "code",
   "execution_count": 104,
   "metadata": {},
   "outputs": [
    {
     "data": {
      "text/plain": [
       "['20000624E01269_1',\n",
       " '20000624E01269_4',\n",
       " 'T201112180542602_6',\n",
       " 'T201509240466901_3',\n",
       " 'T200803270471802_0',\n",
       " 'T201101310427201_5',\n",
       " '20040318F02077_5',\n",
       " 'T201112290339901_1',\n",
       " '20050527F00745_13',\n",
       " '20030530F01057_3',\n",
       " 'T200911180269101_1',\n",
       " 'T200910120361901_4',\n",
       " 'T201512140445401_1',\n",
       " 'T200910120361901_8',\n",
       " '20031205F00712_4',\n",
       " '20050919F02693_3',\n",
       " '20031205F00712_10',\n",
       " '20050919F02693_7',\n",
       " 'T201012060739301_10',\n",
       " 'T201309170633201_0',\n",
       " 'T201801020180301_3',\n",
       " '20010130F06972_4',\n",
       " '20000906E00774_4',\n",
       " 'T201406240851202_7',\n",
       " 'T202011240194701_5',\n",
       " 'T201406240851202_10',\n",
       " '20010620F00351_1',\n",
       " 'T200612010634101_5',\n",
       " '20030321F01181_6',\n",
       " '20050415F00318_5',\n",
       " 'T201007080314101_5',\n",
       " '20000430E00684_3',\n",
       " '20010130F06532_0',\n",
       " '20010130F06532_1',\n",
       " '20031205F00630_3',\n",
       " 'T201311210274001_4',\n",
       " 'T201005250989801_1',\n",
       " 'T201005250989801_3',\n",
       " 'T201810130511001_3',\n",
       " '20030507E02156_4',\n",
       " '20000702E01236_2',\n",
       " '20000702E01236_3',\n",
       " '20000702E01236_1',\n",
       " '20031227E01019_4',\n",
       " '20050408F01546_6',\n",
       " 'T201307190679603_5',\n",
       " 'T200808040392401_5',\n",
       " '20011024F01931_5',\n",
       " '20011211F04402_5',\n",
       " '20030930F02387_4',\n",
       " '20030226F02181_3',\n",
       " 'T201308210039401_4',\n",
       " '20050920F02138_8',\n",
       " '20050113F03033_4',\n",
       " '20030226F02131_6',\n",
       " 'T200710290701401_2',\n",
       " 'T201102070793302_9',\n",
       " 'T201208300480601_7',\n",
       " 'T201105260426801_9',\n",
       " 'T200611230792502_0',\n",
       " '20050524F01474_6',\n",
       " '20011207F02778_2',\n",
       " 'T201212130531401_2',\n",
       " 'T201212130531401_3',\n",
       " '20050117E00799_4',\n",
       " '20051223F00472_4',\n",
       " 'T201309120585201_9',\n",
       " 'T200907080226301_0',\n",
       " 'T200612060269801_0',\n",
       " 'T200902111023001_6',\n",
       " 'T200707150206101_3',\n",
       " 'T201006290061401_7',\n",
       " '20040205F00884_4',\n",
       " '20050524F01400_5',\n",
       " 'T201805150274001_2',\n",
       " 'T201710030195301_6',\n",
       " 'T201403280871102_8',\n",
       " 'T201005110656301_5',\n",
       " '20031205F00451_3',\n",
       " '20031205F00451_8',\n",
       " '20050909F01544_4',\n",
       " 'T200701070232501_8',\n",
       " 'T200701070232501_11',\n",
       " 'T201011220431601_4',\n",
       " '20031009E04426_2',\n",
       " '20031009E04426_3',\n",
       " 'T201012170492701_7',\n",
       " '20020404E01859_5',\n",
       " 'T200701070229904_15',\n",
       " 'T201506050247101_3',\n",
       " '20030424E01685_4',\n",
       " 'T201207100766201_0',\n",
       " 'T201308240125401_13',\n",
       " '20021126E01590_1',\n",
       " 'T200609130179601_7',\n",
       " '20030321F00861_4',\n",
       " '20050919F01958_5',\n",
       " '20010702F03365_6',\n",
       " '20040816E03692_2',\n",
       " 'T201606070325901_2',\n",
       " '20021024F00775_6',\n",
       " 'T200612060230501_1',\n",
       " 'T200612060230501_2',\n",
       " 'T201904170494402_1',\n",
       " 'T201606070453601_4',\n",
       " 'T201601020078301_1',\n",
       " '20040624F00278_6',\n",
       " 'T201112200577301_14',\n",
       " 'T201504290781501_1',\n",
       " 'T201504290781501_6',\n",
       " 'T201504290781501_9',\n",
       " '20000215E01421_4',\n",
       " 'T201504290781501_10',\n",
       " '20040419F01544_6',\n",
       " 'T201504290781501_13',\n",
       " '20040225F02077_2',\n",
       " 'T201601010312801_4',\n",
       " 'T200609130169202_10',\n",
       " 'T201311200955401_0',\n",
       " 'T201311200955401_5',\n",
       " 'T201802080247101_2',\n",
       " 'T200911120577601_4',\n",
       " 'T200612080259701_1',\n",
       " '20011211F03105_1',\n",
       " 'T200808250147301_0',\n",
       " 'T200808250147301_1',\n",
       " 'T200703170466601_8',\n",
       " '20020725F00902_5',\n",
       " 'T200808250147301_6',\n",
       " 'T200808250147301_7',\n",
       " 'T201007140344501_2',\n",
       " '20011109E04650_0',\n",
       " 'T201105140400301_4',\n",
       " 'T200806050766601_4',\n",
       " 'T201208300413002_8',\n",
       " '20000210F01291_1',\n",
       " '20000210F01291_2',\n",
       " 'T201311200897801_7',\n",
       " '20050920F01667_1',\n",
       " 'T200808120304001_2',\n",
       " 'T202006190684801_8',\n",
       " 'T201012150464001_4',\n",
       " 'T200803010564703_11',\n",
       " 'T201807110786501_0',\n",
       " '20020828F01473_4',\n",
       " 'T201207260146701_8',\n",
       " '20000215E01015_3',\n",
       " 'T201009150876102_0',\n",
       " 'T200905290626701_1',\n",
       " 'T200905290626701_2',\n",
       " 'T201009150876102_5',\n",
       " 'T201104290657701_6',\n",
       " 'T200809010191201_1',\n",
       " 'T200803010524502_7',\n",
       " 'T200809010191201_2',\n",
       " 'T200707310418103_7',\n",
       " 'T201102070626601_5',\n",
       " 'T201805200160802_4',\n",
       " 'T201011240343401_2',\n",
       " '20050419F01309_4',\n",
       " '20031202E03384_8',\n",
       " 'T202012110139001_6',\n",
       " '20030930F01531_5',\n",
       " 'T201704150556101_3',\n",
       " '20011219E01327_2',\n",
       " '20050708E03946_4',\n",
       " '20051006F01615_6',\n",
       " '20021024E04942_1',\n",
       " 'T201911160659502_7',\n",
       " 'T200709120651504_10',\n",
       " '20000223F00684_8',\n",
       " 'T200902110776602_5',\n",
       " 'T200902110776602_0',\n",
       " 'T200911040619701_0',\n",
       " '20040820F02610_2',\n",
       " 'T202009290800302_6',\n",
       " '20040507F00541_0',\n",
       " 'T201010071070801_8',\n",
       " 'T201105270225801_7',\n",
       " 'T202012040570301_155',\n",
       " 'T201009070607601_5',\n",
       " 'T201801080803201_0',\n",
       " 'T201901300303401_0',\n",
       " 'T201901300303401_1',\n",
       " 'T201911150275201_4',\n",
       " 'T201206240381701_4',\n",
       " 'T201901300303401_4',\n",
       " '20011219E01174_16',\n",
       " '20040929F02265_0',\n",
       " 'T200706230242001_6',\n",
       " 'T200711110023901_2',\n",
       " '20040212F01851_2',\n",
       " 'T201310080352201_5',\n",
       " 'T201010060848801_2',\n",
       " '20000621E03324_1',\n",
       " 'T201308230669002_0',\n",
       " '20020426E04135_2',\n",
       " 'T201105120325101_5',\n",
       " '20040816E01678_3',\n",
       " 'T200612080200001_5',\n",
       " 'T201406240534501_2',\n",
       " '20050919F01482_1',\n",
       " '20020725F00605_5',\n",
       " 'T201006240276201_4',\n",
       " 'T201012170320001_11',\n",
       " 'T200709120619701_2',\n",
       " 'T200709120619701_3',\n",
       " 'T200610200506001_10',\n",
       " 'T200710080566201_2',\n",
       " '20010705E01704_1',\n",
       " '20000215E00402_2',\n",
       " 'T200908280618001_3',\n",
       " 'T200704050694501_3',\n",
       " '20030321E04890_1',\n",
       " '20011110E01425_3',\n",
       " 'T201505110603103_1',\n",
       " 'T201505110603103_2',\n",
       " 'T200910300086301_0',\n",
       " 'T200610200488901_6',\n",
       " 'T201105120277301_6',\n",
       " '20010702F01978_1',\n",
       " '20050914F00457_7',\n",
       " '20050914F00457_10',\n",
       " 'T200704240896502_11',\n",
       " 'T201003100871101_4',\n",
       " 'T201110200335601_11',\n",
       " 'T201012150360601_1',\n",
       " 'T201201300507101_6',\n",
       " '20021024E04078_3',\n",
       " '20021024E04078_4',\n",
       " 'T200609260931801_51',\n",
       " 'T201005200836101_3',\n",
       " 'T200607260907107_7',\n",
       " 'T201207120586301_7',\n",
       " 'T200903200066201_2',\n",
       " 'T201107010353201_0',\n",
       " '20000429E00999_5',\n",
       " 'T201902260409801_7',\n",
       " 'T201207250818801_8',\n",
       " 'T201003310360901_0',\n",
       " '20030109E00692_3',\n",
       " 'T201601050294401_4',\n",
       " 'T200912030402101_5',\n",
       " 'T201111110671401_5',\n",
       " 'T201207100539701_8',\n",
       " 'T202001300522301_12',\n",
       " 'T201412190430302_3',\n",
       " 'T201702260467301_4',\n",
       " 'T201605070420601_4',\n",
       " 'T201412190427302_2',\n",
       " 'T201003280393801_10',\n",
       " 'T200609120821304_13',\n",
       " '20021024E03759_5',\n",
       " 'T201912100402401_9',\n",
       " '20030929F00425_13',\n",
       " '20010827F01067_3',\n",
       " 'T201701090945902_1',\n",
       " '20030811E00071_1',\n",
       " 'T200610200417601_3',\n",
       " 'T200610200417601_6',\n",
       " '20040507E04843_6',\n",
       " 'T202010210772301_2',\n",
       " '20050914E05737_2',\n",
       " 'T201103090211601_7',\n",
       " 'T201208300261701_3',\n",
       " '20000623F02215_2',\n",
       " '20021111F00812_2',\n",
       " '20060228E01327_0',\n",
       " 'T201103300714401_1',\n",
       " '20030930F00911_5',\n",
       " '20060228E01327_4',\n",
       " '20060228E01327_11',\n",
       " '20020808F01317_4',\n",
       " 'T201104210436601_3',\n",
       " '20050408F00338_9',\n",
       " '20030321E03631_7',\n",
       " '20050708E01217_0',\n",
       " '20030319F02492_8',\n",
       " '20050708E01217_2',\n",
       " '20050708E01217_1',\n",
       " 'T200604020152601_2',\n",
       " 'T201511180495301_11',\n",
       " '20010705E00967_2',\n",
       " 'T201610180239901_9',\n",
       " '20050724E01965_2',\n",
       " '20051006F01064_4',\n",
       " '20050408F00213_2',\n",
       " 'T201610270834001_6',\n",
       " 'T200710290390301_12',\n",
       " 'T200808110867601_4',\n",
       " 'T201103090168301_5',\n",
       " 'T201610250413501_0',\n",
       " 'T200609120751801_8',\n",
       " '20000621E01272_7',\n",
       " 'T201810170957101_1',\n",
       " 'T201010190420701_6',\n",
       " 'T201112200299802_6',\n",
       " 'T201806180533901_7',\n",
       " '20030607E00897_2',\n",
       " '20020625F00743_5',\n",
       " '20000801E01593_4',\n",
       " 'T201108230258501_1',\n",
       " '20031209E02369_4',\n",
       " 'T201410130403001_1',\n",
       " 'T201504170962601_5',\n",
       " '20050909F00670_13',\n",
       " 'T201701100066201_1',\n",
       " 'T201107010286701_7',\n",
       " '20000628F01630_1',\n",
       " '20000628F01630_2',\n",
       " '20020823E00850_3',\n",
       " 'T200603300757601_3',\n",
       " 'T201107120954401_8',\n",
       " 'T201009070461402_5',\n",
       " 'T200612070912801_55',\n",
       " '20010609E01704_8',\n",
       " '20050627E04181_3',\n",
       " '20040823F00709_4',\n",
       " '20030512F02025_1',\n",
       " '20030512F02025_2',\n",
       " '20030512F02025_3',\n",
       " 'T200912100505601_0',\n",
       " 'T200805050345501_5',\n",
       " 'T200912100505601_4',\n",
       " '20030512F02025_5',\n",
       " 'T201009090892103_12',\n",
       " 'T201805030306001_2',\n",
       " 'T201101130799301_12',\n",
       " 'T200701120409501_1',\n",
       " 'T200710080435601_11',\n",
       " '20010705E00655_1',\n",
       " 'T201706140072701_3',\n",
       " 'T200607110477901_1',\n",
       " '20040107F02437_2',\n",
       " '20050408E04123_5',\n",
       " '20010215F04205_2',\n",
       " 'T201711280308901_0',\n",
       " 'T201711280308901_1',\n",
       " '20050330F01595_2',\n",
       " 'T201101120798702_12',\n",
       " 'T200704261106702_5',\n",
       " 'T201601040266802_4',\n",
       " '20031112E05005_0',\n",
       " '20050209F01149_1',\n",
       " '20050209F01149_3',\n",
       " 'T200608210386201_1',\n",
       " '20041106F01225_4',\n",
       " 'T200608210386201_3',\n",
       " 'T200608210386201_5',\n",
       " 'T200608210386201_2',\n",
       " 'T200608210386201_6',\n",
       " 'T200701120377801_11',\n",
       " 'T201305180465801_4',\n",
       " '20000716E00712_4',\n",
       " 'T200809040572101_1',\n",
       " 'T202008200239101_6',\n",
       " '20041127E00793_2',\n",
       " 'T201411121015301_2',\n",
       " 'T200611100541401_4',\n",
       " 'T201402160344901_0',\n",
       " 'T201610070558701_3',\n",
       " 'T201610070558701_5',\n",
       " '20050330F01428_0',\n",
       " 'T201610070558701_8',\n",
       " '20050627E02832_3',\n",
       " '20030607E00598_9',\n",
       " 'T201804190566201_3',\n",
       " 'T201704290149901_5',\n",
       " '20030109E05328_4',\n",
       " '20041106F01131_7',\n",
       " 'T200709120374801_15',\n",
       " '20010227F06897_1',\n",
       " 'T200710080370801_5',\n",
       " 'T201406300537302_2',\n",
       " 'T200710080370801_6',\n",
       " '20050415F01847_2',\n",
       " 'T201107010209902_4',\n",
       " 'T200607260651001_3',\n",
       " 'T200812020726201_7',\n",
       " 'T200708270226501_0',\n",
       " 'T201903050762501_6',\n",
       " '20040426E05704_4',\n",
       " '20050419F00311_4',\n",
       " '20050406F01443_9',\n",
       " 'T200707261007901_6',\n",
       " 'T201604280662201_0',\n",
       " '20050415F01819_2',\n",
       " '20021017E04966_6',\n",
       " '20030121E03941_5',\n",
       " 'T201208100694401_5',\n",
       " 'T201310020817301_3',\n",
       " '20040426E05557_7',\n",
       " 'T201811270758201_5',\n",
       " 'T201811270758201_6',\n",
       " 'T201707230384101_1',\n",
       " 'T200806190414201_2',\n",
       " 'T201204270678701_11',\n",
       " 'T201001180432301_0',\n",
       " 'T201204270678701_14',\n",
       " 'T201511180362401_1',\n",
       " 'T201111160929101_7',\n",
       " 'T201511180362401_4',\n",
       " 'T201010070639401_9',\n",
       " '20040426E05419_5',\n",
       " 'T200812100695801_8',\n",
       " 'T200603300650201_5',\n",
       " 'T201112200163001_0',\n",
       " 'T200707260967601_5',\n",
       " 'T201105210118001_1',\n",
       " 'T201701100260501_11',\n",
       " 'T201707240373801_7',\n",
       " '20051213F02562_5',\n",
       " 'T201108220795001_3',\n",
       " 'T201604300319501_4',\n",
       " 'T201811220434301_2',\n",
       " 'T200707120284201_8',\n",
       " '20040422E06088_4',\n",
       " 'T201903050808701_2',\n",
       " 'T201811220434301_11',\n",
       " 'T201201300327301_2',\n",
       " 'T201712090385501_2',\n",
       " 'T201305100404901_5',\n",
       " 'T201111160871401_1',\n",
       " '20041016E00430_1',\n",
       " 'T202010061021101_1',\n",
       " '20041016E00430_6',\n",
       " '20030820F01933_1',\n",
       " 'T201009090679601_0',\n",
       " 'T200607180657001_9',\n",
       " 'T201512190326901_60',\n",
       " 'T201703070693601_7',\n",
       " 'T201210110058001_1',\n",
       " 'T200907070453501_4',\n",
       " 'T200711120371101_0',\n",
       " 'T200711120371101_1',\n",
       " 'T200709120321701_4',\n",
       " 'T200710290221001_4',\n",
       " 'T201302130682401_0',\n",
       " 'T201405290808201_2',\n",
       " 'T200808030090601_5',\n",
       " '20041106F00367_1',\n",
       " '20010618E05067_3',\n",
       " '20020918F00630_5',\n",
       " '20050724E00830_2',\n",
       " '20050920F00173_3',\n",
       " 'T201110170337601_5',\n",
       " 'T201908270664001_5',\n",
       " '20010702E01632_2',\n",
       " '20051014F01318_9',\n",
       " 'T201408200406701_2',\n",
       " 'T201404020587801_2',\n",
       " 'T201107140719301_12',\n",
       " 'T200911030116601_1',\n",
       " 'T201110310379401_3',\n",
       " 'T201110310379401_6',\n",
       " '20000620F02274_4',\n",
       " 'T201110310378101_10',\n",
       " 'T201110310378101_11',\n",
       " '20040422E05215_3',\n",
       " '20040422E05215_4',\n",
       " '20041126E01207_6',\n",
       " 'T200704180204201_0',\n",
       " '20020529F01442_4',\n",
       " 'T201505120440201_7',\n",
       " 'T200704200379801_7',\n",
       " 'T201307180441602_3',\n",
       " 'T201504290233801_2',\n",
       " 'T201211230437101_8',\n",
       " 'T201110170308501_3',\n",
       " 'T201505110061701_1',\n",
       " 'T201312170760401_16',\n",
       " 'T200912100305501_7',\n",
       " 'T201406100333801_23',\n",
       " 'T201703130446201_1',\n",
       " 'T201505100717104_1',\n",
       " 'T201505100717104_2',\n",
       " '20050725F01923_7',\n",
       " 'T200711220399801_6',\n",
       " 'T200911110806701_3',\n",
       " 'T201006280314201_4',\n",
       " 'T201711080812901_4',\n",
       " 'T200802200561501_1',\n",
       " 'T201505100632301_2',\n",
       " 'T201505100632301_4',\n",
       " '20030716F01642_6',\n",
       " 'T201402270405401_4',\n",
       " 'T201110110567601_4',\n",
       " 'T200708260464001_5',\n",
       " 'T200612020199401_1',\n",
       " 'T200611230287301_3',\n",
       " 'T201402080542701_5',\n",
       " 'T201003250323201_6',\n",
       " 'T201902050726101_2',\n",
       " '20030917E05780_3',\n",
       " '20020625E02597_2',\n",
       " 'T201810180640201_3',\n",
       " 'T200903050992401_0',\n",
       " 'T201506150756801_2',\n",
       " 'T200911020809201_6',\n",
       " 'T201802010360701_4',\n",
       " 'T200803100340801_4',\n",
       " 'T200803100340801_5',\n",
       " 'T201405290658301_3',\n",
       " 'T200906180492802_6',\n",
       " 'T200609270157201_9',\n",
       " 'T201112100549201_10',\n",
       " 'T201103300377301_4',\n",
       " 'T201905100747601_1',\n",
       " 'T201505100537802_3',\n",
       " 'T201905100747601_4',\n",
       " 'T200912160184001_5',\n",
       " '20050721F01435_2',\n",
       " 'T201505150353501_0',\n",
       " 'T201703090706501_1',\n",
       " 'T201901280395501_0',\n",
       " 'T201011220533102_9',\n",
       " 'T201011220533102_11',\n",
       " '20051014F01066_11',\n",
       " 'T200810270653301_5',\n",
       " 'T201107180719301_3',\n",
       " 'T201111160726901_0',\n",
       " 'T200612220238501_4',\n",
       " 'T201103050173401_11',\n",
       " 'T201506020198801_6',\n",
       " 'T201703090094901_0',\n",
       " 'T201703090094901_1',\n",
       " 'T200609120447801_4',\n",
       " '20020828E01765_3',\n",
       " 'T201504150350201_12',\n",
       " 'T201005101000401_4',\n",
       " '20030929E01734_1',\n",
       " 'T201209020050302_8',\n",
       " 'T201009130589001_1',\n",
       " 'T201009130589001_3',\n",
       " 'T201009130589001_6',\n",
       " '20021017E02851_5',\n",
       " 'T200710080225001_9',\n",
       " 'T200809120866705_7',\n",
       " 'T201912100902902_0',\n",
       " 'T200906210141901_2',\n",
       " 'T201912100902902_4',\n",
       " 'T200612020125101_3',\n",
       " 'T201908270874701_2',\n",
       " 'T200710110336901_1',\n",
       " 'T201209010637501_7',\n",
       " '20030319F00763_2',\n",
       " 'T200711120251601_1',\n",
       " '20020704E04475_5',\n",
       " '20020625F01476_5',\n",
       " '20040421E02349_4',\n",
       " 'T200808050636702_10',\n",
       " 'T200806050249201_12',\n",
       " 'T202007280322101_5',\n",
       " 'T200604050942604_7',\n",
       " '20050725F01332_6',\n",
       " 'T200611210236701_1',\n",
       " 'T200611210236701_2',\n",
       " 'T200611210236701_3',\n",
       " 'T201306050902001_1',\n",
       " 'T201711140440302_5',\n",
       " 'T200911060762101_3',\n",
       " 'T201803260251901_0',\n",
       " 'T200808050607501_4',\n",
       " 'T201905100980601_5',\n",
       " 'T201306050895101_9',\n",
       " 'T201001270624102_8',\n",
       " 'T201305280477101_5',\n",
       " '20020625F01321_2',\n",
       " '20020625F01321_3',\n",
       " '20020625F01321_4',\n",
       " '20020625F01321_5',\n",
       " 'T201411130321401_4',\n",
       " 'T201605130738601_14',\n",
       " '20050928E01331_1',\n",
       " 'T201004150912701_8',\n",
       " 'T200806050218401_1',\n",
       " 'T200704260739601_2',\n",
       " 'T201504280564501_0',\n",
       " 'T201504280564501_3',\n",
       " 'T201306140386101_4',\n",
       " 'T201504280564501_5',\n",
       " 'T201012300285201_3',\n",
       " 'T201611111168203_2',\n",
       " 'T201611111168203_3',\n",
       " 'T200808050585801_6',\n",
       " '20000316F01758_3',\n",
       " 'T201006250911702_18',\n",
       " 'T200603300456901_1',\n",
       " 'T201504280952105_8',\n",
       " 'T201011200492401_5',\n",
       " 'T201101180857801_3',\n",
       " 'T201304290511901_0',\n",
       " 'T200911120786301_4',\n",
       " 'T201505120178601_2',\n",
       " 'T200604010100701_1',\n",
       " '20051213F01210_15',\n",
       " 'T200711030165201_3',\n",
       " '20030205F02483_6',\n",
       " 'T200712250036901_2',\n",
       " '20040812F00615_2',\n",
       " 'T201802221003601_3',\n",
       " 'T201906140844001_2',\n",
       " '20020529F00563_1',\n",
       " 'T200803100205601_4',\n",
       " 'T201703130644101_2',\n",
       " 'T201402270207801_1',\n",
       " 'T200612060617801_3',\n",
       " 'T200609110786302_7',\n",
       " '20050209E04786_1',\n",
       " '20000413E00966_6',\n",
       " 'T201703090873901_4',\n",
       " '20050725F00975_5',\n",
       " '20050927F02584_1',\n",
       " '20050927F02584_3',\n",
       " 'T200701030757801_5',\n",
       " '20031205E04759_4',\n",
       " 'T201101180787201_2',\n",
       " '20000908F02148_2',\n",
       " '20000908F02148_4',\n",
       " '20040227E05039_4',\n",
       " '20010608F02958_5',\n",
       " '20050419E01556_2',\n",
       " 'T200612010924001_2',\n",
       " 'T201010180293101_6',\n",
       " 'T201101040309301_3',\n",
       " '20051025E01862_4',\n",
       " 'T200909150150601_10',\n",
       " 'T201704300144001_4',\n",
       " 'T201505010763103_5',\n",
       " 'T201904301108701_6',\n",
       " 'T200909020184801_2',\n",
       " 'T200604170306101_0',\n",
       " 'T202010060796101_5',\n",
       " '20040212E05656_1',\n",
       " 'T201708310575401_1',\n",
       " '20030716F00779_5',\n",
       " 'T201812280537602_2',\n",
       " 'T202004290722601_5',\n",
       " '20020425F01264_6',\n",
       " '20020103F03248_5',\n",
       " 'T201811161058201_2',\n",
       " '20010724F03469_1',\n",
       " '20050218F00788_0',\n",
       " 'T200912080451702_5',\n",
       " 'T201207120233901_8',\n",
       " 'T201207120233901_10',\n",
       " '20030616F01779_5',\n",
       " 'T200909020448101_0',\n",
       " 'T201504280457202_2',\n",
       " 'T201504280457202_3',\n",
       " 'T201505110863301_42',\n",
       " 'T201306050695901_5',\n",
       " 'T201506150533502_4',\n",
       " 'T200710110158401_2',\n",
       " 'T201201230629601_9',\n",
       " 'T201103021281602_11',\n",
       " 'T201105170303902_5',\n",
       " '20011129E01933_1',\n",
       " 'T200707270365401_2',\n",
       " 'T200711030078501_2',\n",
       " 'T201105170303902_7',\n",
       " '20011129E01933_8',\n",
       " 'T201404020307501_3',\n",
       " 'T201204040426601_3',\n",
       " 'T201902050656501_2',\n",
       " 'T201912101040601_73',\n",
       " '20010904F02564_3',\n",
       " 'T200703200292301_5',\n",
       " 'T200608200212401_56',\n",
       " '20020706E01433_7',\n",
       " 'T201310040596801_19',\n",
       " 'T201310040596801_20',\n",
       " 'T200909140826201_9',\n",
       " 'T201004200364301_8',\n",
       " 'T200711210930701_8',\n",
       " 'T200609240370302_10',\n",
       " 'T201410060568301_7',\n",
       " 'T200702210232901_2',\n",
       " 'T201611090867201_5',\n",
       " 'T201611090867201_6',\n",
       " 'T201302130347601_0',\n",
       " 'T201302130347601_2',\n",
       " 'T201505230348101_1',\n",
       " 'T200706220364401_9',\n",
       " 'T201608300379501_8',\n",
       " '20030111E00669_0',\n",
       " '20030111E00669_1',\n",
       " '20021213E00108_4',\n",
       " 'T201906240558701_10',\n",
       " 'T201803130790601_4',\n",
       " 'T200808050412401_8',\n",
       " '20050526F01632_7',\n",
       " 'T200801260232101_2',\n",
       " 'T201404020255801_1',\n",
       " 'T201708300643701_5',\n",
       " '20050917F00412_3',\n",
       " 'T200712070872001_9',\n",
       " 'T201903180250501_5',\n",
       " 'T201504150329301_1',\n",
       " 'T201704270773901_2',\n",
       " 'T200707210402001_2',\n",
       " 'T201704190370501_4',\n",
       " 'T201410010946801_74',\n",
       " 'T201103280869001_2',\n",
       " 'T201006210822801_8',\n",
       " 'T200809120522201_4',\n",
       " '20010112F06141_3',\n",
       " '20050725F00410_4',\n",
       " 'T201004190236501_2',\n",
       " 'T201703091006201_8',\n",
       " 'T201305300353101_6',\n",
       " '20030606F00186_4',\n",
       " '20010724F02699_6',\n",
       " 'T201404290881001_12',\n",
       " 'T202006240626801_3',\n",
       " '20041217E02028_5',\n",
       " 'T201507220861401_1',\n",
       " 'T201607260367601_3',\n",
       " 'T201211120666301_4',\n",
       " 'T201805161097301_2',\n",
       " 'T200904040492202_5',\n",
       " 'T201811260883801_10',\n",
       " 'T200911110473902_9',\n",
       " 'T200811090211101_1',\n",
       " 'T201310040522901_1',\n",
       " 'T200710150729503_14',\n",
       " 'T201310040522901_3',\n",
       " 'T200903030754101_4',\n",
       " '20050725F00325_3',\n",
       " 'T201211120659401_4',\n",
       " 'T200611200677601_0',\n",
       " 'T201103040729301_3',\n",
       " 'T201302110532401_5',\n",
       " '20001206F02884_1',\n",
       " '20010518F02997_1',\n",
       " 'T202004090484001_2',\n",
       " '20040115E05392_14',\n",
       " 'T201808290737101_0',\n",
       " 'T201808290737101_1',\n",
       " 'T200704260479001_2',\n",
       " '20051031E01603_20',\n",
       " '20051031E01603_21',\n",
       " 'T201808290737101_6',\n",
       " 'T201402260695001_1',\n",
       " 'T201606100730401_4',\n",
       " 'T201505110639201_7',\n",
       " 'T201809030641401_7',\n",
       " 'T201803210790301_10',\n",
       " 'T201506030620501_24',\n",
       " 'T200708080487001_4',\n",
       " 'T201402181046801_14',\n",
       " 'T200909200228501_4',\n",
       " 'T201708310792301_15',\n",
       " 'T201402101153002_4',\n",
       " 'T201001200299901_6',\n",
       " 'T200608300388902_11',\n",
       " '20051031E00841_8',\n",
       " 'T202002070419501_3',\n",
       " '20000222F01623_2',\n",
       " 'T201907150563101_2',\n",
       " 'T201505230152201_33',\n",
       " '20020706E00852_2',\n",
       " 'T201107220270001_4',\n",
       " 'T201312100611702_3',\n",
       " 'T200903200618201_0',\n",
       " 'T201403030276301_8',\n",
       " 'T200703200174001_1',\n",
       " 'T201608170786002_6',\n",
       " 'T200906090445801_4',\n",
       " '20031203E03379_5',\n",
       " 'T201804180397601_0',\n",
       " '20010517E01967_4',\n",
       " '20021104F00324_2',\n",
       " '20051128F00819_94',\n",
       " 'T201602050440901_5',\n",
       " 'T201505260867501_17',\n",
       " 'T201310170864101_5',\n",
       " 'T200609060767901_3',\n",
       " 'T201004230549301_0',\n",
       " 'T201006180779902_5',\n",
       " '20011004F06258_4',\n",
       " 'T201103280678702_5',\n",
       " 'T200709170729601_2',\n",
       " 'T200911090600501_10',\n",
       " 'T200612060405101_3',\n",
       " '20000222F01508_0',\n",
       " 'T201101250720801_3',\n",
       " 'T201101250720801_4',\n",
       " 'T200707210256302_3',\n",
       " '20030319E03625_4',\n",
       " 'T200711090848701_3',\n",
       " 'T201110290606601_7',\n",
       " '20040817E02865_5',\n",
       " 'T201206240076101_8',\n",
       " '20050725E04135_3',\n",
       " 'T201206240064701_6',\n",
       " 'T201503300758301_48',\n",
       " 'T201303150156201_4',\n",
       " 'T201006020850502_3',\n",
       " 'T201009200542501_6',\n",
       " 'T200712310170401_4',\n",
       " 'T201505260831103_1',\n",
       " '20011202E01298_1',\n",
       " 'T200606030359103_13',\n",
       " 'T201901270365801_2',\n",
       " '20040523E00500_1',\n",
       " 'T201704120852702_0',\n",
       " '20041126F00789_4',\n",
       " 'T202010070782701_2',\n",
       " 'T201909240169901_6',\n",
       " 'T201509040803801_7',\n",
       " 'T201506220293801_2',\n",
       " 'T201410010715003_2',\n",
       " '20010122E02203_3',\n",
       " 'T201805090132701_3',\n",
       " 'T201107140161401_7',\n",
       " 'T201204280506401_12',\n",
       " 'T201211300369701_5',\n",
       " 'T200805020227301_1',\n",
       " '20010510F02044_1',\n",
       " '20051030F01197_0',\n",
       " 'T201505260818301_12',\n",
       " 'T201611040664701_3',\n",
       " 'T201402180838202_1',\n",
       " 'T201611040664701_6',\n",
       " 'T201503250198301_4',\n",
       " 'T201405050051101_0',\n",
       " 'T201410060371302_6',\n",
       " 'T201506220280901_2',\n",
       " 'T201506220280901_3',\n",
       " 'T201803130790001_84',\n",
       " 'T202007290257001_0',\n",
       " 'T202007290257001_1',\n",
       " 'T200703190814901_3',\n",
       " 'T201312060685001_1',\n",
       " '20000119F01483_1',\n",
       " '20000119F01483_3',\n",
       " 'T201506220265201_1',\n",
       " '20050913F00948_3',\n",
       " 'T200904040236701_4',\n",
       " 'T201101030593801_4',\n",
       " '20030214E04087_3',\n",
       " 'T200803050022301_3',\n",
       " 'T200608300278901_3',\n",
       " 'T201505120767403_1',\n",
       " 'T201001270255501_5',\n",
       " 'T200707030568301_8',\n",
       " 'T200708080361201_2',\n",
       " 'T202012010218501_3',\n",
       " 'T201605130308301_4',\n",
       " '20051027F01817_1',\n",
       " 'T201004200133101_18',\n",
       " 'T201808100763701_2',\n",
       " '20051030F00766_4',\n",
       " 'T200604050527501_1',\n",
       " 'T201410060329901_4',\n",
       " 'T201004300286801_4',\n",
       " '20031205E01666_3',\n",
       " 'T200707240934003_8',\n",
       " 'T201805170420901_5',\n",
       " '20031205E01666_10',\n",
       " '20030520F01597_12',\n",
       " '20050321E04880_3',\n",
       " 'T200909190449201_5',\n",
       " '20040130F01700_4',\n",
       " 'T202004270575101_9',\n",
       " 'T202004270575101_13',\n",
       " 'T200806181133001_2',\n",
       " 'T201911170274102_2',\n",
       " '20030606E02449_1',\n",
       " '20051215E02501_4',\n",
       " 'T201901270620601_3',\n",
       " '20020717E01832_4',\n",
       " '20030914E00588_2',\n",
       " '20010724F00908_1',\n",
       " 'T200708120129201_3',\n",
       " 'T201909110968101_15',\n",
       " 'T200909010613901_4',\n",
       " 'T200810241080801_10',\n",
       " '20010616F03313_4',\n",
       " 'T200912250262101_1',\n",
       " 'T201110260325202_5',\n",
       " 'T200709200576701_5',\n",
       " 'T201901270542901_1',\n",
       " '20030730F01426_8',\n",
       " 'T200702200661501_0',\n",
       " 'T201711150621201_8',\n",
       " 'T201808100856901_1',\n",
       " 'T200702200654701_3',\n",
       " 'T200701300833001_6',\n",
       " 'T200903190540301_4',\n",
       " 'T201510141026601_0',\n",
       " 'T201510141026601_2',\n",
       " '20040817E01349_6',\n",
       " 'T201504140857302_3',\n",
       " 'T201901070794801_3',\n",
       " 'T201805091071701_4',\n",
       " '20030820E01894_5',\n",
       " 'T201506030422201_4',\n",
       " 'T200905140536202_8',\n",
       " 'T201909110697701_5',\n",
       " 'T201405310118301_3',\n",
       " 'T201809140345801_3',\n",
       " 'T201307270138101_1',\n",
       " '20030616F00423_15',\n",
       " '20051030F00153_4',\n",
       " '20001124F04251_2',\n",
       " 'T202004160606801_1',\n",
       " 'T202004160606801_2',\n",
       " '20060205E01314_3',\n",
       " 'T201410060254401_4',\n",
       " '20060205E01314_5',\n",
       " 'T201705310598601_2',\n",
       " 'T202004160606801_5',\n",
       " '20060205E01314_6',\n",
       " 'T201103280534702_11',\n",
       " '20020624F00604_7',\n",
       " 'T201811270416801_2',\n",
       " 'T201810041114201_2',\n",
       " 'T201803130280701_6',\n",
       " 'T201104260772601_6',\n",
       " 'T200903190501701_6',\n",
       " 'T201111080189201_4',\n",
       " 'T201006030413101_4',\n",
       " 'T201503300553702_2',\n",
       " '20001110F05827_6',\n",
       " '20041226E00288_8',\n",
       " 'T201505210632201_11',\n",
       " 'T201409020772701_15',\n",
       " 'T201607210706601_0',\n",
       " 'T200607310053701_4',\n",
       " 'T201703140667801_1',\n",
       " 'T201808100995001_4',\n",
       " 'T200712050936901_5',\n",
       " 'T201410060219701_4',\n",
       " 'T201503300531301_6',\n",
       " 'T200604040503301_2',\n",
       " 'T200604040503301_3',\n",
       " 'T201102221171001_5',\n",
       " 'T200809250422301_0',\n",
       " 'T200809250422301_1',\n",
       " '20051030E01710_7',\n",
       " 'T200908280358701_2',\n",
       " 'T200711160634401_0',\n",
       " 'T200811080198401_8',\n",
       " 'T200912070693501_1',\n",
       " 'T201304100320301_4',\n",
       " 'T200610090636902_3',\n",
       " 'T201509020674801_2',\n",
       " 'T202006130464701_0',\n",
       " 'T201509020674801_5',\n",
       " 'T200802270719001_2',\n",
       " 'T202006130464701_5',\n",
       " 'T201502040401001_15',\n",
       " 'T201903050960101_2',\n",
       " 'T201010210443401_14',\n",
       " 'T201903050960101_8',\n",
       " 'T201505210600501_6',\n",
       " 'T201503240782901_3',\n",
       " 'T201103210751801_8',\n",
       " '20050912E05125_4',\n",
       " '20001110F04888_4',\n",
       " 'T201909240366701_4',\n",
       " 'T201409020704001_1',\n",
       " 'T200612270268501_6',\n",
       " 'T200703270699801_2',\n",
       " 'T201512110676501_4',\n",
       " 'T201711130292101_4',\n",
       " 'T201411070334201_0',\n",
       " 'T201711130312501_0',\n",
       " 'T201711130312501_1',\n",
       " 'T201711130312501_2',\n",
       " 'T201811220881302_2',\n",
       " 'T200711210438001_4',\n",
       " 'T201808110113701_5',\n",
       " '20050110F00763_4',\n",
       " 'T201402170619501_4',\n",
       " 'T200803040875201_3',\n",
       " '20001116F04129_2',\n",
       " 'T200710170778601_3',\n",
       " '20021121E01200_1',\n",
       " '20060110E02831_1',\n",
       " 'T200808040575701_1',\n",
       " '20050405F01841_7',\n",
       " 'T201611040475001_1',\n",
       " 'T201611040475001_2',\n",
       " 'T201510151080101_1',\n",
       " 'T201112010705701_3',\n",
       " '20000203F01360_2',\n",
       " '20000203F01360_1',\n",
       " 'T201805110795101_2',\n",
       " 'T201811260527901_4',\n",
       " 'T201103020513301_4',\n",
       " 'T200808130896901_0',\n",
       " 'T201609300564003_5',\n",
       " 'T201402170602603_0',\n",
       " 'T201706071066704_7',\n",
       " 'T200708080017901_0',\n",
       " 'T201611050122301_13',\n",
       " 'T200708080017901_2',\n",
       " ...]"
      ]
     },
     "execution_count": 104,
     "metadata": {},
     "output_type": "execute_result"
    }
   ],
   "source": [
    "predicted_ev[1]"
   ]
  },
  {
   "cell_type": "code",
   "execution_count": 106,
   "metadata": {},
   "outputs": [],
   "source": []
  },
  {
   "cell_type": "code",
   "execution_count": 116,
   "metadata": {},
   "outputs": [
    {
     "data": {
      "text/plain": [
       "True"
      ]
     },
     "execution_count": 116,
     "metadata": {},
     "output_type": "execute_result"
    }
   ],
   "source": [
    "len(evidence) == len(claims)"
   ]
  },
  {
   "cell_type": "code",
   "execution_count": 120,
   "metadata": {},
   "outputs": [
    {
     "data": {
      "text/plain": [
       "True"
      ]
     },
     "execution_count": 120,
     "metadata": {},
     "output_type": "execute_result"
    }
   ],
   "source": [
    "evidence[idx][0][0][2] in predicted_ev[idx]"
   ]
  },
  {
   "cell_type": "code",
   "execution_count": null,
   "metadata": {},
   "outputs": [],
   "source": []
  },
  {
   "cell_type": "code",
   "execution_count": 119,
   "metadata": {},
   "outputs": [
    {
     "name": "stdout",
     "output_type": "stream",
     "text": [
      "144\n"
     ]
    }
   ],
   "source": [
    "s = 0\n",
    "for idx, _ in enumerate(claims):\n",
    "    s += int(evidence[idx][0][0][2] in predicted_ev[idx])\n",
    "\n",
    "print(s)"
   ]
  },
  {
   "cell_type": "code",
   "execution_count": 118,
   "metadata": {},
   "outputs": [
    {
     "name": "stdout",
     "output_type": "stream",
     "text": [
      "148\n"
     ]
    }
   ],
   "source": [
    "s = 0\n",
    "for idx, _ in enumerate(claims):\n",
    "    s += int(evidence[idx][0][0][2].split('_')[0] in [i.split('_')[0].strip() for i in predicted_ev[idx]])\n",
    "\n",
    "print(s)"
   ]
  },
  {
   "cell_type": "markdown",
   "metadata": {},
   "source": [
    "# Evaluate"
   ]
  },
  {
   "cell_type": "code",
   "execution_count": 85,
   "metadata": {},
   "outputs": [
    {
     "name": "stderr",
     "output_type": "stream",
     "text": [
      "Calculating evaluation metrics: 161it [00:00, 1055.26it/s]\n"
     ]
    }
   ],
   "source": [
    "macro_precision, macro_precision_hits = 0, 0\n",
    "macro_recall, macro_recall_hits = 0, 0\n",
    "macro_mrr, macro_mrr_hits = 0, 0\n",
    "k = 500\n",
    "\n",
    "for i, top_k_idxs in tqdm(enumerate(predicted_ev), desc='Calculating evaluation metrics'):\n",
    "    predicted_evidence = top_k_idxs[:k]\n",
    "    \n",
    "    try:\n",
    "        macro_prec = eval.evidence_macro_precision(evidence[i], labels[i], predicted_evidence)\n",
    "        macro_precision += macro_prec[0]\n",
    "        macro_precision_hits += macro_prec[1]\n",
    "\n",
    "        macro_rec = eval.evidence_macro_recall(evidence[i], labels[i], predicted_evidence)\n",
    "        macro_recall += macro_rec[0]\n",
    "        macro_recall_hits += macro_rec[1]\n",
    "\n",
    "        macro_rr = eval.evidence_macro_mrr(evidence[i], labels[i], predicted_evidence)\n",
    "        macro_mrr += macro_rr[0]\n",
    "        macro_mrr_hits += macro_rr[1]\n",
    "    except:\n",
    "        print(\"ERROR on \", i)"
   ]
  },
  {
   "cell_type": "code",
   "execution_count": 86,
   "metadata": {},
   "outputs": [
    {
     "name": "stdout",
     "output_type": "stream",
     "text": [
      "F1: 0.0\n",
      "Recall@500: 0.0\n",
      "Precision@500: 0.0\n",
      "MRR@500: 0.0\n"
     ]
    }
   ],
   "source": [
    "pr = (macro_precision / macro_precision_hits) if macro_precision_hits > 0 else 1.0\n",
    "rec = (macro_recall / macro_recall_hits) if macro_recall_hits > 0 else 0.0\n",
    "mrr = (macro_mrr / macro_mrr_hits) if macro_mrr_hits > 0 else 0.0\n",
    "f1 = 2.0 * pr * rec / (pr + rec + 1e-6)\n",
    "print(f\"F1: {f1*100}\\nRecall@{k}: {rec*100}\\nPrecision@{k}: {pr*100}\\nMRR@{k}: {mrr*100}\")"
   ]
  },
  {
   "cell_type": "markdown",
   "metadata": {},
   "source": [
    "# Prepare for doc-retr Honza evaluation"
   ]
  },
  {
   "cell_type": "markdown",
   "metadata": {},
   "source": [
    "## Check that train, dev and collection (fever.db) uses NFC / NFD consistently"
   ]
  },
  {
   "cell_type": "markdown",
   "metadata": {},
   "source": [
    "## data-cs"
   ]
  },
  {
   "cell_type": "code",
   "execution_count": 39,
   "metadata": {},
   "outputs": [
    {
     "name": "stdout",
     "output_type": "stream",
     "text": [
      "{\"id\": 207746, \"verifiable\": \"VERIFIABLE\", \"label\": \"SUPPORTS\", \"claim\": \"Sammy Cahn byl americky\\u0301 hudebni\\u0301k narozeny\\u0301 v roce 1913.\", \"evidence\": [[[245753, 246454, \"Sammy Cahn\", 0, \"Sammy Cahn\"]]], \"claim_en\": \"Sammy Cahn was an American musician born in 1913.\", \"predicted_pages\": [\"Sammy Cahn\", \"Danny Kaye\", \"Steve Khan\", \"Sammy Davis mlads\\u030ci\\u0301\", \"Al Cohn\", \"Tony Curtis\", \"Al Kooper\", \"Shane West\", \"Jerome Kern\", \"Jimmy Van Heusen\", \"Woody Allen\", \"Sammy Nestico\", \"Sammy Price\", \"Danny Elfman\", \"Billy Wilder\", \"Robert Schwartzman\", \"Sammy Voma\\u0301c\\u030cka\", \"Al Foster\", \"Gene Wilder\", \"Ian Underwood\", \"Joe Jonas\", \"Tony Kaye\", \"Ozzie Cadena\", \"Steve Grossman (saxofonista)\", \"Jason Schwartzman\", \"Paul Hampton\", \"Weird Al Yankovic\", \"Frank Sinatra\", \"Danny Fields\", \"Billie Joe Armstrong\", \"Stan Getz\", \"Frank Sinatra Jr.\", \"Eddie Kaye\", \"Joe Bidewell\", \"Eddie Gladden\", \"Scott Caan\", \"Ronnie James Dio\", \"Don S. Davis\", \"Duane Eddy\", \"Stephen Sondheim\", \"Elia Kazan\", \"Vic Damone\", \"Al Pacino\", \"Steve Swallow\", \"Harry Morgan\", \"Steve Allen\", \"Nick Carter (hudebni\\u0301k)\", \"Clive Davis\", \"Bob Dylan\", \"Sammy\", \"Don Felder\", \"Jon Voight\", \"Josh Schwartz (hudebni\\u0301k)\", \"Darren Aronofsky\", \"Joe Wilder\", \"Scott Yanow\", \"Lenny Kaye\", \"Don Kirshner\", \"Timothy Zahn\", \"Andy Samberg\", \"Harry Dean Stanton\", \"Popa Chubby\", \"Ian Somerhalder\", \"Frank Foster (hudebni\\u0301k)\", \"Danny Whitten\", \"Josh Schwartz\", \"Cat Stevens\", \"Ted Nugent (album)\", \"Don Was\", \"Nat King Cole\", \"Woody Guthrie\", \"Rod de'Ath\", \"Dennis Rodman\", \"Sheldon Adelson\", \"Ronnie Lane\", \"Mos Def\", \"Carmine Coppola\", \"Tony Kaye (rez\\u030cise\\u0301r)\", \"Gary Snyder\", \"Steve Davis (kontrabasista)\", \"Q-Tip\", \"Rudy Van Gelder\", \"Joey Jordison\", \"Ike Willis\", \"Alan Wilder\", \"Babyface\", \"Woody Shaw\", \"Al Green\", \"Jimmy Fallon\", \"Jimmy Cobb\", \"Danny Federici\", \"Buster Keaton\", \"Eddie Cahill\", \"Tony Shanahan\", \"Jerome Robbins\", \"Rick Coonce\", \"Tony Visconti\", \"Jonah Hill\", \"Darren Hayes\", \"Russ Titelman\", \"Jack DeJohnette\", \"George Crumb\", \"David Freiberg\", \"Danny DeVito\", \"Spencer Davis\", \"Billy Bob Thornton\", \"Adam Young\", \"Herbie Hancock\", \"Benny Golson\", \"Adam West\", \"Billy West\", \"J-Dog\", \"Eddie Gale\", \"Leonard Rosenman\", \"Danny Frankel\", \"Al Jarreau\", \"Andrew Davis (rez\\u030cise\\u0301r)\", \"Delmore Schwartz\", \"Eddie Heywood\", \"Ruth Underwood\", \"Timbaland\", \"George Gershwin\", \"Stevie Wonder\", \"Al Jolson\", \"Ira Gershwin\", \"Connie Kay\", \"Thomas Alva Edison\", \"Don Alias\", \"Michael Erlewine\", \"Steve Lawrence\", \"Diane Keaton\", \"Thornton Wilder\", \"Seasick Steve\", \"Josh Safran\", \"Kanye West\", \"Melvin Rhyne\", \"Steve Alder\", \"Ira Sullivan\", \"Bobby Darin\", \"Fred Astaire\", \"Joe Diorio\", \"Benny Carter\", \"Don Cherry (hudebni\\u0301k)\", \"Jon Hendricks\", \"Eddie Albert\", \"Johnny Van Zant\", \"Rudy Giuliani\", \"Aaron Goldberg\", \"Harry Ackerman\", \"Charles Bronson\", \"Natalie Coleova\\u0301\", \"Roy Acuff\", \"David Shankle\", \"Brian Culbertson\", \"Michael Hossack\", \"Andy Biersack\", \"Dave Spitz\", \"Joe Gore\", \"Steve Gadd\", \"Howard Alden\", \"Troy Donahue\", \"Danny Steinmann\", \"Steve Buscemi\", \"Walter Isaacson\", \"Frankie Avalon\", \"Ted Allan\", \"Carol Kaye\", \"Carmine Appice\", \"Bernard Wright\", \"Gil Robbins\", \"Brad Dexter\", \"Cliff DeYoung\", \"Andy Zax\", \"Barry Mann\", \"Dan Hartman\", \"Al De Lory\", \"Vanilla Ice\", \"Steve Lukather\", \"Danny Weis\", \"Howard Stern\", \"Doane Perry\", \"Butch Warren\", \"Casey Abrams\", \"Jon Cryer\", \"En Vogue\", \"David Grisman\", \"Walter Davis, Jr.\", \"Randy California\", \"Eddie DeLange\", \"Frank Capone\", \"B. J. Thomas\", \"Ike Turner\", \"Ronan Farrow\", \"Mike Westbrook\", \"Ronnie Deauville\", \"Dean Cundey\", \"Kid Rock\", \"Crispin Glover\", \"Billy Boy Arnold\", \"James Rosenquist\", \"Barry Altschul\", \"Eric Bloom\", \"Jesse Ed Davis\", \"Raphael Saadiq\", \"Tim Allen\", \"Elmore James\", \"Lil Wayne\", \"Richie Unterberger\", \"Chris Frazier\", \"Max Weinberg\", \"Dennis DeYoung\", \"Scott Joplin\", \"Count Basie\", \"Clem Albers\", \"Dennis Quaid\", \"Wilton Felder\", \"David Ellefson\", \"Bronson Pinchot\", \"Steve Reich\", \"Cole Porter\", \"Frankie Knuckles\", \"Jon Carin\", \"Collin Walcott\", \"Jay-Z\", \"Harvey Weinstein\", \"Jon Schmidt\", \"Annie Hallova\\u0301\", \"Jay Weinberg\", \"Eddie Davis\", \"Simon Wright\", \"Billy Joel\", \"Jonathan Sadowski\", \"Zack Snyder\", \"David Allan Coe\", \"Tony Levin (bubeni\\u0301k)\", \"Woody Herman\", \"Little Walter\", \"Jon Faddis\", \"Buddy Holly\", \"Warren Zevon (album)\", \"Gus Van Sant\", \"Steve Hogarth\", \"Matt Damon\", \"Dion DiMucci\", \"Jon Stewart\", \"Eddie Cochran\", \"Johnny Galecki\", \"Regina Carter\", \"Paul A. Rothchild\", \"Joey Baron\", \"Barry Finnerty\", \"Bob Weinstein\", \"Al Harewood\", \"Bizarre\", \"Deuce (zpe\\u030cva\\u0301k)\", \"Jesse Eisenberg\", \"Joseph Gordon-Levitt\", \"Don Hunstein\", \"Barry Goldberg\", \"Doug Aldrich\", \"Harry Styles\", \"Stephen Colbert\", \"Snoop Dogg\", \"Van Zant\", \"Gene Vincent\", \"Ellen Burstynova\\u0301\", \"Arto Lindsay\", \"Harry Houdini\", \"Robert David Hall\", \"Jason Alexander\", \"Steven Tyler\", \"Dave Brubeck\", \"Ronnie Hawkins\", \"Eddie Vedder\", \"Mel Brooks\", \"Cordell Mosson\", \"Stanley Kramer\", \"Allen Ginsberg\", \"Eddie Blazonczyk\", \"Ty Citerman\", \"Rod Steiger\", \"Carter Burwell\", \"Ella Fitzgeraldova\\u0301\", \"James Garner\", \"Steve Porcaro\", \"Andy Hallett\", \"Jason Segel\", \"Cedric Bixler-Zavala\", \"Arthur P. Jacobs\", \"Steve Taylor\", \"Richard Donner\", \"Garth Brooks\", \"Joe Dassin\", \"Frank Zappa\", \"Hey Angel\", \"George Stevens\", \"Mickey Rooney\", \"Kevin Nash\", \"Henry Fonda\", \"Vin Diesel\", \"Barry Manilow\", \"Joe Boyd\", \"Carmine Giovinazzo\", \"Paul Adelstein\", \"Chick Corea\", \"Ron Carter\", \"Ted Kooshian\", \"Dannyho part\\u030ca\\u0301ci 2\", \"Dean Devlin\", \"Ben Foster (herec)\", \"Tony Terran\", \"Tom Fogerty\", \"George Clooney\", \"Jay Dee Daugherty\", \"John Garfield\", \"Elliott Smith\", \"Richard Davis (hudebni\\u0301k)\", \"Kitty Wells\", \"Oliver Hardy\", \"Dave Grusin\", \"Donald Dunn\", \"Kevin Sussman\", \"Chip Taylor\", \"Sammy Lee\", \"Ghostface Killah\", \"Jaki Byard\", \"Vanessa Carlton\", \"Tyson Jay Ritter\", \"Moogy Klingman\", \"Ab-Soul\", \"Judy Garlandova\\u0301\", \"Ry Cooder\", \"Don Donaghy\", \"CeDell Davis\", \"Warren Haynes\", \"T-Bone Burnett\", \"Trombone Shorty\", \"Tommy Lee Jones\", \"Alan Pakula\", \"Judy Hollidayova\\u0301\", \"Donnie Wahlberg\", \"Muhammad Ali\", \"Screamin' Jay Hawkins\", \"Billy Hart\", \"Randy Newman\", \"Swizz Beatz\", \"Danny Williams (rez\\u030cise\\u0301r)\", \"Cassie Gainesova\\u0301\", \"Danny Granger\", \"Gary McFarland\", \"Boz Scaggs\", \"Gene Roddenberry\", \"Sammy Hagar\", \"John Paul Jones (hudebni\\u0301k)\", \"River Phoenix\", \"Donnie Van Zant\", \"Harry Crocker\", \"Lil Jon\", \"Amon Tobin\", \"Mark Ronson\", \"Ted Nugent\", \"Timothy H. O'Sullivan\", \"Dave Weckl\", \"Ted Templeman\", \"Sly Stone\", \"Bobby Keys\", \"Danny Rose z Broadwaye\", \"Greg Phillinganes\", \"Harold Arlen\", \"Cliff Eidelman\", \"Hollywood Fats\", \"Eddie Cantor\", \"Wayne Shorter\", \"Arlo Guthrie\", \"Lowell George\", \"Steven Soderbergh\", \"Lamont Dozier\", \"Mack Swain\", \"Donald Judd\", \"Steve Knight\", \"Harold Budd\", \"Donald Glover\", \"James Hetfield\", \"Tommy Aldridge\", \"Danny Bank\", \"The Supremes\", \"Steve Winwood\", \"Bob Gunton\", \"Burt Bacharach\", \"Michael Henderson\", \"Johnny Knoxville\", \"Dean Parks\", \"Tony Joe White\", \"Eddie Money\", \"Cornel West\", \"Don Sebesky\", \"Cedar Walton\", \"Dave Mustaine\", \"Jonas Brothers\", \"Sonny Greer\", \"Mikael Eldridge\", \"Ronnie Van Zant\", \"Chris Warren Jr.\", \"Bob Weir\", \"Edward G. Robinson\", \"Stanley Clarke\", \"Harry Edison\", \"Harold Vick\", \"Jack White\", \"Johnny 3 Tears\", \"Jeff Porcaro\", \"Howie B\", \"Frank Oz\", \"Leslie Carterova\\u0301\", \"Eugene Wright\", \"David O. Selznick\", \"Vinnie Vincent\", \"Jodie Christian\", \"David Lee Roth\", \"Ice Cube\", \"Tex Ritter\", \"Fisher Stevens\", \"Louis Gossett Jr.\", \"Al Dreares\", \"Philly Joe Jones\", \"Kirk Douglas\", \"Joe Satriani\", \"Noe\\u0308l Coward\", \"Action Bronson\", \"Ted Curson\", \"Don Menza\", \"Barry White\", \"Don Bagley\", \"Nile Rodgers\", \"Vinny Appice\", \"DuBose Heyward\", \"Jonathan Davis\", \"Nick Gold\", \"Spike Lee\", \"John Malkovich\", \"Nikki Sixx\", \"Timothy B. Schmit\", \"Isaac Hayes\", \"Todd Haynes\", \"Killing the Dragon\", \"Tony Robbins\", \"Junior Wells\", \"Warren Bernhardt\", \"Roger Corman\", \"Harold Lloyd\", \"James Coburn\", \"Ray Collins\", \"Bill Cunningham\", \"Adam Holzman (kla\\u0301vesista)\", \"Jimmy Miller\", \"Jack Warner\", \"Danny Huston\", \"Danny Glover\", \"Joe Biden\", \"Danny Joe Brown\", \"Wallace Roney\", \"Scott Derrickson\", \"Mickey Hart\", \"Shane Harper\", \"Sharon Stoneova\\u0301\", \"Maino\", \"Dwayne Johnson\", \"Roger Donaldson\", \"Nate Dogg\", \"Liza Minnelli\", \"James Newton Howard\", \"Tim Robbins\", \"Charles Davis (hudebni\\u0301k)\", \"Tony Martin (americky\\u0301 zpe\\u030cva\\u0301k)\", \"Faruq Z. Bey\", \"Dylan Sprouse\", \"Scott Ian\", \"James Burton\", \"Jon Bernthal\", \"Chazz Palminteri\", \"Son House\", \"Martin Bisi\", \"Anthony Montgomery\", \"Mort Shuman\", \"Claude Thornhill\", \"Danny Lohner\", \"John Sebastian\", \"Shane Black\", \"Hal B. Wallis\", \"Aaron Cohen (judista)\", \"Scott Weiland\", \"Dave Foster\", \"Ron Mael\", \"Ron Affif\", \"Warren DeMartini\", \"Variety\", \"Dean Martin\", \"David Arnold\", \"Robert Quine\", \"Tina Sinatra\"]}\r\n"
     ]
    }
   ],
   "source": [
    "!head -n 1 /mnt/data/factcheck/fever/data-cs/predictions/colbert_k500.jsonl"
   ]
  },
  {
   "cell_type": "code",
   "execution_count": 40,
   "metadata": {},
   "outputs": [
    {
     "name": "stdout",
     "output_type": "stream",
     "text": [
      "0\tVietnamská kuchyně je důležitou částí vietnamské kultury . Jídlo představuje pro Vietnamce možnost strávit čas společně s rodinou a je hlavním prvkem oslav a svátků . Hlavní ingredience využívané ve vietnamské kuchyni v sobě odrážejí polohu země a místní klima . Rýže , která se pěstuje na vodních polích po celé zemi , tvoří součást každodenních jídel , a navíc se z ní vyrábějí různé druhy nudlí nebo koláčů . Kromě množství buddhistických vegetariánských pokrmů jsou vietnamská jídla kombinací rozmanitých druhů zeleniny , bylin a masa . Ingredience se připravují na mnoho způsobů , jako je vaření , dušení nebo smažení . Cílem kuchařů je zachování co nejčerstvější a přírodní chuti jídel . Vietnamská kuchyně je často považována za jednu z nejzdravějších na světě . Vietnamská kuchyně se řídí filozofií pěti elementů ( `` ngũ hành '' ) v pěti základních chutích : ostrá ( železo ) , kyselá ( dřevo ) , hořká ( oheň ) , slaná ( voda ) a sladká ( země ) . Každé vietnamské jídlo má svoji vlastní chuť , která odráží jeden nebo více z těchto elementů .\r\n"
     ]
    }
   ],
   "source": [
    "!head -n 1 /mnt/data/factcheck/fever/data-cs/fever/fever.tsv"
   ]
  },
  {
   "cell_type": "code",
   "execution_count": 44,
   "metadata": {},
   "outputs": [
    {
     "name": "stdout",
     "output_type": "stream",
     "text": [
      "Nelson Mandela zavedl bezplatnou zdravotní péči.\tNelson Rolihlahla Mandela ( 18. července 1918 – 5. prosince 2013 ) byl jihoafrický bojovník proti apartheidu , politik a prezident Jihoafrické republiky v letech 1994 až 1999 . Byl prvním černošským prezidentem zvoleným v prvních svobodných volbách v historii Jihoafrické republiky . Jeho vláda se soustředila na likvidaci dědictví apartheidu , zaměřovala se na institucionalizovaný rasismus , chudobu a sociální nerovnost , a zprostředkovala mezirasové usmíření v zemi . Politicky se hlásil k africkému nacionalismu a demokratickému socialismu . V letech 1991 až 1997 byl prezidentem Afrického národního kongresu . V mezinárodní politice byl generálním tajemníkem Hnutí nezúčastněných zemí v letech 1998 až 1999 . Narodil se jako příslušník královské rodiny národa Xhosů . Vystudoval právo na univerzitách v Alice a Johannesburgu . Po studiích se přidal k Africkému národnímu kongresu a stal se zakladatelem jeho mládežnické organizace . Poté co se moci v roce 1948 chopila Národní strana začal Mandelův význam ve straně vzrůstat . Během své právnické praxe byl několikrát zatčen kvůli podvratným aktivitám a spolu s vedením Afrického národního kongresu byl neúspěšně obžalován v letech 1956 až 1961 . Ovlivněn marxismem se tajně stal členem Jihoafrické komunistické strany zasedl v jejím ústředním výboru . Ačkoliv byl původně odhodlaným stoupencem nenásíli , v roce 1961 ve spolupráci s jihoamerickými komunisty spoluzaložil militantní skupinu Umkhonto we Sizwe za účelem vedení sabotážní kampaně proti vládě apartheidu . V roce 1962 byl zatčen , usvědčen ze spiknutí s cílem svržení režimu a odsouzen k doživotnímu odnětí svobody . Mandela strávil 27 let ve vězení , nejdříve na Robben Island poté ve věznicích v Kapském Městě a Paarlu . Zatím sílila mezinárodní kampaň za jeho propuštění , k němuž došlo v roce 1990 , během eskalace občanských nepokojů . Mandela se zapojil do jednání s prezidentem de Klerkem s cílem ukončit režim apartheidu a ustanovení všeobecných svobodných voleb , v nichž dovedl Africký národní kongres k vítězství a stal se prvním černošským prezidentem Jihoafrické republiky . Do své vlády národní jednoty přizval členy ostatních jihoafrických politických stran a vytvořil novou ústavu . Nechal vytvořit Komisi pro pravdu a usmíření jejímž cílem bylo vyšetřování porušování lidských práv režimem apartheidu . Zatímco pokračoval v liberálně ekonomické politice předchozí vlády a podporoval pozemkovou reformu , bojoval proti chudobě a zlepšoval zdravotní péči . V mezinárodní politice působil jako mediátor mezi Libyí a Spojeným královstvím během Aféry Lockerbie a dohlížel na intervenci Jihoafrického rozvojového společenství v Lesothu . Odmítl kandidovat ve druhém funkčním období a byl vystřídán svým zástupcem Thabo Mbekim . Mandela se stal státníkem na odpočinku věnujícím se charitě a boji proti chudobě a AIDS . Dne 5. prosince 2013 , po dlouhé léčbě plicní infekce , této nemoci nakonec podlehl . Mandela byl po celý svůj život kontroverzní osobnosti . Odsuzován jako komunistický terorista , i přesto však získal mezinárodní uznání pro svůj aktivismus . Mimo jiné v roce 1988 obdržel Sacharovovu cenu za svobodu myšlení a v roce 1993 spolu s de Klerkem Nobelovu cenu míru . Mezi jeho mnohá ocenění patří jak americká Prezidentská medaile svobody tak sovětský Leninův řád . V roce 2009 prohlásilo Valné shromáždění OSN 18. červenec , den Mandelových narozenin , Mezinárodním dnem Nelsona Mandely . V Jihoafrické republice je považován za `` Otce národa '' , často je nazýván svým klanovým jménem Madiba nebo jako Tata ( otec ) .\tPortugalské království bylo zrušeno v roce 1910 , tudíž jsou současní následníci portugalského trůnu pretendenti . Současnou hlavou portugalské královské rodiny je `` Jeho královská výsost '' Duarte Pio , vévoda z Braganzy . Duarte Pio je pravnukem portugalského ( vzdoro ) krále Michala I . Pokud by se jednou stal králem , vládl by pod jménem Duarte II . ( Eduard II . ) Pretendentem trůnu a vévodou z Braganzy se stal v roce 1976 po smrti jeho otce Duarta Nuna . Ten byl pretendentem od roku 1932 , kdy zemřel poslední portugalský král Manuel II. , který neměl žádné bližší příbuzné , kteří by mohli zdědit trůnu . Byl tak ukončen spor mezi vládnucí linií ( která Manuelem II . vymřela ) a miguelistickou linií . Následnictví portugalského trůnu se řídilo podle primogenitury ( kognatické , muži mají přednost před ženami ) . Následníkem trůnu se mohl stát pouze člověk narozený v Portugalsku a z právoplatného manželství , tím pádem cizinec nemohl získat korunu . Tím se také mělo zamezit spojení portugalské koruny s jiným státem .\r\n"
     ]
    }
   ],
   "source": [
    "!head -n 1 /mnt/data/factcheck/fever/data-cs/fever-data/train.tsv"
   ]
  },
  {
   "cell_type": "code",
   "execution_count": 46,
   "metadata": {},
   "outputs": [
    {
     "name": "stdout",
     "output_type": "stream",
     "text": [
      "0\tSociologie je studium vývoje politiky.\r\n"
     ]
    }
   ],
   "source": [
    "!head -n 1 /mnt/data/factcheck/fever/data-cs/fever/dev_queries.tsv"
   ]
  },
  {
   "cell_type": "markdown",
   "metadata": {},
   "source": [
    "## data_titles-cs"
   ]
  },
  {
   "cell_type": "code",
   "execution_count": 51,
   "metadata": {},
   "outputs": [
    {
     "name": "stdout",
     "output_type": "stream",
     "text": [
      "{\"id\": 207746, \"verifiable\": \"VERIFIABLE\", \"label\": \"SUPPORTS\", \"claim\": \"Sammy Cahn byl americky\\u0301 hudebni\\u0301k narozeny\\u0301 v roce 1913.\", \"evidence\": [[[245753, 246454, \"Sammy Cahn\", 0, \"Sammy Cahn\"]]], \"claim_en\": \"Sammy Cahn was an American musician born in 1913.\", \"predicted_pages\": [\"Sammy Cahn\", \"Steve Khan\", \"Danny Kaye\", \"Sammy Davis mlads\\u030ci\\u0301\", \"Billy Wilder\", \"Shane West\", \"Tony Curtis\", \"Gene Wilder\", \"Jimmy Van Heusen\", \"Al Cohn\", \"Jason Schwartzman\", \"Ozzie Cadena\", \"Robert Schwartzman\", \"Jerome Kern\", \"Sammy Voma\\u0301c\\u030cka\", \"Ian Underwood\", \"Al Foster\", \"Sammy Price\", \"Woody Allen\", \"Al Kooper\", \"Sammy\", \"Danny Elfman\", \"Joe Jonas\", \"Scott Caan\", \"Stephen Sondheim\", \"Sammy Nestico\", \"Don S. Davis\", \"Steve Grossman (saxofonista)\", \"Tony Kaye\", \"Elia Kazan\", \"Eddie Kaye\", \"Frank Sinatra\", \"Harry Dean Stanton\", \"Josh Schwartz (hudebni\\u0301k)\", \"Weird Al Yankovic\", \"Clive Davis\", \"Billy Bob Thornton\", \"Duane Eddy\", \"Ian Somerhalder\", \"Joe Bidewell\", \"Josh Schwartz\", \"Frank Sinatra Jr.\", \"Thornton Wilder\", \"Harry Morgan\", \"Eddie Gladden\", \"Joe Wilder\", \"Steve Allen\", \"Danny Fields\", \"Paul Hampton\", \"Alan Wilder\", \"Billie Joe Armstrong\", \"Darren Aronofsky\", \"Nick Carter (hudebni\\u0301k)\", \"Al Pacino\", \"Eddie Cahill\", \"Vic Damone\", \"Steve Swallow\", \"Andy Samberg\", \"Stan Getz\", \"Popa Chubby\", \"Ronnie James Dio\", \"Timothy Zahn\", \"George Crumb\", \"Don Felder\", \"Josh Safran\", \"Jon Voight\", \"Don Was\", \"Rick Coonce\", \"Nat King Cole\", \"Q-Tip\", \"Carmine Coppola\", \"Ted Allan\", \"Woody Guthrie\", \"Frank Foster (hudebni\\u0301k)\", \"Adam West\", \"Ruth Underwood\", \"Ted Nugent (album)\", \"Jerome Robbins\", \"Rod de'Ath\", \"Scott Yanow\", \"Billy West\", \"Lenny Kaye\", \"Bob Dylan\", \"Buster Keaton\", \"Don Kirshner\", \"Diane Keaton\", \"Billy Boy Arnold\", \"Eddie Albert\", \"Steve Alder\", \"Sheldon Adelson\", \"Al Jarreau\", \"Gil Robbins\", \"Danny Whitten\", \"Stevie Wonder\", \"Delmore Schwartz\", \"Ira Sullivan\", \"Howard Stern\", \"Rudy Giuliani\", \"Rudy Van Gelder\", \"Ike Willis\", \"Andrew Davis (rez\\u030cise\\u0301r)\", \"Dennis Rodman\", \"Herbie Hancock\", \"Joey Jordison\", \"Tony Kaye (rez\\u030cise\\u0301r)\", \"Jimmy Fallon\", \"Steve Davis (kontrabasista)\", \"Steve Hogarth\", \"Michael Hossack\", \"Gary Snyder\", \"Jonah Hill\", \"Spencer Davis\", \"Eddie Heywood\", \"Eddie Gale\", \"Mos Def\", \"Danny DeVito\", \"Vanilla Ice\", \"Babyface\", \"Roy Acuff\", \"Ronnie Lane\", \"Stephen Colbert\", \"Steve Lawrence\", \"Tony Visconti\", \"Johnny Van Zant\", \"Steve Buscemi\", \"Joe Diorio\", \"Ira Gershwin\", \"Timbaland\", \"Frank Capone\", \"David Freiberg\", \"Frankie Avalon\", \"Bobby Darin\", \"Walter Isaacson\", \"Woody Shaw\", \"Adam Young\", \"James Rosenquist\", \"Tim Allen\", \"Randy California\", \"Tony Shanahan\", \"Mike Westbrook\", \"Clem Albers\", \"Melvin Rhyne\", \"Annie Hallova\\u0301\", \"Natalie Coleova\\u0301\", \"Darren Hayes\", \"Jimmy Cobb\", \"Cat Stevens\", \"Steve Gadd\", \"George Gershwin\", \"Carmine Appice\", \"Al Green\", \"Casey Abrams\", \"Al Jolson\", \"Danny Federici\", \"David Shankle\", \"Troy Donahue\", \"Don Hunstein\", \"Timothy H. O'Sullivan\", \"Van Zant\", \"Carol Kaye\", \"Bob Weinstein\", \"J-Dog\", \"Russ Titelman\", \"Ronan Farrow\", \"Bronson Pinchot\", \"Kid Rock\", \"Harry Ackerman\", \"Cliff DeYoung\", \"Danny Frankel\", \"Bizarre\", \"Little Walter\", \"Kevin Sussman\", \"Brian Culbertson\", \"Leonard Rosenman\", \"Harvey Weinstein\", \"Seasick Steve\", \"Barry Mann\", \"Mickey Rooney\", \"Frankie Knuckles\", \"Walter Davis, Jr.\", \"Alan Pakula\", \"B. J. Thomas\", \"Richard Donner\", \"Howard Alden\", \"Kanye West\", \"Benny Golson\", \"Aaron Goldberg\", \"Eric Bloom\", \"Max Weinberg\", \"Gene Vincent\", \"Dean Cundey\", \"Allen Ginsberg\", \"Steve Taylor\", \"Brad Dexter\", \"Ellen Burstynova\\u0301\", \"Doane Perry\", \"Jesse Eisenberg\", \"Michael Erlewine\", \"Rod Steiger\", \"Eddie Cochran\", \"Vanessa Carlton\", \"Paul Adelstein\", \"Jason Alexander\", \"Gus Van Sant\", \"Jack DeJohnette\", \"Crispin Glover\", \"Charles Bronson\", \"Arthur P. Jacobs\", \"Danny Steinmann\", \"Donald Judd\", \"Vin Diesel\", \"James Caan\", \"Carmine Giovinazzo\", \"Danny Williams (rez\\u030cise\\u0301r)\", \"Bernard Wright\", \"Count Basie\", \"Oliver Hardy\", \"Harry Styles\", \"Butch Warren\", \"Don Alias\", \"Lamont Dozier\", \"Harry Houdini\", \"Swizz Beatz\", \"Jon Stewart\", \"Jon Hendricks\", \"Tony Levin (bubeni\\u0301k)\", \"Don Cherry (hudebni\\u0301k)\", \"Mel Brooks\", \"Ronnie Van Zant\", \"Jason Segel\", \"Warren Haynes\", \"Carter Burwell\", \"David Grisman\", \"Boz Scaggs\", \"Johnny Galecki\", \"Ben Foster (herec)\", \"Dan Hartman\", \"Jesse Ed Davis\", \"Matt Damon\", \"Joe Alwyn\", \"Gary Dourdan\", \"Steve Lukather\", \"Zack Snyder\", \"Rodney Alcala\", \"Connie Kay\", \"Anne Hathaway\", \"Joe Gore\", \"Harry Crocker\", \"Dion DiMucci\", \"Gene Roddenberry\", \"Matthew Davis\", \"Dennis DeYoung\", \"Andy Biersack\", \"Ronnie Deauville\", \"Benny Carter\", \"Elias Disney\", \"Barry Finnerty\", \"Jaki Byard\", \"Al De Lory\", \"Robert Quine\", \"Dave Brubeck\", \"Richie Unterberger\", \"Collin Walcott\", \"Andy Zax\", \"Jon Cryer\", \"Edward G. Robinson\", \"Donnie Wahlberg\", \"Dave Spitz\", \"Dannyho part\\u030ca\\u0301ci 2\", \"William Rehnquist\", \"Thomas Alva Edison\", \"Joey Baron\", \"Jake Gyllenhaal\", \"Roger Donaldson\", \"Elmore James\", \"Ted Kooshian\", \"Jay Weinberg\", \"Dave Grusin\", \"Jay-Z\", \"Shane Black\", \"Ry Cooder\", \"T-Bone Burnett\", \"Sammy Lee\", \"CeDell Davis\", \"Tim Robbins\", \"George Clooney\", \"David Ellefson\", \"Billy Hart\", \"Buddy Holly\", \"Fred Astaire\", \"Roger Corman\", \"Eddie McClintock\", \"David Allan Coe\", \"Maino\", \"Doug Aldrich\", \"Chris Frazier\", \"Danny Weis\", \"Barry Altschul\", \"Joseph Gordon-Levitt\", \"Jay Brannan\", \"James Garner\", \"Cole Porter\", \"Steve Reich\", \"Kevin Nash\", \"En Vogue\", \"Chip Taylor\", \"Dean Devlin\", \"Billy Joel\", \"Bill Cunningham\", \"Billy Sherwood\", \"Sammy Hagar\", \"Judy Hollidayova\\u0301\", \"Regina Carter\", \"Budd Schulberg\", \"David Arnold\", \"John Schuck\", \"Wilton Felder\", \"Jon Carin\", \"Chadwick Boseman\", \"Simon Wright\", \"Jon Faddis\", \"Deuce (zpe\\u030cva\\u0301k)\", \"Snoop Dogg\", \"Tony Robbins\", \"Jonas Brothers\", \"Arto Lindsay\", \"Andy Hallett\", \"Joe Dassin\", \"Cordell Mosson\", \"Danny Joe Brown\", \"Warren Zevon (album)\", \"Hey Angel\", \"Donnie Van Zant\", \"Robert David Hall\", \"Ronnie Hawkins\", \"Joe Boyd\", \"Frankie Faison\", \"Cedric Bixler-Zavala\", \"Don Donaghy\", \"Richard Davis (hudebni\\u0301k)\", \"Lil Wayne\", \"Chris Warren Jr.\", \"Johnny Knoxville\", \"Allan Grant\", \"Danny Rose z Broadwaye\", \"Gore Vidal\", \"Spike Lee\", \"Muhammad Ali\", \"Nick Gold\", \"John Cusack\", \"Chick Corea\", \"Bob Gunton\", \"Ron Carter\", \"Lionel Richie\", \"Robert Zemeckis\", \"Tommy Aldridge\", \"Jonathan Sadowski\", \"Barry Goldberg\", \"James Hetfield\", \"Tom Fogerty\", \"Dylan Sprouse\", \"Tommy Lee Jones\", \"Burt Bacharach\", \"Sydney Schanberg\", \"Tom Arnold\", \"Cliff Eidelman\", \"Vinny Appice\", \"Eddie DeLange\", \"Kirk Douglas\", \"Mack Swain\", \"John Sinclair (ba\\u0301sni\\u0301k)\", \"Sean Penn\", \"Steve Winwood\", \"Noe\\u0308l Coward\", \"Beverly Grant\", \"Shane Harper\", \"Cornel West\", \"Tom Skerritt\", \"Rick James\", \"Eddie Money\", \"Steven Tyler\", \"Josh Dun\", \"Barry Schwartz\", \"Joe Biden\", \"Dennis Quaid\", \"Vaughn Armstrong\", \"Chazz Palminteri\", \"Songwriters Hall of Fame\", \"Steven Soderbergh\", \"Lonnie Holley\", \"Ronald Lauder\", \"Screamin' Jay Hawkins\", \"James Woods\", \"Leslie Carterova\\u0301\", \"Dave Foster\", \"Louis Gossett Jr.\", \"Jack Warner\", \"Eddie Blazonczyk\", \"Ike Turner\", \"The Supremes\", \"Nick Wechsler\", \"Late Night with Jimmy Fallon\", \"Harold Budd\", \"Tina Sinatra\", \"Adam Baldwin\", \"Arlo Guthrie\", \"Joachim Cooder\", \"Garth Brooks\", \"Alan Silva\", \"Trombone Shorty\", \"Gary McFarland\", \"Paul A. Rothchild\", \"Jon Schmidt\", \"Tim Kazurinsky\", \"Nick Carter\", \"Cassie Gainesova\\u0301\", \"John Garfield\", \"Matthew Fox\", \"Jim Davis\", \"Jeff Porcaro\", \"Dionne Warwick\", \"Dean Martin\", \"Jon Bernthal\", \"Sonya Eddy\", \"Ronnie Coleman\", \"Don Shanks\", \"Angry Machines\", \"Vincent Gallo\", \"Gary Coleman\", \"Tony Terran\", \"Ab-Soul\", \"Winona Ryder\", \"Scott Michael Foster\", \"Samota\\u0301r\\u030c Jim\", \"Donald Dunn\", \"Danny Glover\", \"Rodney Eastman\", \"Johnny Depp\", \"Frank Oz\", \"Jerry Weintraub\", \"Ella Fitzgeraldova\\u0301\", \"Charlton Heston\", \"Al Harewood\", \"C. Thomas Howell\", \"Danny Nucci\", \"Al Ernest Garcia\", \"Zachary Levi\", \"DuBose Heyward\", \"Johnny 3 Tears\", \"Stanley Clarke\", \"Common\", \"Hollywood Fats\", \"Ghostface Killah\", \"Moogy Klingman\", \"Roddy Ricch\", \"Son House\", \"Garry Winogrand\", \"Carl Wilson\", \"Arthur Lee (hudebni\\u0301k)\", \"Ben Foster (skladatel)\", \"John Paul Jones (hudebni\\u0301k)\", \"Ronnie Peterson\", \"Sunset Boulevard\", \"Eddie Cantor\", \"Frank Zappa\", \"Burt Young\", \"Stanley Kramer\", \"Sly Stone\", \"Philip Whalen\", \"Orlando Bloom\", \"Scott Cohen\", \"James Cagney\", \"Ed Wood\", \"Garry Shandling\", \"Ted Nugent\", \"Vince Neil\", \"Jeffrey DeMunn\", \"Zachary Quinto\", \"Hal B. Wallis\", \"Junior Wells\", \"Billy Bragg\", \"Warren Bernhardt\", \"David Rosenboom\", \"Jeffrey Jones\", \"Dave Douglas\", \"Sam Shepard\", \"John Malkovich\", \"Gary Burghoff\", \"Donald Glover\", \"Danny Granger\", \"Vic Schoen\", \"Scott Derrickson\", \"Chris Jericho\", \"Raphael Saadiq\", \"Ahmad Jamal\", \"James Dean\", \"Charles H. Joffe\", \"James Vincenzo Capone\", \"Cedar Walton\", \"Aaron Cohen (judista)\"]}\r\n"
     ]
    }
   ],
   "source": [
    "!head -n 1 /mnt/data/factcheck/fever/data_titles-cs/predictions/colbert_k500.jsonl"
   ]
  },
  {
   "cell_type": "code",
   "execution_count": 55,
   "metadata": {},
   "outputs": [
    {
     "name": "stdout",
     "output_type": "stream",
     "text": [
      "{\"id\": 206088, \"verifiable\": \"NOT VERIFIABLE\", \"label\": \"NOT ENOUGH INFO\", \"claim\": \"Sociologie je studium vývoje politiky.\", \"evidence\": [], \"claim_en\": \"Sociology is the study of politics development.\"}\r\n"
     ]
    }
   ],
   "source": [
    "!head -n 1 /mnt/data/factcheck/fever/data_titles-cs/fever-data/dev.jsonl"
   ]
  },
  {
   "cell_type": "code",
   "execution_count": 54,
   "metadata": {},
   "outputs": [
    {
     "name": "stdout",
     "output_type": "stream",
     "text": [
      "{\"id\": 188153, \"verifiable\": \"NOT VERIFIABLE\", \"label\": \"NOT ENOUGH INFO\", \"claim\": \"Útěk z planety Země je vědecký dokumentární film.\", \"evidence\": [], \"claim_en\": \"Escape from Planet Earth is a science documentary film.\"}\r\n"
     ]
    }
   ],
   "source": [
    "!head -n 1 /mnt/data/factcheck/fever/data_titles-cs/fever-data/train.jsonl"
   ]
  },
  {
   "cell_type": "code",
   "execution_count": 53,
   "metadata": {},
   "outputs": [
    {
     "name": "stdout",
     "output_type": "stream",
     "text": [
      "0\tSociologie je studium vývoje politiky.\r\n",
      "1\tSammy Cahn byl americký hudebník narozený v roce 1913.\r\n"
     ]
    }
   ],
   "source": [
    "!head -n 2 /mnt/data/factcheck/fever/data_titles-cs/fever/dev_queries.tsv"
   ]
  },
  {
   "cell_type": "code",
   "execution_count": null,
   "metadata": {},
   "outputs": [],
   "source": []
  },
  {
   "cell_type": "code",
   "execution_count": 28,
   "metadata": {},
   "outputs": [
    {
     "name": "stdout",
     "output_type": "stream",
     "text": [
      "{\"id\": 207746, \"verifiable\": \"VERIFIABLE\", \"label\": \"SUPPORTS\", \"claim\": \"Sammy Cahn byl americky\\u0301 hudebni\\u0301k narozeny\\u0301 v roce 1913.\", \"evidence\": [[[245753, 246454, \"Sammy Cahn\", 0, \"Sammy Cahn\"]]], \"claim_en\": \"Sammy Cahn was an American musician born in 1913.\", \"predicted_pages\": [\"Sammy Cahn\", \"Sammy Davis mlads\\u030ci\\u0301\", \"Al Cohn\", \"Jimmy Van Heusen\", \"Sammy Price\", \"Steve Khan\", \"Ed Shaughnessy\", \"Phil Cohran\", \"Zikmund Schul\", \"Sammy\", \"Artur Schnabel\", \"Harry Edison\", \"Sandy Siegelstein\", \"Vic Schoen\", \"Gunther Schuller\", \"Benny Carter\", \"James Cagney\", \"David Schildkraut\", \"Brad Mehldau\", \"Sun Ra\", \"Warren Covington\", \"Jimmy McHugh\", \"Jodie Christian\", \"Songwriters Hall of Fame\", \"Love and Marriage\", \"Miles Davis\", \"Eddie Heywood\", \"Hans Schimmerling\", \"Fletcher Henderson\", \"Phil Bodner\", \"Charlie Christian\", \"Kenny Clarke\", \"Eddie Davis\", \"Billy Cobham\", \"Sammy Nestico\", \"Milt Jackson\", \"Ronnie Deauville\", \"Frantis\\u030cek Man\\u030cas\", \"Claude Thornhill\", \"Al Jolson\", \"Andy Simpkins\", \"Joe Shulman\", \"Sahib Shihab\", \"Sam Jones (hudebni\\u0301k)\", \"Art Davis\", \"Sam Ulano\", \"Roland Hanna\", \"Sonny Rollins\", \"Rolf Ku\\u0308hn\", \"Jimmy Cleveland\", \"Jo Jones\", \"Woody Herman\", \"Marion Brown\", \"Frank Rehak\", \"Billy Mundi\", \"Jir\\u030ci\\u0301 Sehnal\", \"Ira Sullivan\", \"Fred Katz\", \"Archie Shepp\", \"Rahn Burton\", \"Joe Evans\", \"Benny Goodman\", \"Joe Wilder\", \"Frank Foster (hudebni\\u0301k)\", \"Walter Kohn\", \"Hans Walter Su\\u0308sskind\", \"Jimmy Owens\", \"Glenn Miller\", \"Erno\\u030b Dohna\\u0301nyi\", \"Sonny Fortune\", \"Gershwinova cena\", \"Joe Sample\", \"Hampton Hawes\", \"Chick Corea\", \"Charles Sullivan\", \"S\\u030cura C\\u030cerkasskij\", \"Nat King Cole\", \"Les Spann\", \"George Benson\", \"Bobby Few\", \"Rahsaan Roland Kirk\", \"Matej Mohler\", \"Nat Peck\", \"Trigger Alpert\", \"Harry Carney\", \"Hadley Caliman\", \"James Spaulding\", \"Eddie Harris\", \"Eddie Costa\", \"Charles Davis (hudebni\\u0301k)\", \"Wynton Kelly\", \"Cab Calloway\", \"Cool jazz\", \"George Coleman\", \"Mort Shuman\", \"Alfred Mahovsky\", \"Buddy Montgomery\", \"Frantis\\u030cek Maxia\\u0301n\", \"Mousey Alexander\", \"Jimmy Cobb\", \"Frank Sinatra Jr.\", \"Stanislav Hojny\\u0301\", \"Frank Sinatra\", \"Julius Watkins\", \"Eddie Cochran\", \"Ervi\\u0301n Schulhoff\", \"Joe Williams\", \"Al Aarons\", \"Hans-Otto Borgmann\", \"Moisej Samuilovic\\u030c Vajnberg\", \"Sammy Hagar\", \"Max Roach\", \"Don Shirley\", \"Junior Collins\", \"George Gershwin\", \"Anthony Coleman\", \"Philly Joe Jones\", \"Al Haig\", \"Buddy Lucas\", \"Herman Hupfeld\", \"Sonny Sharrock\", \"Dewey Redman\", \"Ramsey Lewis\", \"Hans Kohn\", \"Frantis\\u030cek Chaun\", \"Circle in the Round\", \"Joachim Ku\\u0308hn\", \"Walter Davis, Jr.\", \"Yehudi Menuhin\", \"Melvin Rhyne\", \"Phineas Newborn\", \"Porgy and Bess (album, Miles Davis)\", \"Tommy Dorsey\", \"Taft Jordan\", \"Al Casey (jazzovy\\u0301 kytarista)\", \"Clifford Jordan\", \"Danny Bank\", \"Roy Eldridge\", \"John Carisi\", \"Marvin Stamm\", \"Juma Santos\", \"Sonny Greenwich\", \"Ronald Shannon Jackson\", \"Frank Capp\", \"Don Moye\", \"Herb Pomeroy\", \"Rudolf Serkin\", \"Kind of Blue\", \"Jimmy Maxwell\", \"Charlie Barnet\", \"Jimmy Dorsey\", \"Buster Cooper\", \"George Cables\", \"Claude Williamson\", \"Cal Lampley\", \"Martin Dohnal\", \"Monk Montgomery\", \"John Lewis (hudebni\\u0301k)\", \"Benny Powell\", \"Sonny Clark\", \"Elvin Jones\", \"Lionel Hampton\", \"Teddy Charles\", \"Sonny Lester\", \"Si\\u0301n\\u030c sla\\u0301vy Grammy\", \"Jimmy Jones (klavi\\u0301rista)\", \"Maria Hawkins Ellington\", \"Sam Jaffe\", \"Birth of the Cool\", \"Wayne Shorter\", \"Dean Martin\", \"Newportsky\\u0301 jazzovy\\u0301 festival\", \"Ornette Coleman\", \"Sonny Charles\", \"Werner Richard Heymann\", \"Kiane Zawadi\", \"Albert Ammons\", \"James Buffington\", \"Johnny Hodges\", \"Cedar Walton\", \"Stanislav Duchon\\u030c\", \"Bob Northern\", \"Camille Zeckwer\", \"Coleman Hawkins\", \"Glenn Miller Orchestra\", \"Gildo Mahones\", \"Sidney Bechet\", \"Garvin Bushell\", \"Frank Wess\", \"Johnny Mandel\", \"Harry James\", \"Charlie Huhn\", \"Lew Soloff\", \"Julius Hemphill\", \"Clifford Brown\", \"Miloslav Ducha\\u0301c\\u030c\", \"Otakar S\\u030ci\\u0301n\", \"Howard Rumsey\", \"Karel Kahovec\", \"Eddie Higgins\", \"Rat Pack\", \"Bill Tapia\", \"Ken Colyer\", \"Zdene\\u030ck Zouhar\", \"Johnny Coles\", \"Steve Coleman\", \"Frankie Dunlop\", \"So Much Guitar\", \"Manny Albam\", \"Fritz Weiss\", \"Oliver Nelson\", \"Franco Cerri\", \"Steve Davis (kontrabasista)\", \"Don Butterfield\", \"Charles Mingus\", \"Billy Eckstine\", \"Sopra\\u0301nsaxofon\", \"Oscar Brashear\", \"Sonny King\", \"Bags' Groove\", \"John Coltrane\", \"Isaac Stern\", \"Buck Clayton\", \"Mercer Ellington\", \"Joe Henderson\", \"Victor Gaskin\", \"Thad Jones\", \"Eberhard Schoener\", \"Jir\\u030ci\\u0301 Baz\\u030cant\", \"Hank Mobley\", \"Cootie Williams\", \"Mike Stern\", \"Frank Martin\", \"Don Bagley\", \"Toma\\u0301s\\u030c Schilla\", \"Connie Kay\", \"Don Ellis\", \"Albert Ayler\", \"Cotton Club\", \"Denny Zeitlin\", \"Buck Clarke\", \"Seznam jazzovy\\u0301ch kytaristu\\u030a\", \"Bob Florence\", \"Eddie Bert\", \"Ira Gershwin\", \"Billie Holiday\", \"Karel Husa\", \"Colin Davis\", \"Wolfgang Dauner\", \"Monty Sunshine\", \"Bessie Jones\", \"Bobby Bradford\", \"Count Basie\", \"Miles Ahead\", \"Bill Evans\", \"Frantis\\u030cek Sahula\", \"Randy Weston\", \"Rudolf S\\u030ctrubl\", \"Hush\", \"'Round About Midnight\", \"Louis Armstrong\", \"Barry Galbraith\", \"Gene Ammons\", \"Bob Belden\", \"Sonny Simmons\", \"Sopraninovy\\u0301 saxofon\", \"Al Foster\", \"Oscar Pettiford\", \"Frank Vicari\", \"Art Tatum\", \"Albert Dailey\", \"Swing (hudba)\", \"Ronnie Mathews\", \"Marty Napoleon\", \"Mieczys\\u0142aw Horszowski\", \"Buddy DeFranco\", \"George Snowden\", \"Denis Charles\", \"Ernie Royal\", \"Hank Garland\", \"Wallace Roney\", \"Billy Higgins\", \"Big band\", \"Don Byas\", \"Pete Jolly\", \"Frank Gambale\", \"Lee Morgan\", \"Al Porcino\", \"Symfonie c\\u030c. 4 (Martinu\\u030a)\", \"Frantis\\u030cek Man\\u030cas ml.\", \"Harold Ivory Williams\", \"Sunny Murray\", \"Bob Cranshaw\", \"Rudolf Kohn\", \"Walter Benton\", \"Gil Evans\", \"Lol Coxhill\", \"In a Silent Way\", \"Jack DeJohnette\", \"Martial Solal\", \"Symfonie c\\u030c. 11\", \"Josef Procha\\u0301zka\", \"Jir\\u030ci\\u0301 Mihule\", \"Gene Krupa\", \"Charles Fowlkes\", \"Garnett Brown\", \"Karol Szymanowski\", \"Seznam hudebni\\u0301ku\\u030a okolo Franka Zappy\", \"Leroy Jenkins\", \"Popula\\u0301rni\\u0301 hudba\", \"Acker Bilk\", \"Roger Humphries\", \"Buell Neidlinger\", \"Lee Konitz\", \"Josef Boha\\u0301c\\u030c (skladatel)\", \"Frantis\\u030cek Vajnar\", \"Music from Siesta\", \"Al Harewood\", \"Sonny Boy\", \"Pierre Michelot\", \"Arnos\\u030ct Caha\", \"Richard Davis (hudebni\\u0301k)\", \"Nine on a Ten Scale\", \"Barney Wilen\", \"Eddie Money\", \"Curtis Fuller\", \"Tommy Whittle\", \"Pete Fountain\", \"MGM Records\", \"Carl Davis\", \"Eric Dolphy\", \"Ted Curson\", \"Symfonie c\\u030c. 12\", \"Muhal Richard Abrams\", \"Ladislav R. Schramm\", \"Get Up with It\", \"George Wallington\", \"Ray Brown (hudebni\\u0301k)\", \"Tommy Marth\", \"Walter Perkins\", \"Leland Sklar\", \"Wihanovo kvarteto\", \"Diskografie Nat King Colea\", \"Irving Berlin\", \"Tadd Dameron\", \"1958 Miles\", \"Dick Hyman\", \"Symfonie c\\u030c. 3 (Martinu\\u030a)\", \"Even Cowgirls Get the Blues\", \"Bobby Bryant\", \"Tony Coe\", \"Stan Tracey\", \"Steamin' with the Miles Davis Quintet\", \"Jaroslav Jan Caha\", \"Bill Evans (saxofonista)\", \"Malachi Favors\", \"Don Sebesky\", \"Alun Hoddinott\", \"J. J. Johnson\", \"Paul Desmond\", \"Mike Zwerin\", \"Bernt Rosengren\", \"Billy Taylor\", \"Jake Hanna\", \"Steve Grossman (saxofonista)\", \"Jack Schroer\", \"Tommy Flanagan (hudebni\\u0301k)\", \"Swing Rhythm\", \"Sonny Stitt\", \"Howard McGhee\", \"Jimmy Woode\", \"Big Fun (album, Miles Davis)\", \"Roy McCurdy\", \"Willi Apel\", \"Eddie Kaye\", \"Mickey Roker\", \"Azar Lawrence\", \"Arturo Toscanini\", \"Borah Bergman\", \"Leonard Rosenman\", \"Ferdinand Havli\\u0301k\", \"Violoncello\", \"Tina Brooks\", \"Sandy Nelson\", \"Bobby Timmons\", \"Jon Faddis\", \"Jay Migliori\", \"Thelonious Monk\", \"Harry Partch\", \"Jazzovy\\u0301 zpe\\u030cva\\u0301k\", \"Jaroslav Mas\\u030ctali\\u0301r\\u030c\", \"Willie Akins\", \"Jose\\u0301 Iturbi\", \"Charlie McCoy\", \"Kvartet (skladba)\", \"Walter Kaufmann (skladatel)\", \"Sammy Voma\\u0301c\\u030cka\", \"Hudba 20. stoleti\\u0301\", \"John Scofield\", \"Seven Steps to Heaven\", \"Big Mama Thornton\", \"Michael Henderson\", \"Water Babies\", \"Sam Most\", \"Aura (album, Miles Davis)\", \"Sabu Martinez\", \"Dexter Gordon\", \"Kaikhosru Shapurji Sorabji\", \"Vladimi\\u0301r Z\\u030cupan\", \"James Simon\", \"Harold Ousley\", \"Luther Henderson\", \"Carlo Krahmer\", \"Harold Mabern\", \"Ross Tompkins\", \"Bob Carter\", \"Von Freeman\", \"Doo-Bop\", \"Josef Stanislav\", \"Herbie Fields\", \"Oliver Jackson\", \"Ragtime (film)\", \"Charlie Haden\", \"Shorty Rogers\", \"Sammy Lee\", \"Collin Walcott\", \"Jerome Kern\", \"The Man with the Horn\", \"Gary McFarland\", \"Bohumil Smejkal\", \"Samuel Barber\", \"Va\\u0301clav Junek (trumpetista)\", \"Lawrence Lucie\", \"Martin Bo\\u0308ttcher\", \"Hank Jones\", \"Nat Temple\", \"Jamil Nasser\", \"Someday My Prince Will Come\", \"Barry Altschul\", \"Miles Smiles\", \"Einojuhani Rautavaara\", \"Vlastimil Lejsek\", \"Dominique Gaumont\", \"Brne\\u030cnsky\\u0301 rozhlasovy\\u0301 orchestr\", \"Milan Kas\\u030cuba\", \"Zoot Sims\", \"Bill Mays\", \"Giulio Caccini\", \"Modal jazz\", \"Star People\", \"Jan Schneeweis\", \"1947 v hudbe\\u030c\", \"Jazzovy\\u0301 standard\", \"Agharta\", \"Finer Moments\", \"Jan Uhli\\u0301r\\u030c (skladatel)\", \"Zdene\\u030ck Kan\\u030ca\\u0301k\", \"Frantis\\u030cek Schramm\", \"A Tribute to Miles\", \"Richard Williams (hudebni\\u0301k)\", \"Ron Carter\", \"Gunter Hampel\", \"Stu Williamson\", \"Nelson Boyd\", \"Anthony Braxton\", \"Tony Williams\", \"Lucky Millinder\", \"Sonny Russo\", \"Krzysztof Komeda\", \"Booker Little\", \"Floyd Cramer\", \"Ahmad Jamal\", \"Jir\\u030ci\\u0301 Smutny\\u0301\", \"Grand Theft Autumn/Where is Your Boy\", \"Sopranissimovy\\u0301 saxofon\", \"Garrick Ohlsson\", \"Al Minns\", \"Woody Shaw\", \"Bill Pitman\", \"Jaroslav Mihule\", \"Miles in the Sky\", \"Joe Muranyi\", \"Joe South\", \"Steve Berrios\", \"Diskografie Franka Zappy\", \"Rudolf Vohanka\", \"Diskografie Small Faces\", \"Duke Ellington\", \"George Russell\", \"Psychedelicka\\u0301 hudba\", \"Sketches of Spain\", \"Elmer Bernstein\", \"Jazz dance\", \"Jazz from Hell\", \"Willie Ruff\", \"Karl Scheit\", \"Josef Can\\u030cka\\u0301r\\u030c\", \"Bitches Brew\", \"Decoy\", \"Jamey Aebersold\"]}\r\n"
     ]
    }
   ],
   "source": [
    "!head -n 1 /mnt/data/factcheck/fever/data_titles-cs/predictions/dev_two_tower_mbert_finetuned_best_ict_NFC_NFC_k500.jsonl"
   ]
  },
  {
   "cell_type": "code",
   "execution_count": 30,
   "metadata": {},
   "outputs": [
    {
     "name": "stdout",
     "output_type": "stream",
     "text": [
      "{\"id\": 207746, \"verifiable\": \"VERIFIABLE\", \"label\": \"SUPPORTS\", \"claim\": \"Sammy Cahn byl americký hudebník narozený v roce 1913.\", \"evidence\": [[[245753, 246454, \"Sammy Cahn\", 0, \"Sammy Cahn\"]]], \"claim_en\": \"Sammy Cahn was an American musician born in 1913.\", \"predicted_pages\": [\"Sammy Cahn\", \"Sammy Davis mladší\", \"Sammy Price\", \"Al Cohn\", \"Jimmy Van Heusen\", \"Sammy Nestico\", \"Sammy\", \"Benny Carter\", \"Steve Khan\", \"Miles Davis\", \"Harry Edison\", \"Ed Shaughnessy\", \"Phil Cohran\", \"Andy Simpkins\", \"Walter Davis, Jr.\", \"Fletcher Henderson\", \"Jimmy Cobb\", \"Louis Armstrong\", \"Charlie Christian\", \"Sidney Bechet\", \"Ronnie Deauville\", \"Juma Santos\", \"Les Spann\", \"Sun Ra\", \"Charlie Barnet\", \"Vic Schoen\", \"Ira Sullivan\", \"Love and Marriage\", \"Joe Evans\", \"Al Jolson\", \"Nat King Cole\", \"Art Davis\", \"Eddie Davis\", \"Zikmund Schul\", \"Kaleidoscope (americká hudební skupina)\", \"Warren Covington\", \"David Schildkraut\", \"Jodie Christian\", \"Al Casey (jazzový kytarista)\", \"Lee Konitz\", \"Red Garland\", \"Pierre Schaeffer\", \"Tommy Dorsey\", \"Artur Schnabel\", \"Trigger Alpert\", \"Harry James\", \"Cal Tjader\", \"George Coleman\", \"Gunther Schuller\", \"Sonny Stitt\", \"Bags' Groove\", \"Joe Sample\", \"Kontrabassaxofon\", \"Coleman Hawkins\", \"Frank Sinatra\", \"Jack DeJohnette\", \"Rahsaan Roland Kirk\", \"Taft Jordan\", \"Birth of the Cool\", \"Walter Benton\", \"Jo Jones\", \"Šura Čerkasskij\", \"Dexter Gordon\", \"Joe Williams\", \"Don Byas\", \"Sabu Martinez\", \"Sammy Lee\", \"Thelonious Monk\", \"Art Tatum\", \"Charles Davis (hudebník)\", \"Dixieland\", \"Jimmy Jones (klavírista)\", \"Sonny Rollins\", \"Diskografie Franka Zappy\", \"George Russell\", \"Big Fun (album, Miles Davis)\", \"Sopránsaxofon\", \"Plas Johnson\", \"Nat Peck\", \"Roland Hanna\", \"Joe Shulman\", \"Cal Lampley\", \"MGM Records\", \"Swing (hudba)\", \"Glenn Miller\", \"Don Shirley\", \"Ornette Coleman\", \"Trance-Fusion\", \"Julius Watkins\", \"Richard Davis (hudebník)\", \"Clifford Jordan\", \"Sonny Clark\", \"Kenny Clarke\", \"Benny Goodman\", \"Ronnie Mathews\", \"František Maxián\", \"Roy Eldridge\", \"Benny Powell\", \"Joe Dassin\", \"Billie Holiday\", \"Wayne Shorter\", \"Oliver Nelson\", \"Jimmy Dorsey\", \"James Spaulding\", \"Count Basie\", \"Sammy Hagar\", \"Wade Legge\", \"Tommy Whittle\", \"Ramsey Lewis\", \"Son (hudba)\", \"J. J. Johnson\", \"Jimmy Giuffre\", \"John Scofield\", \"Don Ellis\", \"Cool jazz\", \"Hans Walter Süsskind\", \"Sam Ulano\", \"Teddy Charles\", \"Tommy Flanagan (hudebník)\", \"Phil Bodner\", \"George Gershwin\", \"Sonny Greenwich\", \"Tina Sinatra\", \"Charles Sullivan\", \"Seznam děl Clauda Debussyho\", \"Jan Schneeweis\", \"Dechová kapela\", \"Brad Mehldau\", \"Maria Hawkins Ellington\", \"Manny Albam\", \"Harry Carney\", \"Danny Bank\", \"Thad Jones\", \"Buddy DeFranco\", \"Bill Evans\", \"Art Garfunkel\", \"Don Moye\", \"James Simon\", \"Richard Williams (hudebník)\", \"Victor Gaskin\", \"Hampton Hawes\", \"Sam Jones (hudebník)\", \"Porgy and Bess (album, Miles Davis)\", \"Columbia Records\", \"Eddie DeLange\", \"Tradiční jazz\", \"Archie Shepp\", \"Freddie Hubbard\", \"Woody Herman\", \"Bernard Haitink\", \"Bill Johnson (hudebník)\", \"Jazzstep\", \"Rolf Kühn\", \"Jazz\", \"Jay Migliori\", \"Circle in the Round\", \"Jan Uhlíř (skladatel)\", \"Frank Sinatra Jr.\", \"Denis Charles\", \"Atlantic Records\", \"Jerry Dodgion\", \"Walter Paul\", \"Milestone Records\", \"Billy Taylor\", \"Badal Roy\", \"Charles Fowlkes\", \"Dewey Redman\", \"Frank Foster (hudebník)\", \"Psychedelická hudba\", \"Altsaxofon\", \"Tony Coe\", \"Jimmy Cleveland\", \"Mercer Ellington\", \"Cedar Walton\", \"Stan Tracey\", \"Frank Capp\", \"Joe Wilder\", \"Tony Williams\", \"Martial Solal\", \"George Benson\", \"Duke Ellington\", \"Bill Evans (saxofonista)\", \"Bob Florence\", \"Judy Garlandová\", \"Tradicionál\", \"Joe Farrell\", \"Sonny Fortune\", \"Sketches of Spain\", \"Don Butterfield\", \"Pete Jolly\", \"Cootie Williams\", \"Sammy Vomáčka\", \"Pete Rugolo\", \"Chick Corea\", \"Claude Thornhill\", \"Al Haig\", \"Philly Joe Jones\", \"John Carisi\", \"Bud Shank\", \"Ahmad Jamal\", \"Eddie Heywood\", \"Milt Jackson\", \"Bob Chester\", \"John Lewis (hudebník)\", \"Burt Bacharach\", \"Junior Collins\", \"Art Taylor\", \"Gershwinova cena\", \"Louis Chauvin\", \"Billy Cobham\", \"John Coltrane\", \"John Sebastian\", \"Chunga's Revenge\", \"Azar Lawrence\", \"1943 v hudbě\", \"Dean Martin\", \"Leroy Williams\", \"Buddy Montgomery\", \"Sopraninový saxofon\", \"Al Aarons\", \"Tenorsaxofon\", \"Modal jazz\", \"Olivier Messiaen\", \"Jimmy Maxwell\", \"Bob Brookmeyer\", \"Luboš Zajíček\", \"Little Walter\", \"Frank Rehak\", \"Ernő Dohnányi\", \"Herbie Fields\", \"Clifford Brown\", \"Steamin' with the Miles Davis Quintet\", \"Miles Ahead\", \"Phineas Newborn\", \"Gil Evans\", \"Rat Pack\", \"Georges Arvanitas\", \"John Jenkins (hudebník)\", \"Nine on a Ten Scale\", \"Charles Lloyd (hudebník)\", \"Buddy Johnson\", \"Decoy\", \"CTI Records\", \"Phạm Duy\", \"Harold Vick\", \"1940 v hudbě\", \"Sonny Sharrock\", \"Zvukový inženýr\", \"Hans Schimmerling\", \"Glenn Miller Orchestra\", \"Leroy Jenkins\", \"Bud Powell\", \"Strictly Commercial\", \"Don Sebesky\", \"Marion Brown\", \"Monk Montgomery\", \"1944 v hudbě\", \"Al De Lory\", \"Latin jazz\", \"Jimmy Woode\", \"Frank Vicari\", \"Max Roach\", \"Alun Hoddinott\", \"Seznam hudebníků okolo Franka Zappy\", \"Jan Šoupal\", \"Sonny Simmons\", \"Albert Dailey\", \"Barney Wilen\", \"Shirley Scott\", \"1941 v hudbě\", \"Anthony Coleman\", \"Eric Dolphy\", \"Walter Kohn\", \"Harold Ivory Williams\", \"Roy Haynes\", \"Butch Warren\", \"Charles Mingus\", \"Maurice Ravel\", \"John Carter (hudebník)\", \"Swing (tanec)\", \"David Benoit\", \"Big band\", \"Bobby Bradford\", \"Randy Weston\", \"Them or Us\", \"Collin Walcott\", \"Julius Hemphill\", \"Natalie Coleová\", \"Eddie Palmieri\", \"Tommy Tedesco\", \"Saxofon\", \"Paul Simon\", \"Sandy Siegelstein\", \"Eddie Lang\", \"1911 v hudbě\", \"Nelson Boyd\", \"Sunny Murray\", \"Billy Mundi\", \"Basklarinet\", \"Bassaxofon\", \"1942 v hudbě\", \"Buddy Rich\", \"František Uhlíř (hudebník)\", \"Krzysztof Komeda\", \"Sonny Lester\", \"Marvin Stamm\", \"Bob Carter\", \"Populární hudba\", \"Orchestral Favorites\", \"Arturo Toscanini\", \"Mel Schacher\", \"Walter Perkins\", \"William Walton\", \"Lalo Schifrin\", \"Lionel Hampton\", \"James Cagney\", \"Scott Joplin\", \"Kind of Blue\", \"Rudolf Chlup\", \"Tommy Cogbill\", \"Lawrence Lucie\", \"José Iturbi\", \"1946 v hudbě\", \"Ralph Sharon\", \"Al Foster\", \"Jazz from Hell\", \"Ira Gershwin\", \"Kvartet\", \"Bruno Walter\", \"Jazzový zpěvák\", \"Ray Brown (hudebník)\", \"František Cink\", \"Frank Wess\", \"Serge Gainsbourg\", \"Toots Thielemans\", \"Populární hudba současnosti\", \"Sonny Russo\", \"Rahn Burton\", \"Seznam jazzových kytaristů\", \"Alan Hovhaness\", \"Don Friedman\", \"Diskografie Nat King Colea\", \"Pat Metheny\", \"Jazz dance\", \"Songwriters Hall of Fame\", \"Don Kirshner\", \"Jan Sochor (hudebník)\", \"1947 v hudbě\", \"Alois Sarauer\", \"Samuil Fejnberg\", \"Lucky Millinder\", \"Sahib Shihab\", \"Eddie Harris\", \"1937 v hudbě\", \"Kaleidoscope\", \"1912 v hudbě\", \"Melvin Rhyne\", \"Mary Lou Williams\", \"Carlos Garnett\", \"Jazz-funk\", \"Harold Ousley\", \"Lew Soloff\", \"Ludvig Schytte\", \"Franco Cerri\", \"Michael Henderson\", \"Sonny Red\", \"Aura (album, Miles Davis)\", \"Wallace Roney\", \"Woody Shaw\", \"Eddie Marshall\", \"Frank Zappa\", \"Cecil Payne\", \"Don Bagley\", \"Cole Porter\", \"James Scott (hudebník)\", \"Sonny Phillips\", \"Rock &amp; Roll (album, Vanilla Fudge)\", \"Johnny Mandel\", \"In San Francisco\", \"Violoncello\", \"Stan Getz\", \"Swing Rhythm\", \"Buddy Lucas\", \"1939 v hudbě\", \"Sam Loyd\", \"Ken Colyer\", \"Garvin Bushell\", \"Bobby Bryant\", \"Artie Shaw\", \"Karel Husa\", \"Lol Coxhill\", \"Ted Curson\", \"Steve Coleman\", \"Dizzy Gillespie\", \"Howard Rumsey\", \"Sam Most\", \"Hans-Otto Borgmann\", \"Jesse Fuller\", \"Acker Bilk\", \"Oliver Jackson\", \"Frankie Dunlop\", \"Jamil Nasser\", \"Benny Andersson\", \"Ben Riley\", \"Jamaaladeen Tacuma\", \"Benny Golson\", \"Josef Procházka\", \"1913 v hudbě\", \"Anthony Braxton\", \"Good Singin', Good Playin'\", \"Gary Burton\", \"Jerome Richardson\", \"Steve Kuhn\", \"Al Porcino\", \"1922 v hudbě\", \"Phil Ramone\", \"Joe Jordan (hudebník)\", \"JJ Cale\", \"Walter Norris\", \"Clark Terry\", \"Rudolf Štrubl\", \"Bob Belden\", \"1920 v hudbě\", \"Bessie Smith\", \"Lee Morgan\", \"1914 v hudbě\", \"Joe Diorio\", \"Al Jackson, Jr.\", \"Bill Summers (hudebník)\", \"Jan Rychlík (skladatel)\", \"Tony Terran\", \"'Round About Midnight\", \"Pete Fountain\", \"Frantz Casseus\", \"Lou Marini\", \"Sax\", \"Coleridge Goode\", \"1915 v hudbě\", \"1945 v hudbě\", \"Impulse! Records\", \"Selwyn Baptiste\", \"Eddie Costa\", \"Roy Acuff\", \"Simon Waronker\", \"Hadley Caliman\", \"Tradiční pop\", \"Charles Williams (hudebník)\", \"Seznam hudebních stylů\", \"Kiane Zawadi\", \"Bitches Brew\", \"Wolfgang Dauner\", \"Music from Siesta\", \"1910 v hudbě\", \"1931 v hudbě\", \"Snuff Garrett\", \"Sonáta\", \"Creed Taylor\", \"Diskografie Phila Manzanery\", \"1932 v hudbě\", \"Claude Debussy\", \"Síň slávy Grammy\", \"Charlie Haden\", \"Joe Henderson\", \"Ragtime (rozcestník)\", \"John Patitucci\", \"Al Jarreau\", \"1958 Miles\", \"Tina Brooks\", \"Shorty Baker\", \"The Silhouettes\", \"1936 v hudbě\", \"Vic Damone\", \"Max Bennett\", \"Chris White (kontrabasista)\", \"Elvin Jones\", \"Art Blakey\", \"Al Casey (kytarista)\", \"Steve Swallow\", \"Sheila Jordan\", \"Takin' Off\", \"Jaroslav Uhlíř\", \"Hound Dog Taylor\", \"Otis Spann\", \"Jimmy Owens\", \"Buster Cooper\", \"Ray Mantilla\", \"Hank Garland\", \"Louis Prima\", \"Dechová harmonie\", \"Syntezátor\", \"Wynton Marsalis\", \"Art Tripp\", \"Agharta\", \"Andrés Segovia\", \"Bob Cranshaw\", \"Jimmy McHugh\", \"Ben Kynard\", \"Sonny Charles\", \"Harry Partch\", \"Sekunda (hudba)\"]}\r\n"
     ]
    }
   ],
   "source": [
    "!head -n 1 /mnt/data/factcheck/fever/data_titles-cs/predictions/dev_two_tower_mbert_finetuned_best_ict_1.3_NFC_NFC_k500.jsonl"
   ]
  },
  {
   "cell_type": "code",
   "execution_count": null,
   "metadata": {},
   "outputs": [],
   "source": []
  },
  {
   "cell_type": "code",
   "execution_count": 29,
   "metadata": {},
   "outputs": [
    {
     "name": "stdout",
     "output_type": "stream",
     "text": [
      "{\"id\": 207746, \"verifiable\": \"VERIFIABLE\", \"label\": \"SUPPORTS\", \"claim\": \"Sammy Cahn byl americký hudebník narozený v roce 1913.\", \"evidence\": [[[245753, 246454, \"Sammy Cahn\", 0, \"Sammy Cahn\"]]], \"claim_en\": \"Sammy Cahn was an American musician born in 1913.\", \"predicted_pages\": [\"Sammy Cahn\", \"Al Cohn\", \"Sammy Davis mladší\", \"Rolf Kühn\", \"Benny Carter\", \"Steve Khan\", \"Warren Covington\", \"Jimmy Van Heusen\", \"Arthur Rubinstein\", \"Bobby Few\", \"Sammy Price\", \"Woody Herman\", \"Sammy Nestico\", \"Phil Cohran\", \"Harry Carney\", \"Vic Schoen\", \"Joachim Kühn\", \"Jimmy McHugh\", \"Walter Kohn\", \"Dave McKenna\", \"Les McCann\", \"Don Kirshner\", \"Willie Ruff\", \"Fred Katz\", \"Sabu Martinez\", \"Alvin Curran\", \"Herbert von Karajan\", \"Eddie Heywood\", \"Sahib Shihab\", \"Harry Edison\", \"Gildo Mahones\", \"Benny Golson\", \"Billy Mundi\", \"Artur Schnabel\", \"John Coltrane\", \"André Previn\", \"Kiane Zawadi\", \"Paul Desmond\", \"George Coleman\", \"Connie Kay\", \"Rahn Burton\", \"Sam Jaffe\", \"Plas Johnson\", \"Harold Mabern\", \"Elmer Bernstein\", \"Otto Kohn\", \"Rudolf Serkin\", \"James Buffington\", \"Lee Konitz\", \"Al McKibbon\", \"Pachanga\", \"Al Casey (jazzový kytarista)\", \"Heinrich Schenker\", \"Danny Bank\", \"František Maxián\", \"Alan Hovhaness\", \"John Cage\", \"Joe Shulman\", \"Al Aarons\", \"Frank Sinatra\", \"Al Porcino\", \"John Carter (hudebník)\", \"Jimmy Cobb\", \"Sammy\", \"Joe Sample\", \"Miles Davis\", \"John Scofield\", \"Kenny Clarke\", \"Coleman Hawkins\", \"Archie Shepp\", \"Ira Sullivan\", \"Woody Shaw\", \"John McCabe\", \"Manny Albam\", \"Isaac Stern\", \"Eddie Cochran\", \"Tradicionál\", \"Julius Kalaš\", \"Frank Rehak\", \"Buck Clarke\", \"Eddie Kaye\", \"Rudolf Kohn\", \"Henryk Szeryng\", \"Leonard Bernstein\", \"Charlie Christian\", \"Nat King Cole\", \"Garvin Bushell\", \"Hans Kohn\", \"Don Butterfield\", \"Cal Tjader\", \"Aaron Copland\", \"Al Haig\", \"Rahsaan Roland Kirk\", \"Ray Conniff\", \"Zdeněk Kaňák\", \"Max Roach\", \"Johnny Smith (varhaník)\", \"Jimmy Jones (klavírista)\", \"Carlos Garnett\", \"Ramsey Lewis\", \"Altsaxofon\", \"Ernő Dohnányi\", \"Harold Ousley\", \"Bob Carter\", \"Olexandr Košyc\", \"Abu Talib\", \"Rudolf Kolisch\", \"Sonny Rollins\", \"Billy Cobham\", \"Art Tatum\", \"Carl Orff\", \"Love and Marriage\", \"Sergej Rachmaninov\", \"Gunther Schuller\", \"Frank Capp\", \"Pierre Schaeffer\", \"Josef Kalach\", \"Claudio Arrau\", \"Earl Klugh\", \"Lalo Schifrin\", \"Bud Shank\", \"Phineas Newborn\", \"Georges Arvanitas\", \"Paul Shapiro (hudebník)\", \"Victor Gaskin\", \"Harry Belafonte\", \"King Fleming\", \"Omni Trio\", \"Fletcher Henderson\", \"Wilhelm Kempff\", \"Don Cherry (hudebník)\", \"Seznam klavíristů\", \"Chick Corea\", \"Andy Simpkins\", \"José Iturbi\", \"Werner Richard Heymann\", \"Louis Mucci\", \"Howard McGhee\", \"Simon Waronker\", \"Síň slávy Grammy\", \"Cole Porter\", \"Karl Kohn\", \"Frankie Avalon\", \"Eddie Davis\", \"Ornette Coleman\", \"Bob Cranshaw\", \"Barney Wilen\", \"Ed Blackwell\", \"Zikmund Schul\", \"Gary Burton\", \"Thelonious Monk\", \"Karl Böhm\", \"Rudolf Kende\", \"Jaroslav Kocian\", \"Art Davis\", \"Conrado del Campo\", \"Arnold Schoenberg\", \"James Caan\", \"Ravi Coltrane\", \"Maurice Ravel\", \"Sergej Prokofjev\", \"Leo McCarey\", \"Jan Kühn\", \"Elvin Jones\", \"Roy Haynes\", \"Viktor Kosenko\", \"Jimmy Woode\", \"Tony Coe\", \"Cal Lampley\", \"Seznam skladeb Arnolda Baxe\", \"Bruno Walter\", \"Oscar Pettiford\", \"David Schildkraut\", \"Gene Ammons\", \"Natan Leon Kohn\", \"Václav Kafka\", \"Benjamin Britten\", \"Frank Vicari\", \"Jimmy Durante\", \"John Jenkins (hudebník)\", \"Rudolf Schwarz (dirigent)\", \"George Crumb\", \"Oscar Hammerstein II\", \"Hugh McCracken\", \"Jerome Kern\", \"George Gershwin\", \"František Kaván (hudebník)\", \"Eddie Cantor\", \"Felix Salzer\", \"Joseph Kohn\", \"Stan Kenton\", \"Warne Marsh\", \"Pavel Kühn\", \"František Cink\", \"Steve Coleman\", \"Varhaník\", \"Tony Terran\", \"Todd Barkan\", \"Ira Gershwin\", \"Julius Watkins\", \"Sam Ulano\", \"Louis Prima\", \"Howard Rumsey\", \"Pablo Casals\", \"Chayanne\", \"Ivo Kahánek\", \"Charles Thompson\", \"František Schäfer\", \"Louis Armstrong\", \"Red Garland\", \"1. ročník udělování cen Grammy\", \"Mike Zwerin\", \"Joe Henderson\", \"Alan Menken\", \"Sonny Sharrock\", \"Paul Kohner\", \"Alexandr Nikolajevič Skrjabin\", \"Arturo Toscanini\", \"John H. Hammond\", \"Charlie Barnet\", \"Ervín Schulhoff\", \"Jimmy Owens\", \"Leroy Jenkins\", \"Frankie Knuckles\", \"Roy Acuff\", \"Jimmy Giuffre\", \"Charles Sullivan\", \"Dewey Redman\", \"Melvin Rhyne\", \"John Tchicai\", \"Albert Schweitzer\", \"Eric Dolphy\", \"Kalaparusha Maurice McIntyre\", \"Šura Čerkasskij\", \"John Lewis (hudebník)\", \"Anthony Coleman\", \"Yo-Yo Ma\", \"Muhal Richard Abrams\", \"Eddie Palmieri\", \"Walter Benton\", \"Doc Severinsen\", \"Count Basie\", \"Junior Mance\", \"Hans Scharoun\", \"Danny Kaye\", \"Jimmy Hastings\", \"Leon Boruński\", \"Taft Jordan\", \"Josef Šimandl\", \"Leo Ornstein\", \"Isaac Jacob Schoenberg\", \"1912 v hudbě\", \"Artur Malawski\", \"Karl Scheit\", \"George Avakian\", \"Uri Caine\", \"Houston Person\", \"Ernie Royal\", \"Ron Carter\", \"Jimmy McCracklin\", \"Jaroslav Ježek\", \"Art Garfunkel\", \"Walter Kaufmann (skladatel)\", \"Jay Migliori\", \"Kohnova vila (Staré Splavy)\", \"Leo Wright\", \"Billy Eckstine\", \"Andrés Segovia\", \"František Chaun\", \"Lonnie Smith (hudebník)\", \"Alexandre Tansman\", \"Billy Strange\", \"Richard Davis (hudebník)\", \"Danny Kirwan\", \"Ben Riley\", \"Sam Most\", \"Sonny Fortune\", \"Jaroslav Křička\", \"Dimitri Tiomkin\", \"J. J. Johnson\", \"Steve McCall\", \"Diskografie Nat King Colea\", \"Hadley Caliman\", \"Sidney Bechet\", \"Franco Cerri\", \"Steve Davis (kontrabasista)\", \"Anthony Braxton\", \"Johnny Griffin\", \"Ron McKernan\", \"Karel Böhm (skladatel)\", \"Marvin Hamlisch\", \"Bobby Keys\", \"Roy McCurdy\", \"Tadd Dameron\", \"Svatopluk Košvanec\", \"Pierre Cochereau\", \"Denny Zeitlin\", \"Bing Crosby\", \"Jan Panenka\", \"Tom McIntosh\", \"Ron McClure\", \"Modernistická hudba\", \"Hans Walter Süsskind\", \"Terry Riley\", \"Gheorghe Zamfir\", \"Clifford Brown\", \"Ottorino Respighi\", \"Edna Purviance\", \"Shorty Baker\", \"John Barry (skladatel)\", \"Sun Ra\", \"Collin Walcott\", \"Sonny Clark\", \"Arnošt Kavka\", \"Franco Alfano\", \"Rudolf Chlup\", \"Charles Davis (hudebník)\", \"Jimmy Cleveland\", \"Josef Böhm (hudebník)\", \"Julius Hemphill\", \"Mike Wofford\", \"Babyface\", \"Steve Kuhn\", \"Maurice Chevalier\", \"Alfred Einstein\", \"Ernst Křenek\", \"Harry Chapin\", \"Alfrēds Kalniņš\", \"Charles Mingus\", \"Buddy DeFranco\", \"Karel Kahovec\", \"Bob Northern\", \"Frank Foster (hudebník)\", \"Hans Ahlgrimm\", \"František Černý (1875–1958)\", \"Tubby Hayes\", \"Joe Zawinul\", \"Philly Joe Jones\", \"Sadao Watanabe\", \"Aram Chačaturjan\", \"James Simon\", \"Jindřich Kohn\", \"Kohn\", \"1936 v hudbě\", \"Teddy Wilson\", \"Buddy Lucas\", \"Leonard Feather\", \"Julius Schulhoff\", \"Gustav Křivinka\", \"Johnny Coles\", \"Wolfgang Dauner\", \"Latin jazz\", \"Joe Porcaro\", \"Expresionismus (hudba)\", \"Faruq Z. Bey\", \"Jazz dance\", \"Eddie Harris\", \"Wilbur Harden\", \"Ben Webster\", \"Compay Segundo\", \"Bob Hammer\", \"Jerome Robbins\", \"Frank Strozier\", \"Atahualpa Yupanqui\", \"Colin Davis\", \"Miroslav Kokoška\", \"Harry Partch\", \"Billy Taylor\", \"Tommy Whittle\", \"Tina Brooks\", \"Elliott Carter\", \"Cesare Siepi\", \"Bob Florence\", \"Ralph Sharon\", \"Maynard Ferguson\", \"Harold Vick\", \"Tommy Bolin\", \"Roman Blahník\", \"Jamil Nasser\", \"Willie Akins\", \"1913 v hudbě\", \"Adolphe Sax\", \"Junior Collins\", \"'Round About Midnight\", \"Jack DeJohnette\", \"1920 v hudbě\", \"René Leibowitz\", \"Jack Nimitz\", \"Eddie Money\", \"Arnold Bax\", \"Bix Beiderbecke\", \"Paul Zukofsky\", \"Don Randi\", \"Karel Košárek\", \"Garnett Brown\", \"George Benson\", \"Karel Černovský\", \"1916 v hudbě\", \"Johnny Hodges\", \"1914 v hudbě\", \"Jimmy McGriff\", \"Walter Davis, Jr.\", \"Hanuš Wihan\", \"Populární hudba současnosti\", \"Sonny Boy\", \"Gerald Strang\", \"Jiří Bažant\", \"Yehudi Menuhin\", \"Francisco Alonso\", \"Warren Zevon\", \"Sonny King\", \"Ernie Farrow\", \"Hudba 20. století\", \"Buddy Rich\", \"Tenorsaxofon\", \"Lennie Tristano\", \"Patrick Cowley\", \"Jan Uhlíř (skladatel)\", \"Lester Young\", \"Mashup\", \"Baltimora\", \"Ernest Paulin\", \"Isaac Kashdan\", \"Joe Albany\", \"Dion O'Banion\", \"Václav Bláha\", \"Pietro Mascagni\", \"Oscar Peterson\", \"Leonard Rosenman\", \"1937 v hudbě\", \"Othmar Schoeck\", \"Andy Kaufman\", \"Eduard Kühnl\", \"Rafael Schächter\", \"Lucky Thompson\", \"Hans Pfitzner\", \"Clark Terry\", \"The Cypress String Quartet\", \"Charlie Kaufman\", \"Bernie McGann\", \"Sammy Vomáčka\", \"Leonard Stein\", \"Alban Berg\", \"Carl Davis\", \"Jerome Richardson\", \"Ahmad Jamal\", \"Paul Sacher\", \"Babe Ruth\", \"Sam Jones (hudebník)\", \"Karl Hoschna\", \"Pere Miquel Marquès\", \"William Christie\", \"Tommy Turrentine\", \"Birth of the Cool\", \"Alois Reckendorf\", \"Ross Tompkins\", \"Max Dehn\", \"František Škvor\", \"Hank Garland\", \"Miroslav Hajn (tanečník)\", \"1915 v hudbě\", \"Karol Szymanowski\", \"1919 v hudbě\", \"Eddie Lang\", \"Ed Shaughnessy\", \"Rashied Ali\", \"Randy Weston\", \"1910 v hudbě\", \"Don Menza\", \"Julius Kocian\", \"Bobby Timmons\", \"Disco\", \"Roy Bargy\", \"1911 v hudbě\", \"Sonny Lester\", \"Mel Schacher\", \"Frico Kafenda\", \"Aldo Ciccolini\", \"William Bolcom\", \"Django Reinhardt\", \"Don Bagley\", \"Oliver Nelson\", \"Viktor Moučka\", \"Alan Bush\", \"Jazz fusion\", \"1935 v hudbě\", \"Sopraninový saxofon\", \"Fritz Kreisler\", \"Eugene Wright\", \"Emil Axman\", \"Orlando Cachaíto López\", \"Gary McFarland\", \"Gene Krupa\", \"The Man with the Horn\", \"Teddy Charles\", \"Ástor Piazzolla\", \"James Cagney\", \"Christian Wolff (skladatel)\", \"Václav Kašlík\", \"Horace Parlan\"]}\r\n"
     ]
    }
   ],
   "source": [
    "!head -n 1 /mnt/data/factcheck/fever/data_titles-cs/predictions/dev_two_tower_finetuned_mbert_10epochs_lr_1e-6_ict_1.4_NFC_NFC_k500.jsonl"
   ]
  },
  {
   "cell_type": "code",
   "execution_count": 22,
   "metadata": {},
   "outputs": [],
   "source": [
    "# path = '/mnt/data/factcheck/fever/data_titles-cs/predictions/dev_two_tower_finetuned_mbert_10epochs_lr_1e-6_ict_1.4_NFC_NFC_k500.jsonl'\n",
    "# with jsonlines.open(path, 'r') as fr:\n",
    "#         for l in fr:\n",
    "#             print(l)\n",
    "#             break"
   ]
  },
  {
   "cell_type": "code",
   "execution_count": 106,
   "metadata": {},
   "outputs": [
    {
     "name": "stdout",
     "output_type": "stream",
     "text": [
      "{'id': 206088, 'verifiable': 'NOT VERIFIABLE', 'label': 'NOT ENOUGH INFO', 'claim': 'Sociologie je studium vývoje politiky.', 'evidence': [], 'claim_en': 'Sociology is the study of politics development.'}\n"
     ]
    }
   ],
   "source": [
    "path = '/mnt/data/factcheck/fever/data-cs/fever-data/dev.jsonl'\n",
    "with jsonlines.open(path, 'r') as fr:\n",
    "        for l in fr:\n",
    "            print(l)\n",
    "            break"
   ]
  },
  {
   "cell_type": "code",
   "execution_count": 23,
   "metadata": {},
   "outputs": [
    {
     "data": {
      "text/plain": [
       "'Sociologie je studium vývoje politiky.'"
      ]
     },
     "execution_count": 23,
     "metadata": {},
     "output_type": "execute_result"
    }
   ],
   "source": [
    "dev_queries[0]"
   ]
  },
  {
   "cell_type": "markdown",
   "metadata": {},
   "source": [
    "# Create the prediction file"
   ]
  },
  {
   "cell_type": "code",
   "execution_count": 7,
   "metadata": {},
   "outputs": [],
   "source": [
    "if '/home/spaceape/drchajan/src/' not in sys.path:\n",
    "    sys.path.append('/home/spaceape/drchajan/src/')\n",
    "    \n",
    "if '/home/spaceape/drchajan/src/utils/' not in sys.path:\n",
    "    sys.path.append('/home/spaceape/drchajan/src/utils/')"
   ]
  },
  {
   "cell_type": "code",
   "execution_count": 8,
   "metadata": {},
   "outputs": [],
   "source": [
    "import json\n",
    "# from fever-baselines\n",
    "class Reader:\n",
    "    def __init__(self):\n",
    "        self.enc = \"utf-8\"\n",
    "\n",
    "    def read(self,file):\n",
    "        with open(file,\"r\", encoding = self.enc) as f:\n",
    "            return self.process(f)\n",
    "\n",
    "class JSONLineReader(Reader):                                                                                                                                                  \n",
    "    def process(self,fp):                                                                                                                                                      \n",
    "        data = []                                                                                                                                                              \n",
    "        for line in fp.readlines():                                                                                                                                            \n",
    "            data.append(json.loads(line.strip()))                                                                                                                              \n",
    "        return data   "
   ]
  },
  {
   "cell_type": "code",
   "execution_count": 9,
   "metadata": {},
   "outputs": [],
   "source": [
    "def read_tsv_col(path):\n",
    "    with open(path, 'r') as fr:\n",
    "        ids, data = [], []\n",
    "        for l in tqdm(fr.readlines()):\n",
    "            tmp = l.split('\\t')\n",
    "            if len(tmp) > 1:\n",
    "                ids.append(tmp[0].strip())\n",
    "                data.append(tmp[1].strip())\n",
    "            else:\n",
    "                print(f\"Problem -- only one value in {tmp}?\")\n",
    "    return ids, data\n",
    "\n",
    "def read_tsv_ranking(path):\n",
    "    with open(path, 'r') as fr:\n",
    "        data = []\n",
    "        for l in tqdm(fr.readlines()):\n",
    "            tmp = l.split('\\t')\n",
    "            query, doc = int(tmp[0].strip()), int(tmp[1].strip())\n",
    "            if len(data) == query:\n",
    "                data.append([doc])\n",
    "            else:\n",
    "                data[query].append(doc)\n",
    "    return data"
   ]
  },
  {
   "cell_type": "code",
   "execution_count": 10,
   "metadata": {},
   "outputs": [],
   "source": [
    "def updated_evaluation(pre_jsonl, post_jsonl, queries, ranking, k=500):\n",
    "    # TODO this is too SLOW! Work with batches!\n",
    "    jlr = JSONLineReader()\n",
    "    with open(pre_jsonl, \"r\") as f, open(post_jsonl, \"w+\") as fout:\n",
    "        for l in tqdm(jlr.process(f)):\n",
    "            if l[\"verifiable\"] == \"VERIFIABLE\":\n",
    "                claim = l[\"claim\"]\n",
    "                claim_id = queries.index(claim)\n",
    "                l[\"predicted_pages\"] = ranking[claim_id][:k]\n",
    "                fout.write(json.dumps(l, ensure_ascii=False) + \"\\n\")"
   ]
  },
  {
   "cell_type": "code",
   "execution_count": 13,
   "metadata": {},
   "outputs": [],
   "source": [
    "### CTK\n",
    "root = '/mnt/data/factcheck/CTK/dataset/v2.1/nfc'\n",
    "pre_dev_jsonl_path = os.path.join(root, 'dev.jsonl')\n",
    "pre_test_jsonl_path = os.path.join(root, 'test.jsonl')\n",
    "\n",
    "# dev_queries_path = os.path.join(root, 'dev_queries.tsv')\n",
    "# test_queries_path = os.path.join(root, 'test_queries.tsv')\n",
    "dev_queries_path = '/home/ryparmar/trained_models/colbert/data/dev_queries.tsv'\n",
    "test_queries_path ='/home/ryparmar/trained_models/colbert/data/test_queries.tsv'\n",
    "\n",
    "root_col = '/mnt/data/factcheck/CTK/par5'\n",
    "collection_path = os.path.join(root_col, 'interim', 'collection_filtered.tsv')\n",
    "idx2title_path = os.path.join(root_col, 'interim', 'old-id2new-id.tsv')\n",
    "\n",
    "dev_ranking_path = \"/home/ryparmar/trained_models/colbert/ctk-fever-v2.1/rerank.py/dev/ranking.tsv\"\n",
    "test_ranking_path = \"/home/ryparmar/trained_models/colbert/ctk-fever-v2.1/rerank.py/test/ranking.tsv\"\n",
    "\n",
    "post_dev_jsonl_path = os.path.join(root, 'predictions', 'dev_colbert_ctk+fever_k500.jsonl')\n",
    "post_test_jsonl_path = os.path.join(root, 'predictions', 'test_colbert_ctk+fever_k500.jsonl')"
   ]
  },
  {
   "cell_type": "code",
   "execution_count": 14,
   "metadata": {},
   "outputs": [
    {
     "name": "stderr",
     "output_type": "stream",
     "text": [
      "100%|██████████| 301/301 [00:00<00:00, 246146.52it/s]"
     ]
    },
    {
     "name": "stdout",
     "output_type": "stream",
     "text": [
      "Problem -- only one value in ['.\\n']?\n"
     ]
    },
    {
     "name": "stderr",
     "output_type": "stream",
     "text": [
      "\n"
     ]
    }
   ],
   "source": [
    "dev_queries = read_tsv_col(dev_queries_path)[1]"
   ]
  },
  {
   "cell_type": "code",
   "execution_count": 15,
   "metadata": {},
   "outputs": [
    {
     "name": "stderr",
     "output_type": "stream",
     "text": [
      "100%|██████████| 600/600 [00:00<00:00, 355198.65it/s]\n"
     ]
    }
   ],
   "source": [
    "test_queries = read_tsv_col(test_queries_path)[1]"
   ]
  },
  {
   "cell_type": "code",
   "execution_count": 16,
   "metadata": {},
   "outputs": [
    {
     "name": "stderr",
     "output_type": "stream",
     "text": [
      "100%|██████████| 300000/300000 [00:00<00:00, 642687.67it/s]\n",
      "100%|██████████| 300/300 [00:00<00:00, 9270.07it/s]\n",
      "100%|██████████| 600000/600000 [00:00<00:00, 783016.82it/s]\n",
      "100%|██████████| 600/600 [00:00<00:00, 8486.66it/s]\n"
     ]
    }
   ],
   "source": [
    "for ranking, pre_jsonl, post_jsonl, queries in zip([dev_ranking_path, test_ranking_path], \n",
    "                                                   [pre_dev_jsonl_path, pre_test_jsonl_path],\n",
    "                                                   [post_dev_jsonl_path, post_test_jsonl_path],\n",
    "                                                   [dev_queries, test_queries]):\n",
    "    ranking = read_tsv_ranking(ranking)\n",
    "\n",
    "    with open(idx2title_path) as fr:\n",
    "        idx2title = [l.split('\\t')[0].strip() for l in fr.readlines()]\n",
    "\n",
    "    predicted = [[idx2title[int(i)] for i in q] for q in ranking]\n",
    "    updated_evaluation(pre_jsonl, post_jsonl, queries, predicted)"
   ]
  },
  {
   "cell_type": "code",
   "execution_count": 60,
   "metadata": {},
   "outputs": [],
   "source": [
    "### FEVER\n",
    "root = '/mnt/data/factcheck/fever/data-cs/'\n",
    "pre_dev_jsonl_path = os.path.join(root, 'fever-data', 'dev.jsonl')\n",
    "# pre_test_jsonl_path = os.path.join(root, 'fever-data', 'test.jsonl')\n",
    "\n",
    "dev_queries_path = os.path.join(root, 'fever', 'dev_queries.tsv')\n",
    "# test_queries_path = os.path.join(root, 'fever', 'test_queries.tsv')\n",
    "\n",
    "collection_path = os.path.join(root, 'fever', 'fever.tsv')\n",
    "titles_path = os.path.join(root, 'fever', 'title_as_id_fever.tsv')\n",
    "\n",
    "dev_ranking_path = \"/home/ryparmar/trained_models/colbert/ctk-fever/retrieve.py/fever-dev/ranking.tsv\"\n",
    "\n",
    "post_dev_jsonl_path = os.path.join('/mnt/data/factcheck/fever/data_titles-cs/', 'predictions', 'dev_colbert_ctk+fever_k500.jsonl')"
   ]
  },
  {
   "cell_type": "code",
   "execution_count": 61,
   "metadata": {},
   "outputs": [
    {
     "name": "stderr",
     "output_type": "stream",
     "text": [
      "100%|██████████| 9999/9999 [00:00<00:00, 635706.75it/s]\n"
     ]
    }
   ],
   "source": [
    "dev_queries = read_tsv_col(dev_queries_path)[1]"
   ]
  },
  {
   "cell_type": "code",
   "execution_count": 62,
   "metadata": {},
   "outputs": [
    {
     "name": "stderr",
     "output_type": "stream",
     "text": [
      "100%|██████████| 9999000/9999000 [00:11<00:00, 834212.64it/s]\n",
      "100%|██████████| 9999/9999 [00:01<00:00, 6451.67it/s]\n"
     ]
    }
   ],
   "source": [
    "for ranking, pre_jsonl, post_jsonl, queries in zip([dev_ranking_path], \n",
    "                                                   [pre_dev_jsonl_path],\n",
    "                                                   [post_dev_jsonl_path],\n",
    "                                                   [dev_queries]):\n",
    "    ranking = read_tsv_ranking(ranking)\n",
    "\n",
    "    with open(titles_path) as fr:\n",
    "        titles = [l.split('\\t')[0].strip() for l in fr.readlines()]\n",
    "\n",
    "    predicted = [[titles[int(i)] for i in q] for q in ranking]\n",
    "    updated_evaluation(pre_jsonl, post_jsonl, queries, predicted)"
   ]
  },
  {
   "cell_type": "code",
   "execution_count": null,
   "metadata": {},
   "outputs": [],
   "source": []
  }
 ],
 "metadata": {
  "kernelspec": {
   "display_name": "Python 3",
   "language": "python",
   "name": "python3"
  },
  "language_info": {
   "codemirror_mode": {
    "name": "ipython",
    "version": 3
   },
   "file_extension": ".py",
   "mimetype": "text/x-python",
   "name": "python",
   "nbconvert_exporter": "python",
   "pygments_lexer": "ipython3",
   "version": "3.7.4"
  }
 },
 "nbformat": 4,
 "nbformat_minor": 2
}
