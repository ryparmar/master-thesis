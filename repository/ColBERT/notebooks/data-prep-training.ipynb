{
 "cells": [
  {
   "cell_type": "code",
   "execution_count": 1,
   "metadata": {},
   "outputs": [],
   "source": [
    "import transformers\n",
    "import sqlite3\n",
    "import jsonlines\n",
    "import random\n",
    "from tqdm import tqdm"
   ]
  },
  {
   "cell_type": "markdown",
   "metadata": {},
   "source": [
    "# Show the MSMARCO data format"
   ]
  },
  {
   "cell_type": "code",
   "execution_count": 2,
   "metadata": {},
   "outputs": [
    {
     "name": "stdout",
     "output_type": "stream",
     "text": [
      "collection.tar.gz  queries.dev.tsv   queries.train.tsv\r\n",
      "qrels.dev.tsv\t   queries.eval.tsv  triples.train.small.tar.gz\r\n",
      "qrels.train.tsv    queries.tar.gz    triples.train.small.tsv\r\n"
     ]
    }
   ],
   "source": [
    "!ls /home/ryparmar/MSMARCO-Passage-Ranking/"
   ]
  },
  {
   "cell_type": "code",
   "execution_count": 3,
   "metadata": {},
   "outputs": [
    {
     "name": "stdout",
     "output_type": "stream",
     "text": [
      "collection.tsv\u0000\u0000\u0000\u0000\u0000\u0000\u0000\u0000\u0000\u0000\u0000\u0000\u0000\u0000\u0000\u0000\u0000\u0000\u0000\u0000\u0000\u0000\u0000\u0000\u0000\u0000\u0000\u0000\u0000\u0000\u0000\u0000\u0000\u0000\u0000\u0000\u0000\u0000\u0000\u0000\u0000\u0000\u0000\u0000\u0000\u0000\u0000\u0000\u0000\u0000\u0000\u0000\u0000\u0000\u0000\u0000\u0000\u0000\u0000\u0000\u0000\u0000\u0000\u0000\u0000\u0000\u0000\u0000\u0000\u0000\u0000\u0000\u0000\u0000\u0000\u0000\u0000\u0000\u0000\u0000\u0000\u0000\u0000\u0000\u0000\u00000000777\u00000001750\u00000001750\u000026636750554\u000013400073633\u0000015704\u0000 0\u0000\u0000\u0000\u0000\u0000\u0000\u0000\u0000\u0000\u0000\u0000\u0000\u0000\u0000\u0000\u0000\u0000\u0000\u0000\u0000\u0000\u0000\u0000\u0000\u0000\u0000\u0000\u0000\u0000\u0000\u0000\u0000\u0000\u0000\u0000\u0000\u0000\u0000\u0000\u0000\u0000\u0000\u0000\u0000\u0000\u0000\u0000\u0000\u0000\u0000\u0000\u0000\u0000\u0000\u0000\u0000\u0000\u0000\u0000\u0000\u0000\u0000\u0000\u0000\u0000\u0000\u0000\u0000\u0000\u0000\u0000\u0000\u0000\u0000\u0000\u0000\u0000\u0000\u0000\u0000\u0000\u0000\u0000\u0000\u0000\u0000\u0000\u0000\u0000\u0000\u0000\u0000\u0000\u0000\u0000\u0000\u0000\u0000\u0000\u0000ustar  \u0000spacemanidol\u0000\u0000\u0000\u0000\u0000\u0000\u0000\u0000\u0000\u0000\u0000\u0000\u0000\u0000\u0000\u0000\u0000\u0000\u0000\u0000spacemanidol\u0000\u0000\u0000\u0000\u0000\u0000\u0000\u0000\u0000\u0000\u0000\u0000\u0000\u0000\u0000\u0000\u0000\u0000\u0000\u0000\u0000\u0000\u0000\u0000\u0000\u0000\u0000\u0000\u0000\u0000\u0000\u0000\u0000\u0000\u0000\u0000\u0000\u0000\u0000\u0000\u0000\u0000\u0000\u0000\u0000\u0000\u0000\u0000\u0000\u0000\u0000\u0000\u0000\u0000\u0000\u0000\u0000\u0000\u0000\u0000\u0000\u0000\u0000\u0000\u0000\u0000\u0000\u0000\u0000\u0000\u0000\u0000\u0000\u0000\u0000\u0000\u0000\u0000\u0000\u0000\u0000\u0000\u0000\u0000\u0000\u0000\u0000\u0000\u0000\u0000\u0000\u0000\u0000\u0000\u0000\u0000\u0000\u0000\u0000\u0000\u0000\u0000\u0000\u0000\u0000\u0000\u0000\u0000\u0000\u0000\u0000\u0000\u0000\u0000\u0000\u0000\u0000\u0000\u0000\u0000\u0000\u0000\u0000\u0000\u0000\u0000\u0000\u0000\u0000\u0000\u0000\u0000\u0000\u0000\u0000\u0000\u0000\u0000\u0000\u0000\u0000\u0000\u0000\u0000\u0000\u0000\u0000\u0000\u0000\u0000\u0000\u0000\u0000\u0000\u0000\u0000\u0000\u0000\u0000\u0000\u0000\u0000\u0000\u0000\u0000\u0000\u0000\u0000\u0000\u0000\u0000\u0000\u0000\u0000\u0000\u0000\u0000\u0000\u0000\u0000\u0000\u0000\u0000\u0000\u0000\u0000\u0000\u0000\u0000\u0000\u0000\u0000\u0000\u0000\u0000\u0000\u0000\u0000\u0000\u0000\u0000\u0000\u00000\tThe presence of communication amid scientific minds was equally important to the success of the Manhattan Project as scientific intellect was. The only cloud hanging over the impressive achievement of the atomic researchers and engineers is what their success truly meant; hundreds of thousands of innocent lives obliterated.\r\n",
      "1\tThe Manhattan Project and its atomic bomb helped bring an end to World War II. Its legacy of peaceful uses of atomic energy continues to have an impact on history and science.\r\n",
      "\r\n",
      "gzip: stdout: Broken pipe\r\n"
     ]
    }
   ],
   "source": [
    "!zcat /home/ryparmar/MSMARCO-Passage-Ranking/collection.tar.gz | head -n 2"
   ]
  },
  {
   "cell_type": "code",
   "execution_count": 4,
   "metadata": {},
   "outputs": [
    {
     "name": "stdout",
     "output_type": "stream",
     "text": [
      "triples.train.small.tsv\u0000\u0000\u0000\u0000\u0000\u0000\u0000\u0000\u0000\u0000\u0000\u0000\u0000\u0000\u0000\u0000\u0000\u0000\u0000\u0000\u0000\u0000\u0000\u0000\u0000\u0000\u0000\u0000\u0000\u0000\u0000\u0000\u0000\u0000\u0000\u0000\u0000\u0000\u0000\u0000\u0000\u0000\u0000\u0000\u0000\u0000\u0000\u0000\u0000\u0000\u0000\u0000\u0000\u0000\u0000\u0000\u0000\u0000\u0000\u0000\u0000\u0000\u0000\u0000\u0000\u0000\u0000\u0000\u0000\u0000\u0000\u0000\u0000\u0000\u0000\u0000\u00000000770\u0000�\u0000\u0000\u0000\u0000z�\u000b",
      "4001001\u0000�\u0000\u0000\u0000\u0000\u0000\u0000\u0006�\u001f\u0000�13321546425\u0000016554\u0000 0\u0000\u0000\u0000\u0000\u0000\u0000\u0000\u0000\u0000\u0000\u0000\u0000\u0000\u0000\u0000\u0000\u0000\u0000\u0000\u0000\u0000\u0000\u0000\u0000\u0000\u0000\u0000\u0000\u0000\u0000\u0000\u0000\u0000\u0000\u0000\u0000\u0000\u0000\u0000\u0000\u0000\u0000\u0000\u0000\u0000\u0000\u0000\u0000\u0000\u0000\u0000\u0000\u0000\u0000\u0000\u0000\u0000\u0000\u0000\u0000\u0000\u0000\u0000\u0000\u0000\u0000\u0000\u0000\u0000\u0000\u0000\u0000\u0000\u0000\u0000\u0000\u0000\u0000\u0000\u0000\u0000\u0000\u0000\u0000\u0000\u0000\u0000\u0000\u0000\u0000\u0000\u0000\u0000\u0000\u0000\u0000\u0000\u0000\u0000\u0000ustar  \u0000bmitra\u0000\u0000\u0000\u0000\u0000\u0000\u0000\u0000\u0000\u0000\u0000\u0000\u0000\u0000\u0000\u0000\u0000\u0000\u0000\u0000\u0000\u0000\u0000\u0000\u0000\u0000REDMOND+Group(513)\u0000\u0000\u0000\u0000\u0000\u0000\u0000\u0000\u0000\u0000\u0000\u0000\u0000\u0000\u0000\u0000\u0000\u0000\u0000\u0000\u0000\u0000\u0000\u0000\u0000\u0000\u0000\u0000\u0000\u0000\u0000\u0000\u0000\u0000\u0000\u0000\u0000\u0000\u0000\u0000\u0000\u0000\u0000\u0000\u0000\u0000\u0000\u0000\u0000\u0000\u0000\u0000\u0000\u0000\u0000\u0000\u0000\u0000\u0000\u0000\u0000\u0000\u0000\u0000\u0000\u0000\u0000\u0000\u0000\u0000\u0000\u0000\u0000\u0000\u0000\u0000\u0000\u0000\u0000\u0000\u0000\u0000\u0000\u0000\u0000\u0000\u0000\u0000\u0000\u0000\u0000\u0000\u0000\u0000\u0000\u0000\u0000\u0000\u0000\u0000\u0000\u0000\u0000\u0000\u0000\u0000\u0000\u0000\u0000\u0000\u0000\u0000\u0000\u0000\u0000\u0000\u0000\u0000\u0000\u0000\u0000\u0000\u0000\u0000\u0000\u0000\u0000\u0000\u0000\u0000\u0000\u0000\u0000\u0000\u0000\u0000\u0000\u0000\u0000\u0000\u0000\u0000\u0000\u0000\u0000\u0000\u0000\u0000\u0000\u0000\u0000\u0000\u0000\u0000\u0000\u0000\u0000\u0000\u0000\u0000\u0000\u0000\u0000\u0000\u0000\u0000\u0000\u0000\u0000\u0000\u0000\u0000\u0000\u0000\u0000\u0000\u0000\u0000\u0000\u0000\u0000\u0000\u0000\u0000\u0000\u0000\u0000\u0000\u0000\u0000\u0000\u0000\u0000\u0000\u0000\u0000\u0000is a little caffeine ok during pregnancy\tWe donât know a lot about the effects of caffeine during pregnancy on you and your baby. So itâs best to limit the amount you get each day. If youâre pregnant, limit caffeine to 200 milligrams each day. This is about the amount in 1Â½ 8-ounce cups of coffee or one 12-ounce cup of coffee.\tIt is generally safe for pregnant women to eat chocolate because studies have shown to prove certain benefits of eating chocolate during pregnancy. However, pregnant women should ensure their caffeine intake is below 200 mg per day.\r\n",
      "what fruit is native to australia\tPassiflora herbertiana. A rare passion fruit native to Australia. Fruits are green-skinned, white fleshed, with an unknown edible rating. Some sources list the fruit as edible, sweet and tasty, while others list the fruits as being bitter and inedible.assiflora herbertiana. A rare passion fruit native to Australia. Fruits are green-skinned, white fleshed, with an unknown edible rating. Some sources list the fruit as edible, sweet and tasty, while others list the fruits as being bitter and inedible.\tThe kola nut is the fruit of the kola tree, a genus (Cola) of trees that are native to the tropical rainforests of Africa.\r\n",
      "\r\n",
      "gzip: stdout: Broken pipe\r\n"
     ]
    }
   ],
   "source": [
    "!zcat /home/ryparmar/MSMARCO-Passage-Ranking/triples.train.small.tar.gz | head -n 2"
   ]
  },
  {
   "cell_type": "code",
   "execution_count": 5,
   "metadata": {},
   "outputs": [
    {
     "name": "stdout",
     "output_type": "stream",
     "text": [
      "queries.dev.tsv\u0000\u0000\u0000\u0000\u0000\u0000\u0000\u0000\u0000\u0000\u0000\u0000\u0000\u0000\u0000\u0000\u0000\u0000\u0000\u0000\u0000\u0000\u0000\u0000\u0000\u0000\u0000\u0000\u0000\u0000\u0000\u0000\u0000\u0000\u0000\u0000\u0000\u0000\u0000\u0000\u0000\u0000\u0000\u0000\u0000\u0000\u0000\u0000\u0000\u0000\u0000\u0000\u0000\u0000\u0000\u0000\u0000\u0000\u0000\u0000\u0000\u0000\u0000\u0000\u0000\u0000\u0000\u0000\u0000\u0000\u0000\u0000\u0000\u0000\u0000\u0000\u0000\u0000\u0000\u0000\u0000\u0000\u0000\u0000\u00000000664\u00000001750\u00000001750\u000000020762502\u000013372646016\u0000014016\u0000 0\u0000\u0000\u0000\u0000\u0000\u0000\u0000\u0000\u0000\u0000\u0000\u0000\u0000\u0000\u0000\u0000\u0000\u0000\u0000\u0000\u0000\u0000\u0000\u0000\u0000\u0000\u0000\u0000\u0000\u0000\u0000\u0000\u0000\u0000\u0000\u0000\u0000\u0000\u0000\u0000\u0000\u0000\u0000\u0000\u0000\u0000\u0000\u0000\u0000\u0000\u0000\u0000\u0000\u0000\u0000\u0000\u0000\u0000\u0000\u0000\u0000\u0000\u0000\u0000\u0000\u0000\u0000\u0000\u0000\u0000\u0000\u0000\u0000\u0000\u0000\u0000\u0000\u0000\u0000\u0000\u0000\u0000\u0000\u0000\u0000\u0000\u0000\u0000\u0000\u0000\u0000\u0000\u0000\u0000\u0000\u0000\u0000\u0000\u0000\u0000ustar  \u0000erasmus\u0000\u0000\u0000\u0000\u0000\u0000\u0000\u0000\u0000\u0000\u0000\u0000\u0000\u0000\u0000\u0000\u0000\u0000\u0000\u0000\u0000\u0000\u0000\u0000\u0000erasmus\u0000\u0000\u0000\u0000\u0000\u0000\u0000\u0000\u0000\u0000\u0000\u0000\u0000\u0000\u0000\u0000\u0000\u0000\u0000\u0000\u0000\u0000\u0000\u0000\u0000\u0000\u0000\u0000\u0000\u0000\u0000\u0000\u0000\u0000\u0000\u0000\u0000\u0000\u0000\u0000\u0000\u0000\u0000\u0000\u0000\u0000\u0000\u0000\u0000\u0000\u0000\u0000\u0000\u0000\u0000\u0000\u0000\u0000\u0000\u0000\u0000\u0000\u0000\u0000\u0000\u0000\u0000\u0000\u0000\u0000\u0000\u0000\u0000\u0000\u0000\u0000\u0000\u0000\u0000\u0000\u0000\u0000\u0000\u0000\u0000\u0000\u0000\u0000\u0000\u0000\u0000\u0000\u0000\u0000\u0000\u0000\u0000\u0000\u0000\u0000\u0000\u0000\u0000\u0000\u0000\u0000\u0000\u0000\u0000\u0000\u0000\u0000\u0000\u0000\u0000\u0000\u0000\u0000\u0000\u0000\u0000\u0000\u0000\u0000\u0000\u0000\u0000\u0000\u0000\u0000\u0000\u0000\u0000\u0000\u0000\u0000\u0000\u0000\u0000\u0000\u0000\u0000\u0000\u0000\u0000\u0000\u0000\u0000\u0000\u0000\u0000\u0000\u0000\u0000\u0000\u0000\u0000\u0000\u0000\u0000\u0000\u0000\u0000\u0000\u0000\u0000\u0000\u0000\u0000\u0000\u0000\u0000\u0000\u0000\u0000\u0000\u0000\u0000\u0000\u0000\u0000\u0000\u0000\u0000\u0000\u0000\u0000\u0000\u0000\u0000\u0000\u0000\u0000\u0000\u0000\u0000\u0000\u0000\u0000\u0000\u0000\u0000\u0000\u0000\u0000\u0000\u0000\u00001048578\tcost of endless pools/swim spa\r\n",
      "1048579\twhat is pcnt\r\n",
      "\r\n",
      "gzip: stdout: Broken pipe\r\n"
     ]
    }
   ],
   "source": [
    "!zcat /home/ryparmar/MSMARCO-Passage-Ranking/queries.tar.gz | head -n 2"
   ]
  },
  {
   "cell_type": "markdown",
   "metadata": {},
   "source": [
    "# Convert FEVER data into MSMARCO format\n",
    "\n",
    "query \\t positive_passage \\t negative_passage\n",
    "\n",
    "or \n",
    "\n",
    "query_id \\t pos_pass_id \\t neg_pass_id"
   ]
  },
  {
   "cell_type": "code",
   "execution_count": 42,
   "metadata": {},
   "outputs": [],
   "source": [
    "feverdb = '/mnt/data/factcheck/fever/data-cs/fever/fever.db'\n",
    "# train = '/mnt/data/factcheck/fever/data-en-latest/fever-data/train.jsonl'\n",
    "# dev = '/mnt/data/factcheck/fever/data-en-latest/fever-data/dev.jsonl'\n",
    "\n",
    "train = '/home/ryparmar/fever-cs-deepl/train.jsonl'\n",
    "dev = '/home/ryparmar/fever-cs-deepl/dev.jsonl'\n",
    "test = '/home/ryparmar/fever-cs-deepl/test.jsonl'\n",
    "\n",
    "ROOT = '/home/ryparmar/fever-cs-deepl/'"
   ]
  },
  {
   "cell_type": "code",
   "execution_count": 43,
   "metadata": {},
   "outputs": [],
   "source": [
    "conn = sqlite3.connect(feverdb)  \n",
    "c = conn.cursor()\n",
    "c.execute(\"SELECT * FROM documents\")\n",
    "documents = {r[0]: r[1] for r in c}"
   ]
  },
  {
   "cell_type": "code",
   "execution_count": 44,
   "metadata": {},
   "outputs": [
    {
     "data": {
      "text/plain": [
       "451629"
      ]
     },
     "execution_count": 44,
     "metadata": {},
     "output_type": "execute_result"
    }
   ],
   "source": [
    "num_documents = len(documents)\n",
    "num_documents"
   ]
  },
  {
   "cell_type": "markdown",
   "metadata": {},
   "source": [
    "### Create collection file"
   ]
  },
  {
   "cell_type": "code",
   "execution_count": 45,
   "metadata": {},
   "outputs": [],
   "source": [
    "collection = '/mnt/data/factcheck/fever/data-cs/fever/fever.tsv'\n",
    "# with open(collection, 'w') as fw:\n",
    "#     for i, (d, dv) in enumerate(documents.items()):\n",
    "#         fw.write(f\"{i}\\t{dv}\\n\")\n",
    "        \n",
    "        \n",
    "collection_title = '/mnt/data/factcheck/fever/data-cs/fever/title_as_id_fever.tsv'\n",
    "# with open(collection, 'w') as fw:\n",
    "#     for i, (d, dv) in enumerate(documents.items()):\n",
    "#         fw.write(f\"{d}\\t{dv}\\n\")"
   ]
  },
  {
   "cell_type": "code",
   "execution_count": 46,
   "metadata": {},
   "outputs": [
    {
     "name": "stdout",
     "output_type": "stream",
     "text": [
      "0\tVietnamská kuchyně je důležitou částí vietnamské kultury . Jídlo představuje pro Vietnamce možnost strávit čas společně s rodinou a je hlavním prvkem oslav a svátků . Hlavní ingredience využívané ve vietnamské kuchyni v sobě odrážejí polohu země a místní klima . Rýže , která se pěstuje na vodních polích po celé zemi , tvoří součást každodenních jídel , a navíc se z ní vyrábějí různé druhy nudlí nebo koláčů . Kromě množství buddhistických vegetariánských pokrmů jsou vietnamská jídla kombinací rozmanitých druhů zeleniny , bylin a masa . Ingredience se připravují na mnoho způsobů , jako je vaření , dušení nebo smažení . Cílem kuchařů je zachování co nejčerstvější a přírodní chuti jídel . Vietnamská kuchyně je často považována za jednu z nejzdravějších na světě . Vietnamská kuchyně se řídí filozofií pěti elementů ( `` ngũ hành '' ) v pěti základních chutích : ostrá ( železo ) , kyselá ( dřevo ) , hořká ( oheň ) , slaná ( voda ) a sladká ( země ) . Každé vietnamské jídlo má svoji vlastní chuť , která odráží jeden nebo více z těchto elementů .\r\n"
     ]
    }
   ],
   "source": [
    "!head -n 1 {collection}"
   ]
  },
  {
   "cell_type": "code",
   "execution_count": 47,
   "metadata": {},
   "outputs": [
    {
     "name": "stdout",
     "output_type": "stream",
     "text": [
      "Vietnamská kuchyně\tVietnamská kuchyně je důležitou částí vietnamské kultury . Jídlo představuje pro Vietnamce možnost strávit čas společně s rodinou a je hlavním prvkem oslav a svátků . Hlavní ingredience využívané ve vietnamské kuchyni v sobě odrážejí polohu země a místní klima . Rýže , která se pěstuje na vodních polích po celé zemi , tvoří součást každodenních jídel , a navíc se z ní vyrábějí různé druhy nudlí nebo koláčů . Kromě množství buddhistických vegetariánských pokrmů jsou vietnamská jídla kombinací rozmanitých druhů zeleniny , bylin a masa . Ingredience se připravují na mnoho způsobů , jako je vaření , dušení nebo smažení . Cílem kuchařů je zachování co nejčerstvější a přírodní chuti jídel . Vietnamská kuchyně je často považována za jednu z nejzdravějších na světě . Vietnamská kuchyně se řídí filozofií pěti elementů ( `` ngũ hành '' ) v pěti základních chutích : ostrá ( železo ) , kyselá ( dřevo ) , hořká ( oheň ) , slaná ( voda ) a sladká ( země ) . Každé vietnamské jídlo má svoji vlastní chuť , která odráží jeden nebo více z těchto elementů .\r\n"
     ]
    }
   ],
   "source": [
    "!head -n 1 {collection_title}"
   ]
  },
  {
   "cell_type": "code",
   "execution_count": 59,
   "metadata": {},
   "outputs": [],
   "source": [
    "collection = {d: dv for i, (d, dv) in enumerate(documents.items())}"
   ]
  },
  {
   "cell_type": "markdown",
   "metadata": {},
   "source": [
    "## Create training triples and dev queries"
   ]
  },
  {
   "cell_type": "code",
   "execution_count": 50,
   "metadata": {},
   "outputs": [],
   "source": [
    "with jsonlines.open(dev) as fr:\n",
    "    dev_claims = [c for c in fr]\n",
    "\n",
    "with jsonlines.open(test) as fr:\n",
    "    test_claims = [c for c in fr]\n",
    "    \n",
    "with jsonlines.open(train) as fr:\n",
    "    train_claims = [c for c in fr]"
   ]
  },
  {
   "cell_type": "code",
   "execution_count": 51,
   "metadata": {},
   "outputs": [
    {
     "name": "stdout",
     "output_type": "stream",
     "text": [
      "train: 107330\tdev: 9999\n"
     ]
    }
   ],
   "source": [
    "print(f\"train: {len(train_claims)}\\tdev: {len(dev_claims)}\")"
   ]
  },
  {
   "cell_type": "code",
   "execution_count": 52,
   "metadata": {},
   "outputs": [
    {
     "data": {
      "text/plain": [
       "{'id': 206088,\n",
       " 'verifiable': 'NOT VERIFIABLE',\n",
       " 'label': 'NOT ENOUGH INFO',\n",
       " 'claim': 'Sociologie se zabývá vývojem politiky.',\n",
       " 'evidence': [],\n",
       " 'claim_en': 'Sociology is the study of politics development.'}"
      ]
     },
     "execution_count": 52,
     "metadata": {},
     "output_type": "execute_result"
    }
   ],
   "source": [
    "dev_claims[0]"
   ]
  },
  {
   "cell_type": "code",
   "execution_count": 53,
   "metadata": {},
   "outputs": [],
   "source": [
    "dev_queries_path = f'{ROOT}dev_queries.tsv'\n",
    "with open(dev_queries_path, 'w') as fw:\n",
    "    for i, c in enumerate(dev_claims):\n",
    "        fw.write(f\"{i}\\t{c['claim']}\\n\")\n",
    "        \n",
    "test_queries_path = f'{ROOT}test_queries.tsv'\n",
    "with open(test_queries_path, 'w') as fw:\n",
    "    for i, c in enumerate(test_claims):\n",
    "        fw.write(f\"{i}\\t{c['claim']}\\n\")"
   ]
  },
  {
   "cell_type": "code",
   "execution_count": 54,
   "metadata": {},
   "outputs": [
    {
     "name": "stdout",
     "output_type": "stream",
     "text": [
      "0\tSociologie se zabývá vývojem politiky.\r\n",
      "1\tSammy Cahn byl americký hudebník narozený v roce 1913.\r\n"
     ]
    }
   ],
   "source": [
    "!head -n 2 {dev_queries_path}"
   ]
  },
  {
   "cell_type": "code",
   "execution_count": 55,
   "metadata": {},
   "outputs": [
    {
     "name": "stdout",
     "output_type": "stream",
     "text": [
      "0\tSpolečnost Pixar financoval Steve Jobs.\r\n",
      "1\tAmeričtí bohové je román.\r\n"
     ]
    }
   ],
   "source": [
    "!head -n 2 {test_queries_path}"
   ]
  },
  {
   "cell_type": "code",
   "execution_count": 80,
   "metadata": {},
   "outputs": [],
   "source": [
    "def get_random_doc(curr_doc_id, doc_ids):\n",
    "    rand_doc_id = doc_ids[random.randint(0, len(doc_ids))]\n",
    "    while curr_doc_id == rand_doc_id or rand_doc_id not in doc_ids:\n",
    "        rand_doc_id = doc_ids[random.randint(0, len(doc_ids))]\n",
    "    return rand_doc_id    "
   ]
  },
  {
   "cell_type": "code",
   "execution_count": 81,
   "metadata": {},
   "outputs": [],
   "source": [
    "def get_tsv_file(claims, documents):\n",
    "    tsv = []\n",
    "    for claim in tqdm(claims):\n",
    "        if claim['verifiable'] == 'VERIFIABLE':\n",
    "            for evidence in claim['evidence']:\n",
    "                pos_doc_id = evidence[0][2]  # doc containing evidence (positive)\n",
    "                neg_doc_id = get_random_doc(pos_doc_id, list(documents.keys()))\n",
    "                if pos_doc_id in documents:\n",
    "                    tsv.append((f\"{claim['claim'].strip()}\\t\"\\\n",
    "                                f\"{documents[pos_doc_id].strip()}\\t\"\\\n",
    "                                f\"{documents[neg_doc_id].strip()}\\n\"))\n",
    "                else:\n",
    "                    print(f\"Document: {pos_doc_id} not found in the db.\")\n",
    "    return tsv"
   ]
  },
  {
   "cell_type": "code",
   "execution_count": 82,
   "metadata": {},
   "outputs": [
    {
     "name": "stderr",
     "output_type": "stream",
     "text": [
      "  1%|          | 65/9999 [00:01<04:55, 33.57it/s]"
     ]
    },
    {
     "name": "stdout",
     "output_type": "stream",
     "text": [
      "Document: Molly Bernard not found in the db.\n"
     ]
    },
    {
     "name": "stderr",
     "output_type": "stream",
     "text": [
      "  4%|▍         | 414/9999 [00:09<05:21, 29.80it/s]"
     ]
    },
    {
     "name": "stdout",
     "output_type": "stream",
     "text": [
      "Document: Molly Bernard not found in the db.\n"
     ]
    },
    {
     "name": "stderr",
     "output_type": "stream",
     "text": [
      "  8%|▊         | 790/9999 [00:17<02:35, 59.24it/s]"
     ]
    },
    {
     "name": "stdout",
     "output_type": "stream",
     "text": [
      "Document: Studio Pierrot not found in the db.\n"
     ]
    },
    {
     "name": "stderr",
     "output_type": "stream",
     "text": [
      " 15%|█▌        | 1542/9999 [00:33<02:16, 61.88it/s]"
     ]
    },
    {
     "name": "stdout",
     "output_type": "stream",
     "text": [
      "Document: Jak vycvičit draka (film, 2010) not found in the db.\n"
     ]
    },
    {
     "name": "stderr",
     "output_type": "stream",
     "text": [
      " 21%|██▏       | 2138/9999 [00:46<02:20, 55.85it/s]"
     ]
    },
    {
     "name": "stdout",
     "output_type": "stream",
     "text": [
      "Document: Jak vycvičit draka (film, 2010) not found in the db.\n"
     ]
    },
    {
     "name": "stderr",
     "output_type": "stream",
     "text": [
      " 42%|████▏     | 4211/9999 [01:28<02:28, 39.07it/s]"
     ]
    },
    {
     "name": "stdout",
     "output_type": "stream",
     "text": [
      "Document: Room 93 not found in the db.\n"
     ]
    },
    {
     "name": "stderr",
     "output_type": "stream",
     "text": [
      " 48%|████▊     | 4836/9999 [01:40<01:49, 47.27it/s]"
     ]
    },
    {
     "name": "stdout",
     "output_type": "stream",
     "text": [
      "Document: Molly Bernard not found in the db.\n"
     ]
    },
    {
     "name": "stderr",
     "output_type": "stream",
     "text": [
      " 53%|█████▎    | 5333/9999 [01:51<01:19, 58.75it/s]"
     ]
    },
    {
     "name": "stdout",
     "output_type": "stream",
     "text": [
      "Document: Studio Pierrot not found in the db.\n"
     ]
    },
    {
     "name": "stderr",
     "output_type": "stream",
     "text": [
      " 61%|██████    | 6068/9999 [02:06<01:13, 53.85it/s]"
     ]
    },
    {
     "name": "stdout",
     "output_type": "stream",
     "text": [
      "Document: Jak vycvičit draka (film, 2010) not found in the db.\n"
     ]
    },
    {
     "name": "stderr",
     "output_type": "stream",
     "text": [
      " 63%|██████▎   | 6347/9999 [02:11<01:02, 58.09it/s]"
     ]
    },
    {
     "name": "stdout",
     "output_type": "stream",
     "text": [
      "Document: Room 93 not found in the db.\n"
     ]
    },
    {
     "name": "stderr",
     "output_type": "stream",
     "text": [
      " 71%|███████▏  | 7127/9999 [02:26<00:50, 56.91it/s]"
     ]
    },
    {
     "name": "stdout",
     "output_type": "stream",
     "text": [
      "Document: Room 93 not found in the db.\n"
     ]
    },
    {
     "name": "stderr",
     "output_type": "stream",
     "text": [
      " 78%|███████▊  | 7832/9999 [02:42<00:30, 70.64it/s]"
     ]
    },
    {
     "name": "stdout",
     "output_type": "stream",
     "text": [
      "Document: Dungeons & Dragons not found in the db.\n",
      "Document: Dungeons & Dragons not found in the db.\n"
     ]
    },
    {
     "name": "stderr",
     "output_type": "stream",
     "text": [
      " 81%|████████▏ | 8138/9999 [02:48<00:29, 62.74it/s]"
     ]
    },
    {
     "name": "stdout",
     "output_type": "stream",
     "text": [
      "Document: Room 93 not found in the db.\n"
     ]
    },
    {
     "name": "stderr",
     "output_type": "stream",
     "text": [
      " 94%|█████████▍| 9392/9999 [03:14<00:11, 55.00it/s]"
     ]
    },
    {
     "name": "stdout",
     "output_type": "stream",
     "text": [
      "Document: Selena Gomez & the Scene not found in the db.\n",
      "Document: Selena Gomez & the Scene not found in the db.\n"
     ]
    },
    {
     "name": "stderr",
     "output_type": "stream",
     "text": [
      " 94%|█████████▍| 9436/9999 [03:15<00:09, 58.60it/s]"
     ]
    },
    {
     "name": "stdout",
     "output_type": "stream",
     "text": [
      "Document: Jak vycvičit draka (film, 2010) not found in the db.\n"
     ]
    },
    {
     "name": "stderr",
     "output_type": "stream",
     "text": [
      " 95%|█████████▍| 9469/9999 [03:15<00:09, 58.63it/s]"
     ]
    },
    {
     "name": "stdout",
     "output_type": "stream",
     "text": [
      "Document: Zemřít pro… not found in the db.\n"
     ]
    },
    {
     "name": "stderr",
     "output_type": "stream",
     "text": [
      "100%|██████████| 9999/9999 [03:27<00:00, 48.17it/s]\n"
     ]
    }
   ],
   "source": [
    "dev_tsv = get_tsv_file(dev_claims, collection)"
   ]
  },
  {
   "cell_type": "code",
   "execution_count": 83,
   "metadata": {},
   "outputs": [
    {
     "data": {
      "text/plain": [
       "13794"
      ]
     },
     "execution_count": 83,
     "metadata": {},
     "output_type": "execute_result"
    }
   ],
   "source": [
    "len(dev_tsv)"
   ]
  },
  {
   "cell_type": "code",
   "execution_count": 84,
   "metadata": {},
   "outputs": [
    {
     "data": {
      "text/plain": [
       "\"Sammy Cahn byl americký hudebník narozený v roce 1913.\\tSammy Cahn , rodným jménem Samuel Cohen , ( 18. června 1913 – 15. ledna 1993 ) byl americký textař . Narodil se v New Yorku jako jediný syn židovských přistěhovalců z Haliče . Je autortem textů k muzikálu `` Walking Happy '' ( hudbu složil Jimmy Van Heusen ) , který byl roku 1966 představen na Broadwayi . V roce 1983 byl uveden do Songwriters Hall of Fame . Zemřel na srdeční selhání ve věku 79 let . Pohřben byl na Westwood Village Memorial Park Cemetery . Jeho synem byl kytarista Steve Khan .\\tJosef Šich ( * 30. listopadu 1942 , Koválovice u Tištína ) je český římskokatolický kněz , emeritní kanovník olomoucké kapituly , amatérský fotograf . Po maturitě na jedenáctileté střední škole ve Zlíně odešel v roce 1960 studovat Cyrilometodějskou bohosloveckou fakultu v Litoměřicích , kde také 27. června 1965 přijal kněžské svěcení z rukou Františka Tomáška . Působil jako kaplan v Prostějově a Holešově a poté na kurii olomouckého arcibiskupství . Dne 28. července 1995 jej papež Jan Pavel II . jmenoval kaplanem Jeho Svatosti . Později Šich pracoval jako prezident Arcidiecézní charity Olomouc ( 1. září 1997 – 30. června 2010 ) , v letech 2007 až 2008 byl rovněž prezidentem Charity Česká republika . V současnosti zastává funkci biskupského delegáta pro stálou formaci zasvěcených panen ( od r. 2010 ) a od roku 2002 zastává post penitenciáře Metropolitní kapituly . Je členem pastorační rady a liturgické komise Arcibiskupství olomouckého .\\n\""
      ]
     },
     "execution_count": 84,
     "metadata": {},
     "output_type": "execute_result"
    }
   ],
   "source": [
    "dev_tsv[0]"
   ]
  },
  {
   "cell_type": "code",
   "execution_count": 71,
   "metadata": {},
   "outputs": [
    {
     "name": "stderr",
     "output_type": "stream",
     "text": [
      "  2%|▏         | 2024/107330 [00:38<27:40, 63.43it/s]  "
     ]
    },
    {
     "name": "stdout",
     "output_type": "stream",
     "text": [
      "Document: Zemřít pro… not found in the db.\n"
     ]
    },
    {
     "name": "stderr",
     "output_type": "stream",
     "text": [
      "  3%|▎         | 3366/107330 [01:08<29:59, 57.77it/s]  "
     ]
    },
    {
     "name": "stdout",
     "output_type": "stream",
     "text": [
      "Document: Room 93 not found in the db.\n"
     ]
    },
    {
     "name": "stderr",
     "output_type": "stream",
     "text": [
      "  5%|▍         | 5087/107330 [01:46<29:00, 58.75it/s]  "
     ]
    },
    {
     "name": "stdout",
     "output_type": "stream",
     "text": [
      "Document: Dungeons & Dragons not found in the db.\n"
     ]
    },
    {
     "name": "stderr",
     "output_type": "stream",
     "text": [
      "  5%|▌         | 5503/107330 [01:55<29:57, 56.64it/s]  "
     ]
    },
    {
     "name": "stdout",
     "output_type": "stream",
     "text": [
      "Document: Zemřít pro… not found in the db.\n",
      "Document: Zemřít pro… not found in the db.\n"
     ]
    },
    {
     "name": "stderr",
     "output_type": "stream",
     "text": [
      "  5%|▌         | 5618/107330 [01:56<27:57, 60.65it/s]"
     ]
    },
    {
     "name": "stdout",
     "output_type": "stream",
     "text": [
      "Document: Sonny & Cher not found in the db.\n"
     ]
    },
    {
     "name": "stderr",
     "output_type": "stream",
     "text": [
      "  6%|▋         | 6957/107330 [02:26<35:05, 47.67it/s]  "
     ]
    },
    {
     "name": "stdout",
     "output_type": "stream",
     "text": [
      "Document: Dungeons & Dragons not found in the db.\n"
     ]
    },
    {
     "name": "stderr",
     "output_type": "stream",
     "text": [
      "  7%|▋         | 7632/107330 [02:40<31:52, 52.12it/s]  "
     ]
    },
    {
     "name": "stdout",
     "output_type": "stream",
     "text": [
      "Document: Studio Pierrot not found in the db.\n",
      "Document: Studio Pierrot not found in the db.\n"
     ]
    },
    {
     "name": "stderr",
     "output_type": "stream",
     "text": [
      "  7%|▋         | 7707/107330 [02:41<26:20, 63.04it/s]"
     ]
    },
    {
     "name": "stdout",
     "output_type": "stream",
     "text": [
      "Document: Jak vycvičit draka (film, 2010) not found in the db.\n"
     ]
    },
    {
     "name": "stderr",
     "output_type": "stream",
     "text": [
      "  9%|▊         | 9186/107330 [03:10<29:08, 56.11it/s]  "
     ]
    },
    {
     "name": "stdout",
     "output_type": "stream",
     "text": [
      "Document: Zemřít pro… not found in the db.\n"
     ]
    },
    {
     "name": "stderr",
     "output_type": "stream",
     "text": [
      "  9%|▉         | 9615/107330 [03:18<56:01, 29.07it/s]  "
     ]
    },
    {
     "name": "stdout",
     "output_type": "stream",
     "text": [
      "Document: Room 93 not found in the db.\n"
     ]
    },
    {
     "name": "stderr",
     "output_type": "stream",
     "text": [
      "  9%|▉         | 9681/107330 [03:19<26:39, 61.06it/s]"
     ]
    },
    {
     "name": "stdout",
     "output_type": "stream",
     "text": [
      "Document: Selena Gomez & the Scene not found in the db.\n",
      "Document: Selena Gomez & the Scene not found in the db.\n"
     ]
    },
    {
     "name": "stderr",
     "output_type": "stream",
     "text": [
      " 10%|▉         | 10456/107330 [03:36<30:26, 53.03it/s]  "
     ]
    },
    {
     "name": "stdout",
     "output_type": "stream",
     "text": [
      "Document: Jak vycvičit draka (film, 2010) not found in the db.\n"
     ]
    },
    {
     "name": "stderr",
     "output_type": "stream",
     "text": [
      " 10%|▉         | 10566/107330 [03:38<33:52, 47.60it/s]"
     ]
    },
    {
     "name": "stdout",
     "output_type": "stream",
     "text": [
      "Document: Dungeons & Dragons not found in the db.\n"
     ]
    },
    {
     "name": "stderr",
     "output_type": "stream",
     "text": [
      " 10%|▉         | 10623/107330 [03:39<22:59, 70.09it/s]"
     ]
    },
    {
     "name": "stdout",
     "output_type": "stream",
     "text": [
      "Document: Zemřít pro… not found in the db.\n"
     ]
    },
    {
     "name": "stderr",
     "output_type": "stream",
     "text": [
      " 10%|█         | 10975/107330 [03:46<41:21, 38.83it/s]"
     ]
    },
    {
     "name": "stdout",
     "output_type": "stream",
     "text": [
      "Document: Molly Bernard not found in the db.\n"
     ]
    },
    {
     "name": "stderr",
     "output_type": "stream",
     "text": [
      " 10%|█         | 11062/107330 [03:47<34:34, 46.41it/s]"
     ]
    },
    {
     "name": "stdout",
     "output_type": "stream",
     "text": [
      "Document: Dungeons & Dragons not found in the db.\n",
      "Document: Dungeons & Dragons not found in the db.\n",
      "Document: Dungeons & Dragons not found in the db.\n",
      "Document: Dungeons & Dragons not found in the db.\n",
      "Document: Dungeons & Dragons not found in the db.\n",
      "Document: Dungeons & Dragons not found in the db.\n",
      "Document: Dungeons & Dragons not found in the db.\n",
      "Document: Dungeons & Dragons not found in the db.\n"
     ]
    },
    {
     "name": "stderr",
     "output_type": "stream",
     "text": [
      " 10%|█         | 11087/107330 [03:48<33:20, 48.10it/s]"
     ]
    },
    {
     "name": "stdout",
     "output_type": "stream",
     "text": [
      "Document: Room 93 not found in the db.\n",
      "Document: Room 93 not found in the db.\n",
      "Document: Room 93 not found in the db.\n",
      "Document: Room 93 not found in the db.\n",
      "Document: Room 93 not found in the db.\n",
      "Document: Room 93 not found in the db.\n"
     ]
    },
    {
     "name": "stderr",
     "output_type": "stream",
     "text": [
      " 15%|█▍        | 16072/107330 [05:33<29:15, 51.97it/s]  "
     ]
    },
    {
     "name": "stdout",
     "output_type": "stream",
     "text": [
      "Document: Sonny & Cher not found in the db.\n",
      "Document: Sonny & Cher not found in the db.\n"
     ]
    },
    {
     "name": "stderr",
     "output_type": "stream",
     "text": [
      " 15%|█▌        | 16128/107330 [05:35<26:41, 56.94it/s]"
     ]
    },
    {
     "name": "stdout",
     "output_type": "stream",
     "text": [
      "Document: Dungeons & Dragons not found in the db.\n"
     ]
    },
    {
     "name": "stderr",
     "output_type": "stream",
     "text": [
      " 16%|█▌        | 17081/107330 [05:56<28:11, 53.37it/s]  "
     ]
    },
    {
     "name": "stdout",
     "output_type": "stream",
     "text": [
      "Document: Jak vycvičit draka (film, 2010) not found in the db.\n"
     ]
    },
    {
     "name": "stderr",
     "output_type": "stream",
     "text": [
      " 16%|█▌        | 17220/107330 [05:59<21:35, 69.56it/s]"
     ]
    },
    {
     "name": "stdout",
     "output_type": "stream",
     "text": [
      "Document: Zemřít pro… not found in the db.\n"
     ]
    },
    {
     "name": "stderr",
     "output_type": "stream",
     "text": [
      " 17%|█▋        | 18174/107330 [06:18<49:32, 29.99it/s]  "
     ]
    },
    {
     "name": "stdout",
     "output_type": "stream",
     "text": [
      "Document: Dungeons & Dragons not found in the db.\n",
      "Document: Dungeons & Dragons not found in the db.\n",
      "Document: Dungeons & Dragons not found in the db.\n"
     ]
    },
    {
     "name": "stderr",
     "output_type": "stream",
     "text": [
      " 18%|█▊        | 19115/107330 [06:38<25:55, 56.71it/s]  "
     ]
    },
    {
     "name": "stdout",
     "output_type": "stream",
     "text": [
      "Document: Studio Pierrot not found in the db.\n",
      "Document: Studio Pierrot not found in the db.\n",
      "Document: Studio Pierrot not found in the db.\n",
      "Document: Studio Pierrot not found in the db.\n",
      "Document: Studio Pierrot not found in the db.\n",
      "Document: Studio Pierrot not found in the db.\n",
      "Document: Studio Pierrot not found in the db.\n"
     ]
    },
    {
     "name": "stderr",
     "output_type": "stream",
     "text": [
      " 18%|█▊        | 19178/107330 [06:40<27:33, 53.32it/s]"
     ]
    },
    {
     "name": "stdout",
     "output_type": "stream",
     "text": [
      "Document: Jak vycvičit draka (film, 2010) not found in the db.\n"
     ]
    },
    {
     "name": "stderr",
     "output_type": "stream",
     "text": [
      " 19%|█▊        | 19967/107330 [06:55<20:38, 70.52it/s]  "
     ]
    },
    {
     "name": "stdout",
     "output_type": "stream",
     "text": [
      "Document: Dungeons & Dragons not found in the db.\n"
     ]
    },
    {
     "name": "stderr",
     "output_type": "stream",
     "text": [
      " 19%|█▉        | 20259/107330 [07:01<29:14, 49.62it/s]"
     ]
    },
    {
     "name": "stdout",
     "output_type": "stream",
     "text": [
      "Document: Room 93 not found in the db.\n"
     ]
    },
    {
     "name": "stderr",
     "output_type": "stream",
     "text": [
      " 22%|██▏       | 24082/107330 [08:20<23:55, 57.98it/s]  "
     ]
    },
    {
     "name": "stdout",
     "output_type": "stream",
     "text": [
      "Document: Zemřít pro… not found in the db.\n"
     ]
    },
    {
     "name": "stderr",
     "output_type": "stream",
     "text": [
      " 24%|██▍       | 26188/107330 [09:04<28:48, 46.95it/s]  "
     ]
    },
    {
     "name": "stdout",
     "output_type": "stream",
     "text": [
      "Document: Jak vycvičit draka (film, 2010) not found in the db.\n"
     ]
    },
    {
     "name": "stderr",
     "output_type": "stream",
     "text": [
      " 27%|██▋       | 28713/107330 [09:53<20:19, 64.46it/s]"
     ]
    },
    {
     "name": "stdout",
     "output_type": "stream",
     "text": [
      "Document: Molly Bernard not found in the db.\n"
     ]
    },
    {
     "name": "stderr",
     "output_type": "stream",
     "text": [
      " 27%|██▋       | 28796/107330 [09:55<28:37, 45.72it/s]"
     ]
    },
    {
     "name": "stdout",
     "output_type": "stream",
     "text": [
      "Document: Studio Pierrot not found in the db.\n"
     ]
    },
    {
     "name": "stderr",
     "output_type": "stream",
     "text": [
      " 27%|██▋       | 28919/107330 [09:58<32:41, 39.97it/s]"
     ]
    },
    {
     "name": "stdout",
     "output_type": "stream",
     "text": [
      "Document: Studio Pierrot not found in the db.\n"
     ]
    },
    {
     "name": "stderr",
     "output_type": "stream",
     "text": [
      " 28%|██▊       | 30204/107330 [10:27<46:24, 27.70it/s]  "
     ]
    },
    {
     "name": "stdout",
     "output_type": "stream",
     "text": [
      "Document: Dungeons & Dragons not found in the db.\n"
     ]
    },
    {
     "name": "stderr",
     "output_type": "stream",
     "text": [
      " 29%|██▉       | 31122/107330 [10:45<28:45, 44.16it/s]"
     ]
    },
    {
     "name": "stdout",
     "output_type": "stream",
     "text": [
      "Document: Jak vycvičit draka (film, 2010) not found in the db.\n"
     ]
    },
    {
     "name": "stderr",
     "output_type": "stream",
     "text": [
      " 30%|██▉       | 31691/107330 [10:56<20:39, 61.04it/s]"
     ]
    },
    {
     "name": "stdout",
     "output_type": "stream",
     "text": [
      "Document: Room 93 not found in the db.\n"
     ]
    },
    {
     "name": "stderr",
     "output_type": "stream",
     "text": [
      " 31%|███       | 32786/107330 [11:18<21:14, 58.47it/s]  "
     ]
    },
    {
     "name": "stdout",
     "output_type": "stream",
     "text": [
      "Document: Jak vycvičit draka (film, 2010) not found in the db.\n"
     ]
    },
    {
     "name": "stderr",
     "output_type": "stream",
     "text": [
      " 31%|███       | 33086/107330 [11:23<24:08, 51.26it/s]"
     ]
    },
    {
     "name": "stdout",
     "output_type": "stream",
     "text": [
      "Document: Molly Bernard not found in the db.\n"
     ]
    },
    {
     "name": "stderr",
     "output_type": "stream",
     "text": [
      " 31%|███       | 33396/107330 [11:29<27:02, 45.58it/s]"
     ]
    },
    {
     "name": "stdout",
     "output_type": "stream",
     "text": [
      "Document: Molly Bernard not found in the db.\n"
     ]
    },
    {
     "name": "stderr",
     "output_type": "stream",
     "text": [
      " 34%|███▎      | 35998/107330 [12:23<16:24, 72.46it/s]  "
     ]
    },
    {
     "name": "stdout",
     "output_type": "stream",
     "text": [
      "Document: Studio Pierrot not found in the db.\n"
     ]
    },
    {
     "name": "stderr",
     "output_type": "stream",
     "text": [
      " 34%|███▍      | 36887/107330 [12:41<26:08, 44.90it/s]"
     ]
    },
    {
     "name": "stdout",
     "output_type": "stream",
     "text": [
      "Document: Studio Pierrot not found in the db.\n",
      "Document: Studio Pierrot not found in the db.\n"
     ]
    },
    {
     "name": "stderr",
     "output_type": "stream",
     "text": [
      " 35%|███▌      | 37855/107330 [13:02<26:58, 42.92it/s]"
     ]
    },
    {
     "name": "stdout",
     "output_type": "stream",
     "text": [
      "Document: Dungeons & Dragons not found in the db.\n"
     ]
    },
    {
     "name": "stderr",
     "output_type": "stream",
     "text": [
      " 36%|███▌      | 38257/107330 [13:10<19:56, 57.72it/s]"
     ]
    },
    {
     "name": "stdout",
     "output_type": "stream",
     "text": [
      "Document: Studio Pierrot not found in the db.\n"
     ]
    },
    {
     "name": "stderr",
     "output_type": "stream",
     "text": [
      " 37%|███▋      | 40143/107330 [13:51<17:54, 62.52it/s]  "
     ]
    },
    {
     "name": "stdout",
     "output_type": "stream",
     "text": [
      "Document: Dungeons & Dragons not found in the db.\n",
      "Document: Dungeons & Dragons not found in the db.\n",
      "Document: Dungeons & Dragons not found in the db.\n"
     ]
    },
    {
     "name": "stderr",
     "output_type": "stream",
     "text": [
      " 38%|███▊      | 40557/107330 [13:59<15:31, 71.67it/s]"
     ]
    },
    {
     "name": "stdout",
     "output_type": "stream",
     "text": [
      "Document: Zemřít pro… not found in the db.\n"
     ]
    },
    {
     "name": "stderr",
     "output_type": "stream",
     "text": [
      " 38%|███▊      | 40671/107330 [14:02<26:13, 42.36it/s]"
     ]
    },
    {
     "name": "stdout",
     "output_type": "stream",
     "text": [
      "Document: Molly Bernard not found in the db.\n"
     ]
    },
    {
     "name": "stderr",
     "output_type": "stream",
     "text": [
      " 38%|███▊      | 41138/107330 [14:11<32:47, 33.64it/s]"
     ]
    },
    {
     "name": "stdout",
     "output_type": "stream",
     "text": [
      "Document: Zemřít pro… not found in the db.\n"
     ]
    },
    {
     "name": "stderr",
     "output_type": "stream",
     "text": [
      " 39%|███▉      | 42167/107330 [14:34<20:16, 53.55it/s]"
     ]
    },
    {
     "name": "stdout",
     "output_type": "stream",
     "text": [
      "Document: Zemřít pro… not found in the db.\n",
      "Document: Zemřít pro… not found in the db.\n"
     ]
    },
    {
     "name": "stderr",
     "output_type": "stream",
     "text": [
      " 40%|███▉      | 42616/107330 [14:43<22:11, 48.60it/s]"
     ]
    },
    {
     "name": "stdout",
     "output_type": "stream",
     "text": [
      "Document: Zemřít pro… not found in the db.\n",
      "Document: Zemřít pro… not found in the db.\n",
      "Document: Zemřít pro… not found in the db.\n"
     ]
    },
    {
     "name": "stderr",
     "output_type": "stream",
     "text": [
      " 42%|████▏     | 44723/107330 [15:25<31:54, 32.70it/s]"
     ]
    },
    {
     "name": "stdout",
     "output_type": "stream",
     "text": [
      "Document: Sonny & Cher not found in the db.\n"
     ]
    },
    {
     "name": "stderr",
     "output_type": "stream",
     "text": [
      " 42%|████▏     | 44952/107330 [15:30<30:19, 34.28it/s]"
     ]
    },
    {
     "name": "stdout",
     "output_type": "stream",
     "text": [
      "Document: Selena Gomez & the Scene not found in the db.\n"
     ]
    },
    {
     "name": "stderr",
     "output_type": "stream",
     "text": [
      " 42%|████▏     | 44969/107330 [15:31<28:46, 36.12it/s]"
     ]
    },
    {
     "name": "stdout",
     "output_type": "stream",
     "text": [
      "Document: Selena Gomez & the Scene not found in the db.\n",
      "Document: Selena Gomez & the Scene not found in the db.\n"
     ]
    },
    {
     "name": "stderr",
     "output_type": "stream",
     "text": [
      " 42%|████▏     | 45415/107330 [15:42<24:04, 42.85it/s]"
     ]
    },
    {
     "name": "stdout",
     "output_type": "stream",
     "text": [
      "Document: Jak vycvičit draka (film, 2010) not found in the db.\n"
     ]
    },
    {
     "name": "stderr",
     "output_type": "stream",
     "text": [
      " 44%|████▎     | 46853/107330 [16:11<20:03, 50.26it/s]  "
     ]
    },
    {
     "name": "stdout",
     "output_type": "stream",
     "text": [
      "Document: Jak vycvičit draka (film, 2010) not found in the db.\n"
     ]
    },
    {
     "name": "stderr",
     "output_type": "stream",
     "text": [
      " 44%|████▍     | 47328/107330 [16:20<27:30, 36.35it/s]"
     ]
    },
    {
     "name": "stdout",
     "output_type": "stream",
     "text": [
      "Document: Studio Pierrot not found in the db.\n"
     ]
    },
    {
     "name": "stderr",
     "output_type": "stream",
     "text": [
      " 44%|████▍     | 47389/107330 [16:22<22:26, 44.52it/s]"
     ]
    },
    {
     "name": "stdout",
     "output_type": "stream",
     "text": [
      "Document: Room 93 not found in the db.\n"
     ]
    },
    {
     "name": "stderr",
     "output_type": "stream",
     "text": [
      " 44%|████▍     | 47712/107330 [16:28<16:05, 61.77it/s]"
     ]
    },
    {
     "name": "stdout",
     "output_type": "stream",
     "text": [
      "Document: Jak vycvičit draka (film, 2010) not found in the db.\n"
     ]
    },
    {
     "name": "stderr",
     "output_type": "stream",
     "text": [
      " 45%|████▌     | 48429/107330 [16:42<15:08, 64.87it/s]"
     ]
    },
    {
     "name": "stdout",
     "output_type": "stream",
     "text": [
      "Document: Room 93 not found in the db.\n"
     ]
    },
    {
     "name": "stderr",
     "output_type": "stream",
     "text": [
      " 45%|████▌     | 48820/107330 [16:50<19:26, 50.18it/s]"
     ]
    },
    {
     "name": "stdout",
     "output_type": "stream",
     "text": [
      "Document: Molly Bernard not found in the db.\n"
     ]
    },
    {
     "name": "stderr",
     "output_type": "stream",
     "text": [
      " 47%|████▋     | 50560/107330 [17:25<20:11, 46.86it/s]"
     ]
    },
    {
     "name": "stdout",
     "output_type": "stream",
     "text": [
      "Document: Room 93 not found in the db.\n"
     ]
    },
    {
     "name": "stderr",
     "output_type": "stream",
     "text": [
      " 49%|████▉     | 52919/107330 [18:10<19:00, 47.72it/s]"
     ]
    },
    {
     "name": "stdout",
     "output_type": "stream",
     "text": [
      "Document: Molly Bernard not found in the db.\n"
     ]
    },
    {
     "name": "stderr",
     "output_type": "stream",
     "text": [
      " 50%|████▉     | 53169/107330 [18:15<18:43, 48.20it/s]"
     ]
    },
    {
     "name": "stdout",
     "output_type": "stream",
     "text": [
      "Document: Molly Bernard not found in the db.\n",
      "Document: Molly Bernard not found in the db.\n"
     ]
    },
    {
     "name": "stderr",
     "output_type": "stream",
     "text": [
      " 50%|█████     | 54099/107330 [18:40<23:37, 37.55it/s]  "
     ]
    },
    {
     "name": "stdout",
     "output_type": "stream",
     "text": [
      "Document: Room 93 not found in the db.\n",
      "Document: Room 93 not found in the db.\n",
      "Document: Room 93 not found in the db.\n",
      "Document: Room 93 not found in the db.\n"
     ]
    },
    {
     "name": "stderr",
     "output_type": "stream",
     "text": [
      " 51%|█████     | 55001/107330 [18:55<17:12, 50.67it/s]"
     ]
    },
    {
     "name": "stdout",
     "output_type": "stream",
     "text": [
      "Document: Sonny & Cher not found in the db.\n"
     ]
    },
    {
     "name": "stderr",
     "output_type": "stream",
     "text": [
      " 52%|█████▏    | 55826/107330 [19:13<16:59, 50.52it/s]"
     ]
    },
    {
     "name": "stdout",
     "output_type": "stream",
     "text": [
      "Document: Dungeons & Dragons not found in the db.\n",
      "Document: Dungeons & Dragons not found in the db.\n",
      "Document: Dungeons & Dragons not found in the db.\n"
     ]
    },
    {
     "name": "stderr",
     "output_type": "stream",
     "text": [
      " 53%|█████▎    | 56349/107330 [19:24<12:11, 69.74it/s]"
     ]
    },
    {
     "name": "stdout",
     "output_type": "stream",
     "text": [
      "Document: Studio Pierrot not found in the db.\n"
     ]
    },
    {
     "name": "stderr",
     "output_type": "stream",
     "text": [
      " 54%|█████▎    | 57671/107330 [19:48<12:35, 65.76it/s]"
     ]
    },
    {
     "name": "stdout",
     "output_type": "stream",
     "text": [
      "Document: Sonny & Cher not found in the db.\n"
     ]
    },
    {
     "name": "stderr",
     "output_type": "stream",
     "text": [
      " 54%|█████▍    | 57790/107330 [19:50<18:25, 44.82it/s]"
     ]
    },
    {
     "name": "stdout",
     "output_type": "stream",
     "text": [
      "Document: Jak vycvičit draka (film, 2010) not found in the db.\n"
     ]
    },
    {
     "name": "stderr",
     "output_type": "stream",
     "text": [
      " 54%|█████▍    | 57855/107330 [19:52<17:34, 46.92it/s]"
     ]
    },
    {
     "name": "stdout",
     "output_type": "stream",
     "text": [
      "Document: Room 93 not found in the db.\n"
     ]
    },
    {
     "name": "stderr",
     "output_type": "stream",
     "text": [
      " 54%|█████▍    | 58297/107330 [20:00<21:30, 37.99it/s]"
     ]
    },
    {
     "name": "stdout",
     "output_type": "stream",
     "text": [
      "Document: Molly Bernard not found in the db.\n",
      "Document: Molly Bernard not found in the db.\n"
     ]
    },
    {
     "name": "stderr",
     "output_type": "stream",
     "text": [
      " 55%|█████▌    | 59270/107330 [20:20<14:41, 54.50it/s]"
     ]
    },
    {
     "name": "stdout",
     "output_type": "stream",
     "text": [
      "Document: Jak vycvičit draka (film, 2010) not found in the db.\n"
     ]
    },
    {
     "name": "stderr",
     "output_type": "stream",
     "text": [
      " 56%|█████▌    | 59959/107330 [20:33<12:45, 61.86it/s]"
     ]
    },
    {
     "name": "stdout",
     "output_type": "stream",
     "text": [
      "Document: Studio Pierrot not found in the db.\n",
      "Document: Studio Pierrot not found in the db.\n",
      "Document: Studio Pierrot not found in the db.\n"
     ]
    },
    {
     "name": "stderr",
     "output_type": "stream",
     "text": [
      " 56%|█████▌    | 60209/107330 [20:38<13:29, 58.24it/s]"
     ]
    },
    {
     "name": "stdout",
     "output_type": "stream",
     "text": [
      "Document: Studio Pierrot not found in the db.\n",
      "Document: Studio Pierrot not found in the db.\n",
      "Document: Studio Pierrot not found in the db.\n"
     ]
    },
    {
     "name": "stderr",
     "output_type": "stream",
     "text": [
      " 56%|█████▌    | 60227/107330 [20:39<13:24, 58.52it/s]"
     ]
    },
    {
     "name": "stdout",
     "output_type": "stream",
     "text": [
      "Document: Jak vycvičit draka (film, 2010) not found in the db.\n"
     ]
    },
    {
     "name": "stderr",
     "output_type": "stream",
     "text": [
      " 57%|█████▋    | 60866/107330 [20:50<10:45, 71.93it/s]"
     ]
    },
    {
     "name": "stdout",
     "output_type": "stream",
     "text": [
      "Document: Studio Pierrot not found in the db.\n"
     ]
    },
    {
     "name": "stderr",
     "output_type": "stream",
     "text": [
      " 58%|█████▊    | 62249/107330 [21:19<12:19, 60.99it/s]"
     ]
    },
    {
     "name": "stdout",
     "output_type": "stream",
     "text": [
      "Document: Studio Pierrot not found in the db.\n"
     ]
    },
    {
     "name": "stderr",
     "output_type": "stream",
     "text": [
      " 58%|█████▊    | 62403/107330 [21:21<09:17, 80.54it/s]"
     ]
    },
    {
     "name": "stdout",
     "output_type": "stream",
     "text": [
      "Document: Dungeons & Dragons not found in the db.\n"
     ]
    },
    {
     "name": "stderr",
     "output_type": "stream",
     "text": [
      " 59%|█████▉    | 63639/107330 [21:47<17:41, 41.18it/s]"
     ]
    },
    {
     "name": "stdout",
     "output_type": "stream",
     "text": [
      "Document: Studio Pierrot not found in the db.\n"
     ]
    },
    {
     "name": "stderr",
     "output_type": "stream",
     "text": [
      " 60%|█████▉    | 64314/107330 [22:00<13:34, 52.79it/s]"
     ]
    },
    {
     "name": "stdout",
     "output_type": "stream",
     "text": [
      "Document: Sonny & Cher not found in the db.\n",
      "Document: Sonny & Cher not found in the db.\n",
      "Document: Sonny & Cher not found in the db.\n",
      "Document: Sonny & Cher not found in the db.\n"
     ]
    },
    {
     "name": "stderr",
     "output_type": "stream",
     "text": [
      " 60%|██████    | 64875/107330 [22:13<24:30, 28.87it/s]"
     ]
    },
    {
     "name": "stdout",
     "output_type": "stream",
     "text": [
      "Document: Selena Gomez & the Scene not found in the db.\n"
     ]
    },
    {
     "name": "stderr",
     "output_type": "stream",
     "text": [
      " 61%|██████▏   | 65942/107330 [22:36<11:56, 57.74it/s]"
     ]
    },
    {
     "name": "stdout",
     "output_type": "stream",
     "text": [
      "Document: Dungeons & Dragons not found in the db.\n"
     ]
    },
    {
     "name": "stderr",
     "output_type": "stream",
     "text": [
      " 61%|██████▏   | 65961/107330 [22:36<15:00, 45.93it/s]"
     ]
    },
    {
     "name": "stdout",
     "output_type": "stream",
     "text": [
      "Document: Sonny & Cher not found in the db.\n",
      "Document: Sonny & Cher not found in the db.\n"
     ]
    },
    {
     "name": "stderr",
     "output_type": "stream",
     "text": [
      " 62%|██████▏   | 66370/107330 [22:46<15:50, 43.11it/s]"
     ]
    },
    {
     "name": "stdout",
     "output_type": "stream",
     "text": [
      "Document: Studio Pierrot not found in the db.\n",
      "Document: Studio Pierrot not found in the db.\n",
      "Document: Studio Pierrot not found in the db.\n"
     ]
    },
    {
     "name": "stderr",
     "output_type": "stream",
     "text": [
      " 62%|██████▏   | 66939/107330 [22:56<13:03, 51.57it/s]"
     ]
    },
    {
     "name": "stdout",
     "output_type": "stream",
     "text": [
      "Document: Jak vycvičit draka (film, 2010) not found in the db.\n",
      "Document: Jak vycvičit draka (film, 2010) not found in the db.\n"
     ]
    },
    {
     "name": "stderr",
     "output_type": "stream",
     "text": [
      " 62%|██████▏   | 67043/107330 [22:58<14:36, 45.95it/s]"
     ]
    },
    {
     "name": "stdout",
     "output_type": "stream",
     "text": [
      "Document: Zemřít pro… not found in the db.\n"
     ]
    },
    {
     "name": "stderr",
     "output_type": "stream",
     "text": [
      " 63%|██████▎   | 68115/107330 [23:19<12:30, 52.25it/s]"
     ]
    },
    {
     "name": "stdout",
     "output_type": "stream",
     "text": [
      "Document: Room 93 not found in the db.\n",
      "Document: Room 93 not found in the db.\n",
      "Document: Room 93 not found in the db.\n",
      "Document: Room 93 not found in the db.\n",
      "Document: Room 93 not found in the db.\n",
      "Document: Room 93 not found in the db.\n",
      "Document: Room 93 not found in the db.\n",
      "Document: Room 93 not found in the db.\n",
      "Document: Room 93 not found in the db.\n",
      "Document: Room 93 not found in the db.\n",
      "Document: Room 93 not found in the db.\n"
     ]
    },
    {
     "name": "stderr",
     "output_type": "stream",
     "text": [
      " 64%|██████▍   | 68708/107330 [23:31<11:35, 55.52it/s]"
     ]
    },
    {
     "name": "stdout",
     "output_type": "stream",
     "text": [
      "Document: Zemřít pro… not found in the db.\n"
     ]
    },
    {
     "name": "stderr",
     "output_type": "stream",
     "text": [
      " 64%|██████▍   | 68954/107330 [23:36<16:19, 39.18it/s]"
     ]
    },
    {
     "name": "stdout",
     "output_type": "stream",
     "text": [
      "Document: Zemřít pro… not found in the db.\n",
      "Document: Zemřít pro… not found in the db.\n",
      "Document: Zemřít pro… not found in the db.\n"
     ]
    },
    {
     "name": "stderr",
     "output_type": "stream",
     "text": [
      " 65%|██████▍   | 69728/107330 [23:52<11:31, 54.36it/s]"
     ]
    },
    {
     "name": "stdout",
     "output_type": "stream",
     "text": [
      "Document: Studio Pierrot not found in the db.\n",
      "Document: Molly Bernard not found in the db.\n"
     ]
    },
    {
     "name": "stderr",
     "output_type": "stream",
     "text": [
      " 67%|██████▋   | 71472/107330 [24:25<23:28, 25.47it/s]"
     ]
    },
    {
     "name": "stdout",
     "output_type": "stream",
     "text": [
      "Document: Molly Bernard not found in the db.\n"
     ]
    },
    {
     "name": "stderr",
     "output_type": "stream",
     "text": [
      " 67%|██████▋   | 71637/107330 [24:28<11:06, 53.58it/s]"
     ]
    },
    {
     "name": "stdout",
     "output_type": "stream",
     "text": [
      "Document: Molly Bernard not found in the db.\n"
     ]
    },
    {
     "name": "stderr",
     "output_type": "stream",
     "text": [
      " 67%|██████▋   | 72418/107330 [24:45<10:46, 54.03it/s]"
     ]
    },
    {
     "name": "stdout",
     "output_type": "stream",
     "text": [
      "Document: Zemřít pro… not found in the db.\n",
      "Document: Zemřít pro… not found in the db.\n",
      "Document: Zemřít pro… not found in the db.\n",
      "Document: Zemřít pro… not found in the db.\n"
     ]
    },
    {
     "name": "stderr",
     "output_type": "stream",
     "text": [
      " 68%|██████▊   | 72648/107330 [24:50<12:25, 46.53it/s]"
     ]
    },
    {
     "name": "stdout",
     "output_type": "stream",
     "text": [
      "Document: Room 93 not found in the db.\n"
     ]
    },
    {
     "name": "stderr",
     "output_type": "stream",
     "text": [
      " 68%|██████▊   | 72930/107330 [24:56<17:51, 32.11it/s]"
     ]
    },
    {
     "name": "stdout",
     "output_type": "stream",
     "text": [
      "Document: Room 93 not found in the db.\n",
      "Document: Room 93 not found in the db.\n",
      "Document: Room 93 not found in the db.\n",
      "Document: Room 93 not found in the db.\n",
      "Document: Room 93 not found in the db.\n",
      "Document: Room 93 not found in the db.\n",
      "Document: Room 93 not found in the db.\n",
      "Document: Room 93 not found in the db.\n",
      "Document: Room 93 not found in the db.\n",
      "Document: Room 93 not found in the db.\n",
      "Document: Room 93 not found in the db.\n"
     ]
    },
    {
     "name": "stderr",
     "output_type": "stream",
     "text": [
      " 69%|██████▉   | 74544/107330 [25:31<08:00, 68.19it/s]"
     ]
    },
    {
     "name": "stdout",
     "output_type": "stream",
     "text": [
      "Document: Room 93 not found in the db.\n"
     ]
    },
    {
     "name": "stderr",
     "output_type": "stream",
     "text": [
      " 70%|███████   | 75475/107330 [25:50<08:48, 60.25it/s]"
     ]
    },
    {
     "name": "stdout",
     "output_type": "stream",
     "text": [
      "Document: Selena Gomez & the Scene not found in the db.\n"
     ]
    },
    {
     "name": "stderr",
     "output_type": "stream",
     "text": [
      " 71%|███████   | 75828/107330 [25:58<07:01, 74.69it/s]"
     ]
    },
    {
     "name": "stdout",
     "output_type": "stream",
     "text": [
      "Document: Room 93 not found in the db.\n"
     ]
    },
    {
     "name": "stderr",
     "output_type": "stream",
     "text": [
      " 72%|███████▏  | 77785/107330 [26:38<12:46, 38.55it/s]"
     ]
    },
    {
     "name": "stdout",
     "output_type": "stream",
     "text": [
      "Document: Zemřít pro… not found in the db.\n"
     ]
    },
    {
     "name": "stderr",
     "output_type": "stream",
     "text": [
      " 73%|███████▎  | 78260/107330 [26:48<09:07, 53.09it/s]"
     ]
    },
    {
     "name": "stdout",
     "output_type": "stream",
     "text": [
      "Document: Molly Bernard not found in the db.\n"
     ]
    },
    {
     "name": "stderr",
     "output_type": "stream",
     "text": [
      " 74%|███████▎  | 79105/107330 [27:04<12:28, 37.72it/s]"
     ]
    },
    {
     "name": "stdout",
     "output_type": "stream",
     "text": [
      "Document: Molly Bernard not found in the db.\n"
     ]
    },
    {
     "name": "stderr",
     "output_type": "stream",
     "text": [
      " 75%|███████▍  | 80180/107330 [27:26<06:20, 71.41it/s]"
     ]
    },
    {
     "name": "stdout",
     "output_type": "stream",
     "text": [
      "Document: Room 93 not found in the db.\n"
     ]
    },
    {
     "name": "stderr",
     "output_type": "stream",
     "text": [
      " 76%|███████▌  | 81175/107330 [27:45<08:47, 49.60it/s]"
     ]
    },
    {
     "name": "stdout",
     "output_type": "stream",
     "text": [
      "Document: Molly Bernard not found in the db.\n"
     ]
    },
    {
     "name": "stderr",
     "output_type": "stream",
     "text": [
      " 78%|███████▊  | 84007/107330 [28:43<08:47, 44.23it/s]"
     ]
    },
    {
     "name": "stdout",
     "output_type": "stream",
     "text": [
      "Document: Dungeons & Dragons not found in the db.\n",
      "Document: Dungeons & Dragons not found in the db.\n",
      "Document: Dungeons & Dragons not found in the db.\n",
      "Document: Dungeons & Dragons not found in the db.\n",
      "Document: Dungeons & Dragons not found in the db.\n",
      "Document: Dungeons & Dragons not found in the db.\n",
      "Document: Dungeons & Dragons not found in the db.\n"
     ]
    },
    {
     "name": "stderr",
     "output_type": "stream",
     "text": [
      " 79%|███████▉  | 84785/107330 [29:01<07:56, 47.33it/s]"
     ]
    },
    {
     "name": "stdout",
     "output_type": "stream",
     "text": [
      "Document: Studio Pierrot not found in the db.\n"
     ]
    },
    {
     "name": "stderr",
     "output_type": "stream",
     "text": [
      " 80%|████████  | 86017/107330 [29:25<06:18, 56.33it/s]"
     ]
    },
    {
     "name": "stdout",
     "output_type": "stream",
     "text": [
      "Document: Sonny & Cher not found in the db.\n",
      "Document: Sonny & Cher not found in the db.\n"
     ]
    },
    {
     "name": "stderr",
     "output_type": "stream",
     "text": [
      " 83%|████████▎ | 88657/107330 [30:18<08:17, 37.53it/s]"
     ]
    },
    {
     "name": "stdout",
     "output_type": "stream",
     "text": [
      "Document: Room 93 not found in the db.\n"
     ]
    },
    {
     "name": "stderr",
     "output_type": "stream",
     "text": [
      " 83%|████████▎ | 89402/107330 [30:35<05:38, 52.94it/s]"
     ]
    },
    {
     "name": "stdout",
     "output_type": "stream",
     "text": [
      "Document: Molly Bernard not found in the db.\n"
     ]
    },
    {
     "name": "stderr",
     "output_type": "stream",
     "text": [
      " 84%|████████▍ | 90366/107330 [30:54<05:28, 51.58it/s]"
     ]
    },
    {
     "name": "stdout",
     "output_type": "stream",
     "text": [
      "Document: Molly Bernard not found in the db.\n"
     ]
    },
    {
     "name": "stderr",
     "output_type": "stream",
     "text": [
      " 85%|████████▍ | 91108/107330 [31:10<06:56, 38.94it/s]"
     ]
    },
    {
     "name": "stdout",
     "output_type": "stream",
     "text": [
      "Document: Studio Pierrot not found in the db.\n"
     ]
    },
    {
     "name": "stderr",
     "output_type": "stream",
     "text": [
      " 86%|████████▌ | 92226/107330 [31:30<04:32, 55.49it/s]"
     ]
    },
    {
     "name": "stdout",
     "output_type": "stream",
     "text": [
      "Document: Sonny & Cher not found in the db.\n"
     ]
    },
    {
     "name": "stderr",
     "output_type": "stream",
     "text": [
      " 86%|████████▋ | 92783/107330 [31:43<05:51, 41.33it/s]"
     ]
    },
    {
     "name": "stdout",
     "output_type": "stream",
     "text": [
      "Document: Dungeons & Dragons not found in the db.\n"
     ]
    },
    {
     "name": "stderr",
     "output_type": "stream",
     "text": [
      " 87%|████████▋ | 93047/107330 [31:49<03:45, 63.40it/s]"
     ]
    },
    {
     "name": "stdout",
     "output_type": "stream",
     "text": [
      "Document: Molly Bernard not found in the db.\n"
     ]
    },
    {
     "name": "stderr",
     "output_type": "stream",
     "text": [
      " 87%|████████▋ | 93165/107330 [31:51<05:00, 47.17it/s]"
     ]
    },
    {
     "name": "stdout",
     "output_type": "stream",
     "text": [
      "Document: Dungeons & Dragons not found in the db.\n"
     ]
    },
    {
     "name": "stderr",
     "output_type": "stream",
     "text": [
      " 88%|████████▊ | 94242/107330 [32:14<06:07, 35.65it/s]"
     ]
    },
    {
     "name": "stdout",
     "output_type": "stream",
     "text": [
      "Document: Room 93 not found in the db.\n"
     ]
    },
    {
     "name": "stderr",
     "output_type": "stream",
     "text": [
      " 88%|████████▊ | 94580/107330 [32:21<04:00, 53.08it/s]"
     ]
    },
    {
     "name": "stdout",
     "output_type": "stream",
     "text": [
      "Document: Selena Gomez & the Scene not found in the db.\n"
     ]
    },
    {
     "name": "stderr",
     "output_type": "stream",
     "text": [
      " 88%|████████▊ | 94945/107330 [32:29<04:14, 48.70it/s]"
     ]
    },
    {
     "name": "stdout",
     "output_type": "stream",
     "text": [
      "Document: Zemřít pro… not found in the db.\n"
     ]
    },
    {
     "name": "stderr",
     "output_type": "stream",
     "text": [
      " 89%|████████▉ | 96015/107330 [32:53<03:09, 59.65it/s]"
     ]
    },
    {
     "name": "stdout",
     "output_type": "stream",
     "text": [
      "Document: Zemřít pro… not found in the db.\n"
     ]
    },
    {
     "name": "stderr",
     "output_type": "stream",
     "text": [
      " 90%|████████▉ | 96143/107330 [32:56<04:27, 41.83it/s]"
     ]
    },
    {
     "name": "stdout",
     "output_type": "stream",
     "text": [
      "Document: Molly Bernard not found in the db.\n"
     ]
    },
    {
     "name": "stderr",
     "output_type": "stream",
     "text": [
      " 90%|████████▉ | 96299/107330 [32:59<03:49, 48.14it/s]"
     ]
    },
    {
     "name": "stdout",
     "output_type": "stream",
     "text": [
      "Document: Room 93 not found in the db.\n"
     ]
    },
    {
     "name": "stderr",
     "output_type": "stream",
     "text": [
      " 90%|█████████ | 96606/107330 [33:06<03:03, 58.59it/s]"
     ]
    },
    {
     "name": "stdout",
     "output_type": "stream",
     "text": [
      "Document: Dungeons & Dragons not found in the db.\n"
     ]
    },
    {
     "name": "stderr",
     "output_type": "stream",
     "text": [
      " 93%|█████████▎| 100145/107330 [34:19<03:27, 34.67it/s]"
     ]
    },
    {
     "name": "stdout",
     "output_type": "stream",
     "text": [
      "Document: Dungeons & Dragons not found in the db.\n",
      "Document: Dungeons & Dragons not found in the db.\n",
      "Document: Dungeons & Dragons not found in the db.\n",
      "Document: Dungeons & Dragons not found in the db.\n"
     ]
    },
    {
     "name": "stderr",
     "output_type": "stream",
     "text": [
      " 93%|█████████▎| 100265/107330 [34:21<01:54, 61.44it/s]"
     ]
    },
    {
     "name": "stdout",
     "output_type": "stream",
     "text": [
      "Document: Selena Gomez & the Scene not found in the db.\n"
     ]
    },
    {
     "name": "stderr",
     "output_type": "stream",
     "text": [
      " 94%|█████████▍| 100667/107330 [34:30<02:13, 49.87it/s]"
     ]
    },
    {
     "name": "stdout",
     "output_type": "stream",
     "text": [
      "Document: Jak vycvičit draka (film, 2010) not found in the db.\n",
      "Document: Jak vycvičit draka (film, 2010) not found in the db.\n"
     ]
    },
    {
     "name": "stderr",
     "output_type": "stream",
     "text": [
      " 94%|█████████▍| 101083/107330 [34:40<01:54, 54.77it/s]"
     ]
    },
    {
     "name": "stdout",
     "output_type": "stream",
     "text": [
      "Document: Molly Bernard not found in the db.\n"
     ]
    },
    {
     "name": "stderr",
     "output_type": "stream",
     "text": [
      " 95%|█████████▍| 101806/107330 [34:56<01:56, 47.56it/s]"
     ]
    },
    {
     "name": "stdout",
     "output_type": "stream",
     "text": [
      "Document: Room 93 not found in the db.\n"
     ]
    },
    {
     "name": "stderr",
     "output_type": "stream",
     "text": [
      " 95%|█████████▍| 101959/107330 [34:59<01:56, 46.22it/s]"
     ]
    },
    {
     "name": "stdout",
     "output_type": "stream",
     "text": [
      "Document: Selena Gomez & the Scene not found in the db.\n"
     ]
    },
    {
     "name": "stderr",
     "output_type": "stream",
     "text": [
      " 96%|█████████▌| 103042/107330 [35:22<01:03, 67.86it/s]"
     ]
    },
    {
     "name": "stdout",
     "output_type": "stream",
     "text": [
      "Document: Selena Gomez & the Scene not found in the db.\n",
      "Document: Selena Gomez & the Scene not found in the db.\n"
     ]
    },
    {
     "name": "stderr",
     "output_type": "stream",
     "text": [
      " 97%|█████████▋| 104246/107330 [35:50<01:05, 46.98it/s]"
     ]
    },
    {
     "name": "stdout",
     "output_type": "stream",
     "text": [
      "Document: Room 93 not found in the db.\n"
     ]
    },
    {
     "name": "stderr",
     "output_type": "stream",
     "text": [
      " 97%|█████████▋| 104594/107330 [35:57<00:48, 56.67it/s]"
     ]
    },
    {
     "name": "stdout",
     "output_type": "stream",
     "text": [
      "Document: Zemřít pro… not found in the db.\n"
     ]
    },
    {
     "name": "stderr",
     "output_type": "stream",
     "text": [
      " 98%|█████████▊| 104970/107330 [36:06<01:22, 28.66it/s]"
     ]
    },
    {
     "name": "stdout",
     "output_type": "stream",
     "text": [
      "Document: Studio Pierrot not found in the db.\n"
     ]
    },
    {
     "name": "stderr",
     "output_type": "stream",
     "text": [
      " 99%|█████████▊| 105912/107330 [36:24<00:19, 74.47it/s]"
     ]
    },
    {
     "name": "stdout",
     "output_type": "stream",
     "text": [
      "Document: Dungeons & Dragons not found in the db.\n",
      "Document: Room 93 not found in the db.\n"
     ]
    },
    {
     "name": "stderr",
     "output_type": "stream",
     "text": [
      " 99%|█████████▉| 106384/107330 [36:33<00:17, 54.61it/s]"
     ]
    },
    {
     "name": "stdout",
     "output_type": "stream",
     "text": [
      "Document: Jak vycvičit draka (film, 2010) not found in the db.\n",
      "Document: Jak vycvičit draka (film, 2010) not found in the db.\n",
      "Document: Jak vycvičit draka (film, 2010) not found in the db.\n",
      "Document: Jak vycvičit draka (film, 2010) not found in the db.\n",
      "Document: Jak vycvičit draka (film, 2010) not found in the db.\n"
     ]
    },
    {
     "name": "stderr",
     "output_type": "stream",
     "text": [
      "100%|█████████▉| 106903/107330 [36:43<00:09, 45.40it/s]"
     ]
    },
    {
     "name": "stdout",
     "output_type": "stream",
     "text": [
      "Document: Studio Pierrot not found in the db.\n"
     ]
    },
    {
     "name": "stderr",
     "output_type": "stream",
     "text": [
      "100%|██████████| 107330/107330 [36:52<00:00, 48.51it/s]\n"
     ]
    }
   ],
   "source": [
    "train_tsv = get_tsv_file(train_claims, collection)"
   ]
  },
  {
   "cell_type": "code",
   "execution_count": 85,
   "metadata": {},
   "outputs": [],
   "source": [
    "def save(output_file, data):\n",
    "    with open(output_file, 'w') as fw:\n",
    "        for row in data:\n",
    "            fw.write(row)"
   ]
  },
  {
   "cell_type": "code",
   "execution_count": 86,
   "metadata": {},
   "outputs": [],
   "source": [
    "train_out = f'{ROOT}train.tsv'\n",
    "dev_out = f'{ROOT}dev.tsv'"
   ]
  },
  {
   "cell_type": "code",
   "execution_count": 87,
   "metadata": {},
   "outputs": [
    {
     "data": {
      "text/plain": [
       "'/home/ryparmar/fever-cs-deepl/train.tsv'"
      ]
     },
     "execution_count": 87,
     "metadata": {},
     "output_type": "execute_result"
    }
   ],
   "source": [
    "train_out"
   ]
  },
  {
   "cell_type": "code",
   "execution_count": 88,
   "metadata": {},
   "outputs": [],
   "source": [
    "# save(train_out, train_tsv)\n",
    "save(dev_out, dev_tsv)"
   ]
  },
  {
   "cell_type": "code",
   "execution_count": 37,
   "metadata": {},
   "outputs": [
    {
     "name": "stdout",
     "output_type": "stream",
     "text": [
      "dev.jsonl  dev.tsv  test.jsonl\ttrain.jsonl  train.tsv\r\n"
     ]
    }
   ],
   "source": [
    "!ls /mnt/data/factcheck/fever/data-cs/fever-data/"
   ]
  },
  {
   "cell_type": "code",
   "execution_count": 38,
   "metadata": {},
   "outputs": [
    {
     "name": "stdout",
     "output_type": "stream",
     "text": [
      "Sammy Cahn byl americký hudebník narozený v roce 1913.\tSammy Cahn , rodným jménem Samuel Cohen , ( 18. června 1913 – 15. ledna 1993 ) byl americký textař . Narodil se v New Yorku jako jediný syn židovských přistěhovalců z Haliče . Je autortem textů k muzikálu `` Walking Happy '' ( hudbu složil Jimmy Van Heusen ) , který byl roku 1966 představen na Broadwayi . V roce 1983 byl uveden do Songwriters Hall of Fame . Zemřel na srdeční selhání ve věku 79 let . Pohřben byl na Westwood Village Memorial Park Cemetery . Jeho synem byl kytarista Steve Khan .\tPyssa nebo také Tyssa ( nebo ) je řeka v Republice Komi v Rusku . Je 164 km dlouhá . Povodí má rozlohu 1160 km2 .\r\n"
     ]
    }
   ],
   "source": [
    "!head -n 1 /mnt/data/factcheck/fever/data-cs/fever-data/dev.tsv"
   ]
  },
  {
   "cell_type": "code",
   "execution_count": 39,
   "metadata": {},
   "outputs": [
    {
     "name": "stdout",
     "output_type": "stream",
     "text": [
      "Nelson Mandela zavedl bezplatnou zdravotní péči.\tNelson Rolihlahla Mandela ( 18. července 1918 – 5. prosince 2013 ) byl jihoafrický bojovník proti apartheidu , politik a prezident Jihoafrické republiky v letech 1994 až 1999 . Byl prvním černošským prezidentem zvoleným v prvních svobodných volbách v historii Jihoafrické republiky . Jeho vláda se soustředila na likvidaci dědictví apartheidu , zaměřovala se na institucionalizovaný rasismus , chudobu a sociální nerovnost , a zprostředkovala mezirasové usmíření v zemi . Politicky se hlásil k africkému nacionalismu a demokratickému socialismu . V letech 1991 až 1997 byl prezidentem Afrického národního kongresu . V mezinárodní politice byl generálním tajemníkem Hnutí nezúčastněných zemí v letech 1998 až 1999 . Narodil se jako příslušník královské rodiny národa Xhosů . Vystudoval právo na univerzitách v Alice a Johannesburgu . Po studiích se přidal k Africkému národnímu kongresu a stal se zakladatelem jeho mládežnické organizace . Poté co se moci v roce 1948 chopila Národní strana začal Mandelův význam ve straně vzrůstat . Během své právnické praxe byl několikrát zatčen kvůli podvratným aktivitám a spolu s vedením Afrického národního kongresu byl neúspěšně obžalován v letech 1956 až 1961 . Ovlivněn marxismem se tajně stal členem Jihoafrické komunistické strany zasedl v jejím ústředním výboru . Ačkoliv byl původně odhodlaným stoupencem nenásíli , v roce 1961 ve spolupráci s jihoamerickými komunisty spoluzaložil militantní skupinu Umkhonto we Sizwe za účelem vedení sabotážní kampaně proti vládě apartheidu . V roce 1962 byl zatčen , usvědčen ze spiknutí s cílem svržení režimu a odsouzen k doživotnímu odnětí svobody . Mandela strávil 27 let ve vězení , nejdříve na Robben Island poté ve věznicích v Kapském Městě a Paarlu . Zatím sílila mezinárodní kampaň za jeho propuštění , k němuž došlo v roce 1990 , během eskalace občanských nepokojů . Mandela se zapojil do jednání s prezidentem de Klerkem s cílem ukončit režim apartheidu a ustanovení všeobecných svobodných voleb , v nichž dovedl Africký národní kongres k vítězství a stal se prvním černošským prezidentem Jihoafrické republiky . Do své vlády národní jednoty přizval členy ostatních jihoafrických politických stran a vytvořil novou ústavu . Nechal vytvořit Komisi pro pravdu a usmíření jejímž cílem bylo vyšetřování porušování lidských práv režimem apartheidu . Zatímco pokračoval v liberálně ekonomické politice předchozí vlády a podporoval pozemkovou reformu , bojoval proti chudobě a zlepšoval zdravotní péči . V mezinárodní politice působil jako mediátor mezi Libyí a Spojeným královstvím během Aféry Lockerbie a dohlížel na intervenci Jihoafrického rozvojového společenství v Lesothu . Odmítl kandidovat ve druhém funkčním období a byl vystřídán svým zástupcem Thabo Mbekim . Mandela se stal státníkem na odpočinku věnujícím se charitě a boji proti chudobě a AIDS . Dne 5. prosince 2013 , po dlouhé léčbě plicní infekce , této nemoci nakonec podlehl . Mandela byl po celý svůj život kontroverzní osobnosti . Odsuzován jako komunistický terorista , i přesto však získal mezinárodní uznání pro svůj aktivismus . Mimo jiné v roce 1988 obdržel Sacharovovu cenu za svobodu myšlení a v roce 1993 spolu s de Klerkem Nobelovu cenu míru . Mezi jeho mnohá ocenění patří jak americká Prezidentská medaile svobody tak sovětský Leninův řád . V roce 2009 prohlásilo Valné shromáždění OSN 18. červenec , den Mandelových narozenin , Mezinárodním dnem Nelsona Mandely . V Jihoafrické republice je považován za `` Otce národa '' , často je nazýván svým klanovým jménem Madiba nebo jako Tata ( otec ) .\tPortugalské království bylo zrušeno v roce 1910 , tudíž jsou současní následníci portugalského trůnu pretendenti . Současnou hlavou portugalské královské rodiny je `` Jeho královská výsost '' Duarte Pio , vévoda z Braganzy . Duarte Pio je pravnukem portugalského ( vzdoro ) krále Michala I . Pokud by se jednou stal králem , vládl by pod jménem Duarte II . ( Eduard II . ) Pretendentem trůnu a vévodou z Braganzy se stal v roce 1976 po smrti jeho otce Duarta Nuna . Ten byl pretendentem od roku 1932 , kdy zemřel poslední portugalský král Manuel II. , který neměl žádné bližší příbuzné , kteří by mohli zdědit trůnu . Byl tak ukončen spor mezi vládnucí linií ( která Manuelem II . vymřela ) a miguelistickou linií . Následnictví portugalského trůnu se řídilo podle primogenitury ( kognatické , muži mají přednost před ženami ) . Následníkem trůnu se mohl stát pouze člověk narozený v Portugalsku a z právoplatného manželství , tím pádem cizinec nemohl získat korunu . Tím se také mělo zamezit spojení portugalské koruny s jiným státem .\r\n"
     ]
    }
   ],
   "source": [
    "!head -n 1 /mnt/data/factcheck/fever/data-cs/fever-data/train.tsv"
   ]
  },
  {
   "cell_type": "code",
   "execution_count": null,
   "metadata": {},
   "outputs": [],
   "source": []
  }
 ],
 "metadata": {
  "kernelspec": {
   "display_name": "Python 3",
   "language": "python",
   "name": "python3"
  },
  "language_info": {
   "codemirror_mode": {
    "name": "ipython",
    "version": 3
   },
   "file_extension": ".py",
   "mimetype": "text/x-python",
   "name": "python",
   "nbconvert_exporter": "python",
   "pygments_lexer": "ipython3",
   "version": "3.7.4"
  }
 },
 "nbformat": 4,
 "nbformat_minor": 2
}
