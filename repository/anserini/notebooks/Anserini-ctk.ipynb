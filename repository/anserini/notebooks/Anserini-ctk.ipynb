{
 "cells": [
  {
   "cell_type": "code",
   "execution_count": 1,
   "metadata": {},
   "outputs": [],
   "source": [
    "#!python -m pip install pyserini --user\n",
    "#!python -m pip install jsonlines --user"
   ]
  },
  {
   "cell_type": "code",
   "execution_count": 19,
   "metadata": {},
   "outputs": [],
   "source": [
    "import sqlite3\n",
    "import pandas as pd\n",
    "import jsonlines\n",
    "import json"
   ]
  },
  {
   "cell_type": "markdown",
   "metadata": {},
   "source": [
    "# Run on CTK data"
   ]
  },
  {
   "cell_type": "code",
   "execution_count": 1,
   "metadata": {},
   "outputs": [
    {
     "name": "stdout",
     "output_type": "stream",
     "text": [
      "ctk-data  emb  index  info.txt\tinterim  interim~  predictions\traw\r\n"
     ]
    }
   ],
   "source": [
    "DATAFOLDER='/mnt/data/factcheck/CTK/par5'\n",
    "!ls {DATAFOLDER}"
   ]
  },
  {
   "cell_type": "code",
   "execution_count": 2,
   "metadata": {},
   "outputs": [
    {
     "name": "stdout",
     "output_type": "stream",
     "text": [
      "161 /mnt/data/factcheck/CTK/par5/ctk-data/dev.jsonl\n",
      "9999 /home/ryparmar/pyserini/fever/paper_dev.jsonl\n"
     ]
    }
   ],
   "source": [
    "!wc -l {DATAFOLDER}/ctk-data/dev.jsonl\n",
    "!wc -l /home/ryparmar/pyserini/fever/paper_dev.jsonl"
   ]
  },
  {
   "cell_type": "code",
   "execution_count": 3,
   "metadata": {},
   "outputs": [
    {
     "name": "stdout",
     "output_type": "stream",
     "text": [
      "collection.tsv\t\t ctk.jsonl\tctk_filtered.db\r\n",
      "collection_filtered.tsv  ctk.jsonl.all\tlogs\r\n",
      "ctk.db\t\t\t ctk.jsonl.err\told-id2new-id.tsv\r\n"
     ]
    }
   ],
   "source": [
    "!ls {DATAFOLDER}/interim"
   ]
  },
  {
   "cell_type": "code",
   "execution_count": 4,
   "metadata": {},
   "outputs": [
    {
     "name": "stdout",
     "output_type": "stream",
     "text": [
      "40659844 /mnt/data/factcheck/CTK/par5/interim/ctk.jsonl\r\n"
     ]
    }
   ],
   "source": [
    "!wc -l {DATAFOLDER}/interim/ctk.jsonl"
   ]
  },
  {
   "cell_type": "markdown",
   "metadata": {},
   "source": [
    "## Convert .db file into jsonl file"
   ]
  },
  {
   "cell_type": "code",
   "execution_count": 20,
   "metadata": {},
   "outputs": [],
   "source": [
    "def load_db(path: str, limit=None):\n",
    "    \"\"\"\n",
    "    Return documents (column: text) and document ids (column: id)\n",
    "    FEVER db returns wiki abstracts (single paragraphs) and document names (=id)\n",
    "    CTK db returns paragraphs and paragraph ids\n",
    "    \"\"\"\n",
    "    # Create the connection\n",
    "    connection = sqlite3.connect(path)\n",
    "    # Create the dataframe from a query\n",
    "    if limit:\n",
    "        data = pd.read_sql_query(f\"SELECT * FROM documents LIMIT {limit}\", connection)\n",
    "    else:\n",
    "        data = pd.read_sql_query(\"SELECT * FROM documents\", connection)\n",
    "    return list(data.text.values), list(data.id.values)\n",
    "\n",
    "def save_jsonl(data: list, ids: list, output_path: str, append=False):\n",
    "    \"\"\"Write list of objects to a JSON lines file.\"\"\"\n",
    "    mode = 'a+' if append else 'w'\n",
    "    assert len(data) == len(ids)\n",
    "    with open(output_path, mode, encoding='utf-8') as f:\n",
    "        for i in range(len(data)):\n",
    "            json_record = json.dumps({'id': ids[i], \n",
    "                                      'text': data[i]}, ensure_ascii=False)\n",
    "            f.write(json_record + '\\n')\n",
    "    print('Wrote {} records to {}'.format(len(data), output_path))"
   ]
  },
  {
   "cell_type": "code",
   "execution_count": 13,
   "metadata": {},
   "outputs": [],
   "source": [
    "pars, par_ids = load_db('/mnt/data/factcheck/CTK/par5/interim/ctk_filtered.db')"
   ]
  },
  {
   "cell_type": "code",
   "execution_count": 21,
   "metadata": {},
   "outputs": [
    {
     "name": "stdout",
     "output_type": "stream",
     "text": [
      "Wrote 13619573 records to /mnt/data/factcheck/CTK/par5/interim/jsonl/ctk_filtered.jsonl\n"
     ]
    }
   ],
   "source": [
    "save_jsonl(pars, par_ids, '/mnt/data/factcheck/CTK/par5/interim/jsonl/ctk_filtered.jsonl')"
   ]
  },
  {
   "cell_type": "markdown",
   "metadata": {},
   "source": [
    "### Prepare the wiki dump into format suitable for anserini"
   ]
  },
  {
   "cell_type": "code",
   "execution_count": null,
   "metadata": {},
   "outputs": [],
   "source": [
    "ROOT=/home/ryparmar/pyserini/ctk/data\n",
    "COLLECTION=/mnt/data/factcheck/CTK/par5/interim"
   ]
  },
  {
   "cell_type": "code",
   "execution_count": null,
   "metadata": {},
   "outputs": [],
   "source": []
  },
  {
   "cell_type": "code",
   "execution_count": 6,
   "metadata": {},
   "outputs": [
    {
     "name": "stdout",
     "output_type": "stream",
     "text": [
      "Converting collection...\n",
      "Converted 100000 docs in 1 files\n",
      "Converted 200000 docs in 1 files\n",
      "Converted 300000 docs in 1 files\n",
      "Converted 400000 docs in 1 files\n",
      "Done!\n"
     ]
    }
   ],
   "source": [
    "!python /home/ryparmar/pyserini/src/convert_collection_to_jsonl.py \\\n",
    "    --collection_folder /mnt/data/factcheck/CTK/par5/interim/jsonl \\\n",
    "    --output_folder /home/ryparmar/pyserini/cs/data \\\n",
    "    --max_docs_per_file 10000000 \\\n",
    "    --granularity 'paragraph'"
   ]
  },
  {
   "cell_type": "code",
   "execution_count": 22,
   "metadata": {},
   "outputs": [
    {
     "name": "stdout",
     "output_type": "stream",
     "text": [
      "total 8101M\r\n",
      "-rw-r--r-- 1 ryparmar k13136 2981M Sep  8 13:27 docs00-id=int.json\r\n",
      "-rw-r--r-- 1 ryparmar k13136 3078M Sep  8 19:53 docs00.json\r\n"
     ]
    }
   ],
   "source": [
    "!ls -l --block-size=M /home/ryparmar/pyserini/data"
   ]
  },
  {
   "cell_type": "code",
   "execution_count": 10,
   "metadata": {},
   "outputs": [
    {
     "name": "stdout",
     "output_type": "stream",
     "text": [
      "453553 /mnt/data/factcheck/fever/data-cs/cswiki.jsonl\n",
      "453553 /home/ryparmar/pyserini/cs/data/docs00.json\n"
     ]
    }
   ],
   "source": [
    "!wc -l /mnt/data/factcheck/fever/data-cs/*jsonl\n",
    "!wc -l /home/ryparmar/pyserini/cs/data/*json"
   ]
  },
  {
   "cell_type": "markdown",
   "metadata": {},
   "source": [
    "### Try to compute index"
   ]
  },
  {
   "cell_type": "code",
   "execution_count": 11,
   "metadata": {},
   "outputs": [
    {
     "name": "stdout",
     "output_type": "stream",
     "text": [
      "WARNING: sun.reflect.Reflection.getCallerClass is not supported. This will impact performance.\n",
      "2020-09-17 17:06:54,453 INFO  [main] index.IndexCollection (IndexCollection.java:636) - Setting log level to INFO\n",
      "2020-09-17 17:06:54,455 INFO  [main] index.IndexCollection (IndexCollection.java:639) - Starting indexer...\n",
      "2020-09-17 17:06:54,455 INFO  [main] index.IndexCollection (IndexCollection.java:640) - ============ Loading Parameters ============\n",
      "2020-09-17 17:06:54,456 INFO  [main] index.IndexCollection (IndexCollection.java:641) - DocumentCollection path: /home/ryparmar/pyserini/cs/data\n",
      "2020-09-17 17:06:54,456 INFO  [main] index.IndexCollection (IndexCollection.java:642) - CollectionClass: JsonCollection\n",
      "2020-09-17 17:06:54,457 INFO  [main] index.IndexCollection (IndexCollection.java:643) - Generator: DefaultLuceneDocumentGenerator\n",
      "2020-09-17 17:06:54,457 INFO  [main] index.IndexCollection (IndexCollection.java:644) - Threads: 1\n",
      "2020-09-17 17:06:54,457 INFO  [main] index.IndexCollection (IndexCollection.java:645) - Stemmer: porter\n",
      "2020-09-17 17:06:54,458 INFO  [main] index.IndexCollection (IndexCollection.java:646) - Keep stopwords? false\n",
      "2020-09-17 17:06:54,458 INFO  [main] index.IndexCollection (IndexCollection.java:647) - Stopwords:  null\n",
      "2020-09-17 17:06:54,458 INFO  [main] index.IndexCollection (IndexCollection.java:648) - Store positions? true\n",
      "2020-09-17 17:06:54,459 INFO  [main] index.IndexCollection (IndexCollection.java:649) - Store docvectors? true\n",
      "2020-09-17 17:06:54,459 INFO  [main] index.IndexCollection (IndexCollection.java:650) - Store document \"contents\" field? false\n",
      "2020-09-17 17:06:54,459 INFO  [main] index.IndexCollection (IndexCollection.java:651) - Store document \"raw\" field? true\n",
      "2020-09-17 17:06:54,460 INFO  [main] index.IndexCollection (IndexCollection.java:652) - Optimize (merge segments)? false\n",
      "2020-09-17 17:06:54,460 INFO  [main] index.IndexCollection (IndexCollection.java:653) - Whitelist: null\n",
      "2020-09-17 17:06:54,460 INFO  [main] index.IndexCollection (IndexCollection.java:673) - Directly building Lucene indexes...\n",
      "2020-09-17 17:06:54,461 INFO  [main] index.IndexCollection (IndexCollection.java:674) - Index path: /home/ryparmar/pyserini/cs/indexes-full\n",
      "2020-09-17 17:06:54,468 INFO  [main] index.IndexCollection (IndexCollection.java:723) - ============ Indexing Collection ============\n",
      "2020-09-17 17:06:54,633 INFO  [main] index.IndexCollection (IndexCollection.java:784) - Thread pool with 1 threads initialized.\n",
      "2020-09-17 17:06:54,634 INFO  [main] index.IndexCollection (IndexCollection.java:786) - Initializing collection in /home/ryparmar/pyserini/cs/data\n",
      "2020-09-17 17:06:54,639 INFO  [main] index.IndexCollection (IndexCollection.java:789) - 1 file found\n",
      "2020-09-17 17:06:54,639 INFO  [main] index.IndexCollection (IndexCollection.java:790) - Starting to index...\n",
      "2020-09-17 17:07:40,886 DEBUG [pool-2-thread-1] index.IndexCollection$LocalIndexerThread (IndexCollection.java:238) - data/docs00.json: 453553 docs added.\n",
      "2020-09-17 17:07:48,173 INFO  [main] index.IndexCollection (IndexCollection.java:874) - Indexing Complete! 453,553 documents indexed\n",
      "2020-09-17 17:07:48,173 INFO  [main] index.IndexCollection (IndexCollection.java:875) - ============ Final Counter Values ============\n",
      "2020-09-17 17:07:48,174 INFO  [main] index.IndexCollection (IndexCollection.java:876) - indexed:          453,553\n",
      "2020-09-17 17:07:48,174 INFO  [main] index.IndexCollection (IndexCollection.java:877) - unindexable:            0\n",
      "2020-09-17 17:07:48,174 INFO  [main] index.IndexCollection (IndexCollection.java:878) - empty:                  0\n",
      "2020-09-17 17:07:48,175 INFO  [main] index.IndexCollection (IndexCollection.java:879) - skipped:                0\n",
      "2020-09-17 17:07:48,175 INFO  [main] index.IndexCollection (IndexCollection.java:880) - errors:                 0\n",
      "2020-09-17 17:07:48,183 INFO  [main] index.IndexCollection (IndexCollection.java:883) - Total 453,553 documents indexed in 00:00:53\n"
     ]
    }
   ],
   "source": [
    "!python -m pyserini.index \\\n",
    "    -collection JsonCollection \\\n",
    "    -generator DefaultLuceneDocumentGenerator \\\n",
    "    -threads 1 \\\n",
    "    -input /home/ryparmar/pyserini/cs/data \\\n",
    "    -index /home/ryparmar/pyserini/cs/indexes-full \\\n",
    "    -storePositions -storeDocvectors -storeRaw"
   ]
  },
  {
   "cell_type": "code",
   "execution_count": 12,
   "metadata": {},
   "outputs": [
    {
     "name": "stdout",
     "output_type": "stream",
     "text": [
      "ls: cannot access /home/ryparmar/pyserini/indexes-full: No such file or directory\r\n"
     ]
    }
   ],
   "source": [
    "!ls /home/ryparmar/pyserini/indexes-full"
   ]
  },
  {
   "cell_type": "markdown",
   "metadata": {},
   "source": [
    "### Test the computed index"
   ]
  },
  {
   "cell_type": "code",
   "execution_count": 133,
   "metadata": {},
   "outputs": [
    {
     "name": "stdout",
     "output_type": "stream",
     "text": [
      " 1 0               16.15490\n",
      " 2 3655984         10.95880\n",
      " 3 1736638         10.29230\n",
      " 4 1949761         10.22800\n",
      " 5 5495217         9.64750\n",
      " 6 1580268         9.35750\n",
      " 7 1390315         9.22520\n",
      " 8 3014088         9.14190\n",
      " 9 1354987         9.14100\n",
      "10 2651102         9.12890\n"
     ]
    }
   ],
   "source": [
    "from pyserini import analysis, index\n",
    "from pyserini.search import SimpleSearcher\n",
    "\n",
    "INDEXER = '/home/ryparmar/pyserini/indexes-full'\n",
    "# index_reader = index.IndexReader(INDEXER)\n",
    "\n",
    "searcher = SimpleSearcher(INDEXER)\n",
    "\n",
    "query = 'Sláintecare should be the name of healthcare system in Ireland'\n",
    "hits = searcher.search(query)\n",
    "\n",
    "for i in range(len(hits)):\n",
    "    print(f'{i+1:2} {hits[i].docid:15} {hits[i].score:.5f}')"
   ]
  },
  {
   "cell_type": "markdown",
   "metadata": {},
   "source": [
    "### Perform Retrieval on the Dev"
   ]
  },
  {
   "cell_type": "code",
   "execution_count": 16,
   "metadata": {},
   "outputs": [
    {
     "name": "stdout",
     "output_type": "stream",
     "text": [
      "Generating qrels...\n",
      "Generating queries...\n",
      "Done!\n"
     ]
    }
   ],
   "source": [
    "# Generate queries and qrels files for the dev split\n",
    "!python /home/ryparmar/pyserini/src/generate_queries_and_qrels.py \\\n",
    "    --dataset_file /mnt/data/factcheck/fever/data-cs/fever-data/dev.jsonl \\\n",
    "    --output_queries_file /home/ryparmar/pyserini/cs/queries.par.dev.tsv \\\n",
    "    --output_qrels_file /home/ryparmar/pyserini/cs/qrels.par.dev.tsv \\\n",
    "    --granularity paragraph"
   ]
  },
  {
   "cell_type": "code",
   "execution_count": 17,
   "metadata": {},
   "outputs": [
    {
     "name": "stdout",
     "output_type": "stream",
     "text": [
      "206088\tSociologie je studium vývoje politiky.\r\n",
      "207746\tSammy Cahn byl americký hudebník narozený v roce 1913.\r\n",
      "146151\tRyby emigrovaly na Island.\r\n"
     ]
    }
   ],
   "source": [
    "# claim_id, claim\n",
    "!head -n 3 /home/ryparmar/pyserini/cs/queries.par.dev.tsv"
   ]
  },
  {
   "cell_type": "code",
   "execution_count": 18,
   "metadata": {},
   "outputs": [
    {
     "name": "stdout",
     "output_type": "stream",
     "text": [
      "207746\t0\tSammy Cahn\t2\r\n",
      "107802\t0\tDavid Bowie\t2\r\n",
      "126321\t0\tGeorge A. Romero\t2\r\n"
     ]
    }
   ],
   "source": [
    "# claim_id, doc_id (where the evidence is present), evidence?? in the code is 2 (directly number)\n",
    "!head -n 3 /home/ryparmar/pyserini/cs/qrels.par.dev.tsv"
   ]
  },
  {
   "cell_type": "code",
   "execution_count": 20,
   "metadata": {},
   "outputs": [
    {
     "name": "stdout",
     "output_type": "stream",
     "text": [
      "{\"id\": 206088, \"verifiable\": \"NOT VERIFIABLE\", \"label\": \"NOT ENOUGH INFO\", \"claim\": \"Sociologie je studium vývoje politiky.\", \"evidence\": [], \"claim_en\": \"Sociology is the study of politics development.\"}\r\n",
      "{\"id\": 207746, \"verifiable\": \"VERIFIABLE\", \"label\": \"SUPPORTS\", \"claim\": \"Sammy Cahn byl americký hudebník narozený v roce 1913.\", \"evidence\": [[[245753, 246454, \"Sammy Cahn\", 0, \"Sammy Cahn\"]]], \"claim_en\": \"Sammy Cahn was an American musician born in 1913.\"}\r\n",
      "{\"id\": 146151, \"verifiable\": \"NOT VERIFIABLE\", \"label\": \"NOT ENOUGH INFO\", \"claim\": \"Ryby emigrovaly na Island.\", \"evidence\": [], \"claim_en\": \"Fish emigrated to Iceland.\"}\r\n"
     ]
    }
   ],
   "source": [
    "!head -n 3 /mnt/data/factcheck/fever/data-cs/fever-data/dev.jsonl"
   ]
  },
  {
   "cell_type": "code",
   "execution_count": 21,
   "metadata": {},
   "outputs": [
    {
     "name": "stdout",
     "output_type": "stream",
     "text": [
      "Initializing BM25, setting k1=0.6 and b=0.5\n",
      "Retrieving query 0 (0.488 s/query)\n",
      "Retrieving query 100 (0.079 s/query)\n",
      "Retrieving query 200 (0.069 s/query)\n",
      "Retrieving query 300 (0.066 s/query)\n",
      "Retrieving query 400 (0.064 s/query)\n",
      "Retrieving query 500 (0.063 s/query)\n",
      "Retrieving query 600 (0.062 s/query)\n",
      "Retrieving query 700 (0.061 s/query)\n",
      "Retrieving query 800 (0.060 s/query)\n",
      "Retrieving query 900 (0.060 s/query)\n",
      "Retrieving query 1000 (0.059 s/query)\n",
      "Retrieving query 1100 (0.059 s/query)\n",
      "Retrieving query 1200 (0.059 s/query)\n",
      "Retrieving query 1300 (0.059 s/query)\n",
      "Retrieving query 1400 (0.059 s/query)\n",
      "Retrieving query 1500 (0.059 s/query)\n",
      "Retrieving query 1600 (0.058 s/query)\n",
      "Retrieving query 1700 (0.058 s/query)\n",
      "Retrieving query 1800 (0.058 s/query)\n",
      "Retrieving query 1900 (0.058 s/query)\n",
      "Retrieving query 2000 (0.058 s/query)\n",
      "Retrieving query 2100 (0.058 s/query)\n",
      "Retrieving query 2200 (0.058 s/query)\n",
      "Retrieving query 2300 (0.058 s/query)\n",
      "Retrieving query 2400 (0.057 s/query)\n",
      "Retrieving query 2500 (0.057 s/query)\n",
      "Retrieving query 2600 (0.057 s/query)\n",
      "Retrieving query 2700 (0.057 s/query)\n",
      "Retrieving query 2800 (0.057 s/query)\n",
      "Retrieving query 2900 (0.057 s/query)\n",
      "Retrieving query 3000 (0.057 s/query)\n",
      "Retrieving query 3100 (0.057 s/query)\n",
      "Retrieving query 3200 (0.057 s/query)\n",
      "Retrieving query 3300 (0.057 s/query)\n",
      "Retrieving query 3400 (0.057 s/query)\n",
      "Retrieving query 3500 (0.057 s/query)\n",
      "Retrieving query 3600 (0.057 s/query)\n",
      "Retrieving query 3700 (0.057 s/query)\n",
      "Retrieving query 3800 (0.057 s/query)\n",
      "Retrieving query 3900 (0.057 s/query)\n",
      "Retrieving query 4000 (0.057 s/query)\n",
      "Retrieving query 4100 (0.057 s/query)\n",
      "Retrieving query 4200 (0.057 s/query)\n",
      "Retrieving query 4300 (0.057 s/query)\n",
      "Retrieving query 4400 (0.057 s/query)\n",
      "Retrieving query 4500 (0.057 s/query)\n",
      "Retrieving query 4600 (0.057 s/query)\n",
      "Retrieving query 4700 (0.057 s/query)\n",
      "Retrieving query 4800 (0.057 s/query)\n",
      "Retrieving query 4900 (0.056 s/query)\n",
      "Retrieving query 5000 (0.056 s/query)\n",
      "Retrieving query 5100 (0.056 s/query)\n",
      "Retrieving query 5200 (0.056 s/query)\n",
      "Retrieving query 5300 (0.056 s/query)\n",
      "Retrieving query 5400 (0.056 s/query)\n",
      "Retrieving query 5500 (0.056 s/query)\n",
      "Retrieving query 5600 (0.056 s/query)\n",
      "Retrieving query 5700 (0.056 s/query)\n",
      "Retrieving query 5800 (0.056 s/query)\n",
      "Retrieving query 5900 (0.056 s/query)\n",
      "Retrieving query 6000 (0.056 s/query)\n",
      "Retrieving query 6100 (0.056 s/query)\n",
      "Retrieving query 6200 (0.056 s/query)\n",
      "Retrieving query 6300 (0.056 s/query)\n",
      "Retrieving query 6400 (0.056 s/query)\n",
      "Retrieving query 6500 (0.056 s/query)\n",
      "Retrieving query 6600 (0.056 s/query)\n",
      "Retrieving query 6700 (0.056 s/query)\n",
      "Retrieving query 6800 (0.056 s/query)\n",
      "Retrieving query 6900 (0.056 s/query)\n",
      "Retrieving query 7000 (0.056 s/query)\n",
      "Retrieving query 7100 (0.056 s/query)\n",
      "Retrieving query 7200 (0.056 s/query)\n",
      "Retrieving query 7300 (0.056 s/query)\n",
      "Retrieving query 7400 (0.056 s/query)\n",
      "Retrieving query 7500 (0.056 s/query)\n",
      "Retrieving query 7600 (0.056 s/query)\n",
      "Retrieving query 7700 (0.056 s/query)\n",
      "Retrieving query 7800 (0.056 s/query)\n",
      "Retrieving query 7900 (0.056 s/query)\n",
      "Retrieving query 8000 (0.056 s/query)\n",
      "Retrieving query 8100 (0.056 s/query)\n",
      "Retrieving query 8200 (0.056 s/query)\n",
      "Retrieving query 8300 (0.056 s/query)\n",
      "Retrieving query 8400 (0.056 s/query)\n",
      "Retrieving query 8500 (0.056 s/query)\n",
      "Retrieving query 8600 (0.056 s/query)\n",
      "Retrieving query 8700 (0.056 s/query)\n",
      "Retrieving query 8800 (0.056 s/query)\n",
      "Retrieving query 8900 (0.056 s/query)\n",
      "Retrieving query 9000 (0.056 s/query)\n",
      "Retrieving query 9100 (0.056 s/query)\n",
      "Retrieving query 9200 (0.056 s/query)\n",
      "Retrieving query 9300 (0.056 s/query)\n",
      "Retrieving query 9400 (0.056 s/query)\n",
      "Retrieving query 9500 (0.056 s/query)\n",
      "Retrieving query 9600 (0.056 s/query)\n",
      "Retrieving query 9700 (0.056 s/query)\n",
      "Retrieving query 9800 (0.056 s/query)\n",
      "Retrieving query 9900 (0.056 s/query)\n",
      "Total retrieval time: 559.264 s\n",
      "Done!\n"
     ]
    }
   ],
   "source": [
    "# Retrieval run\n",
    "# k1=0.6 n=0.5 BM25 parameters found by finetuning\n",
    "!python /home/ryparmar/pyserini/src/retrieve.py \\\n",
    "--hits 1000 --threads 1 \\\n",
    "--index /home/ryparmar/pyserini/cs/indexes-full \\\n",
    "--queries /home/ryparmar/pyserini/cs/queries.par.dev.tsv \\\n",
    "--output /home/ryparmar/pyserini/cs/run.fever-par.dev.tsv \\\n",
    "--k1 0.6 --b 0.5"
   ]
  },
  {
   "cell_type": "code",
   "execution_count": 22,
   "metadata": {},
   "outputs": [
    {
     "name": "stdout",
     "output_type": "stream",
     "text": [
      "206088\tVývojová dysfázie\t996\r\n",
      "206088\tAarskogův–Scottův syndrom\t997\r\n",
      "206088\tGeorge Francis Hamilton\t998\r\n",
      "206088\tJiga'el Jadin\t999\r\n",
      "206088\tVladko Maček\t1000\r\n",
      "207746\tSammy Cahn\t1\r\n",
      "207746\tJimmy Van Heusen\t2\r\n",
      "207746\tSteve Khan\t3\r\n",
      "207746\tFree Money\t4\r\n",
      "207746\tSammy Davis mladší\t5\r\n"
     ]
    }
   ],
   "source": [
    "# claim_id, predicted_document_id, rank  -- see that there up to 1000 hits (hits arg)\n",
    "!head -n 1005 /home/ryparmar/pyserini/cs/run.fever-par.dev.tsv | tail -n 10"
   ]
  },
  {
   "cell_type": "code",
   "execution_count": 23,
   "metadata": {},
   "outputs": [
    {
     "name": "stdout",
     "output_type": "stream",
     "text": [
      "9999 /mnt/data/factcheck/fever/data-cs/fever-data/dev.jsonl\r\n"
     ]
    }
   ],
   "source": [
    "!wc -l /mnt/data/factcheck/fever/data-cs/fever-data/dev.jsonl"
   ]
  },
  {
   "cell_type": "code",
   "execution_count": 24,
   "metadata": {},
   "outputs": [
    {
     "name": "stdout",
     "output_type": "stream",
     "text": [
      "9955176 /home/ryparmar/pyserini/cs/run.fever-par.dev.tsv\r\n"
     ]
    }
   ],
   "source": [
    "!wc -l /home/ryparmar/pyserini/cs/run.fever-par.dev.tsv"
   ]
  },
  {
   "cell_type": "markdown",
   "metadata": {},
   "source": [
    "### Evaluation"
   ]
  },
  {
   "cell_type": "code",
   "execution_count": 26,
   "metadata": {},
   "outputs": [],
   "source": [
    "import jsonlines\n",
    "# Convert .tsv (anserini) prediction into .jsonl (drqa) predictions\n",
    "def convert_to_drqa_format(inputfile, outputfile, truthfile):\n",
    "    out = {}\n",
    "    with jsonlines.open(truthfile) as ft:\n",
    "        for line in ft.iter():\n",
    "            out[str(line['id'])] = {'id': line['id'],\n",
    "                               'label': line['label'],\n",
    "                               'evidence': line['evidence']}\n",
    "    with open(inputfile) as fr:\n",
    "        for line in fr.readlines():\n",
    "            claim_id, pred_docid, _ = line.split('\\t')\n",
    "            if claim_id in out and 'predicted_pages' in out[claim_id]:\n",
    "                out[claim_id]['predicted_pages'].append(pred_docid)\n",
    "            else:\n",
    "                out[claim_id]['predicted_pages'] = [pred_docid]\n",
    "\n",
    "        with jsonlines.open(outputfile, 'w') as fw:\n",
    "            for key in out:\n",
    "                fw.write(out[key])\n",
    "                \n",
    "# Convert .jsonl (drqa) predictions into .tsv (anserini) prediction \n",
    "def convert_to_anserini_format(inputfile, outputfile):\n",
    "    out = []\n",
    "    with jsonlines.open(inputfile) as ft:\n",
    "        for line in ft.iter():\n",
    "            for rank, docid in enumerate(line['predicted_pages']):\n",
    "                out.append(\"{}\\t{}\\t{}\\n\".format(line['id'], docid, rank+1))\n",
    "\n",
    "        with open(outputfile, 'w') as fw:\n",
    "            for line in out:\n",
    "                fw.write(line)"
   ]
  },
  {
   "cell_type": "code",
   "execution_count": 27,
   "metadata": {},
   "outputs": [
    {
     "name": "stdout",
     "output_type": "stream",
     "text": [
      "\u001b[0m\u001b[38;5;27mdata\u001b[0m/                                    run.fever-par-finetuned-paper.dev.tsv\r\n",
      "dev_drqa_k500.tsv                        run.fever-par-finetuned.dev.jsonl\r\n",
      "\u001b[38;5;27mindexes-full\u001b[0m/                            run.fever-par-finetuned.dev.tsv\r\n",
      "paper_qrels.par.dev.tsv                  run.fever-par.dev.tsv\r\n",
      "paper_queries.par.dev.tsv                subset_dev_drqa_k500.jsonl\r\n",
      "qrels.par.dev.tsv                        subset_dev_drqa_k500.tsv\r\n",
      "queries.par.dev.tsv                      subset_run.fever-par-finetuned.dev.tsv\r\n",
      "run.fever-par-finetuned-paper.dev.jsonl\r\n"
     ]
    }
   ],
   "source": [
    "ls /home/ryparmar/pyserini/en-latest"
   ]
  },
  {
   "cell_type": "code",
   "execution_count": 53,
   "metadata": {},
   "outputs": [],
   "source": [
    "# convert_to_drqa_format('/home/ryparmar/pyserini/en-latest/run.fever-par.dev.tsv',\n",
    "#                        '/home/ryparmar/pyserini/en-latest/run.fever-par.dev.jsonl',\n",
    "#                        '/mnt/data/factcheck/fever/data-en-latest/fever-data/dev.jsonl')\n",
    "convert_to_drqa_format('/home/ryparmar/pyserini/en-latest/run.fever-par-finetuned-paper.dev.tsv',\n",
    "                       '/home/ryparmar/pyserini/en-latest/run.fever-par-finetuned-paper.dev.jsonl',\n",
    "                       '/home/ryparmar/pyserini/fever/paper_dev.jsonl')"
   ]
  },
  {
   "cell_type": "code",
   "execution_count": 28,
   "metadata": {},
   "outputs": [],
   "source": [
    "# convert_to_anserini_format('/mnt/data/factcheck/fever/data-en-latest/predictions/dev_drqa_k500.jsonl',\n",
    "#                            '/home/ryparmar/pyserini/en-latest/dev_drqa_k500.tsv')\n",
    "convert_to_anserini_format('/mnt/data/factcheck/fever/data-cs/predictions/dev_drqa_k500.jsonl',\n",
    "                           '/home/ryparmar/pyserini/cs/dev_drqa_k500.tsv')"
   ]
  },
  {
   "cell_type": "code",
   "execution_count": null,
   "metadata": {},
   "outputs": [],
   "source": []
  },
  {
   "cell_type": "code",
   "execution_count": 29,
   "metadata": {
    "scrolled": true
   },
   "outputs": [
    {
     "name": "stdout",
     "output_type": "stream",
     "text": [
      "k\tFully Supported\tOracle Accuracy\r\n",
      "1\t0.2799\t0.5200\r\n",
      "5\t0.5089\t0.6726\r\n",
      "10\t0.5921\t0.7281\r\n",
      "25\t0.6860\t0.7907\r\n",
      "50\t0.7433\t0.8289\r\n",
      "100\t0.7903\t0.8602\r\n",
      "500\t0.8630\t0.9087\r\n"
     ]
    }
   ],
   "source": [
    "# Evaluate anserini on CS FEVER dev data\n",
    "!python /home/ryparmar/pyserini/src/evaluate_doc_retrieval.py \\\n",
    "--truth_file /mnt/data/factcheck/fever/data-cs/fever-data/dev.jsonl \\\n",
    "--run_file /home/ryparmar/pyserini/cs/run.fever-par.dev.tsv"
   ]
  },
  {
   "cell_type": "code",
   "execution_count": 30,
   "metadata": {},
   "outputs": [
    {
     "name": "stdout",
     "output_type": "stream",
     "text": [
      "k\tFully Supported\tOracle Accuracy\r\n",
      "1\t0.2415\t0.4943\r\n",
      "5\t0.4673\t0.6449\r\n",
      "10\t0.5497\t0.6998\r\n",
      "25\t0.6629\t0.7753\r\n",
      "50\t0.7342\t0.8228\r\n",
      "100\t0.7852\t0.8568\r\n",
      "500\t0.8608\t0.9072\r\n"
     ]
    }
   ],
   "source": [
    "# Evaluate drqa on CS FEVER dev data\n",
    "!python /home/ryparmar/pyserini/src/evaluate_doc_retrieval.py \\\n",
    "--truth_file /mnt/data/factcheck/fever/data-cs/fever-data/dev.jsonl \\\n",
    "--run_file /home/ryparmar/pyserini/cs/dev_drqa_k500.tsv"
   ]
  },
  {
   "cell_type": "code",
   "execution_count": 28,
   "metadata": {},
   "outputs": [],
   "source": [
    "!head -n 9999000 /home/ryparmar/pyserini/en-latest/run.fever-par-finetuned.dev.tsv > /home/ryparmar/pyserini/en-latest/subset_run.fever-par-finetuned.dev.tsv"
   ]
  },
  {
   "cell_type": "code",
   "execution_count": null,
   "metadata": {},
   "outputs": [],
   "source": []
  },
  {
   "cell_type": "markdown",
   "metadata": {},
   "source": [
    "# Evaluate using our evaluation script"
   ]
  },
  {
   "cell_type": "code",
   "execution_count": 60,
   "metadata": {},
   "outputs": [
    {
     "name": "stdout",
     "output_type": "stream",
     "text": [
      "[INFO] 2020-09-10 12:39:27,952 - LogHelper - Log Helper set up\n",
      "[INFO] 2020-09-10 12:39:31,872 - EVALDR - Scores(precision=0.002055298647822243, recall=0.8874887488748875, f1=0.004101099727663442)\n"
     ]
    }
   ],
   "source": [
    "!python /home/ryparmar/drchajan/src/evaluate_document_retrieval.py \\\n",
    "--actual_jsonl /mnt/data/factcheck/fever/data-en-latest/fever-data/dev.jsonl \\\n",
    "--pred_jsonl /mnt/data/factcheck/fever/data-en-latest/predictions/dev_drqa_k500.jsonl \\\n",
    "--max_evidence 500"
   ]
  },
  {
   "cell_type": "code",
   "execution_count": 59,
   "metadata": {},
   "outputs": [
    {
     "name": "stdout",
     "output_type": "stream",
     "text": [
      "[INFO] 2020-09-10 12:39:18,968 - LogHelper - Log Helper set up\n",
      "[INFO] 2020-09-10 12:39:25,998 - EVALDR - Scores(precision=0.0016157452193816906, recall=0.7005700570057005, f1=0.0032240547070647844)\n"
     ]
    }
   ],
   "source": [
    "!python /home/ryparmar/drchajan/src/evaluate_document_retrieval.py \\\n",
    "--actual_jsonl /mnt/data/factcheck/fever/data-en-latest/fever-data/dev.jsonl \\\n",
    "--pred_jsonl /home/ryparmar/pyserini/en-latest/run.fever-par-0.6-0.5.dev.jsonl \\\n",
    "--max_evidence 500"
   ]
  },
  {
   "cell_type": "code",
   "execution_count": null,
   "metadata": {},
   "outputs": [],
   "source": []
  },
  {
   "cell_type": "code",
   "execution_count": 167,
   "metadata": {},
   "outputs": [
    {
     "name": "stdout",
     "output_type": "stream",
     "text": [
      "Done!\n",
      "Done!\n"
     ]
    }
   ],
   "source": [
    "# Evaluate with trec_eval (TREC)\n",
    "# Convert the runs and qrels to trec files\n",
    "!python /home/ryparmar/pyserini/src/convert_msmarco_to_trec_run.py \\\n",
    "--input /home/ryparmar/pyserini/run.fever-par-0.6-0.5.dev.tsv \\\n",
    "--output /home/ryparmar/pyserini/run.fever-par-0.6-0.5.dev.trec\n",
    "\n",
    "!python /home/ryparmar/pyserini/src/convert_msmarco_to_trec_qrels.py \\\n",
    "--input /home/ryparmar/pyserini/qrels.par.dev.tsv \\\n",
    "--output /home/ryparmar/pyserini/qrels.par.dev.trec"
   ]
  },
  {
   "cell_type": "code",
   "execution_count": 169,
   "metadata": {},
   "outputs": [
    {
     "name": "stdout",
     "output_type": "stream",
     "text": [
      "/usr/bin/sh: ./home/ryparmar/pyserini/src/trec_eval.9.0.4/trec_eval: No such file or directory\r\n"
     ]
    }
   ],
   "source": [
    "# Run evaluation itself\n",
    "!./home/ryparmar/pyserini/src/trec_eval.9.0.4/trec_eval -c -m all_trec \\\n",
    "/home/ryparmar/pyserini/qrels.par.dev.trec /home/ryparmar/pyserini/run.fever-par-0.6-0.5.dev.trec"
   ]
  },
  {
   "cell_type": "code",
   "execution_count": null,
   "metadata": {},
   "outputs": [],
   "source": []
  },
  {
   "cell_type": "code",
   "execution_count": null,
   "metadata": {},
   "outputs": [],
   "source": []
  }
 ],
 "metadata": {
  "kernelspec": {
   "display_name": "Python 3",
   "language": "python",
   "name": "python3"
  },
  "language_info": {
   "codemirror_mode": {
    "name": "ipython",
    "version": 3
   },
   "file_extension": ".py",
   "mimetype": "text/x-python",
   "name": "python",
   "nbconvert_exporter": "python",
   "pygments_lexer": "ipython3",
   "version": "3.7.4"
  }
 },
 "nbformat": 4,
 "nbformat_minor": 2
}
