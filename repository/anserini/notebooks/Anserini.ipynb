{
 "cells": [
  {
   "cell_type": "code",
   "execution_count": 18,
   "metadata": {},
   "outputs": [],
   "source": [
    "#!python -m pip install pyserini --user\n",
    "#!python -m pip install jsonlines --user"
   ]
  },
  {
   "cell_type": "code",
   "execution_count": 1,
   "metadata": {},
   "outputs": [
    {
     "name": "stdout",
     "output_type": "stream",
     "text": [
      "total 26835M\r\n",
      "drwxr-xr-x   5 drchajan k13136        1M Sep  9 23:17 emb\r\n",
      "-rw-r--r--   1 drchajan factcheck  5972M Aug  3 18:20 enwiki.jsonl\r\n",
      "-rw-r--r--   1 drchajan factcheck 14103M Aug  3 17:12 enwiki.xml\r\n",
      "drwxr-xr-x 144 drchajan factcheck     1M Jul 29 22:49 extracted\r\n",
      "drwxr-xr-x   2 drchajan factcheck     1M Aug 12 17:04 fever\r\n",
      "drwxr-xr-x   2 drchajan factcheck     1M Aug  5 12:16 fever-data\r\n",
      "drwxr-xr-x   2 drchajan factcheck     1M Aug  5 09:45 index\r\n",
      "-rw-r--r--   1 drchajan factcheck     1M Aug  5 20:44 info.txt\r\n",
      "drwxr-xr-x   2 drchajan k13136        1M Sep  9 22:38 predictions\r\n",
      "drwxr-xr-x   2 drchajan factcheck     0M Aug  6 12:09 wiki-pages\r\n"
     ]
    }
   ],
   "source": [
    "!ls -l --block-size=M /mnt/data/factcheck/fever/data-en-latest/"
   ]
  },
  {
   "cell_type": "code",
   "execution_count": 2,
   "metadata": {},
   "outputs": [
    {
     "name": "stdout",
     "output_type": "stream",
     "text": [
      "This is EN Wiki dataset based on latest Wiki snapshot \r\n",
      " - abstracts only (as in original)\r\n",
      " - PTB tokenization using NLTK + fixes (mainly bracket tockenization) using Jupyter notebook (TODO: add to main code-base)\r\n",
      " - note that some pages were renamed since original Fever Wiki snapshot\r\n",
      " \r\n",
      "Updates:\r\n",
      "05/08/2020 - fixed titles to match original Fever tokenization\r\n",
      "\r\n"
     ]
    }
   ],
   "source": [
    "!cat /mnt/data/factcheck/fever/data-en-latest/info.txt"
   ]
  },
  {
   "cell_type": "markdown",
   "metadata": {},
   "source": [
    "# Run on FEVER data"
   ]
  },
  {
   "cell_type": "code",
   "execution_count": 6,
   "metadata": {},
   "outputs": [],
   "source": [
    "DATAFOLDER='/mnt/data/factcheck/fever/data-en-latest/'"
   ]
  },
  {
   "cell_type": "code",
   "execution_count": 7,
   "metadata": {},
   "outputs": [
    {
     "name": "stdout",
     "output_type": "stream",
     "text": [
      "emb\t      enwiki.xml  fever       index\tpredictions\r\n",
      "enwiki.jsonl  extracted   fever-data  info.txt\twiki-pages\r\n"
     ]
    }
   ],
   "source": [
    "!ls /mnt/data/factcheck/fever/data-en-latest"
   ]
  },
  {
   "cell_type": "markdown",
   "metadata": {},
   "source": [
    "### Prepare the wiki dump into format suitable for anserini"
   ]
  },
  {
   "cell_type": "code",
   "execution_count": 37,
   "metadata": {},
   "outputs": [
    {
     "name": "stdout",
     "output_type": "stream",
     "text": [
      "Converting collection...\n",
      "Converted 100000 docs in 1 files\n",
      "Converted 200000 docs in 1 files\n",
      "Converted 300000 docs in 1 files\n",
      "Converted 400000 docs in 1 files\n",
      "Converted 500000 docs in 1 files\n",
      "Converted 600000 docs in 1 files\n",
      "Converted 700000 docs in 1 files\n",
      "Converted 800000 docs in 1 files\n",
      "Converted 900000 docs in 1 files\n",
      "Converted 1000000 docs in 1 files\n",
      "Converted 1100000 docs in 1 files\n",
      "Converted 1200000 docs in 1 files\n",
      "Converted 1300000 docs in 1 files\n",
      "Converted 1400000 docs in 1 files\n",
      "Converted 1500000 docs in 1 files\n",
      "Converted 1600000 docs in 1 files\n",
      "Converted 1700000 docs in 1 files\n",
      "Converted 1800000 docs in 1 files\n",
      "Converted 1900000 docs in 1 files\n",
      "Converted 2000000 docs in 1 files\n",
      "Converted 2100000 docs in 1 files\n",
      "Converted 2200000 docs in 1 files\n",
      "Converted 2300000 docs in 1 files\n",
      "Converted 2400000 docs in 1 files\n",
      "Converted 2500000 docs in 1 files\n",
      "Converted 2600000 docs in 1 files\n",
      "Converted 2700000 docs in 1 files\n",
      "Converted 2800000 docs in 1 files\n",
      "Converted 2900000 docs in 1 files\n",
      "Converted 3000000 docs in 1 files\n",
      "Converted 3100000 docs in 1 files\n",
      "Converted 3200000 docs in 1 files\n",
      "Converted 3300000 docs in 1 files\n",
      "Converted 3400000 docs in 1 files\n",
      "Converted 3500000 docs in 1 files\n",
      "Converted 3600000 docs in 1 files\n",
      "Converted 3700000 docs in 1 files\n",
      "Converted 3800000 docs in 1 files\n",
      "Converted 3900000 docs in 1 files\n",
      "Converted 4000000 docs in 1 files\n",
      "Converted 4100000 docs in 1 files\n",
      "Converted 4200000 docs in 1 files\n",
      "Converted 4300000 docs in 1 files\n",
      "Converted 4400000 docs in 1 files\n",
      "Converted 4500000 docs in 1 files\n",
      "Converted 4600000 docs in 1 files\n",
      "Converted 4700000 docs in 1 files\n",
      "Converted 4800000 docs in 1 files\n",
      "Converted 4900000 docs in 1 files\n",
      "Converted 5000000 docs in 1 files\n",
      "Converted 5100000 docs in 1 files\n",
      "Converted 5200000 docs in 1 files\n",
      "Converted 5300000 docs in 1 files\n",
      "Converted 5400000 docs in 1 files\n",
      "Converted 5500000 docs in 1 files\n",
      "Converted 5600000 docs in 1 files\n",
      "Converted 5700000 docs in 1 files\n",
      "Converted 5800000 docs in 1 files\n",
      "Converted 5900000 docs in 1 files\n",
      "Converted 6000000 docs in 1 files\n",
      "Done!\n"
     ]
    }
   ],
   "source": [
    "!python /home/ryparmar/pyserini/src/convert_collection_to_jsonl.py \\\n",
    "--collection_folder /mnt/data/factcheck/fever/data-en-latest/ \\\n",
    "--output_folder /home/ryparmar/pyserini/en-latest/data \\\n",
    "--max_docs_per_file 10000000 \\\n",
    "--granularity 'paragraph'"
   ]
  },
  {
   "cell_type": "code",
   "execution_count": 22,
   "metadata": {},
   "outputs": [
    {
     "name": "stdout",
     "output_type": "stream",
     "text": [
      "total 8101M\r\n",
      "-rw-r--r-- 1 ryparmar k13136 2981M Sep  8 13:27 docs00-id=int.json\r\n",
      "-rw-r--r-- 1 ryparmar k13136 3078M Sep  8 19:53 docs00.json\r\n"
     ]
    }
   ],
   "source": [
    "!ls -l --block-size=M /home/ryparmar/pyserini/data"
   ]
  },
  {
   "cell_type": "code",
   "execution_count": 25,
   "metadata": {},
   "outputs": [
    {
     "name": "stdout",
     "output_type": "stream",
     "text": [
      "1c1\r\n",
      "< {\"id\": \"Sláintecare\", \"text\": \"Sláintecare is a proposed reform of the healthcare system of Ireland . Under the existing health service system large out-of-pocket payments are required ; the Republic of Ireland is the only state within the EU which does not provide universal healthcare , according to WHO criteria . The newly elected Irish government committed itself in March 2011 to reform the two-tier structure of national health service in response to public discontent with austerity measures from 2008 onwards . Since public funding of health provision was reduced between 2009 and 2013 to meet payment obligations arising from the state 's budget deficit , citizens faced higher medical charges and extended waiting lists . In reaction to this development , the coalition government of Fine Gael and the Labour Party declared to introduce '' a universal single-tiered health service , which guarantees access based on need , not income ... through Universal Health Insurance. ” The published government plan , outlined in the 2014 document '' The Path to UHC – The White Paper ” , foresaw introducing compulsory private health insurance based on managed competition between insurance companies to abolish the distinction between public and private patient status . Key features of the policy entailed mandatory health insurance for every citizen under free choice of insurer as well as entitlement to the same package of care , covering primary and acute hospital services . Further , patients should be charged in turn insurance premium irrespective of age or risk profile and additionally have the right to change their insurance membership on an annual basis . Those citizens who are unable to afford the amount of premium would have qualified for subsidies to cover the required premium payments by a National Insurance fund . The implementation of the proposed model of universal health insurance was supposed to be conducted by 2019 . However , after a public consultation procedure regarding the reform initiatives the plan of universal health insurance was abandoned by the Irish administration in November 2015 due to projections that the envisaged system would be too costly and would still require the highest share of funds by general taxation . According to the state department of health , the implied costs of universal health insurance would have led to approximately 11 % higher expenditures than the existing system . After the Irish parliamentary election of 2016 , Fine Gael formed a minority government supported by independent parliamentarians . Social Democrat TD Róisín Shortall founded in June 2016 an all-party '' Committee on the Future of Healthcare ” following an initiative by the health department with the aim to identify an appropriate approach for establishing universal healthcare in Ireland . The committee was supported by an academic team from Trinity College Dublin to analyse submissions made within 30 public hearings in the course of the public consultation process . In May 2017 the committee published its final report entitled '' Committee on the Future of Health , Sláintecare Report ” , which specified universal healthcare based on the following definition : The document entails a proposed ten-year plan for reforming the Irish health system towards universal healthcare . It consists of five sections , covering `` Population health profile , Entitlements and Access to Healthcare , Integrated care , Funding '' and `` Implementation . '' The report foresees the provision of health cards called Carta Sláinte to every citizen , granting access to primary care free of charges at specified local entities preferably outside of hospitals . This system is planned to be funded by taxation , requiring an increase of public health spending and further infrastructure investment of approximately 3 billion Euros . The submitted plan was debated twice in the parliament in 2017 and the Irish government decided to found an official implementation office to appoint a head of the organisation as well as to develop a drafted implementation plan by December 2017 .\", \"lines\": \"0\\tSláintecare is a proposed reform of the healthcare system of Ireland .\\n1\\tUnder the existing health service system large out-of-pocket payments are required ; the Republic of Ireland is the only state within the EU which does not provide universal healthcare , according to WHO criteria .\\n2\\tThe newly elected Irish government committed itself in March 2011 to reform the two-tier structure of national health service in response to public discontent with austerity measures from 2008 onwards .\\n3\\tSince public funding of health provision was reduced between 2009 and 2013 to meet payment obligations arising from the state 's budget deficit , citizens faced higher medical charges and extended waiting lists .\\n4\\tIn reaction to this development , the coalition government of Fine Gael and the Labour Party declared to introduce '' a universal single-tiered health service , which guarantees access based on need , not income ... through Universal Health Insurance. ” The published government plan , outlined in the 2014 document '' The Path to UHC – The White Paper ” , foresaw introducing compulsory private health insurance based on managed competition between insurance companies to abolish the distinction between public and private patient status .\\n5\\tKey features of the policy entailed mandatory health insurance for every citizen under free choice of insurer as well as entitlement to the same package of care , covering primary and acute hospital services .\\n6\\tFurther , patients should be charged in turn insurance premium irrespective of age or risk profile and additionally have the right to change their insurance membership on an annual basis .\\n7\\tThose citizens who are unable to afford the amount of premium would have qualified for subsidies to cover the required premium payments by a National Insurance fund .\\n8\\tThe implementation of the proposed model of universal health insurance was supposed to be conducted by 2019 .\\n9\\tHowever , after a public consultation procedure regarding the reform initiatives the plan of universal health insurance was abandoned by the Irish administration in November 2015 due to projections that the envisaged system would be too costly and would still require the highest share of funds by general taxation .\\n10\\tAccording to the state department of health , the implied costs of universal health insurance would have led to approximately 11 % higher expenditures than the existing system .\\n11\\tAfter the Irish parliamentary election of 2016 , Fine Gael formed a minority government supported by independent parliamentarians .\\n12\\tSocial Democrat TD Róisín Shortall founded in June 2016 an all-party '' Committee on the Future of Healthcare ” following an initiative by the health department with the aim to identify an appropriate approach for establishing universal healthcare in Ireland .\\n13\\tThe committee was supported by an academic team from Trinity College Dublin to analyse submissions made within 30 public hearings in the course of the public consultation process .\\n14\\tIn May 2017 the committee published its final report entitled '' Committee on the Future of Health , Sláintecare Report ” , which specified universal healthcare based on the following definition : The document entails a proposed ten-year plan for reforming the Irish health system towards universal healthcare .\\n15\\tIt consists of five sections , covering `` Population health profile , Entitlements and Access to Healthcare , Integrated care , Funding '' and `` Implementation . ''\\n16\\tThe report foresees the provision of health cards called Carta Sláinte to every citizen , granting access to primary care free of charges at specified local entities preferably outside of hospitals .\\n17\\tThis system is planned to be funded by taxation , requiring an increase of public health spending and further infrastructure investment of approximately 3 billion Euros .\\n18\\tThe submitted plan was debated twice in the parliament in 2017 and the Irish government decided to found an official implementation office to appoint a head of the organisation as well as to develop a drafted implementation plan by December 2017 .\"}\r\n",
      "---\r\n",
      "> {\"id\": \"Sl\\u00e1intecare\", \"contents\": \"Sl\\u00e1intecare is a proposed reform of the healthcare system of Ireland . Under the existing health service system large out-of-pocket payments are required ; the Republic of Ireland is the only state within the EU which does not provide universal healthcare , according to WHO criteria . The newly elected Irish government committed itself in March 2011 to reform the two-tier structure of national health service in response to public discontent with austerity measures from 2008 onwards . Since public funding of health provision was reduced between 2009 and 2013 to meet payment obligations arising from the state 's budget deficit , citizens faced higher medical charges and extended waiting lists . In reaction to this development , the coalition government of Fine Gael and the Labour Party declared to introduce '' a universal single-tiered health service , which guarantees access based on need , not income ... through Universal Health Insurance. \\u201d The published government plan , outlined in the 2014 document '' The Path to UHC \\u2013 The White Paper \\u201d , foresaw introducing compulsory private health insurance based on managed competition between insurance companies to abolish the distinction between public and private patient status . Key features of the policy entailed mandatory health insurance for every citizen under free choice of insurer as well as entitlement to the same package of care , covering primary and acute hospital services . Further , patients should be charged in turn insurance premium irrespective of age or risk profile and additionally have the right to change their insurance membership on an annual basis . Those citizens who are unable to afford the amount of premium would have qualified for subsidies to cover the required premium payments by a National Insurance fund . The implementation of the proposed model of universal health insurance was supposed to be conducted by 2019 . However , after a public consultation procedure regarding the reform initiatives the plan of universal health insurance was abandoned by the Irish administration in November 2015 due to projections that the envisaged system would be too costly and would still require the highest share of funds by general taxation . According to the state department of health , the implied costs of universal health insurance would have led to approximately 11 % higher expenditures than the existing system . After the Irish parliamentary election of 2016 , Fine Gael formed a minority government supported by independent parliamentarians . Social Democrat TD R\\u00f3is\\u00edn Shortall founded in June 2016 an all-party '' Committee on the Future of Healthcare \\u201d following an initiative by the health department with the aim to identify an appropriate approach for establishing universal healthcare in Ireland . The committee was supported by an academic team from Trinity College Dublin to analyse submissions made within 30 public hearings in the course of the public consultation process . In May 2017 the committee published its final report entitled '' Committee on the Future of Health , Sl\\u00e1intecare Report \\u201d , which specified universal healthcare based on the following definition : The document entails a proposed ten-year plan for reforming the Irish health system towards universal healthcare . It consists of five sections , covering `` Population health profile , Entitlements and Access to Healthcare , Integrated care , Funding '' and `` Implementation . '' The report foresees the provision of health cards called Carta Sl\\u00e1inte to every citizen , granting access to primary care free of charges at specified local entities preferably outside of hospitals . This system is planned to be funded by taxation , requiring an increase of public health spending and further infrastructure investment of approximately 3 billion Euros . The submitted plan was debated twice in the parliament in 2017 and the Irish government decided to found an official implementation office to appoint a head of the organisation as well as to develop a drafted implementation plan by December 2017 .\"}\r\n"
     ]
    }
   ],
   "source": [
    "!head -n 1 /mnt/data/factcheck/fever/data-en-latest/enwiki.jsonl > orig  #| sed \"s/ /\\n/g\"\n",
    "!head -n 1 /home/ryparmar/pyserini/data/docs00.json > parsed\n",
    "!diff orig parsed"
   ]
  },
  {
   "cell_type": "code",
   "execution_count": 26,
   "metadata": {},
   "outputs": [
    {
     "data": {
      "text/plain": [
       "True"
      ]
     },
     "execution_count": 26,
     "metadata": {},
     "output_type": "execute_result"
    }
   ],
   "source": [
    "\"Sláintecare\" == \"Sl\\u00e1intecare\""
   ]
  },
  {
   "cell_type": "code",
   "execution_count": 28,
   "metadata": {},
   "outputs": [
    {
     "name": "stdout",
     "output_type": "stream",
     "text": [
      "{'id': 'Sláintecare', 'text': \"Sláintecare is a proposed reform of the healthcare system of Ireland . Under the existing health service system large out-of-pocket payments are required ; the Republic of Ireland is the only state within the EU which does not provide universal healthcare , according to WHO criteria . The newly elected Irish government committed itself in March 2011 to reform the two-tier structure of national health service in response to public discontent with austerity measures from 2008 onwards . Since public funding of health provision was reduced between 2009 and 2013 to meet payment obligations arising from the state 's budget deficit , citizens faced higher medical charges and extended waiting lists . In reaction to this development , the coalition government of Fine Gael and the Labour Party declared to introduce '' a universal single-tiered health service , which guarantees access based on need , not income ... through Universal Health Insurance. ” The published government plan , outlined in the 2014 document '' The Path to UHC – The White Paper ” , foresaw introducing compulsory private health insurance based on managed competition between insurance companies to abolish the distinction between public and private patient status . Key features of the policy entailed mandatory health insurance for every citizen under free choice of insurer as well as entitlement to the same package of care , covering primary and acute hospital services . Further , patients should be charged in turn insurance premium irrespective of age or risk profile and additionally have the right to change their insurance membership on an annual basis . Those citizens who are unable to afford the amount of premium would have qualified for subsidies to cover the required premium payments by a National Insurance fund . The implementation of the proposed model of universal health insurance was supposed to be conducted by 2019 . However , after a public consultation procedure regarding the reform initiatives the plan of universal health insurance was abandoned by the Irish administration in November 2015 due to projections that the envisaged system would be too costly and would still require the highest share of funds by general taxation . According to the state department of health , the implied costs of universal health insurance would have led to approximately 11 % higher expenditures than the existing system . After the Irish parliamentary election of 2016 , Fine Gael formed a minority government supported by independent parliamentarians . Social Democrat TD Róisín Shortall founded in June 2016 an all-party '' Committee on the Future of Healthcare ” following an initiative by the health department with the aim to identify an appropriate approach for establishing universal healthcare in Ireland . The committee was supported by an academic team from Trinity College Dublin to analyse submissions made within 30 public hearings in the course of the public consultation process . In May 2017 the committee published its final report entitled '' Committee on the Future of Health , Sláintecare Report ” , which specified universal healthcare based on the following definition : The document entails a proposed ten-year plan for reforming the Irish health system towards universal healthcare . It consists of five sections , covering `` Population health profile , Entitlements and Access to Healthcare , Integrated care , Funding '' and `` Implementation . '' The report foresees the provision of health cards called Carta Sláinte to every citizen , granting access to primary care free of charges at specified local entities preferably outside of hospitals . This system is planned to be funded by taxation , requiring an increase of public health spending and further infrastructure investment of approximately 3 billion Euros . The submitted plan was debated twice in the parliament in 2017 and the Irish government decided to found an official implementation office to appoint a head of the organisation as well as to develop a drafted implementation plan by December 2017 .\", 'lines': \"0\\tSláintecare is a proposed reform of the healthcare system of Ireland .\\n1\\tUnder the existing health service system large out-of-pocket payments are required ; the Republic of Ireland is the only state within the EU which does not provide universal healthcare , according to WHO criteria .\\n2\\tThe newly elected Irish government committed itself in March 2011 to reform the two-tier structure of national health service in response to public discontent with austerity measures from 2008 onwards .\\n3\\tSince public funding of health provision was reduced between 2009 and 2013 to meet payment obligations arising from the state 's budget deficit , citizens faced higher medical charges and extended waiting lists .\\n4\\tIn reaction to this development , the coalition government of Fine Gael and the Labour Party declared to introduce '' a universal single-tiered health service , which guarantees access based on need , not income ... through Universal Health Insurance. ” The published government plan , outlined in the 2014 document '' The Path to UHC – The White Paper ” , foresaw introducing compulsory private health insurance based on managed competition between insurance companies to abolish the distinction between public and private patient status .\\n5\\tKey features of the policy entailed mandatory health insurance for every citizen under free choice of insurer as well as entitlement to the same package of care , covering primary and acute hospital services .\\n6\\tFurther , patients should be charged in turn insurance premium irrespective of age or risk profile and additionally have the right to change their insurance membership on an annual basis .\\n7\\tThose citizens who are unable to afford the amount of premium would have qualified for subsidies to cover the required premium payments by a National Insurance fund .\\n8\\tThe implementation of the proposed model of universal health insurance was supposed to be conducted by 2019 .\\n9\\tHowever , after a public consultation procedure regarding the reform initiatives the plan of universal health insurance was abandoned by the Irish administration in November 2015 due to projections that the envisaged system would be too costly and would still require the highest share of funds by general taxation .\\n10\\tAccording to the state department of health , the implied costs of universal health insurance would have led to approximately 11 % higher expenditures than the existing system .\\n11\\tAfter the Irish parliamentary election of 2016 , Fine Gael formed a minority government supported by independent parliamentarians .\\n12\\tSocial Democrat TD Róisín Shortall founded in June 2016 an all-party '' Committee on the Future of Healthcare ” following an initiative by the health department with the aim to identify an appropriate approach for establishing universal healthcare in Ireland .\\n13\\tThe committee was supported by an academic team from Trinity College Dublin to analyse submissions made within 30 public hearings in the course of the public consultation process .\\n14\\tIn May 2017 the committee published its final report entitled '' Committee on the Future of Health , Sláintecare Report ” , which specified universal healthcare based on the following definition : The document entails a proposed ten-year plan for reforming the Irish health system towards universal healthcare .\\n15\\tIt consists of five sections , covering `` Population health profile , Entitlements and Access to Healthcare , Integrated care , Funding '' and `` Implementation . ''\\n16\\tThe report foresees the provision of health cards called Carta Sláinte to every citizen , granting access to primary care free of charges at specified local entities preferably outside of hospitals .\\n17\\tThis system is planned to be funded by taxation , requiring an increase of public health spending and further infrastructure investment of approximately 3 billion Euros .\\n18\\tThe submitted plan was debated twice in the parliament in 2017 and the Irish government decided to found an official implementation office to appoint a head of the organisation as well as to develop a drafted implementation plan by December 2017 .\"}\n"
     ]
    }
   ],
   "source": [
    "import jsonlines\n",
    "with jsonlines.open('/mnt/data/factcheck/fever/data-en-latest/enwiki.jsonl') as r:\n",
    "    count = 0\n",
    "    for i in r:\n",
    "        print(i)\n",
    "        count += 1\n",
    "        if count == 1:\n",
    "            break"
   ]
  },
  {
   "cell_type": "code",
   "execution_count": 30,
   "metadata": {},
   "outputs": [
    {
     "name": "stdout",
     "output_type": "stream",
     "text": [
      "{'id': 'Sláintecare', 'contents': \"Sláintecare is a proposed reform of the healthcare system of Ireland . Under the existing health service system large out-of-pocket payments are required ; the Republic of Ireland is the only state within the EU which does not provide universal healthcare , according to WHO criteria . The newly elected Irish government committed itself in March 2011 to reform the two-tier structure of national health service in response to public discontent with austerity measures from 2008 onwards . Since public funding of health provision was reduced between 2009 and 2013 to meet payment obligations arising from the state 's budget deficit , citizens faced higher medical charges and extended waiting lists . In reaction to this development , the coalition government of Fine Gael and the Labour Party declared to introduce '' a universal single-tiered health service , which guarantees access based on need , not income ... through Universal Health Insurance. ” The published government plan , outlined in the 2014 document '' The Path to UHC – The White Paper ” , foresaw introducing compulsory private health insurance based on managed competition between insurance companies to abolish the distinction between public and private patient status . Key features of the policy entailed mandatory health insurance for every citizen under free choice of insurer as well as entitlement to the same package of care , covering primary and acute hospital services . Further , patients should be charged in turn insurance premium irrespective of age or risk profile and additionally have the right to change their insurance membership on an annual basis . Those citizens who are unable to afford the amount of premium would have qualified for subsidies to cover the required premium payments by a National Insurance fund . The implementation of the proposed model of universal health insurance was supposed to be conducted by 2019 . However , after a public consultation procedure regarding the reform initiatives the plan of universal health insurance was abandoned by the Irish administration in November 2015 due to projections that the envisaged system would be too costly and would still require the highest share of funds by general taxation . According to the state department of health , the implied costs of universal health insurance would have led to approximately 11 % higher expenditures than the existing system . After the Irish parliamentary election of 2016 , Fine Gael formed a minority government supported by independent parliamentarians . Social Democrat TD Róisín Shortall founded in June 2016 an all-party '' Committee on the Future of Healthcare ” following an initiative by the health department with the aim to identify an appropriate approach for establishing universal healthcare in Ireland . The committee was supported by an academic team from Trinity College Dublin to analyse submissions made within 30 public hearings in the course of the public consultation process . In May 2017 the committee published its final report entitled '' Committee on the Future of Health , Sláintecare Report ” , which specified universal healthcare based on the following definition : The document entails a proposed ten-year plan for reforming the Irish health system towards universal healthcare . It consists of five sections , covering `` Population health profile , Entitlements and Access to Healthcare , Integrated care , Funding '' and `` Implementation . '' The report foresees the provision of health cards called Carta Sláinte to every citizen , granting access to primary care free of charges at specified local entities preferably outside of hospitals . This system is planned to be funded by taxation , requiring an increase of public health spending and further infrastructure investment of approximately 3 billion Euros . The submitted plan was debated twice in the parliament in 2017 and the Irish government decided to found an official implementation office to appoint a head of the organisation as well as to develop a drafted implementation plan by December 2017 .\"}\n"
     ]
    }
   ],
   "source": [
    "import jsonlines\n",
    "with jsonlines.open('/home/ryparmar/pyserini/data/docs00.json') as r:\n",
    "    count = 0\n",
    "    for i in r:\n",
    "        print(i)\n",
    "        count += 1\n",
    "        if count == 1:\n",
    "            break"
   ]
  },
  {
   "cell_type": "markdown",
   "metadata": {},
   "source": [
    "### Try to compute index"
   ]
  },
  {
   "cell_type": "code",
   "execution_count": 31,
   "metadata": {},
   "outputs": [
    {
     "name": "stdout",
     "output_type": "stream",
     "text": [
      "WARNING: sun.reflect.Reflection.getCallerClass is not supported. This will impact performance.\n",
      "2020-09-08 19:59:19,862 INFO  [main] index.IndexCollection (IndexCollection.java:636) - Setting log level to INFO\n",
      "2020-09-08 19:59:19,865 INFO  [main] index.IndexCollection (IndexCollection.java:639) - Starting indexer...\n",
      "2020-09-08 19:59:19,865 INFO  [main] index.IndexCollection (IndexCollection.java:640) - ============ Loading Parameters ============\n",
      "2020-09-08 19:59:19,865 INFO  [main] index.IndexCollection (IndexCollection.java:641) - DocumentCollection path: /home/ryparmar/pyserini/data\n",
      "2020-09-08 19:59:19,866 INFO  [main] index.IndexCollection (IndexCollection.java:642) - CollectionClass: JsonCollection\n",
      "2020-09-08 19:59:19,866 INFO  [main] index.IndexCollection (IndexCollection.java:643) - Generator: DefaultLuceneDocumentGenerator\n",
      "2020-09-08 19:59:19,867 INFO  [main] index.IndexCollection (IndexCollection.java:644) - Threads: 1\n",
      "2020-09-08 19:59:19,867 INFO  [main] index.IndexCollection (IndexCollection.java:645) - Stemmer: porter\n",
      "2020-09-08 19:59:19,867 INFO  [main] index.IndexCollection (IndexCollection.java:646) - Keep stopwords? false\n",
      "2020-09-08 19:59:19,868 INFO  [main] index.IndexCollection (IndexCollection.java:647) - Stopwords:  null\n",
      "2020-09-08 19:59:19,868 INFO  [main] index.IndexCollection (IndexCollection.java:648) - Store positions? true\n",
      "2020-09-08 19:59:19,869 INFO  [main] index.IndexCollection (IndexCollection.java:649) - Store docvectors? true\n",
      "2020-09-08 19:59:19,869 INFO  [main] index.IndexCollection (IndexCollection.java:650) - Store document \"contents\" field? false\n",
      "2020-09-08 19:59:19,869 INFO  [main] index.IndexCollection (IndexCollection.java:651) - Store document \"raw\" field? true\n",
      "2020-09-08 19:59:19,870 INFO  [main] index.IndexCollection (IndexCollection.java:652) - Optimize (merge segments)? false\n",
      "2020-09-08 19:59:19,870 INFO  [main] index.IndexCollection (IndexCollection.java:653) - Whitelist: null\n",
      "2020-09-08 19:59:19,870 INFO  [main] index.IndexCollection (IndexCollection.java:673) - Directly building Lucene indexes...\n",
      "2020-09-08 19:59:19,871 INFO  [main] index.IndexCollection (IndexCollection.java:674) - Index path: /home/ryparmar/pyserini/indexes-full\n",
      "2020-09-08 19:59:19,879 INFO  [main] index.IndexCollection (IndexCollection.java:723) - ============ Indexing Collection ============\n",
      "2020-09-08 19:59:20,042 INFO  [main] index.IndexCollection (IndexCollection.java:784) - Thread pool with 1 threads initialized.\n",
      "2020-09-08 19:59:20,043 INFO  [main] index.IndexCollection (IndexCollection.java:786) - Initializing collection in /home/ryparmar/pyserini/data\n",
      "2020-09-08 19:59:20,046 INFO  [main] index.IndexCollection (IndexCollection.java:789) - 1 file found\n",
      "2020-09-08 19:59:20,047 INFO  [main] index.IndexCollection (IndexCollection.java:790) - Starting to index...\n",
      "2020-09-08 20:00:20,050 INFO  [main] index.IndexCollection (IndexCollection.java:808) - 800,000 documents indexed\n",
      "2020-09-08 20:01:20,053 INFO  [main] index.IndexCollection (IndexCollection.java:808) - 1,590,000 documents indexed\n",
      "2020-09-08 20:02:20,054 INFO  [main] index.IndexCollection (IndexCollection.java:808) - 2,390,000 documents indexed\n",
      "2020-09-08 20:03:20,057 INFO  [main] index.IndexCollection (IndexCollection.java:808) - 3,270,000 documents indexed\n",
      "2020-09-08 20:04:20,084 INFO  [main] index.IndexCollection (IndexCollection.java:808) - 4,160,000 documents indexed\n",
      "2020-09-08 20:05:20,086 INFO  [main] index.IndexCollection (IndexCollection.java:808) - 5,030,000 documents indexed\n",
      "2020-09-08 20:06:20,093 INFO  [main] index.IndexCollection (IndexCollection.java:808) - 5,850,000 documents indexed\n",
      "2020-09-08 20:06:33,752 DEBUG [pool-2-thread-1] index.IndexCollection$LocalIndexerThread (IndexCollection.java:238) - data/docs00.json: 6038201 docs added.\n",
      "2020-09-08 20:07:25,703 INFO  [main] index.IndexCollection (IndexCollection.java:874) - Indexing Complete! 6,038,201 documents indexed\n",
      "2020-09-08 20:07:25,703 INFO  [main] index.IndexCollection (IndexCollection.java:875) - ============ Final Counter Values ============\n",
      "2020-09-08 20:07:25,704 INFO  [main] index.IndexCollection (IndexCollection.java:876) - indexed:        6,038,201\n",
      "2020-09-08 20:07:25,704 INFO  [main] index.IndexCollection (IndexCollection.java:877) - unindexable:            0\n",
      "2020-09-08 20:07:25,705 INFO  [main] index.IndexCollection (IndexCollection.java:878) - empty:                  0\n",
      "2020-09-08 20:07:25,705 INFO  [main] index.IndexCollection (IndexCollection.java:879) - skipped:                0\n",
      "2020-09-08 20:07:25,705 INFO  [main] index.IndexCollection (IndexCollection.java:880) - errors:                 0\n",
      "2020-09-08 20:07:25,711 INFO  [main] index.IndexCollection (IndexCollection.java:883) - Total 6,038,201 documents indexed in 00:08:05\n"
     ]
    }
   ],
   "source": [
    "!python -m pyserini.index \\\n",
    "-collection JsonCollection \\\n",
    "-generator DefaultLuceneDocumentGenerator \\\n",
    "-threads 1 \\\n",
    "-input /home/ryparmar/pyserini/en-latest/data \\\n",
    "-index /home/ryparmar/pyserini/en-latest/indexes-full \\\n",
    "-storePositions -storeDocvectors -storeRaw"
   ]
  },
  {
   "cell_type": "code",
   "execution_count": 32,
   "metadata": {},
   "outputs": [
    {
     "name": "stdout",
     "output_type": "stream",
     "text": [
      "_0.fdt\t_0.nvm\t_0_Lucene50_0.doc  _0_Lucene80_0.dvd\r\n",
      "_0.fdx\t_0.si\t_0_Lucene50_0.pos  _0_Lucene80_0.dvm\r\n",
      "_0.fnm\t_0.tvd\t_0_Lucene50_0.tim  segments_1\r\n",
      "_0.nvd\t_0.tvx\t_0_Lucene50_0.tip  write.lock\r\n"
     ]
    }
   ],
   "source": [
    "!ls /home/ryparmar/pyserini/indexes-full"
   ]
  },
  {
   "cell_type": "markdown",
   "metadata": {},
   "source": [
    "### Test the computed index"
   ]
  },
  {
   "cell_type": "code",
   "execution_count": 133,
   "metadata": {},
   "outputs": [
    {
     "name": "stdout",
     "output_type": "stream",
     "text": [
      " 1 0               16.15490\n",
      " 2 3655984         10.95880\n",
      " 3 1736638         10.29230\n",
      " 4 1949761         10.22800\n",
      " 5 5495217         9.64750\n",
      " 6 1580268         9.35750\n",
      " 7 1390315         9.22520\n",
      " 8 3014088         9.14190\n",
      " 9 1354987         9.14100\n",
      "10 2651102         9.12890\n"
     ]
    }
   ],
   "source": [
    "from pyserini import analysis, index\n",
    "from pyserini.search import SimpleSearcher\n",
    "\n",
    "INDEXER = '/home/ryparmar/pyserini/indexes-full'\n",
    "# index_reader = index.IndexReader(INDEXER)\n",
    "\n",
    "searcher = SimpleSearcher(INDEXER)\n",
    "\n",
    "query = 'Sláintecare should be the name of healthcare system in Ireland'\n",
    "hits = searcher.search(query)\n",
    "\n",
    "for i in range(len(hits)):\n",
    "    print(f'{i+1:2} {hits[i].docid:15} {hits[i].score:.5f}')"
   ]
  },
  {
   "cell_type": "markdown",
   "metadata": {},
   "source": [
    "### Check the computed index and compare with the one provided by DrQA -- MOVE TO THE END!"
   ]
  },
  {
   "cell_type": "code",
   "execution_count": 166,
   "metadata": {},
   "outputs": [
    {
     "name": "stdout",
     "output_type": "stream",
     "text": [
      "0 (df=4, cf=6)\n",
      "0.6 (df=1, cf=1)\n",
      "08 (df=2, cf=2)\n",
      "1 (df=39, cf=45)\n",
      "1,139 (df=1, cf=1)\n",
      "1,345 (df=1, cf=1)\n",
      "1,500 (df=1, cf=1)\n",
      "1,515 (df=1, cf=1)\n",
      "1,600 (df=1, cf=1)\n",
      "1,775 (df=1, cf=1)\n",
      "1,800 (df=1, cf=1)\n",
      "1.4 (df=1, cf=1)\n",
      "1.5 (df=1, cf=1)\n",
      "1.80 (df=1, cf=1)\n",
      "10 (df=34, cf=46)\n",
      "10,000 (df=3, cf=3)\n",
      "100 (df=10, cf=15)\n",
      "1000 (df=1, cf=1)\n",
      "103 (df=1, cf=1)\n",
      "1034 (df=1, cf=1)\n",
      "1041 (df=1, cf=1)\n",
      "1054 (df=1, cf=1)\n",
      "10k (df=1, cf=1)\n",
      "10th (df=2, cf=2)\n",
      "11 (df=30, cf=31)\n",
      "115,000 (df=1, cf=1)\n",
      "1164 (df=1, cf=1)\n",
      "1165 (df=1, cf=1)\n",
      "117 (df=1, cf=1)\n",
      "1170 (df=1, cf=1)\n",
      "118 (df=1, cf=1)\n",
      "1180 (df=1, cf=1)\n",
      "11th (df=3, cf=3)\n",
      "12 (df=27, cf=30)\n",
      "12,000 (df=1, cf=1)\n",
      "120 (df=3, cf=3)\n",
      "1200 (df=1, cf=1)\n",
      "121 (df=1, cf=1)\n",
      "122 (df=1, cf=1)\n",
      "1240 (df=1, cf=1)\n",
      "1245 (df=1, cf=1)\n",
      "1247 (df=1, cf=1)\n",
      "1253 (df=1, cf=1)\n",
      "129 (df=1, cf=1)\n",
      "12th (df=5, cf=5)\n",
      "13 (df=31, cf=33)\n",
      "1316 (df=1, cf=1)\n",
      "1324 (df=1, cf=1)\n",
      "1325 (df=1, cf=1)\n",
      "132nd (df=1, cf=1)\n",
      "1332 (df=1, cf=1)\n",
      "1371 (df=1, cf=1)\n",
      "1381 (df=1, cf=1)\n",
      "1384 (df=1, cf=1)\n",
      "1395 (df=1, cf=1)\n",
      "13th (df=6, cf=6)\n",
      "14 (df=20, cf=21)\n",
      "14,059 (df=1, cf=1)\n",
      "140,000 (df=1, cf=1)\n",
      "1406 (df=1, cf=1)\n",
      "1413 (df=1, cf=1)\n",
      "1414 (df=1, cf=1)\n",
      "1416 (df=1, cf=1)\n",
      "1418 (df=1, cf=1)\n",
      "142 (df=1, cf=1)\n",
      "1421 (df=1, cf=2)\n",
      "1422 (df=1, cf=2)\n",
      "144 (df=1, cf=1)\n",
      "1442 (df=1, cf=3)\n",
      "1443 (df=1, cf=1)\n",
      "1451 (df=1, cf=1)\n",
      "1453 (df=1, cf=1)\n",
      "149 (df=1, cf=1)\n",
      "14mm (df=1, cf=1)\n",
      "14th (df=4, cf=4)\n",
      "15 (df=39, cf=41)\n",
      "15,743 (df=1, cf=1)\n",
      "15.8 (df=1, cf=1)\n",
      "150,000 (df=1, cf=1)\n",
      "1500 (df=2, cf=3)\n",
      "150th (df=1, cf=1)\n",
      "1517 (df=1, cf=2)\n",
      "1524 (df=1, cf=1)\n",
      "1529 (df=1, cf=1)\n",
      "153 (df=1, cf=1)\n",
      "1530 (df=1, cf=1)\n",
      "1537 (df=1, cf=2)\n",
      "1555 (df=1, cf=1)\n",
      "1561 (df=1, cf=1)\n",
      "1563 (df=2, cf=2)\n",
      "158,000 (df=1, cf=1)\n",
      "1591 (df=1, cf=1)\n",
      "15m (df=1, cf=1)\n",
      "15th (df=4, cf=4)\n",
      "16 (df=20, cf=21)\n",
      "1613 (df=1, cf=1)\n",
      "1616 (df=1, cf=1)\n",
      "1618 (df=1, cf=1)\n",
      "1624 (df=1, cf=1)\n",
      "1635 (df=1, cf=1)\n",
      "1640 (df=1, cf=1)\n",
      "1643 (df=1, cf=1)\n",
      "1648 (df=1, cf=1)\n",
      "1649 (df=1, cf=1)\n",
      "165 (df=1, cf=1)\n",
      "1651 (df=1, cf=1)\n",
      "1660 (df=1, cf=1)\n",
      "1662 (df=1, cf=1)\n",
      "1665 (df=1, cf=1)\n",
      "1666 (df=1, cf=1)\n",
      "1668 (df=1, cf=1)\n",
      "1670 (df=2, cf=3)\n",
      "1675 (df=1, cf=1)\n",
      "1679 (df=1, cf=1)\n",
      "168 (df=1, cf=1)\n",
      "1680 (df=1, cf=1)\n",
      "16th (df=3, cf=6)\n",
      "17 (df=27, cf=28)\n",
      "1703 (df=1, cf=1)\n",
      "1708 (df=1, cf=2)\n",
      "1709 (df=1, cf=1)\n",
      "1710 (df=3, cf=3)\n",
      "1719 (df=2, cf=2)\n",
      "1723 (df=1, cf=1)\n",
      "1725 (df=2, cf=2)\n",
      "1740 (df=1, cf=1)\n",
      "1750 (df=1, cf=1)\n",
      "1754 (df=1, cf=1)\n",
      "1756 (df=1, cf=1)\n",
      "1764 (df=1, cf=1)\n",
      "1765 (df=1, cf=1)\n",
      "1769 (df=2, cf=2)\n",
      "1770 (df=2, cf=2)\n",
      "1775 (df=1, cf=1)\n",
      "1779 (df=1, cf=1)\n",
      "1785 (df=1, cf=1)\n",
      "1788 (df=1, cf=1)\n",
      "1789 (df=1, cf=1)\n",
      "1790 (df=1, cf=1)\n",
      "1791 (df=2, cf=2)\n",
      "1796 (df=1, cf=1)\n",
      "17th (df=2, cf=2)\n",
      "18 (df=24, cf=24)\n",
      "1800 (df=2, cf=3)\n",
      "1805 (df=3, cf=5)\n",
      "1806 (df=3, cf=5)\n",
      "1808 (df=1, cf=2)\n",
      "1809 (df=2, cf=2)\n",
      "1810 (df=3, cf=3)\n",
      "1811 (df=3, cf=3)\n",
      "1812 (df=1, cf=2)\n",
      "1814 (df=1, cf=1)\n",
      "1818 (df=2, cf=2)\n",
      "1819 (df=1, cf=1)\n",
      "1820 (df=3, cf=4)\n",
      "1821 (df=1, cf=2)\n",
      "1823 (df=3, cf=3)\n",
      "1825 (df=1, cf=1)\n",
      "1826 (df=3, cf=4)\n",
      "1827 (df=1, cf=1)\n",
      "1829 (df=1, cf=1)\n",
      "1830 (df=4, cf=5)\n",
      "1831 (df=2, cf=2)\n",
      "1832 (df=2, cf=2)\n",
      "1833 (df=1, cf=1)\n",
      "1834 (df=1, cf=1)\n",
      "1836 (df=2, cf=2)\n",
      "1838 (df=2, cf=2)\n",
      "1839 (df=2, cf=2)\n",
      "1840 (df=2, cf=3)\n",
      "1842 (df=1, cf=1)\n",
      "1843 (df=1, cf=1)\n",
      "1845 (df=3, cf=3)\n",
      "1846 (df=1, cf=1)\n",
      "1847 (df=3, cf=3)\n",
      "1848 (df=2, cf=2)\n",
      "1849 (df=1, cf=1)\n",
      "185,000 (df=1, cf=1)\n",
      "1850 (df=2, cf=2)\n",
      "1851 (df=3, cf=4)\n",
      "1852 (df=1, cf=1)\n",
      "1854 (df=2, cf=2)\n",
      "1856 (df=3, cf=4)\n",
      "1857 (df=2, cf=2)\n",
      "1858 (df=4, cf=4)\n",
      "1860 (df=1, cf=1)\n",
      "1862 (df=2, cf=2)\n",
      "1864 (df=2, cf=2)\n",
      "1866 (df=2, cf=2)\n",
      "1867 (df=2, cf=2)\n",
      "1868 (df=7, cf=8)\n",
      "1869 (df=2, cf=2)\n",
      "1870 (df=3, cf=6)\n",
      "1871 (df=4, cf=5)\n",
      "1872 (df=4, cf=4)\n",
      "1873 (df=1, cf=1)\n",
      "1874 (df=2, cf=2)\n",
      "1875 (df=3, cf=4)\n",
      "1876 (df=4, cf=4)\n",
      "1877 (df=4, cf=4)\n",
      "1878 (df=4, cf=5)\n",
      "1879 (df=4, cf=4)\n",
      "1880 (df=9, cf=10)\n",
      "1881 (df=3, cf=3)\n",
      "1882 (df=6, cf=7)\n",
      "1883 (df=4, cf=4)\n",
      "1884 (df=2, cf=3)\n",
      "1885 (df=4, cf=4)\n",
      "1886 (df=2, cf=2)\n",
      "1887 (df=5, cf=6)\n",
      "1888 (df=4, cf=4)\n",
      "1889 (df=3, cf=3)\n",
      "1890 (df=4, cf=6)\n",
      "1891 (df=4, cf=5)\n",
      "1892 (df=4, cf=4)\n",
      "1893 (df=5, cf=5)\n",
      "1894 (df=3, cf=3)\n",
      "1895 (df=5, cf=5)\n",
      "1896 (df=3, cf=3)\n",
      "1897 (df=5, cf=5)\n",
      "1898 (df=5, cf=6)\n",
      "1899 (df=4, cf=4)\n",
      "18th (df=7, cf=7)\n",
      "19 (df=30, cf=39)\n",
      "19.2 (df=1, cf=1)\n",
      "1900 (df=4, cf=5)\n",
      "1901 (df=7, cf=9)\n",
      "1902 (df=4, cf=4)\n",
      "1903 (df=2, cf=2)\n",
      "1904 (df=5, cf=5)\n",
      "1905 (df=6, cf=8)\n",
      "1906 (df=8, cf=9)\n",
      "1907 (df=5, cf=6)\n",
      "1908 (df=2, cf=2)\n",
      "1909 (df=5, cf=5)\n",
      "1910 (df=12, cf=12)\n",
      "1911 (df=5, cf=5)\n",
      "1912 (df=5, cf=5)\n",
      "1913 (df=11, cf=11)\n",
      "1914 (df=5, cf=7)\n",
      "1915 (df=6, cf=6)\n",
      "1916 (df=8, cf=8)\n",
      "1917 (df=15, cf=19)\n",
      "1918 (df=16, cf=26)\n",
      "1919 (df=7, cf=9)\n",
      "1920 (df=12, cf=13)\n",
      "1920februari (df=1, cf=1)\n",
      "1921 (df=6, cf=6)\n",
      "1922 (df=4, cf=4)\n",
      "1923 (df=4, cf=5)\n",
      "1924 (df=6, cf=7)\n",
      "1925 (df=7, cf=10)\n",
      "1926 (df=3, cf=3)\n",
      "1927 (df=6, cf=7)\n",
      "1928 (df=12, cf=14)\n",
      "1929 (df=7, cf=7)\n",
      "1930 (df=9, cf=11)\n",
      "1931 (df=9, cf=10)\n",
      "1932 (df=15, cf=18)\n",
      "1933 (df=7, cf=7)\n",
      "1934 (df=7, cf=7)\n",
      "1935 (df=4, cf=4)\n",
      "1936 (df=15, cf=18)\n",
      "1937 (df=7, cf=7)\n",
      "1938 (df=11, cf=13)\n",
      "1939 (df=3, cf=3)\n",
      "194 (df=1, cf=1)\n",
      "1940 (df=7, cf=8)\n",
      "1941 (df=5, cf=8)\n",
      "1942 (df=4, cf=4)\n",
      "1943 (df=4, cf=4)\n",
      "1944 (df=2, cf=2)\n",
      "1945 (df=8, cf=10)\n",
      "1946 (df=2, cf=2)\n",
      "1947 (df=3, cf=3)\n",
      "1948 (df=3, cf=4)\n",
      "1949 (df=7, cf=7)\n",
      "1950 (df=10, cf=11)\n",
      "1951 (df=5, cf=5)\n",
      "1952 (df=5, cf=6)\n",
      "1953 (df=7, cf=8)\n",
      "1954 (df=14, cf=14)\n",
      "1955 (df=5, cf=5)\n",
      "1956 (df=10, cf=12)\n",
      "1957 (df=9, cf=10)\n",
      "1958 (df=9, cf=10)\n",
      "1959 (df=4, cf=4)\n",
      "1960 (df=15, cf=19)\n",
      "1961 (df=5, cf=6)\n",
      "1962 (df=5, cf=5)\n",
      "1963 (df=11, cf=11)\n",
      "1964 (df=9, cf=9)\n",
      "1965 (df=9, cf=13)\n",
      "1966 (df=12, cf=13)\n",
      "1967 (df=7, cf=13)\n",
      "1968 (df=5, cf=5)\n",
      "1969 (df=4, cf=5)\n",
      "1970 (df=16, cf=16)\n",
      "1971 (df=6, cf=9)\n",
      "1972 (df=4, cf=5)\n",
      "1973 (df=9, cf=9)\n",
      "1974 (df=6, cf=8)\n",
      "1975 (df=7, cf=9)\n",
      "1976 (df=30, cf=40)\n",
      "1977 (df=6, cf=7)\n",
      "1978 (df=13, cf=14)\n",
      "1979 (df=5, cf=6)\n",
      "1980 (df=14, cf=16)\n",
      "1981 (df=9, cf=10)\n",
      "1982 (df=9, cf=9)\n",
      "1983 (df=6, cf=6)\n",
      "1984 (df=14, cf=15)\n",
      "1985 (df=8, cf=8)\n",
      "1986 (df=5, cf=5)\n",
      "1987 (df=2, cf=3)\n",
      "1988 (df=11, cf=13)\n",
      "1989 (df=6, cf=10)\n",
      "1990 (df=10, cf=11)\n",
      "1991 (df=9, cf=9)\n",
      "1992 (df=13, cf=13)\n",
      "1993 (df=10, cf=10)\n",
      "1994 (df=14, cf=15)\n",
      "1995 (df=10, cf=10)\n",
      "1996 (df=11, cf=11)\n",
      "1997 (df=12, cf=12)\n",
      "1998 (df=12, cf=14)\n",
      "1999 (df=25, cf=26)\n",
      "19th (df=14, cf=14)\n",
      "1st (df=6, cf=7)\n",
      "2 (df=40, cf=46)\n",
      "2,32 (df=1, cf=1)\n",
      "2,4,5 (df=1, cf=1)\n",
      "2,4,6 (df=1, cf=3)\n",
      "2,444 (df=1, cf=1)\n",
      "2.1 (df=3, cf=3)\n",
      "2.5 (df=1, cf=1)\n",
      "2.86 (df=1, cf=1)\n",
      "20 (df=35, cf=37)\n",
      "20,643 (df=1, cf=1)\n",
      "200 (df=2, cf=3)\n",
      "200,000 (df=2, cf=2)\n",
      "2000 (df=12, cf=18)\n",
      "2001 (df=5, cf=12)\n",
      "2002 (df=5, cf=6)\n",
      "2003 (df=7, cf=7)\n",
      "2004 (df=9, cf=9)\n",
      "2005 (df=8, cf=13)\n",
      "2006 (df=5, cf=5)\n",
      "2007 (df=15, cf=16)\n",
      "2008 (df=7, cf=7)\n",
      "2009 (df=7, cf=10)\n",
      "2010 (df=21, cf=25)\n",
      "2011 (df=19, cf=20)\n",
      "2012 (df=12, cf=12)\n",
      "2013 (df=20, cf=21)\n",
      "2014 (df=17, cf=20)\n",
      "2015 (df=16, cf=20)\n",
      "2016 (df=22, cf=25)\n",
      "2017 (df=35, cf=40)\n",
      "2018 (df=110, cf=145)\n",
      "2019 (df=93, cf=159)\n",
      "2020 (df=14, cf=19)\n",
      "2021 (df=2, cf=2)\n",
      "2022 (df=1, cf=2)\n",
      "205 (df=1, cf=1)\n",
      "20821 (df=1, cf=1)\n",
      "20822 (df=1, cf=1)\n",
      "20m (df=1, cf=1)\n",
      "20th (df=6, cf=7)\n",
      "21 (df=17, cf=18)\n",
      "21st (df=4, cf=4)\n",
      "22 (df=25, cf=26)\n",
      "22.5m (df=1, cf=1)\n",
      "2200m (df=1, cf=1)\n",
      "22220 (df=1, cf=1)\n",
      "2250 (df=1, cf=1)\n",
      "23 (df=14, cf=16)\n",
      "2300 (df=1, cf=1)\n",
      "231 (df=1, cf=1)\n",
      "236 (df=1, cf=1)\n",
      "23rd (df=1, cf=1)\n",
      "24 (df=24, cf=25)\n",
      "240 (df=1, cf=1)\n",
      "2400 (df=1, cf=1)\n",
      "24th (df=1, cf=1)\n",
      "25 (df=21, cf=22)\n",
      "250,000 (df=1, cf=1)\n",
      "252 (df=1, cf=1)\n",
      "25th (df=1, cf=1)\n",
      "26 (df=18, cf=18)\n",
      "26.3 (df=1, cf=1)\n",
      "263 (df=1, cf=1)\n",
      "265,000 (df=1, cf=1)\n",
      "27 (df=15, cf=15)\n",
      "270 (df=1, cf=1)\n",
      "28 (df=16, cf=18)\n",
      "28th (df=1, cf=1)\n",
      "29 (df=13, cf=13)\n",
      "29.37 (df=1, cf=1)\n",
      "29th (df=2, cf=2)\n",
      "2nd (df=6, cf=6)\n",
      "3 (df=33, cf=39)\n",
      "3,200 (df=1, cf=1)\n",
      "3,5 (df=1, cf=1)\n",
      "3,735 (df=1, cf=1)\n",
      "30 (df=17, cf=19)\n",
      "30,000 (df=1, cf=1)\n",
      "300 (df=1, cf=1)\n",
      "300,000 (df=1, cf=1)\n",
      "30th (df=1, cf=1)\n",
      "31 (df=17, cf=19)\n",
      "31.9 (df=1, cf=1)\n",
      "310 (df=1, cf=1)\n",
      "31e (df=1, cf=1)\n",
      "31st (df=1, cf=1)\n",
      "32 (df=4, cf=4)\n",
      "323 (df=1, cf=1)\n",
      "32nd (df=3, cf=3)\n",
      "33 (df=4, cf=4)\n",
      "333 (df=1, cf=1)\n",
      "34 (df=4, cf=5)\n",
      "35 (df=4, cf=4)\n",
      "356 (df=1, cf=1)\n",
      "36 (df=4, cf=4)\n",
      "36th (df=1, cf=1)\n",
      "37 (df=2, cf=2)\n",
      "374 (df=1, cf=1)\n",
      "378 (df=1, cf=1)\n",
      "38 (df=5, cf=5)\n",
      "39 (df=3, cf=3)\n",
      "390 (df=1, cf=1)\n",
      "395 (df=1, cf=1)\n",
      "39th (df=1, cf=1)\n",
      "3rd (df=4, cf=4)\n",
      "3α (df=1, cf=2)\n",
      "4 (df=27, cf=37)\n",
      "4,000 (df=1, cf=1)\n",
      "4.7 (df=1, cf=1)\n",
      "40 (df=3, cf=3)\n",
      "40,000 (df=1, cf=1)\n",
      "400 (df=3, cf=3)\n",
      "40th (df=2, cf=2)\n",
      "41 (df=2, cf=2)\n",
      "410 (df=1, cf=2)\n",
      "41st (df=1, cf=1)\n",
      "42 (df=2, cf=2)\n",
      "42.195 (df=1, cf=1)\n",
      "426 (df=1, cf=1)\n",
      "42nd (df=2, cf=2)\n",
      "43 (df=3, cf=4)\n",
      "433 (df=2, cf=2)\n",
      "440 (df=1, cf=1)\n",
      "45 (df=2, cf=2)\n",
      "46 (df=1, cf=1)\n",
      "47 (df=1, cf=1)\n",
      "47,531 (df=1, cf=1)\n",
      "47,584 (df=1, cf=1)\n",
      "470 (df=1, cf=1)\n",
      "48 (df=3, cf=3)\n",
      "480 (df=1, cf=2)\n",
      "49er (df=1, cf=1)\n",
      "49th (df=2, cf=2)\n",
      "4th (df=1, cf=3)\n",
      "5 (df=35, cf=37)\n",
      "5,000 (df=3, cf=3)\n",
      "50 (df=8, cf=9)\n",
      "500 (df=4, cf=4)\n",
      "500,000 (df=1, cf=1)\n",
      "501 (df=1, cf=1)\n",
      "51 (df=1, cf=1)\n",
      "53.4 (df=1, cf=1)\n",
      "54th (df=1, cf=2)\n",
      "55 (df=1, cf=1)\n",
      "56 (df=1, cf=1)\n",
      "568 (df=1, cf=1)\n",
      "576 (df=3, cf=3)\n",
      "58.07 (df=1, cf=1)\n",
      "581 (df=1, cf=1)\n",
      "584 (df=1, cf=1)\n",
      "59 (df=1, cf=1)\n",
      "5g (df=1, cf=1)\n",
      "5th (df=3, cf=3)\n",
      "5α (df=2, cf=7)\n",
      "6 (df=24, cf=24)\n",
      "6,000 (df=1, cf=1)\n",
      "60 (df=2, cf=2)\n",
      "607 (df=1, cf=1)\n",
      "61 (df=1, cf=1)\n",
      "65 (df=1, cf=1)\n",
      "651 (df=1, cf=1)\n",
      "678 (df=1, cf=1)\n",
      "687 (df=1, cf=1)\n",
      "69 (df=2, cf=2)\n",
      "6th (df=4, cf=4)\n",
      "7 (df=20, cf=20)\n",
      "7,000 (df=1, cf=1)\n",
      "7.3 (df=1, cf=1)\n",
      "70 (df=4, cf=5)\n",
      "70,000 (df=2, cf=2)\n",
      "71 (df=2, cf=2)\n",
      "71st (df=1, cf=1)\n",
      "72 (df=2, cf=2)\n",
      "72,000 (df=1, cf=1)\n",
      "729 (df=1, cf=1)\n",
      "72nd (df=1, cf=1)\n",
      "731 (df=1, cf=1)\n",
      "735 (df=1, cf=1)\n",
      "737 (df=1, cf=1)\n",
      "738 (df=1, cf=1)\n",
      "73rd (df=1, cf=1)\n",
      "74 (df=1, cf=1)\n",
      "759 (df=1, cf=1)\n",
      "75th (df=1, cf=1)\n",
      "76 (df=1, cf=1)\n",
      "78 (df=1, cf=1)\n",
      "7th (df=7, cf=7)\n",
      "8 (df=26, cf=26)\n",
      "8.5 (df=1, cf=1)\n",
      "800 (df=1, cf=1)\n",
      "809 (df=1, cf=1)\n",
      "828 (df=1, cf=1)\n",
      "82nd (df=1, cf=1)\n",
      "83 (df=1, cf=1)\n",
      "839 (df=1, cf=1)\n",
      "84 (df=1, cf=1)\n",
      "855 (df=1, cf=1)\n",
      "88 (df=1, cf=1)\n",
      "881 (df=1, cf=1)\n",
      "882 (df=1, cf=1)\n",
      "89 (df=1, cf=1)\n",
      "8th (df=1, cf=1)\n",
      "9 (df=19, cf=19)\n",
      "9.5 (df=1, cf=1)\n",
      "90 (df=1, cf=1)\n",
      "900 (df=1, cf=1)\n",
      "905 (df=1, cf=1)\n",
      "90th (df=1, cf=1)\n",
      "91st (df=2, cf=2)\n",
      "920 (df=1, cf=1)\n",
      "92nd (df=1, cf=1)\n",
      "93.6mhz (df=1, cf=1)\n",
      "935 (df=1, cf=1)\n",
      "93rd (df=2, cf=2)\n",
      "949 (df=1, cf=1)\n",
      "94th (df=1, cf=1)\n",
      "95,000 (df=1, cf=1)\n",
      "950 (df=1, cf=1)\n",
      "966 (df=1, cf=1)\n",
      "971 (df=1, cf=1)\n",
      "975 (df=1, cf=1)\n",
      "98 (df=2, cf=2)\n",
      "989 (df=1, cf=1)\n",
      "98th (df=1, cf=1)\n",
      "99 (df=2, cf=2)\n",
      "9th (df=4, cf=4)\n",
      "aa (df=1, cf=1)\n",
      "aaa (df=1, cf=1)\n",
      "aaaaa (df=1, cf=1)\n",
      "ab (df=2, cf=2)\n",
      "aba (df=1, cf=1)\n",
      "abandon (df=1, cf=1)\n",
      "abbasid (df=1, cf=1)\n",
      "abbei (df=1, cf=1)\n",
      "abbot (df=1, cf=1)\n",
      "abduct (df=2, cf=2)\n",
      "abdul (df=4, cf=5)\n",
      "abdulla (df=1, cf=1)\n",
      "abdullah (df=1, cf=1)\n",
      "abdumajid (df=1, cf=1)\n",
      "abduqahhor (df=1, cf=1)\n",
      "abel (df=1, cf=1)\n",
      "abershaw (df=1, cf=1)\n",
      "abetar (df=1, cf=2)\n",
      "abil (df=3, cf=3)\n",
      "abl (df=5, cf=5)\n",
      "ablaz (df=1, cf=1)\n",
      "abnorm (df=1, cf=1)\n",
      "abolish (df=3, cf=4)\n",
      "abolit (df=1, cf=1)\n",
      "aborigin (df=1, cf=2)\n",
      "aboukab (df=1, cf=1)\n",
      "about (df=31, cf=35)\n",
      "abov (df=5, cf=5)\n",
      "abraham (df=1, cf=1)\n",
      "abroad (df=1, cf=1)\n",
      "abruzzo (df=1, cf=1)\n",
      "absenc (df=2, cf=2)\n",
      "absente (df=1, cf=1)\n",
      "absinth (df=1, cf=1)\n",
      "absolut (df=1, cf=1)\n",
      "abstention (df=1, cf=1)\n",
      "abstract (df=4, cf=4)\n",
      "abu (df=2, cf=2)\n",
      "abus (df=2, cf=2)\n",
      "academ (df=5, cf=5)\n",
      "academi (df=14, cf=15)\n",
      "academician (df=2, cf=2)\n",
      "acc (df=2, cf=2)\n",
      "accept (df=1, cf=1)\n",
      "access (df=3, cf=5)\n",
      "accid (df=1, cf=1)\n",
      "accident (df=1, cf=1)\n",
      "acclaim (df=3, cf=3)\n",
      "accommod (df=2, cf=2)\n",
      "accomplish (df=1, cf=1)\n",
      "accord (df=13, cf=17)\n",
      "account (df=4, cf=4)\n",
      "accra (df=1, cf=1)\n",
      "accur (df=1, cf=1)\n",
      "accus (df=2, cf=2)\n",
      "acetatigen (df=1, cf=1)\n",
      "achaemenid (df=2, cf=2)\n",
      "achiev (df=6, cf=6)\n",
      "acid (df=3, cf=10)\n",
      "acknowledg (df=1, cf=1)\n",
      "acmaea (df=1, cf=2)\n",
      "acmaeida (df=1, cf=1)\n",
      "acquir (df=2, cf=2)\n",
      "acquisit (df=1, cf=1)\n",
      "acquit (df=1, cf=1)\n",
      "acr (df=5, cf=5)\n",
      "acropoli (df=1, cf=1)\n",
      "across (df=9, cf=9)\n",
      "act (df=19, cf=21)\n",
      "action (df=10, cf=10)\n",
      "activ (df=13, cf=15)\n",
      "activis (df=1, cf=1)\n",
      "activist (df=6, cf=6)\n",
      "actor (df=14, cf=18)\n",
      "actra (df=1, cf=1)\n",
      "actress (df=12, cf=20)\n",
      "actual (df=5, cf=5)\n",
      "acut (df=1, cf=1)\n",
      "ad (df=17, cf=17)\n",
      "ada (df=1, cf=1)\n",
      "adalah (df=1, cf=1)\n",
      "adalbert (df=1, cf=1)\n",
      "adam (df=6, cf=6)\n",
      "adapt (df=5, cf=5)\n",
      "adc (df=1, cf=1)\n",
      "add (df=1, cf=1)\n",
      "addit (df=11, cf=17)\n",
      "addition (df=4, cf=4)\n",
      "address (df=3, cf=3)\n",
      "adeboy (df=1, cf=1)\n",
      "adeela (df=1, cf=1)\n",
      "adel (df=1, cf=1)\n",
      "adenau (df=1, cf=1)\n",
      "adentro (df=1, cf=1)\n",
      "adepo (df=1, cf=1)\n",
      "adetuyi (df=1, cf=1)\n",
      "adhiniyam (df=1, cf=1)\n",
      "adhobha (df=1, cf=1)\n",
      "adjac (df=2, cf=3)\n",
      "adject (df=1, cf=1)\n",
      "adjust (df=1, cf=1)\n",
      "administ (df=1, cf=1)\n",
      "administr (df=32, cf=33)\n",
      "admir (df=5, cf=5)\n",
      "admit (df=3, cf=3)\n",
      "admixtur (df=1, cf=1)\n",
      "adolfo (df=1, cf=1)\n",
      "adopt (df=2, cf=2)\n",
      "adorn (df=1, cf=1)\n",
      "adrian (df=1, cf=1)\n",
      "adriana (df=1, cf=1)\n",
      "adrogué (df=1, cf=1)\n",
      "adujo (df=1, cf=1)\n",
      "adult (df=3, cf=3)\n",
      "advanc (df=5, cf=6)\n",
      "advent (df=1, cf=1)\n",
      "adventur (df=4, cf=5)\n",
      "advers (df=1, cf=1)\n",
      "advertis (df=2, cf=4)\n",
      "advic (df=2, cf=2)\n",
      "advis (df=3, cf=4)\n",
      "advisor (df=1, cf=1)\n",
      "advisori (df=1, cf=1)\n",
      "advoc (df=2, cf=5)\n",
      "advocaci (df=1, cf=1)\n",
      "aemodogryllina (df=1, cf=1)\n",
      "aemodogryllu (df=1, cf=1)\n",
      "aemula (df=1, cf=1)\n",
      "aerid (df=1, cf=1)\n",
      "aerob (df=3, cf=3)\n",
      "aerospac (df=1, cf=2)\n",
      "affair (df=7, cf=8)\n",
      "affect (df=1, cf=1)\n",
      "affili (df=3, cf=3)\n",
      "affin (df=1, cf=1)\n",
      "afford (df=3, cf=3)\n",
      "afghanistan (df=1, cf=1)\n",
      "afif (df=1, cf=1)\n",
      "afl (df=1, cf=1)\n",
      "afloat (df=1, cf=1)\n",
      "afolabi (df=1, cf=1)\n",
      "afp (df=1, cf=1)\n",
      "africa (df=13, cf=20)\n",
      "african (df=6, cf=8)\n",
      "after (df=74, cf=90)\n",
      "afterlif (df=1, cf=1)\n",
      "afterward (df=2, cf=2)\n",
      "ag (df=10, cf=11)\n",
      "again (df=6, cf=9)\n",
      "against (df=24, cf=28)\n",
      "agali (df=1, cf=1)\n",
      "agassiz (df=1, cf=1)\n",
      "agenc (df=7, cf=10)\n",
      "agent (df=8, cf=8)\n",
      "agglomer (df=2, cf=2)\n",
      "agmk (df=2, cf=2)\n",
      "agraciada (df=1, cf=1)\n",
      "agre (df=6, cf=6)\n",
      "agreement (df=3, cf=3)\n",
      "agricultur (df=7, cf=10)\n",
      "agrícola (df=1, cf=1)\n",
      "agua (df=1, cf=1)\n",
      "agustín (df=2, cf=2)\n",
      "agyenim (df=1, cf=1)\n",
      "ah (df=1, cf=1)\n",
      "ah61 (df=1, cf=1)\n",
      "aha (df=1, cf=4)\n",
      "ahafo (df=1, cf=1)\n",
      "ahead (df=5, cf=5)\n",
      "ahmat (df=1, cf=1)\n",
      "ahti (df=1, cf=3)\n",
      "ahwatuke (df=1, cf=4)\n",
      "ahıskalı (df=1, cf=1)\n",
      "ai (df=2, cf=2)\n",
      "aid (df=2, cf=3)\n",
      "aiikuen (df=1, cf=1)\n",
      "aim (df=5, cf=5)\n",
      "aina (df=1, cf=1)\n",
      "ainsworth (df=1, cf=3)\n",
      "air (df=16, cf=25)\n",
      "airborn (df=1, cf=1)\n",
      "aircraft (df=2, cf=2)\n",
      "airlin (df=4, cf=5)\n",
      "airport (df=1, cf=1)\n",
      "aka (df=1, cf=1)\n",
      "akbar (df=1, cf=1)\n",
      "akc (df=1, cf=1)\n",
      "akinmusir (df=1, cf=1)\n",
      "akkadian (df=1, cf=2)\n",
      "akouo (df=1, cf=1)\n",
      "akram (df=1, cf=1)\n",
      "al (df=5, cf=5)\n",
      "alabama (df=2, cf=2)\n",
      "alajuela (df=1, cf=1)\n",
      "alan (df=1, cf=1)\n",
      "alarm (df=1, cf=1)\n",
      "alaska (df=3, cf=5)\n",
      "alaticauli (df=1, cf=1)\n",
      "albacor (df=1, cf=1)\n",
      "albania (df=1, cf=1)\n",
      "albanian (df=1, cf=5)\n",
      "albarello (df=1, cf=1)\n",
      "albatross (df=1, cf=1)\n",
      "albert (df=4, cf=4)\n",
      "alberto (df=2, cf=2)\n",
      "alberton (df=1, cf=1)\n",
      "albertvil (df=1, cf=1)\n",
      "albrecht (df=1, cf=1)\n",
      "album (df=26, cf=74)\n",
      "albuquerqu (df=1, cf=1)\n",
      "alcald (df=1, cf=1)\n",
      "alcaliphilum (df=1, cf=2)\n",
      "alcohol (df=3, cf=4)\n",
      "alderman (df=2, cf=2)\n",
      "aldosteron (df=1, cf=2)\n",
      "aldun (df=1, cf=1)\n",
      "alejandro (df=1, cf=1)\n",
      "alejo (df=2, cf=2)\n",
      "alekseevič (df=1, cf=1)\n",
      "aleo (df=1, cf=1)\n",
      "aleutian (df=1, cf=1)\n",
      "alex (df=2, cf=2)\n",
      "alexa (df=1, cf=1)\n",
      "alexand (df=11, cf=11)\n",
      "alexandria (df=2, cf=2)\n",
      "alfaro (df=1, cf=1)\n",
      "alfon (df=1, cf=1)\n",
      "alfr (df=1, cf=1)\n",
      "algebra (df=1, cf=1)\n",
      "algernon (df=1, cf=1)\n",
      "algona (df=1, cf=1)\n",
      "algorithm (df=2, cf=6)\n",
      "ali (df=3, cf=3)\n",
      "alia (df=1, cf=1)\n",
      "alias (df=1, cf=1)\n",
      "alic (df=1, cf=1)\n",
      "alicia (df=2, cf=3)\n",
      "alief (df=1, cf=1)\n",
      "alighieri (df=1, cf=1)\n",
      "alighiero (df=1, cf=1)\n",
      "align (df=1, cf=1)\n",
      "alistip (df=1, cf=2)\n",
      "aliv (df=1, cf=1)\n",
      "alkaliphil (df=1, cf=1)\n",
      "alkalitoler (df=1, cf=1)\n",
      "all (df=50, cf=74)\n",
      "allahabad (df=1, cf=1)\n",
      "allan (df=1, cf=1)\n",
      "allegi (df=2, cf=2)\n",
      "allegor (df=1, cf=1)\n",
      "allel (df=1, cf=1)\n",
      "allen (df=6, cf=7)\n",
      "alli (df=5, cf=6)\n",
      "allianc (df=3, cf=6)\n",
      "allig (df=1, cf=1)\n",
      "allodihydrocortisol (df=1, cf=1)\n",
      "allow (df=9, cf=9)\n",
      "alluxio (df=1, cf=6)\n",
      "allé (df=1, cf=1)\n",
      "alma (df=3, cf=3)\n",
      "almaz (df=1, cf=1)\n",
      "almengor (df=1, cf=2)\n",
      "almirant (df=1, cf=1)\n",
      "almost (df=1, cf=1)\n",
      "almshous (df=1, cf=1)\n",
      "alon (df=3, cf=3)\n",
      "along (df=16, cf=19)\n",
      "alongsid (df=2, cf=2)\n",
      "alonso (df=1, cf=1)\n",
      "aloysiu (df=1, cf=1)\n",
      "alphabet (df=1, cf=1)\n",
      "alpin (df=2, cf=2)\n",
      "alreadi (df=5, cf=5)\n",
      "also (df=143, cf=179)\n",
      "alta (df=2, cf=3)\n",
      "alter (df=2, cf=3)\n",
      "altern (df=3, cf=3)\n",
      "although (df=16, cf=19)\n",
      "altogeth (df=1, cf=1)\n",
      "alumni (df=2, cf=2)\n",
      "alumnu (df=1, cf=1)\n",
      "alvin (df=1, cf=1)\n",
      "alwai (df=1, cf=1)\n",
      "am (df=5, cf=6)\n",
      "amadeu (df=1, cf=1)\n",
      "amalgam (df=1, cf=1)\n",
      "amali (df=1, cf=1)\n",
      "amass (df=1, cf=1)\n",
      "amateur (df=2, cf=3)\n",
      "amauri (df=1, cf=1)\n",
      "amazon (df=1, cf=1)\n",
      "amazonian (df=1, cf=1)\n",
      "ambassador (df=2, cf=2)\n",
      "amber (df=2, cf=2)\n",
      "ambha (df=1, cf=1)\n",
      "ambigu (df=1, cf=1)\n",
      "ambros (df=1, cf=1)\n",
      "ambush (df=2, cf=3)\n",
      "amen (df=1, cf=1)\n",
      "amend (df=1, cf=1)\n",
      "america (df=12, cf=15)\n",
      "american (df=106, cf=114)\n",
      "amertec (df=1, cf=1)\n",
      "amfi (df=1, cf=1)\n",
      "ami (df=3, cf=3)\n",
      "amic (df=1, cf=1)\n",
      "amidst (df=1, cf=1)\n",
      "amirgadh (df=1, cf=2)\n",
      "amit (df=1, cf=1)\n",
      "amon (df=1, cf=1)\n",
      "among (df=21, cf=25)\n",
      "amount (df=3, cf=3)\n",
      "amparo (df=2, cf=3)\n",
      "ampho (df=1, cf=1)\n",
      "amplab (df=1, cf=1)\n",
      "ampullacea (df=1, cf=2)\n",
      "amsterdam (df=2, cf=7)\n",
      "amur (df=18, cf=18)\n",
      "américa (df=1, cf=1)\n",
      "ana (df=2, cf=2)\n",
      "anabropsini (df=2, cf=2)\n",
      "anaerob (df=4, cf=4)\n",
      "anak (df=1, cf=3)\n",
      "analog (df=1, cf=2)\n",
      "analys (df=2, cf=2)\n",
      "analyst (df=2, cf=2)\n",
      "analyt (df=1, cf=2)\n",
      "anand (df=1, cf=1)\n",
      "anandnagar (df=1, cf=2)\n",
      "anarch (df=1, cf=1)\n",
      "anarchist (df=2, cf=2)\n",
      "anarcho (df=1, cf=1)\n",
      "anastasiya (df=1, cf=1)\n",
      "anatol (df=1, cf=1)\n",
      "anatolia (df=2, cf=2)\n",
      "anatomi (df=1, cf=3)\n",
      "ancestor (df=1, cf=1)\n",
      "ancestri (df=1, cf=1)\n",
      "anchor (df=1, cf=1)\n",
      "anchorag (df=1, cf=2)\n",
      "ancient (df=2, cf=2)\n",
      "and (df=2, cf=2)\n",
      "andalusia (df=1, cf=1)\n",
      "andalusian (df=1, cf=2)\n",
      "anderson (df=4, cf=6)\n",
      "andn (df=1, cf=1)\n",
      "andov (df=1, cf=1)\n",
      "andrea (df=2, cf=2)\n",
      "andreevna (df=1, cf=1)\n",
      "andrew (df=1, cf=1)\n",
      "andriandramaka (df=1, cf=2)\n",
      "andrianjerivao (df=1, cf=1)\n",
      "andriantsanjoa (df=1, cf=1)\n",
      "android (df=1, cf=1)\n",
      "andré (df=3, cf=3)\n",
      "angel (df=9, cf=15)\n",
      "angi (df=1, cf=2)\n",
      "anglican (df=2, cf=2)\n",
      "anglo (df=1, cf=1)\n",
      "ani (df=10, cf=10)\n",
      "anim (df=6, cf=9)\n",
      "anima (df=1, cf=1)\n",
      "anisimovich (df=1, cf=1)\n",
      "anisosiren (df=1, cf=1)\n",
      "ann (df=3, cf=3)\n",
      "anna (df=2, cf=4)\n",
      "annett (df=1, cf=1)\n",
      "annex (df=2, cf=2)\n",
      "anni (df=2, cf=2)\n",
      "anniversari (df=1, cf=1)\n",
      "annot (df=1, cf=1)\n",
      "announc (df=12, cf=14)\n",
      "annual (df=16, cf=17)\n",
      "anoch (df=1, cf=1)\n",
      "anonym (df=2, cf=2)\n",
      "anoth (df=10, cf=11)\n",
      "ansar (df=1, cf=1)\n",
      "anshun (df=1, cf=1)\n",
      "answer (df=2, cf=2)\n",
      "antagonist (df=1, cf=1)\n",
      "antanosi (df=1, cf=1)\n",
      "antarct (df=1, cf=1)\n",
      "antarctica (df=2, cf=2)\n",
      "antarcticum (df=1, cf=2)\n",
      "antholog (df=1, cf=1)\n",
      "anthropologist (df=1, cf=1)\n",
      "anti (df=4, cf=6)\n",
      "antifung (df=1, cf=1)\n",
      "antigen (df=1, cf=1)\n",
      "antinatriuret (df=1, cf=1)\n",
      "antiqu (df=4, cf=4)\n",
      "antiquarian (df=1, cf=1)\n",
      "antisept (df=1, cf=1)\n",
      "anton (df=1, cf=1)\n",
      "antoni (df=1, cf=1)\n",
      "antonio (df=4, cf=5)\n",
      "anuj (df=1, cf=2)\n",
      "anyon (df=1, cf=1)\n",
      "anyth (df=1, cf=1)\n",
      "ao (df=1, cf=1)\n",
      "ap (df=1, cf=3)\n",
      "apach (df=1, cf=4)\n",
      "apart (df=4, cf=5)\n",
      "apex (df=3, cf=3)\n",
      "apf (df=1, cf=1)\n",
      "api (df=2, cf=5)\n",
      "apic (df=1, cf=1)\n",
      "apokap (df=1, cf=4)\n",
      "apollo (df=1, cf=1)\n",
      "apologet (df=1, cf=2)\n",
      "app (df=2, cf=3)\n",
      "appar (df=2, cf=2)\n",
      "appeal (df=4, cf=4)\n",
      "appear (df=27, cf=31)\n",
      "applebi (df=1, cf=1)\n",
      "appli (df=9, cf=10)\n",
      "applic (df=2, cf=3)\n",
      "appoint (df=18, cf=23)\n",
      "apprais (df=1, cf=2)\n",
      "appreci (df=2, cf=2)\n",
      "apprehend (df=1, cf=1)\n",
      "approach (df=4, cf=4)\n",
      "appropri (df=2, cf=2)\n",
      "approv (df=2, cf=2)\n",
      "approx (df=1, cf=1)\n",
      "approxim (df=5, cf=6)\n",
      "april (df=53, cf=57)\n",
      "apteranabropsi (df=1, cf=1)\n",
      "aqueou (df=1, cf=2)\n",
      "aquina (df=1, cf=1)\n",
      "arab (df=4, cf=4)\n",
      "arabia (df=2, cf=2)\n",
      "arabian (df=1, cf=1)\n",
      "aranzo (df=1, cf=1)\n",
      "araparera (df=1, cf=1)\n",
      "arapgir (df=1, cf=1)\n",
      "arbitrari (df=1, cf=1)\n",
      "arbolella (df=1, cf=1)\n",
      "arbor (df=1, cf=1)\n",
      "arboretum (df=1, cf=1)\n",
      "arc (df=1, cf=1)\n",
      "arch (df=2, cf=2)\n",
      "archaeolog (df=3, cf=3)\n",
      "archaeologist (df=1, cf=1)\n",
      "archambault (df=1, cf=1)\n"
     ]
    }
   ],
   "source": [
    "import itertools\n",
    "for term in itertools.islice(index_reader.terms(), 1000):\n",
    "    print(f'{term.term} (df={term.df}, cf={term.cf})')"
   ]
  },
  {
   "cell_type": "code",
   "execution_count": 163,
   "metadata": {},
   "outputs": [
    {
     "name": "stdout",
     "output_type": "stream",
     "text": [
      "term \"cities\": df=41, cf=51\n"
     ]
    }
   ],
   "source": [
    "term = 'cities'\n",
    "\n",
    "# Look up its document frequency (df) and collection frequency (cf).\n",
    "# Note, we use the unanalyzed form:\n",
    "df, cf = index_reader.get_term_counts(term)\n",
    "print(f'term \"{term}\": df={df}, cf={cf}')"
   ]
  },
  {
   "cell_type": "code",
   "execution_count": 164,
   "metadata": {},
   "outputs": [
    {
     "name": "stdout",
     "output_type": "stream",
     "text": [
      "{'govern': 5, 'hospit': 2, 'nation': 2, 'year': 1, 'envisag': 1, 'commit': 1, 'led': 1, 'academ': 1, 'parliament': 1, 'cover': 3, 'path': 1, 'would': 4, 'róisín': 1, 'draft': 1, 'annual': 1, 'approxim': 2, 'state': 3, 'ten': 1, 'addition': 1, '11': 1, 'ag': 1, 'gener': 1, 'statu': 1, 'cours': 1, 'extend': 1, 'uhc': 1, '3': 1, 'highest': 1, 'foresaw': 1, 'declar': 1, 'coalit': 1, 'access': 3, 'dublin': 1, 'debat': 1, 'document': 2, 'healthcar': 7, 'turn': 1, 'two': 1, 'elect': 2, 'kei': 1, 'polici': 1, 'forese': 1, 'democrat': 1, 'found': 2, 'same': 1, 'larg': 1, 'measur': 1, 'after': 2, 'free': 2, '30': 1, 'parliamentarian': 1, 'reaction': 1, 'expenditur': 1, 'right': 1, 'team': 1, 'acut': 1, 'sláintecar': 2, 'march': 1, 'call': 1, 'td': 1, 'charg': 3, 'face': 1, 'june': 1, 's': 1, 'abandon': 1, 'infrastructur': 1, 'meet': 1, 'appoint': 1, 'under': 2, 'through': 1, 'definit': 1, 'featur': 1, 'offic': 1, 'invest': 1, 'project': 1, 'parti': 2, 'shortal': 1, 'outlin': 1, 'structur': 1, 'white': 1, 'implement': 4, 'five': 1, 'those': 1, 'budget': 1, 'which': 3, 'initi': 2, 'need': 1, 'reduc': 1, 'develop': 2, 'list': 1, 'eu': 1, 'integr': 1, 'introduc': 2, 'privat': 2, 'final': 1, 'support': 2, 'sinc': 1, 'higher': 2, 'euro': 1, 'submit': 1, 'abolish': 1, '2011': 1, 'compani': 1, 'univers': 9, 'everi': 2, 'organis': 1, 'primari': 2, '2009': 1, '2008': 1, 'outsid': 1, 'choic': 1, 'carta': 1, 'entail': 2, 'howev': 1, 'insur': 11, '2019': 1, '2017': 3, '2016': 2, 'form': 1, '2015': 1, 'fund': 5, '2014': 1, 'chang': 1, 'popul': 1, '2013': 1, 'publish': 2, 'well': 2, 'risk': 1, 'basi': 1, 'grant': 1, 'base': 3, 'ireland': 3, 'pocket': 1, 'compulsori': 1, 'criteria': 1, 'approach': 1, 'consist': 1, 'identifi': 1, 'specifi': 2, 'decemb': 1, 'model': 1, 'payment': 3, 'plan': 6, 'between': 3, 'propos': 3, 'newli': 1, 'still': 1, 'made': 1, 'it': 1, 'decid': 1, 'manag': 1, 'auster': 1, 'exist': 2, 'reform': 4, 'gael': 2, 'itself': 1, 'toward': 1, 'afford': 1, 'system': 6, 'subsidi': 1, 'aris': 1, 'futur': 2, 'singl': 1, 'doe': 1, 'card': 1, 'care': 3, 'wait': 1, 'aim': 1, 'increas': 1, 'irish': 5, 'costli': 1, 'entitl': 3, 'requir': 4, 'triniti': 1, 'entiti': 1, 'local': 1, 'labour': 1, 'out': 1, 'premium': 3, 'mai': 1, 'too': 1, 'have': 3, 'consult': 2, 'share': 1, 'packag': 1, 'deficit': 1, 'mandatori': 1, 'discont': 1, 'independ': 1, 'within': 2, 'health': 17, 'appropri': 1, 'onward': 1, 'regard': 1, 'report': 3, 'minor': 1, 'prefer': 1, 'section': 1, 'republ': 1, 'taxat': 2, 'fine': 2, 'unabl': 1, 'submiss': 1, 'than': 1, 'should': 1, 'from': 3, 'depart': 2, 'oblig': 1, 'administr': 1, 'all': 1, 'citizen': 4, 'suppos': 1, 'profil': 2, 'onli': 1, 'establish': 1, 'colleg': 1, 'guarante': 1, 'servic': 4, 'twice': 1, 'impli': 1, 'irrespect': 1, 'who': 2, 'procedur': 1, 'incom': 1, 'distinct': 1, 'medic': 1, 'provis': 2, 'membership': 1, 'novemb': 1, 'respons': 1, 'head': 1, 'sláint': 1, 'paper': 1, 'public': 7, 'tier': 2, 'billion': 1, 'patient': 2, 'spend': 1, 'provid': 1, 'hear': 1, 'amount': 1, 'process': 1, 'cost': 1, 'social': 1, 'accord': 2, 'parliamentari': 1, 'competit': 1, 'follow': 2, 'qualifi': 1, 'committe': 4, 'analys': 1, 'conduct': 1, 'due': 1, 'offici': 1, 'further': 2}\n"
     ]
    }
   ],
   "source": [
    "doc_vector = index_reader.get_document_vector('0')\n",
    "print(doc_vector)"
   ]
  },
  {
   "cell_type": "markdown",
   "metadata": {},
   "source": [
    "## Finetuning of BM25 in order to get an optimal hyperparameters"
   ]
  },
  {
   "cell_type": "code",
   "execution_count": 3,
   "metadata": {},
   "outputs": [],
   "source": [
    "# !head -n 1 /home/ryparmar/pyserini/en-latest/data/docs00.json"
   ]
  },
  {
   "cell_type": "code",
   "execution_count": 5,
   "metadata": {},
   "outputs": [
    {
     "name": "stdout",
     "output_type": "stream",
     "text": [
      "Done!\r\n"
     ]
    }
   ],
   "source": [
    "!python /home/ryparmar/pyserini/src/generate_subset.py \\\n",
    "    --dataset_file /mnt/data/factcheck/fever/data-en-latest/fever-data/dev.jsonl \\\n",
    "    --subset_file /home/ryparmar/pyserini/en-latest/data/enwiki-subset.jsonl \\\n",
    "    --length 10000\n",
    "\n",
    "#     --dataset_file /home/ryparmar/pyserini/en-latest/data/docs00.json \\"
   ]
  },
  {
   "cell_type": "code",
   "execution_count": 6,
   "metadata": {},
   "outputs": [
    {
     "name": "stdout",
     "output_type": "stream",
     "text": [
      "Generating qrels...\n",
      "Generating queries...\n",
      "Done!\n"
     ]
    }
   ],
   "source": [
    "# Generate queries and qrels files for the dev split\n",
    "!python /home/ryparmar/pyserini/src/generate_queries_and_qrels.py \\\n",
    "    --dataset_file /home/ryparmar/pyserini/en-latest/data/enwiki-subset.jsonl \\\n",
    "    --output_queries_file /home/ryparmar/pyserini/en-latest/queries.par.subset.tsv \\\n",
    "    --output_qrels_file /home/ryparmar/pyserini/en-latest/qrels.par.subset.tsv \\\n",
    "    --granularity paragraph"
   ]
  },
  {
   "cell_type": "code",
   "execution_count": 11,
   "metadata": {},
   "outputs": [],
   "source": [
    "!cat /home/ryparmar/pyserini/en-latest/runs/finetuning/run.fever.bm25.k1_0.6.b_0.5.txt"
   ]
  },
  {
   "cell_type": "code",
   "execution_count": 7,
   "metadata": {},
   "outputs": [
    {
     "name": "stdout",
     "output_type": "stream",
     "text": [
      "Done!\r\n"
     ]
    }
   ],
   "source": [
    "!python /home/ryparmar/pyserini/src/tune_bm25.py \\\n",
    "    --runs_folder /home/ryparmar/pyserini/en-latest/runs/finetuning \\\n",
    "    --index_folder /home/ryparmar/pyserini/en-latest/anserini_index \\\n",
    "    --queries_file /home/ryparmar/pyserini/en-latest/queries.par.subset.tsv \\\n",
    "    --qrels_file /home/ryparmar/pyserini/en-latest/qrels.par.subset.tsv \\\n",
    "    --truth_file /home/ryparmar/pyserini/en-latest/data/enwiki-subset.jsonl"
   ]
  },
  {
   "cell_type": "code",
   "execution_count": 1,
   "metadata": {},
   "outputs": [],
   "source": [
    "# !python /home/ryparmar/pyserini/src/tune_bm25.py \\\n",
    "#     --runs_folder /home/ryparmar/pyserini/en-latest/runs/finetuning \\\n",
    "#     --index_folder /home/ryparmar/pyserini/en-latest/indexes-full \\\n",
    "#     --queries_file /home/ryparmar/pyserini/en-latest/queries.par.subset.tsv \\\n",
    "#     --qrels_file /home/ryparmar/pyserini/en-latest/qrels.par.subset.tsv\n",
    "# #     --truth_file /mnt/data/factcheck/fever/data-en-latest/fever-data/dev.jsonl"
   ]
  },
  {
   "cell_type": "markdown",
   "metadata": {},
   "source": [
    "### Perform Retrieval on the Dev"
   ]
  },
  {
   "cell_type": "code",
   "execution_count": 33,
   "metadata": {},
   "outputs": [
    {
     "name": "stdout",
     "output_type": "stream",
     "text": [
      "Generating qrels...\n",
      "Generating queries...\n",
      "Done!\n"
     ]
    }
   ],
   "source": [
    "# Generate queries and qrels files for the dev split\n",
    "!python /home/ryparmar/pyserini/src/generate_queries_and_qrels.py \\\n",
    "--dataset_file /mnt/data/factcheck/fever/data-en-latest/fever-data/dev.jsonl \\\n",
    "--output_queries_file /home/ryparmar/pyserini/en-latest/queries.par.dev.tsv \\\n",
    "--output_qrels_file /home/ryparmar/pyserini/en-latest/qrels.par.dev.tsv \\\n",
    "--granularity paragraph"
   ]
  },
  {
   "cell_type": "code",
   "execution_count": 34,
   "metadata": {},
   "outputs": [
    {
     "name": "stdout",
     "output_type": "stream",
     "text": [
      "91198\tColin Kaepernick became a starting quarterback during the 49ers 63rd season in the National Football League.\r\n",
      "194462\tTilda Swinton is a vegan.\r\n",
      "137334\tFox 2000 Pictures released the film Soul Food.\r\n"
     ]
    }
   ],
   "source": [
    "# claim_id, claim\n",
    "!head -n 3 /home/ryparmar/pyserini/queries.par.dev.tsv"
   ]
  },
  {
   "cell_type": "code",
   "execution_count": 35,
   "metadata": {},
   "outputs": [
    {
     "name": "stdout",
     "output_type": "stream",
     "text": [
      "137334\t0\tSoul_Food_-LRB-film-RRB-\t2\r\n",
      "111897\t0\tHispanic_and_Latino_Americans\t2\r\n",
      "111897\t0\tTelemundo\t2\r\n"
     ]
    }
   ],
   "source": [
    "# claim_id, doc_id (where the evidence is present), evidence?? in the code is 2 (directly number)\n",
    "!head -n 3 /home/ryparmar/pyserini/qrels.par.dev.tsv"
   ]
  },
  {
   "cell_type": "code",
   "execution_count": 36,
   "metadata": {},
   "outputs": [
    {
     "name": "stdout",
     "output_type": "stream",
     "text": [
      "{\"id\": 91198, \"verifiable\": \"NOT VERIFIABLE\", \"label\": \"NOT ENOUGH INFO\", \"claim\": \"Colin Kaepernick became a starting quarterback during the 49ers 63rd season in the National Football League.\", \"evidence\": [[[108548, null, null, null]]]}\r\n",
      "{\"id\": 194462, \"verifiable\": \"NOT VERIFIABLE\", \"label\": \"NOT ENOUGH INFO\", \"claim\": \"Tilda Swinton is a vegan.\", \"evidence\": [[[227768, null, null, null]]]}\r\n",
      "{\"id\": 137334, \"verifiable\": \"VERIFIABLE\", \"label\": \"SUPPORTS\", \"claim\": \"Fox 2000 Pictures released the film Soul Food.\", \"evidence\": [[[289914, 283015, \"Soul_Food_-LRB-film-RRB-\", 0]], [[291259, 284217, \"Soul_Food_-LRB-film-RRB-\", 0]], [[293412, 285960, \"Soul_Food_-LRB-film-RRB-\", 0]], [[337212, 322620, \"Soul_Food_-LRB-film-RRB-\", 0]], [[337214, 322622, \"Soul_Food_-LRB-film-RRB-\", 0]]]}\r\n"
     ]
    }
   ],
   "source": [
    "!head -n 3 /mnt/data/factcheck/fever/data-en-latest/fever-data/dev.jsonl"
   ]
  },
  {
   "cell_type": "code",
   "execution_count": 44,
   "metadata": {},
   "outputs": [
    {
     "name": "stdout",
     "output_type": "stream",
     "text": [
      "Initializing BM25, setting k1=0.82 and b=0.68\n",
      "Retrieving query 0 (15.468 s/query)\n",
      "Retrieving query 100 (0.456 s/query)\n",
      "Retrieving query 200 (0.279 s/query)\n",
      "Retrieving query 300 (0.217 s/query)\n",
      "Retrieving query 400 (0.186 s/query)\n",
      "Retrieving query 500 (0.167 s/query)\n",
      "Retrieving query 600 (0.153 s/query)\n",
      "Retrieving query 700 (0.144 s/query)\n",
      "Retrieving query 800 (0.137 s/query)\n",
      "Retrieving query 900 (0.131 s/query)\n",
      "Retrieving query 1000 (0.127 s/query)\n",
      "Retrieving query 1100 (0.123 s/query)\n",
      "Retrieving query 1200 (0.119 s/query)\n",
      "Retrieving query 1300 (0.116 s/query)\n",
      "Retrieving query 1400 (0.114 s/query)\n",
      "Retrieving query 1500 (0.112 s/query)\n",
      "Retrieving query 1600 (0.111 s/query)\n",
      "Retrieving query 1700 (0.109 s/query)\n",
      "Retrieving query 1800 (0.108 s/query)\n",
      "Retrieving query 1900 (0.107 s/query)\n",
      "Retrieving query 2000 (0.106 s/query)\n",
      "Retrieving query 2100 (0.105 s/query)\n",
      "Retrieving query 2200 (0.104 s/query)\n",
      "Retrieving query 2300 (0.103 s/query)\n",
      "Retrieving query 2400 (0.102 s/query)\n",
      "Retrieving query 2500 (0.102 s/query)\n",
      "Retrieving query 2600 (0.101 s/query)\n",
      "Retrieving query 2700 (0.100 s/query)\n",
      "Retrieving query 2800 (0.100 s/query)\n",
      "Retrieving query 2900 (0.099 s/query)\n",
      "Retrieving query 3000 (0.099 s/query)\n",
      "Retrieving query 3100 (0.099 s/query)\n",
      "Retrieving query 3200 (0.098 s/query)\n",
      "Retrieving query 3300 (0.098 s/query)\n",
      "Retrieving query 3400 (0.097 s/query)\n",
      "Retrieving query 3500 (0.097 s/query)\n",
      "Retrieving query 3600 (0.096 s/query)\n",
      "Retrieving query 3700 (0.096 s/query)\n",
      "Retrieving query 3800 (0.096 s/query)\n",
      "Retrieving query 3900 (0.095 s/query)\n",
      "Retrieving query 4000 (0.095 s/query)\n",
      "Retrieving query 4100 (0.095 s/query)\n",
      "Retrieving query 4200 (0.095 s/query)\n",
      "Retrieving query 4300 (0.095 s/query)\n",
      "Retrieving query 4400 (0.094 s/query)\n",
      "Retrieving query 4500 (0.094 s/query)\n",
      "Retrieving query 4600 (0.094 s/query)\n",
      "Retrieving query 4700 (0.094 s/query)\n",
      "Retrieving query 4800 (0.094 s/query)\n",
      "Retrieving query 4900 (0.093 s/query)\n",
      "Retrieving query 5000 (0.093 s/query)\n",
      "Retrieving query 5100 (0.093 s/query)\n",
      "Retrieving query 5200 (0.093 s/query)\n",
      "Retrieving query 5300 (0.093 s/query)\n",
      "Retrieving query 5400 (0.093 s/query)\n",
      "Retrieving query 5500 (0.092 s/query)\n",
      "Retrieving query 5600 (0.092 s/query)\n",
      "Retrieving query 5700 (0.092 s/query)\n",
      "Retrieving query 5800 (0.092 s/query)\n",
      "Retrieving query 5900 (0.092 s/query)\n",
      "Retrieving query 6000 (0.092 s/query)\n",
      "Retrieving query 6100 (0.092 s/query)\n",
      "Retrieving query 6200 (0.092 s/query)\n",
      "Retrieving query 6300 (0.091 s/query)\n",
      "Retrieving query 6400 (0.091 s/query)\n",
      "Retrieving query 6500 (0.091 s/query)\n",
      "Retrieving query 6600 (0.091 s/query)\n",
      "Retrieving query 6700 (0.091 s/query)\n",
      "Retrieving query 6800 (0.091 s/query)\n",
      "Retrieving query 6900 (0.091 s/query)\n",
      "Retrieving query 7000 (0.091 s/query)\n",
      "Retrieving query 7100 (0.091 s/query)\n",
      "Retrieving query 7200 (0.091 s/query)\n",
      "Retrieving query 7300 (0.091 s/query)\n",
      "Retrieving query 7400 (0.091 s/query)\n",
      "Retrieving query 7500 (0.090 s/query)\n",
      "Retrieving query 7600 (0.090 s/query)\n",
      "Retrieving query 7700 (0.090 s/query)\n",
      "Retrieving query 7800 (0.090 s/query)\n",
      "Retrieving query 7900 (0.090 s/query)\n",
      "Retrieving query 8000 (0.090 s/query)\n",
      "Retrieving query 8100 (0.090 s/query)\n",
      "Retrieving query 8200 (0.090 s/query)\n",
      "Retrieving query 8300 (0.090 s/query)\n",
      "Retrieving query 8400 (0.090 s/query)\n",
      "Retrieving query 8500 (0.090 s/query)\n",
      "Retrieving query 8600 (0.090 s/query)\n",
      "Retrieving query 8700 (0.090 s/query)\n",
      "Retrieving query 8800 (0.089 s/query)\n",
      "Retrieving query 8900 (0.089 s/query)\n",
      "Retrieving query 9000 (0.089 s/query)\n",
      "Retrieving query 9100 (0.089 s/query)\n",
      "Retrieving query 9200 (0.089 s/query)\n",
      "Retrieving query 9300 (0.089 s/query)\n",
      "Retrieving query 9400 (0.089 s/query)\n",
      "Retrieving query 9500 (0.089 s/query)\n",
      "Retrieving query 9600 (0.089 s/query)\n",
      "Retrieving query 9700 (0.089 s/query)\n",
      "Retrieving query 9800 (0.089 s/query)\n",
      "Retrieving query 9900 (0.089 s/query)\n",
      "Retrieving query 10000 (0.089 s/query)\n",
      "Retrieving query 10100 (0.089 s/query)\n",
      "Retrieving query 10200 (0.089 s/query)\n",
      "Retrieving query 10300 (0.089 s/query)\n",
      "Retrieving query 10400 (0.089 s/query)\n",
      "Retrieving query 10500 (0.089 s/query)\n",
      "Retrieving query 10600 (0.089 s/query)\n",
      "Retrieving query 10700 (0.089 s/query)\n",
      "Retrieving query 10800 (0.089 s/query)\n",
      "Retrieving query 10900 (0.089 s/query)\n",
      "Retrieving query 11000 (0.089 s/query)\n",
      "Retrieving query 11100 (0.089 s/query)\n",
      "Retrieving query 11200 (0.089 s/query)\n",
      "Retrieving query 11300 (0.089 s/query)\n",
      "Retrieving query 11400 (0.089 s/query)\n",
      "Retrieving query 11500 (0.089 s/query)\n",
      "Retrieving query 11600 (0.089 s/query)\n",
      "Retrieving query 11700 (0.089 s/query)\n",
      "Retrieving query 11800 (0.089 s/query)\n",
      "Retrieving query 11900 (0.089 s/query)\n",
      "Retrieving query 12000 (0.089 s/query)\n",
      "Retrieving query 12100 (0.089 s/query)\n",
      "Retrieving query 12200 (0.089 s/query)\n",
      "Retrieving query 12300 (0.089 s/query)\n",
      "Retrieving query 12400 (0.089 s/query)\n",
      "Retrieving query 12500 (0.089 s/query)\n",
      "Retrieving query 12600 (0.089 s/query)\n",
      "Retrieving query 12700 (0.089 s/query)\n",
      "Retrieving query 12800 (0.089 s/query)\n",
      "Retrieving query 12900 (0.089 s/query)\n",
      "Retrieving query 13000 (0.089 s/query)\n",
      "Retrieving query 13100 (0.089 s/query)\n",
      "Retrieving query 13200 (0.089 s/query)\n",
      "Retrieving query 13300 (0.089 s/query)\n",
      "Retrieving query 13400 (0.089 s/query)\n",
      "Retrieving query 13500 (0.089 s/query)\n",
      "Retrieving query 13600 (0.088 s/query)\n",
      "Retrieving query 13700 (0.088 s/query)\n",
      "Retrieving query 13800 (0.088 s/query)\n",
      "Retrieving query 13900 (0.088 s/query)\n",
      "Retrieving query 14000 (0.088 s/query)\n",
      "Retrieving query 14100 (0.088 s/query)\n",
      "Retrieving query 14200 (0.088 s/query)\n",
      "Retrieving query 14300 (0.088 s/query)\n",
      "Retrieving query 14400 (0.088 s/query)\n",
      "Retrieving query 14500 (0.088 s/query)\n",
      "Retrieving query 14600 (0.088 s/query)\n",
      "Retrieving query 14700 (0.088 s/query)\n",
      "Retrieving query 14800 (0.088 s/query)\n",
      "Retrieving query 14900 (0.088 s/query)\n",
      "Retrieving query 15000 (0.088 s/query)\n",
      "Retrieving query 15100 (0.088 s/query)\n",
      "Retrieving query 15200 (0.088 s/query)\n",
      "Retrieving query 15300 (0.088 s/query)\n",
      "Retrieving query 15400 (0.088 s/query)\n",
      "Retrieving query 15500 (0.088 s/query)\n",
      "Retrieving query 15600 (0.088 s/query)\n",
      "Retrieving query 15700 (0.088 s/query)\n",
      "Retrieving query 15800 (0.088 s/query)\n",
      "Retrieving query 15900 (0.088 s/query)\n",
      "Retrieving query 16000 (0.088 s/query)\n",
      "Retrieving query 16100 (0.088 s/query)\n",
      "Retrieving query 16200 (0.088 s/query)\n",
      "Retrieving query 16300 (0.088 s/query)\n",
      "Retrieving query 16400 (0.088 s/query)\n",
      "Retrieving query 16500 (0.088 s/query)\n",
      "Retrieving query 16600 (0.088 s/query)\n",
      "Retrieving query 16700 (0.088 s/query)\n",
      "Retrieving query 16800 (0.088 s/query)\n",
      "Retrieving query 16900 (0.088 s/query)\n",
      "Retrieving query 17000 (0.088 s/query)\n",
      "Retrieving query 17100 (0.088 s/query)\n",
      "Retrieving query 17200 (0.088 s/query)\n",
      "Retrieving query 17300 (0.088 s/query)\n",
      "Retrieving query 17400 (0.088 s/query)\n",
      "Retrieving query 17500 (0.088 s/query)\n",
      "Retrieving query 17600 (0.088 s/query)\n",
      "Retrieving query 17700 (0.088 s/query)\n",
      "Retrieving query 17800 (0.088 s/query)\n",
      "Retrieving query 17900 (0.088 s/query)\n",
      "Retrieving query 18000 (0.088 s/query)\n",
      "Retrieving query 18100 (0.088 s/query)\n",
      "Retrieving query 18200 (0.088 s/query)\n",
      "Retrieving query 18300 (0.088 s/query)\n",
      "Retrieving query 18400 (0.088 s/query)\n",
      "Retrieving query 18500 (0.088 s/query)\n",
      "Retrieving query 18600 (0.088 s/query)\n",
      "Retrieving query 18700 (0.088 s/query)\n",
      "Retrieving query 18800 (0.088 s/query)\n",
      "Retrieving query 18900 (0.088 s/query)\n",
      "Retrieving query 19000 (0.088 s/query)\n",
      "Retrieving query 19100 (0.088 s/query)\n",
      "Retrieving query 19200 (0.088 s/query)\n",
      "Retrieving query 19300 (0.088 s/query)\n",
      "Retrieving query 19400 (0.088 s/query)\n",
      "Retrieving query 19500 (0.088 s/query)\n",
      "Retrieving query 19600 (0.088 s/query)\n",
      "Retrieving query 19700 (0.088 s/query)\n",
      "Retrieving query 19800 (0.088 s/query)\n",
      "Retrieving query 19900 (0.088 s/query)\n",
      "Total retrieval time: 1759.252 s\n",
      "Done!\n"
     ]
    }
   ],
   "source": [
    "# Retrieval run\n",
    "# k1=0.6 n=0.5 BM25 parameters found by finetuning\n",
    "!python /home/ryparmar/pyserini/src/retrieve.py \\\n",
    "--hits 1000 --threads 1 \\\n",
    "--index /home/ryparmar/pyserini/en-latest/indexes-full \\\n",
    "--queries /home/ryparmar/pyserini/en-latest/queries.par.dev.tsv \\\n",
    "--output /home/ryparmar/pyserini/en-latest/run.fever-par.dev.tsv \\\n",
    "--k1 0.6 --b 0.5"
   ]
  },
  {
   "cell_type": "code",
   "execution_count": 39,
   "metadata": {},
   "outputs": [
    {
     "name": "stdout",
     "output_type": "stream",
     "text": [
      "91198\tPatrick_McGuirk\t996\r\n",
      "91198\tRon_Adam\t997\r\n",
      "91198\tJullian_Taylor\t998\r\n",
      "91198\tRichard_Alston_-LRB-_gridiron_football_-RRB-\t999\r\n",
      "91198\tAndy_Puplis\t1000\r\n",
      "194462\tHonor_Swinton_Byrne\t1\r\n",
      "194462\tList_of_awards_and_nominations_received_by_Tilda_Swinton\t2\r\n",
      "194462\tThe_Souvenir_Part_II\t3\r\n",
      "194462\tJohn_Swinton_of_Kimmerghame\t4\r\n",
      "194462\tJulia_-LRB-_2008_film_-RRB-\t5\r\n"
     ]
    }
   ],
   "source": [
    "# claim_id, predicted_document_id, rank  -- see that there up to 1000 hits (hits arg)\n",
    "!head -n 1005 /home/ryparmar/pyserini/run.fever-par-0.6-0.5.dev.tsv | tail -n 10"
   ]
  },
  {
   "cell_type": "code",
   "execution_count": 40,
   "metadata": {},
   "outputs": [
    {
     "name": "stdout",
     "output_type": "stream",
     "text": [
      "19998 /mnt/data/factcheck/fever/data-en-latest/fever-data/dev.jsonl\r\n"
     ]
    }
   ],
   "source": [
    "!wc -l /mnt/data/factcheck/fever/data-en-latest/fever-data/dev.jsonl"
   ]
  },
  {
   "cell_type": "code",
   "execution_count": 41,
   "metadata": {},
   "outputs": [
    {
     "name": "stdout",
     "output_type": "stream",
     "text": [
      "19991270 /home/ryparmar/pyserini/run.fever-par-0.6-0.5.dev.tsv\r\n"
     ]
    }
   ],
   "source": [
    "!wc -l /home/ryparmar/pyserini/run.fever-par-0.6-0.5.dev.tsv"
   ]
  },
  {
   "cell_type": "markdown",
   "metadata": {},
   "source": [
    "### Evaluation"
   ]
  },
  {
   "cell_type": "code",
   "execution_count": 19,
   "metadata": {},
   "outputs": [],
   "source": [
    "import jsonlines\n",
    "# Convert .tsv (anserini) prediction into .jsonl (drqa) predictions\n",
    "def convert_to_drqa_format(inputfile, outputfile, truthfile):\n",
    "    out = {}\n",
    "    with jsonlines.open(truthfile) as ft:\n",
    "        for line in ft.iter():\n",
    "            out[str(line['id'])] = {'id': line['id'],\n",
    "                               'label': line['label'],\n",
    "                               'evidence': line['evidence']}\n",
    "    with open(inputfile) as fr:\n",
    "        for line in fr.readlines():\n",
    "            claim_id, pred_docid, _ = line.split('\\t')\n",
    "            if claim_id in out and 'predicted_pages' in out[claim_id]:\n",
    "                out[claim_id]['predicted_pages'].append(pred_docid)\n",
    "            else:\n",
    "                out[claim_id]['predicted_pages'] = [pred_docid]\n",
    "\n",
    "        with jsonlines.open(outputfile, 'w') as fw:\n",
    "            for key in out:\n",
    "                fw.write(out[key])\n",
    "                \n",
    "# Convert .jsonl (drqa) predictions into .tsv (anserini) prediction \n",
    "def convert_to_anserini_format(inputfile, outputfile):\n",
    "    out = []\n",
    "    with jsonlines.open(inputfile) as ft:\n",
    "        for line in ft.iter():\n",
    "            for rank, docid in enumerate(line['predicted_pages']):\n",
    "                out.append(\"{}\\t{}\\t{}\\n\".format(line['id'], docid, rank+1))\n",
    "\n",
    "        with open(outputfile, 'w') as fw:\n",
    "            for line in out:\n",
    "                fw.write(line)"
   ]
  },
  {
   "cell_type": "code",
   "execution_count": 20,
   "metadata": {},
   "outputs": [
    {
     "name": "stdout",
     "output_type": "stream",
     "text": [
      "\u001b[0m\u001b[38;5;27m__MACOSX\u001b[0m/  license.html          queries.par.dev.tsv\r\n",
      "\u001b[38;5;27mdata\u001b[0m/      paper_dev.jsonl       run.fever-par-finetuned-paper.dev.tsv\r\n",
      "fever.db   paper_dev_pred.jsonl  train.jsonl\r\n",
      "\u001b[38;5;27mindexes\u001b[0m/   qrels.par.dev.tsv     \u001b[38;5;27mwiki-pages\u001b[0m/\r\n"
     ]
    }
   ],
   "source": [
    "ls /home/ryparmar/pyserini/fever/"
   ]
  },
  {
   "cell_type": "code",
   "execution_count": 38,
   "metadata": {},
   "outputs": [],
   "source": [
    "convert_to_drqa_format('/home/ryparmar/pyserini/en-latest/run.fever-par.dev.tsv',\n",
    "                       '/home/ryparmar/pyserini/en-latest/run.fever-par.dev.jsonl',\n",
    "                       '/mnt/data/factcheck/fever/data-en-latest/fever-data/dev.jsonl')"
   ]
  },
  {
   "cell_type": "code",
   "execution_count": 21,
   "metadata": {},
   "outputs": [],
   "source": [
    "convert_to_anserini_format('/home/ryparmar/pyserini/fever/paper_dev_pred.jsonl',\n",
    "                           '/home/ryparmar/pyserini/fever/paper_dev_drqa_k500.tsv')"
   ]
  },
  {
   "cell_type": "code",
   "execution_count": 14,
   "metadata": {},
   "outputs": [
    {
     "name": "stdout",
     "output_type": "stream",
     "text": [
      "{\"id\": 91198, \"verifiable\": \"NOT VERIFIABLE\", \"label\": \"NOT ENOUGH INFO\", \"claim\": \"Colin Kaepernick became a starting quarterback during the 49ers 63rd season in the National Football League.\", \"evidence\": [[[108548, null, null, null]]], \"predicted_pages\": [\"Colin_Kaepernick\", \"2014_San_Francisco_49ers_season\", \"Alex_Smith\", \"The_Tip_-LRB-American_football-RRB-\", \"San_Francisco_Gold_Rush\", \"U.S._national_anthem_protests_-LRB-2016\\u2013present-RRB-\", \"Steve_Collins_-LRB-American_football-RRB-\", \"2008_Humanitarian_Bowl\", \"Rob_Henry_-LRB-American_football-RRB-\", \"List_of_Kansas_City_Chiefs_starting_quarterbacks\", \"Tyrod_Taylor\", \"List_of_New_England_Patriots_starting_quarterbacks\", \"2016_New_England_Patriots_season\", \"Tommy_Maddox\", \"1990_New_York_Giants_season\", \"Peyton_Manning\", \"Super_Bowl_LIII_halftime_show\", \"1981_San_Francisco_49ers_season\", \"Jim_Plunkett\", \"Jeff_Garcia\", \"2008_Nevada_Wolf_Pack_football_team\", \"Tom_Brady\", \"Speak_for_Yourself_-LRB-talk_show-RRB-\", \"List_of_Indianapolis_Colts_starting_quarterbacks\", \"List_of_Minnesota_Vikings_starting_quarterbacks\", \"Brodie_Croyle\", \"Gary_Cuozzo\", \"Jim_Harbaugh\", \"Trent_Dilfer\", \"Jeff_Brohm\", \"Super_Bowl_LII\", \"Elvis_Grbac\", \"Bill_Munson\", \"Tim_Tebow\", \"Tommy_Jones_-LRB-quarterback-RRB-\", \"Nevada_Wolf_Pack_football\", \"List_of_Green_Bay_Packers_starting_quarterbacks\", \"1990_San_Francisco_49ers_season\", \"Drew_Bledsoe\", \"Joe_Flacco\", \"Tarvaris_Jackson\", \"2012_San_Francisco_49ers_season\", \"2019_San_Francisco_49ers_season\", \"List_of_Los_Angeles_Rams_head_coaches\", \"Kyle_Orton\", \"Mike_Jay\", \"Super_Bowl_XXIX\", \"Damien_Leake\", \"2017_San_Francisco_49ers_season\", \"2020_New_England_Patriots_season\", \"List_of_San_Francisco_49ers_head_coaches\", \"2007_New_England_Patriots_season\", \"Super_Bowl_XLVII\", \"List_of_Miami_Dolphins_starting_quarterbacks\", \"1995_Pittsburgh_Steelers_season\", \"List_of_Georgia_Tech_Yellow_Jackets_starting_quarterbacks\", \"Rex_Grossman\", \"Wayne_Peace\", \"Alan_Risher\", \"2017_Indianapolis_Colts_season\", \"Steve_McNair\", \"1991_San_Francisco_49ers_season\", \"Member_Berries\", \"2015_Denver_Broncos_season\", \"Super_Bowl_XXII\", \"2007_Kansas_City_Chiefs_season\", \"1984_Chicago_Bears_season\", \"NFC_West\", \"John_Elway\", \"Mike_Ernst\", \"Chad_Barnhardt\", \"Russ_Michna\", \"1988_San_Francisco_49ers_season\", \"Lance_Acord\", \"1949_Cleveland_Browns_season\", \"Matt_Cassel\", \"2009_San_Francisco_49ers_season\", \"Marcus_Mariota\", \"Bill_Johnson_-LRB-center-RRB-\", \"Ryan_Tannehill\", \"2004_Pittsburgh_Steelers_season\", \"2018_Washington_Redskins_season\", \"Kaep_-LRB-disambiguation-RRB-\", \"Mary_Bono\", \"Super_Bowl_XIX\", \"2018_San_Francisco_49ers_season\", \"List_of_National_Football_League_quarterback_playoff_records\", \"Darian_Durant\", \"Colt_McCoy\", \"Aaron_Garcia_-LRB-American_football-RRB-\", \"1952_San_Francisco_49ers_season\", \"1981_Kansas_City_Chiefs_season\", \"Chris_Weinke\", \"Super_Bowl_XVI\", \"Denard_Robinson\", \"2012_Miami_Dolphins_season\", \"Jeb_Blount\", \"Bob_Lee_-LRB-quarterback-RRB-\", \"2017_Chicago_Bears_season\", \"2007_San_Francisco_49ers_season\", \"Lamar_Jackson\", \"1997_Cincinnati_Bengals_season\", \"Brett_Favre\", \"Scott_Dreisbach\", \"George_Wilson_-LRB-quarterback-RRB-\", \"Doug_Flutie\", \"Jimmy_Garoppolo\", \"Bo_Levi_Mitchell\", \"Super_Bowl_XXIV\", \"2019_New_England_Patriots_season\", \"Wally_Fromhart\", \"1984_San_Francisco_49ers_season\", \"Sam_Bradford\", \"2015_Cedar_Rapids_Titans_season\", \"Otto_Graham\", \"2004_San_Francisco_49ers_season\", \"1948_Cleveland_Browns_season\", \"Ray_Buivid\", \"Jacoby_Brissett\", \"Tyler_Palko\", \"George_Wilson_-LRB-American_football_coach-RRB-\", \"49ers\\u2013Rams_rivalry\", \"1992_New_York_Giants_season\", \"Steven_Threet\", \"1993_Cleveland_Browns_season\", \"Steve_Spurrier\", \"1972_San_Francisco_49ers_season\", \"Greg_McElroy\", \"2017_Miami_Dolphins_season\", \"2011_Green_Bay_Packers_season\", \"Triple-threat_man\", \"Tony_Romo\", \"2015_Buffalo_Bills_season\", \"2001_NCAA_Division_I-A_football_season\", \"Philip_Rivers\", \"1984_NFL_season\", \"James_Blackman\", \"San_Francisco_49ers\", \"Y._A._Tittle\", \"Mike_Kirkland_-LRB-American_football-RRB-\", \"Ralph_Guglielmi\", \"2020_Los_Angeles_Chargers_season\", \"Dick_Witcher\", \"Super_Bowl_XXVI\", \"Brandon_Cox\", \"2015_Indianapolis_Colts_season\", \"1976_San_Francisco_49ers_season\", \"Chad_Henne\", \"2012_St._Louis_Rams_season\", \"2000_Oakland_Raiders_season\", \"1972_New_York_Giants_season\", \"2010_San_Francisco_49ers_season\", \"Rob_Johnson_-LRB-American_football-RRB-\", \"2018_Tampa_Bay_Buccaneers_season\", \"Hal_Ledyard\", \"Super_Bowl_V\", \"Malcolm_Perry_-LRB-American_football-RRB-\", \"Armanti_Edwards\", \"Patrick_Mahomes\", \"Tate_Forcier\", \"Mason_Rudolph_-LRB-American_football-RRB-\", \"Parnell_Dickinson\", \"Vinny_Testaverde\", \"Sam_Darnold\", \"Ben_McAdoo\", \"List_of_Vanderbilt_Commodores_starting_quarterbacks\", \"2007_Atlanta_Falcons_season\", \"Tyler_Thigpen\", \"1999_New_York_Jets_season\", \"Aaron_Rodgers\", \"Garrett_Gilbert\", \"Sonny_Cumbie\", \"2006_Philadelphia_Eagles_season\", \"Joe_Montana\", \"Rusty_Lisch\", \"2003_St._Louis_Rams_season\", \"2013_Philadelphia_Eagles_season\", \"Dak_Prescott\", \"Matt_Ryan_-LRB-American_football-RRB-\", \"2014_Ohio_State_Buckeyes_football_team\", \"List_of_San_Francisco_49ers_seasons\", \"Troy_Aikman\", \"Joe_McKenney\", \"Cody_Hodges\", \"1975_Cleveland_Browns_season\", \"Philadelphia_Bulldogs_-LRB-American_football-RRB-\", \"Mike_Groh\", \"Frank_Gore\", \"1994_San_Francisco_49ers_season\", \"1989_San_Francisco_49ers_season\", \"Geno_Smith\", \"Andy_Puplis\", \"Jeff_Kemp\", \"1975_World_Football_League_season\", \"Ed_Coady\", \"Tre_Roberson\", \"Robert_Marve\", \"Tyson_Lee_-LRB-American_football-RRB-\", \"1973_Buffalo_Bills_season\", \"Wally_Gabler\", \"1957_San_Francisco_49ers_season\", \"Jerry_Reichow\", \"List_of_starting_quarterbacks_in_the_National_Football_League\", \"2010_Washington_Redskins_season\", \"List_of_Super_Bowl_champions\", \"2018_Cleveland_Browns_season\", \"Jake_Delhomme\", \"1974_Buffalo_Bills_season\", \"Donovan_McNabb\", \"Rich_Gannon\", \"2008_San_Francisco_49ers_season\", \"2000_Miami_Dolphins_season\", \"2016_Minnesota_Vikings_season\", \"Jon_Kitna\", \"1995_San_Francisco_49ers_season\", \"Fortescue_National_Football_League\", \"Marty_Akins\", \"2014_Philadelphia_Eagles_season\", \"Super_Bowl_LIV\", \"2016_San_Francisco_49ers_season\", \"Paul_Justin\", \"1983_New_York_Giants_season\", \"Dennis_Franklin\", \"2001_New_England_Patriots_season\", \"2011_Denver_Broncos_season\", \"Earl_Edwards_-LRB-American_football-RRB-\", \"Billy_Ryan\", \"Joe_Brandy\", \"Kevin_Feterik\", \"Leonard_Bahan\", \"List_of_National_Football_League_annual_receiving_touchdowns_leaders\", \"Bill_Wade\", \"Ken_Johnson_-LRB-quarterback-RRB-\", \"Dual-threat_quarterback\", \"Visco_Grgich\", \"Super_Bowl_LI\", \"History_of_the_Denver_Broncos\", \"Birmingham_Stallions\", \"Craig_Krenzel\", \"1985_New_Orleans_Saints_season\", \"Mark_Sanchez\", \"2004\\u201305_Colchester_United_F.C._season\", \"Tommy_Hughitt\", \"2001_San_Francisco_49ers_season\", \"Jerry_LaNoue\", \"Jeff_Smoker\", \"2004_Oakland_Raiders_season\", \"1971_Kansas_City_Chiefs_season\", \"1986_New_York_Giants_season\", \"1958_Big_Ten_Conference_football_season\", \"2000_Cincinnati_Bengals_season\", \"Baker_Mayfield\", \"Ronnie_Lee_South\", \"Alan_Pastrana\", \"Doug_Pederson\", \"Norris_Weese\", \"2008_Indianapolis_Colts_season\", \"2011_Jacksonville_Jaguars_season\", \"Barrett_Trotter\", \"Charles_Brewer_-LRB-American_football-RRB-\", \"1987_Sun_Bowl\", \"Shawn_McCarthy\", \"Tai_Streets\", \"1994_Houston_Oilers_season\", \"2000_San_Francisco_49ers_season\", \"Super_Bowl_XXIII\", \"Hardy_Brown\", \"1953_San_Francisco_49ers_season\", \"Bruce_Threadgill\", \"Will_Proctor\", \"List_of_National_Football_League_career_quarterback_wins_leaders\", \"1968_Cleveland_Browns_season\", \"Lewis_Billups\", \"Cam_Newton\", \"Cedrick_Hardman\", \"Jordan_Ta'amu\", \"Tony_Sardisco\", \"1950_San_Francisco_49ers_season\", \"1972_Kansas_City_Chiefs_season\", \"1994_Washington_Redskins_season\", \"2011_Cleveland_Browns_season\", \"Chris_Hetherington\", \"Carlyle_Holiday\", \"Samantha_Gordon\", \"Fred_Waters_-LRB-American_football-RRB-\", \"2000_Pittsburgh_Steelers_season\", \"2005_Seattle_Seahawks_season\", \"Kerwin_Bell\", \"1957_Detroit_Lions_season\", \"The_Catch_-LRB-American_football-RRB-\", \"List_of_starting_black_NFL_quarterbacks\", \"1987_New_York_Giants_season\", \"Dwight_Clark\", \"Blair_Kiel\", \"1972_Cincinnati_Bengals_season\", \"1969_NFL_Championship_Game\", \"Jarrett_Brown\", \"Dale_Hackbart\", \"Alabama_Crimson_Tide_football_statistical_leaders\", \"List_of_NFL_quarterbacks_who_have_posted_a_perfect_passer_rating\", \"2013_Green_Bay_Packers_season\", \"Tee_Martin\", \"List_of_NFL_1,000-yard_rushing_duos\", \"Devin_Gardner\", \"Matt_Leinart\", \"1982_Chicago_Bears_season\", \"1981_Green_Bay_Packers_season\", \"2011_Detroit_Lions_season\", \"1996_Minnesota_Vikings_season\", \"1980_Kansas_City_Chiefs_season\", \"1983_NFL_Draft\", \"Bob_Brodhead\", \"Hartford_Knights\", \"Will_Cureton\", \"National_Football_League_Quarterback_Challenge\", \"Chuck_Hartlieb\", \"Clarence_Diebold\", \"1983_Baltimore_Colts_season\", \"1999_Denver_Broncos_season\", \"Akhtar_Mohiuddin\", \"2013_Denver_Broncos_season\", \"1986_Tampa_Bay_Buccaneers_season\", \"Mike_Neu\", \"Alex_Carder\", \"1947_Kentucky_Wildcats_football_team\", \"1977_Minnesota_Vikings_season\", \"1997_Green_Bay_Packers_season\", \"2014_Denver_Broncos_season\", \"Estel_Tessmer\", \"2020_Edmonton_Football_Team_season\", \"J._T._O'Sullivan\", \"List_of_Detroit_Lions_starting_quarterbacks\", \"List_of_Chicago_Bears_starting_quarterbacks\", \"Rick_Johnson_-LRB-gridiron_football-RRB-\", \"Ell_Roberson\", \"Kellen_Moore\", \"Sean_Mannion_-LRB-American_football-RRB-\", \"Zac_Taylor\", \"Easton_Stick\", \"Nate_Hybl\", \"Jerrod_Johnson\", \"David_Garrard\", \"Logan_Thomas\", \"Dean_Look\", \"Bob_Dawson_-LRB-Canadian_football-RRB-\", \"Fred_Mazurek\", \"2013_San_Francisco_49ers_season\", \"2011_Minnesota_Vikings_season\", \"Shane_Austin\", \"63rd_Street_lines\", \"Greg_Frey\", \"Mike_Courey\", \"Joe_Perry_-LRB-American_football-RRB-\", \"2015\\u201316_Newport_County_A.F.C._season\", \"Christian_Ponder\", \"1985_Chicago_Bears_season\", \"John_Walsh_-LRB-American_football-RRB-\", \"Roger_Staubach\", \"Jake_Rudock\", \"Erik_Howard\", \"2007_UCLA_Bruins_football_team\", \"Brian_Griese\", \"1993_Minnesota_Vikings_season\", \"2017_Green_Bay_Packers_season\", \"Mike_Kafka\", \"2013_Penn_State_Nittany_Lions_football_team\", \"2011_Houston_Texans_season\", \"1976_Kansas_City_Chiefs_season\", \"Kevin_Kolb\", \"Vad_Lee\", \"Sam_Ehlinger\", \"1993_Cincinnati_Bengals_season\", \"1995_Cincinnati_Bengals_season\", \"Los_Angeles_Chargers\", \"John_Henry_Johnson\", \"Steve_Alatorre\", \"1970_San_Francisco_49ers_season\", \"2017_Houston_Texans_season\", \"2008_Buffalo_Bills_season\", \"Mike_Battle\", \"2004_Cincinnati_Bengals_season\", \"Hugh_McElhenny\", \"2004_Denver_Broncos_season\", \"2006_Buffalo_Bills_season\", \"2005_Chicago_Bears_season\", \"2006_Kansas_City_Chiefs_season\", \"2000_Philadelphia_Eagles_season\", \"1984_Miami_Dolphins_season\", \"2020_Toronto_Argonauts_season\", \"Rickey_Foggie\", \"Jim_Stuckey\", \"2012\\u201313_Crawley_Town_F.C._season\", \"Frank_Gatski\", \"Bob_Timberlake_-LRB-American_football-RRB-\", \"1964\\u201365_Manchester_United_F.C._season\", \"Terry_Andrysiak\", \"2020_Winnipeg_Blue_Bombers_season\", \"2010_Indianapolis_Colts_season\", \"2002_Jacksonville_Jaguars_season\", \"2017_Baltimore_Ravens_season\", \"Jim_Jensen_-LRB-wide_receiver-RRB-\", \"Mike_Pagel\", \"1977_Buffalo_Bills_season\", \"Dave_Baker_-LRB-American_football-RRB-\", \"2002_Pittsburgh_Steelers_season\", \"Portland_Loggers\", \"Fred_Glick\", \"Frank_Reich\", \"1971_San_Francisco_49ers_season\", \"Marlin_Briscoe\", \"Zach_Collaros\", \"Barclay_Allen\", \"2011_San_Francisco_49ers_season\", \"Chris_Foerster\", \"Len_Rohde\", \"Shreveport_Knights\", \"2020_Calgary_Stampeders_season\", \"2020_BC_Lions_season\", \"1988_New_York_Knights_season\", \"2006_Oklahoma_Sooners_football_team\", \"1986_Atlanta_Falcons_season\", \"2011_Seattle_Seahawks_season\", \"2011_Arizona_Cardinals_season\", \"2016_Philadelphia_Eagles_season\", \"1993_New_York_Giants_season\", \"2013_Buffalo_Bills_season\", \"Pete_Beathard\", \"2020_Saskatchewan_Roughriders_season\", \"2020_Hamilton_Tiger-Cats_season\", \"1981_Detroit_Lions_season\", \"A\\u0301ngeles_Parejo\", \"Cincinnati_Bengals\", \"Bob_Hewko\", \"Chuck_Crist\", \"Johnny_Manziel\", \"B._J._Dickey\", \"Karl_Sweetan\", \"1979\\u201380_NHL_season\", \"Alfred_Barlow_-LRB-American_football-RRB-\", \"2020_Indianapolis_Colts_season\", \"1984_Philadelphia_Eagles_season\", \"2001_Philadelphia_Eagles_season\", \"1999_Green_Bay_Packers_season\", \"1978_Detroit_Lions_season\", \"49ers\\u2013Raiders_rivalry\", \"2010\\u201311_I_liga\", \"Houston_Outlaws_-LRB-RFL_team-RRB-\", \"2016_CFL_season\", \"1951_San_Francisco_49ers_season\", \"Whit_Taylor_-LRB-American_football-RRB-\", \"Tavares_Washington\", \"Eddie_Erdelatz\", \"Michael_Terrizzi\", \"1965\\u201366_in_Belgian_football\", \"2015_Malaysia_FAM_League\", \"2012_Alabama_Crimson_Tide_football_team\", \"1960_San_Francisco_49ers_season\", \"Jesse_Sapolu\", \"Omarr_Conner\", \"Connor_Cook\", \"Dan_Crowley_-LRB-Canadian_football-RRB-\", \"2012_Chicago_Bears_season\", \"2000_Minnesota_Vikings_season\", \"1995_Oakland_Raiders_season\", \"1974\\u201375_Port_Vale_F.C._season\", \"1970\\u201371_Blackpool_F.C._season\", \"2013\\u201314_Hong_Kong_Third_Division_League\", \"John_Kidd_-LRB-American_football-RRB-\", \"1973_San_Francisco_49ers_season\", \"Marty_Domres\", \"1982_Los_Angeles_Rams_season\", \"Angela_Rypien\", \"2013_NFL_season\", \"2005_California_Golden_Bears_football_team\", \"Paul_Hackett_-LRB-American_football-RRB-\", \"1980_San_Francisco_49ers_season\", \"1982_San_Francisco_49ers_season\", \"1983_San_Francisco_49ers_season\", \"Lawrence_Pillers\", \"Super_Bowl_VI\", \"2011_Orange_Bowl\", \"2017\\u201318_Second_Professional_Football_League_-LRB-Bulgaria-RRB-\", \"List_of_National_Football_League_rushing_champions\", \"2012\\u201313_Terceira_Divisa\\u0303o\", \"1965_NFL_playoffs\", \"Chris_Ault\", \"1978_Cleveland_Browns_season\", \"2010_Philadelphia_Eagles_season\", \"History_of_the_Indianapolis_Colts\", \"1970_NSWRFL_season\", \"1957\\u201358_Northern_Rugby_Football_League_season\", \"Case_Keenum\", \"Luke_Falk\", \"2011_Boise_State_Broncos_football_team\", \"Richard_Walton_-LRB-American_football-RRB-\", \"1962_San_Francisco_49ers_season\", \"2019_Miami_Dolphins_season\", \"Sean_Estrada\", \"National_Football_League_Cheerleading\", \"Third_quarterback_rule\"]}\r\n"
     ]
    }
   ],
   "source": [
    "!head -n 1 /mnt/data/factcheck/fever/data-en-latest/predictions/dev_drqa_k500.jsonl"
   ]
  },
  {
   "cell_type": "code",
   "execution_count": 25,
   "metadata": {},
   "outputs": [
    {
     "name": "stdout",
     "output_type": "stream",
     "text": [
      "91198\tColin_Kaepernick\t1\r\n",
      "91198\t2014_San_Francisco_49ers_season\t2\r\n",
      "91198\tAlex_Smith\t3\r\n"
     ]
    }
   ],
   "source": [
    "!head -n 3 /home/ryparmar/pyserini/dev_drqa_k500.tsv"
   ]
  },
  {
   "cell_type": "code",
   "execution_count": 42,
   "metadata": {},
   "outputs": [
    {
     "name": "stdout",
     "output_type": "stream",
     "text": [
      "{\"id\": 91198, \"verifiable\": \"NOT VERIFIABLE\", \"label\": \"NOT ENOUGH INFO\", \"claim\": \"Colin Kaepernick became a starting quarterback during the 49ers 63rd season in the National Football League.\", \"evidence\": [[[108548, null, null, null]]]}\r\n",
      "{\"id\": 194462, \"verifiable\": \"NOT VERIFIABLE\", \"label\": \"NOT ENOUGH INFO\", \"claim\": \"Tilda Swinton is a vegan.\", \"evidence\": [[[227768, null, null, null]]]}\r\n",
      "{\"id\": 137334, \"verifiable\": \"VERIFIABLE\", \"label\": \"SUPPORTS\", \"claim\": \"Fox 2000 Pictures released the film Soul Food.\", \"evidence\": [[[289914, 283015, \"Soul_Food_-LRB-film-RRB-\", 0]], [[291259, 284217, \"Soul_Food_-LRB-film-RRB-\", 0]], [[293412, 285960, \"Soul_Food_-LRB-film-RRB-\", 0]], [[337212, 322620, \"Soul_Food_-LRB-film-RRB-\", 0]], [[337214, 322622, \"Soul_Food_-LRB-film-RRB-\", 0]]]}\r\n"
     ]
    }
   ],
   "source": [
    "!head -n 3 /mnt/data/factcheck/fever/data-en-latest/fever-data/dev.jsonl"
   ]
  },
  {
   "cell_type": "code",
   "execution_count": 11,
   "metadata": {},
   "outputs": [
    {
     "name": "stdout",
     "output_type": "stream",
     "text": [
      "91198\tColin_Kaepernick\t1\r\n",
      "91198\tAlex_Smith\t2\r\n",
      "91198\tU.S._national_anthem_protests_-LRB-_2016–present_-RRB-\t3\r\n"
     ]
    }
   ],
   "source": [
    "!head -n 3 /home/ryparmar/pyserini/run.fever-par-0.6-0.5.dev.tsv"
   ]
  },
  {
   "cell_type": "code",
   "execution_count": 39,
   "metadata": {},
   "outputs": [
    {
     "name": "stdout",
     "output_type": "stream",
     "text": [
      "{\"id\": 91198, \"label\": \"NOT ENOUGH INFO\", \"evidence\": [[[108548, null, null, null]]], \"predicted_pages\": [\"Colin_Kaepernick\", \"Alex_Smith\", \"U.S._national_anthem_protests_-LRB-_2016–present_-RRB-\", \"The_Tip_-LRB-_American_football_-RRB-\", \"San_Francisco_Gold_Rush\", \"2014_San_Francisco_49ers_season\", \"2017_San_Francisco_49ers_season\", \"Jim_Plunkett\", \"List_of_San_Francisco_49ers_starting_quarterbacks\", \"Tyrod_Taylor\", \"2007_San_Francisco_49ers_season\", \"Jimmy_Garoppolo\", \"1976_San_Francisco_49ers_season\", \"Elvis_Grbac\", \"2010_San_Francisco_49ers_season\", \"1981_San_Francisco_49ers_season\", \"Ed_Blount\", \"Lamar_Jackson\", \"1991_San_Francisco_49ers_season\", \"1988_San_Francisco_49ers_season\", \"Trent_Dilfer\", \"Jeff_Garcia\", \"1995_Pittsburgh_Steelers_season\", \"Super_Bowl_XIX\", \"Bruce_Threadgill\", \"Colt_McCoy\", \"1950_San_Francisco_49ers_season\", \"2012_St._Louis_Rams_season\", \"1970_San_Francisco_49ers_season\", \"Super_Bowl_XXIX\", \"List_of_Georgia_Tech_Yellow_Jackets_starting_quarterbacks\", \"List_of_New_England_Patriots_starting_quarterbacks\", \"Jim_Harbaugh\", \"2004_San_Francisco_49ers_season\", \"2008_San_Francisco_49ers_season\", \"1973_San_Francisco_49ers_season\", \"Joe_Flacco\", \"2001_San_Francisco_49ers_season\", \"Ben_McAdoo\", \"Super_Bowl_XXIV\", \"1990_New_York_Giants_season\", \"Eldridge_Dickey\", \"2010_Philadelphia_Eagles_season\", \"Jim_Cason\", \"Tim_Tebow\", \"List_of_New_Orleans_Saints_starting_quarterbacks\", \"2011_Detroit_Lions_season\", \"1952_San_Francisco_49ers_season\", \"Sonny_Cumbie\", \"Greg_McElroy\", \"List_of_Cleveland_Browns_starting_quarterbacks\", \"Super_Bowl_XXVI\", \"Jarrett_Brown\", \"2000_San_Francisco_49ers_season\", \"Grant_Russell\", \"John_Brodie\", \"Frankie_Albert\", \"1949_Cleveland_Browns_season\", \"1984_San_Francisco_49ers_season\", \"Billy_Joe_Tolliver\", \"List_of_Minnesota_Vikings_starting_quarterbacks\", \"2011_Green_Bay_Packers_season\", \"Lamar_McHan\", \"Jeff_Driskel\", \"Dak_Prescott\", \"Tarvaris_Jackson\", \"1982_Los_Angeles_Rams_season\", \"Jordan_Ta'amu\", \"Cody_Hodges\", \"Super_Bowl_XXII\", \"Rick_Mirer\", \"2002_St._Louis_Rams_season\", \"Marcus_Mariota\", \"Tee_Martin\", \"2016_New_England_Patriots_season\", \"Member_Berries\", \"Tommy_Maddox\", \"Billy_Kilmer\", \"Steve_Young\", \"1972_San_Francisco_49ers_season\", \"2017_Chicago_Bears_season\", \"1997_Indianapolis_Colts_season\", \"1984_NFL_season\", \"1984_Miami_Dolphins_season\", \"List_of_Indianapolis_Colts_starting_quarterbacks\", \"Drew_Bledsoe\", \"Shaun_Hill\", \"David_Blough\", \"Case_Keenum\", \"List_of_Kansas_City_Chiefs_starting_quarterbacks\", \"Aaron_Garcia_-LRB-_American_football_-RRB-\", \"Johnnie_Jackson_-LRB-_American_football_-RRB-\", \"List_of_San_Francisco_49ers_head_coaches\", \"Tom_Owen_-LRB-_American_football_-RRB-\", \"Mark_Messner\", \"Dwight_Clark\", \"1978_San_Francisco_49ers_season\", \"1989_San_Francisco_49ers_season\", \"Tom_Rathman\", \"1990_San_Francisco_49ers_season\", \"Doug_Scovil\", \"Chris_Weinke\", \"Chet_Brooks\", \"List_of_Miami_Dolphins_starting_quarterbacks\", \"Johnny_Manziel\", \"Jim_Hostler\", \"Tony_Teresa\", \"Dean_Look\", \"Cedrick_Hardman\", \"List_of_Detroit_Lions_starting_quarterbacks\", \"1993_Kansas_City_Chiefs_season\", \"2012_San_Francisco_49ers_season\", \"C._J._Beathard\", \"1958_San_Francisco_49ers_season\", \"1993_Cleveland_Browns_season\", \"Cade_McNown\", \"Lon_Boyett\", \"Brian_Hoyer\", \"Blaine_Gabbert\", \"Nick_Mullens\", \"John_Walsh_-LRB-_American_football_-RRB-\", \"Joe_Adams_-LRB-_quarterback_-RRB-\", \"Jacoby_Brissett\", \"1956_San_Francisco_49ers_season\", \"Garrett_Gilbert\", \"2001_Green_Bay_Packers_season\", \"Joe_Burrow\", \"List_of_Chicago_Bears_starting_quarterbacks\", \"Pete_Beathard\", \"Bo_Levi_Mitchell\", \"Joe_Montana\", \"Chad_Henne\", \"Patrick_Mahomes\", \"Kerwin_Bell\", \"Steve_Spurrier\", \"1979_New_York_Jets_season\", \"1985_San_Francisco_49ers_season\", \"Sean_Glennon\", \"2012_Atlanta_Falcons_season\", \"List_of_Green_Bay_Packers_starting_quarterbacks\", \"Kyle_Allen\", \"2007_New_England_Patriots_season\", \"Jeb_Blount\", \"Portland_Loggers\", \"Jeff_Kemp\", \"1953_San_Francisco_49ers_season\", \"Parnell_Dickinson\", \"2018_San_Francisco_49ers_season\", \"Jeff_Brohm\", \"Tim_Rattay\", \"Speak_for_Yourself_-LRB-_talk_show_-RRB-\", \"1974_Buffalo_Bills_season\", \"Steve_Collins_-LRB-_American_football_-RRB-\", \"Mark_Bell_-LRB-_defensive_end_-RRB-\", \"Cody_Pickett\", \"Super_Bowl_XVI\", \"2019_Denver_Broncos_season\", \"Joe_Reed_-LRB-_quarterback_-RRB-\", \"List_of_NFL_quarterbacks_who_have_posted_a_perfect_passer_rating\", \"2008_Nevada_Wolf_Pack_football_team\", \"Mike_Kirkland_-LRB-_American_football_-RRB-\", \"Mark_Donovan_-LRB-_American_football_-RRB-\", \"Matt_Ryan_-LRB-_American_football_-RRB-\", \"Charley_Britt\", \"Jim_Stuckey\", \"1951_San_Francisco_49ers_season\", \"Alan_Risher\", \"Jerry_Gustafson\", \"Scott_Zolak\", \"Jeff_Chandler_-LRB-_American_football_-RRB-\", \"Fred_Enke_-LRB-_American_football_-RRB-\", \"Jim_Druckenmiller\", \"Wayne_Peace\", \"Greg_Roman\", \"Mike_Holmes_-LRB-_wide_receiver_-RRB-\", \"Dwayne_Haskins\", \"Jim_Powers_-LRB-_American_football_-RRB-\", \"Gordy_Soltau\", \"The_Catch_-LRB-_American_football_-RRB-\", \"Ken_Dorsey\", \"Jared_Goff\", \"James_Blackman\", \"Will_Cureton\", \"Mason_Rudolph_-LRB-_American_football_-RRB-\", \"List_of_National_Football_League_career_quarterback_wins_leaders\", \"1968_Cleveland_Browns_season\", \"Troy_Aikman\", \"2019_Miami_Dolphins_season\", \"Earl_Morrall\", \"Cary_Conklin\", \"Donovan_McNabb\", \"1995_San_Francisco_49ers_season\", \"Pete_Hecomovich\", \"Vince_Oliver\", \"1979_Minnesota_Vikings_season\", \"2009_Fordham_Rams_football_team\", \"Jesse_Palmer\", \"Bill_Johnson_-LRB-_center_-RRB-\", \"Michael_Terrizzi\", \"Frank_Gore\", \"1998_NFL_season\", \"Henry_Schichtle\", \"Giulio_Caravatta\", \"Neal_Dahlen\", \"Jake_Kelchner\", \"Homer_Jordan\", \"Fred_Dean\", \"1948_Cleveland_Browns_season\", \"2015_Buffalo_Bills_season\", \"Mike_Loyd\", \"Andrew_Buckley_-LRB-_Canadian_football_-RRB-\", \"2004_Denver_Broncos_season\", \"1977_Buffalo_Bills_season\", \"Jacob_Green\", \"Hal_Ledyard\", \"Cam_Newton\", \"Scott_Dreisbach\", \"Y._A._Tittle\", \"Leonard_Bahan\", \"Marlin_Briscoe\", \"Rex_Grossman\", \"1977_San_Francisco_49ers_season\", \"Gary_Cuozzo\", \"Ed_Mioduszewski\", \"Mark_Stevens_-LRB-_gridiron_football_-RRB-\", \"Todd_Santos\", \"Marty_Domres\", \"1999_San_Francisco_49ers_season\", \"Super_Bowl_XLVII\", \"Shane_Day\", \"Ryan_Fitzpatrick\", \"Joe_Brandy\", \"Greg_Knapp\", \"Bobby_Scott_-LRB-_American_football_-RRB-\", \"Joe_Gilliam\", \"Jason_Suttle\", \"List_of_National_Football_League_quarterback_playoff_records\", \"Drew_Henson\", \"Tony_Romo\", \"2002_Pittsburgh_Steelers_season\", \"1962_San_Francisco_49ers_season\", \"1994_San_Francisco_49ers_season\", \"Mike_Ernst\", \"2006_San_Francisco_49ers_season\", \"Craig_Krenzel\", \"2018_Washington_Redskins_season\", \"David_Garrard\", \"49ers–Rams_rivalry\", \"1936_Marquette_Golden_Avalanche_football_team\", \"2012_Miami_Dolphins_season\", \"1974_Dallas_Cowboys_season\", \"2000_Oakland_Raiders_season\", \"Johnny_Grier\", \"1977_Notre_Dame_Fighting_Irish_football_team\", \"Russell_Wilson\", \"1971_Los_Angeles_Rams_season\", \"Super_Bowl_LII\", \"2015_Cleveland_Browns_season\", \"List_of_National_Football_League_career_passing_yards_leaders\", \"Gabe_Crecion\", \"1983_San_Francisco_49ers_season\", \"Sam_Bradford\", \"2007_Kansas_City_Chiefs_season\", \"2019_San_Francisco_49ers_season\", \"Denard_Robinson\", \"List_of_National_Football_League_annual_receiving_touchdowns_leaders\", \"Brent_Jones\", \"2018_Tampa_Bay_Buccaneers_season\", \"2013_Carolina_Panthers_season\", \"Rob_Henry_-LRB-_American_football_-RRB-\", \"Joe_Perry_-LRB-_American_football_-RRB-\", \"Matt_Barkley\", \"Norm_Snead\", \"Third_quarterback_rule\", \"Geno_Smith\", \"Danny_Talbott\", \"John_Sutro_-LRB-_American_football_-RRB-\", \"1999_Philadelphia_Eagles_season\", \"Brian_Griese\", \"Quincy_Stewart\", \"1987_Notre_Dame_Fighting_Irish_football_team\", \"2019–20_Bahraini_Premier_League\", \"Rashaun_Woods\", \"Mark_Sanchez\", \"2010–11_A_Group\", \"1993_Houston_Oilers_season\", \"1999_Green_Bay_Packers_season\", \"Mike_Johnson_-LRB-_American_football_coach_-RRB-\", \"Buck_Shaw\", \"2016_San_Francisco_49ers_season\", \"Bob_Windsor\", \"Steve_Gordon_-LRB-_American_football_-RRB-\", \"1997_Green_Bay_Packers_season\", \"Jerry_Smith_-LRB-_American_football_coach_-RRB-\", \"Steve_Alatorre\", \"List_of_San_Francisco_49ers_seasons\", \"1991_Tampa_Bay_Buccaneers_season\", \"Brett_Favre\", \"2020_New_England_Patriots_season\", \"Logan_Thomas\", \"2015_Indianapolis_Colts_season\", \"Ryan_Tannehill\", \"2012_Chicago_Bears_season\", \"Bill_Munson\", \"Lou_Cordileone\", \"1985_NFL_season\", \"1995_Green_Bay_Packers_season\", \"1998_Washington_Redskins_season\", \"Sam_Darnold\", \"Zach_Kline\", \"J._T._O'Sullivan\", \"Philip_Rivers\", \"Darian_Durant\", \"Jamie_Martin_-LRB-_American_football_-RRB-\", \"1965_Green_Bay_Packers_season\", \"2004_Chicago_Bears_season\", \"List_of_Washington_Redskins_starting_quarterbacks\", \"Lewis_Billups\", \"1988_Chicago_Bears_season\", \"Patrick_Willis\", \"Mark_Herrmann\", \"1997_San_Diego_Chargers_season\", \"1970_Minnesota_Vikings_season\", \"2008_San_Diego_State_Aztecs_football_team\", \"Chris_Zurbrugg\", \"1976_Green_Bay_Packers_season\", \"1988_New_York_Knights_season\", \"1982_St._Louis_Cardinals_-LRB-_NFL_-RRB-_season\", \"Brian_Sipe\", \"Aaron_Rodgers\", \"Maury_Duncan\", \"1984_Kansas_City_Chiefs_season\", \"Gibran_Hamdan\", \"Nick_Foles\", \"Robert_Griffin_III\", \"Nate_Hybl\", \"2012_Denver_Broncos_season\", \"2004_Pittsburgh_Steelers_season\", \"Don_Yee\", \"List_of_Virginia_Tech_Hokies_starting_quarterbacks\", \"Taylor_Potts\", \"1992_San_Francisco_49ers_season\", \"Tony_Robinson_-LRB-_American_football_-RRB-\", \"Grant_Noel\", \"Rickey_Foggie\", \"Buck_Pierce\", \"List_of_Buffalo_Bills_starting_quarterbacks\", \"Peyton_Manning\", \"History_of_the_Indianapolis_Colts\", \"Josh_Neiswander\", \"Mark_Vlasic\", \"Kellen_Moore\", \"Brodie_Croyle\", \"Larry_Lawrence_-LRB-_gridiron_football_-RRB-\", \"Christian_Ponder\", \"1954_St._Louis_Cardinals_season\", \"Keith_Simons\", \"1993_San_Francisco_49ers_season\", \"1911_Detroit_Heralds_season\", \"2018_Carolina_Panthers_season\", \"1988_Minnesota_Vikings_season\", \"John_Elway\", \"1986_New_York_Giants_season\", \"2004_Arizona_Cardinals_season\", \"2019_Carolina_Panthers_season\", \"Perce_Wilson\", \"Mike_Boryla\", \"List_of_BC_Lions_starting_quarterbacks\", \"Josh_Rosen\", \"Steve_McNair\", \"Tim_Washington\", \"Mike_Clark_-LRB-_defensive_end_-RRB-\", \"Mike_Neu\", \"Tre_Roberson\", \"Tommy_Jones_-LRB-_quarterback_-RRB-\", \"Paxton_Lynch\", \"1995_Arizona_Cardinals_season\", \"Chad_Barnhardt\", \"Jeff_Bregel\", \"Terry_LeCount\", \"2019_NFL_season\", \"List_of_Ottawa_Redblacks_starting_quarterbacks\", \"Kent_Graham\", \"Robert_Jackson_-LRB-_guard_-RRB-\", \"2002_Jacksonville_Jaguars_season\", \"2017_Baltimore_Ravens_season\", \"DeCori_Birmingham\", \"Armanti_Edwards\", \"1974_Baltimore_Colts_season\", \"Dennis_Haley\", \"1987_San_Francisco_49ers_season\", \"Charlie_Brackins\", \"1993_Miami_Dolphins_season\", \"Charles_Brewer_-LRB-_American_football_-RRB-\", \"2002_Dallas_Cowboys_season\", \"2013_Green_Bay_Packers_season\", \"Ron_Miller_-LRB-_American_football_-RRB-\", \"2006_Chicago_Bears–Arizona_Cardinals_game\", \"Alan_Pastrana\", \"List_of_Montreal_Alouettes_starting_quarterbacks\", \"Don_Milan\", \"Paul_Wiggin\", \"1987_New_York_Giants_season\", \"1946_San_Francisco_49ers_season\", \"List_of_starting_black_NFL_quarterbacks\", \"Washington_Huskies_football\", \"1979_San_Francisco_49ers_season\", \"2011_Arizona_Cardinals_season\", \"Aaron_Walker_-LRB-_American_football_-RRB-\", \"Darrell_Jackson\", \"Reggie_McGrew\", \"Taylor_Jacobs\", \"1925_Nevada_Wolf_Pack_football_team\", \"1961_San_Francisco_49ers_season\", \"Terry_Jackson_-LRB-_running_back_-RRB-\", \"2017_Miami_Dolphins_season\", \"List_of_Baltimore_Ravens_starting_quarterbacks\", \"Doug_Pederson\", \"Ricky_Ray\", \"Mike_Holmgren\", \"2017_Indianapolis_Colts_season\", \"1963_San_Francisco_49ers_season\", \"1993_Dartmouth_Big_Green_football_team\", \"1981_New_York_Jets_season\", \"List_of_Vanderbilt_Commodores_starting_quarterbacks\", \"List_of_Saskatchewan_Roughriders_starting_quarterbacks\", \"List_of_Toronto_Argonauts_starting_quarterbacks\", \"1995_Oakland_Raiders_season\", \"Mike_Jay\", \"2009–10_Dumbarton_F.C._season\", \"1967_San_Francisco_49ers_season\", \"Matt_Stevens_-LRB-_quarterback_-RRB-\", \"Takeo_Spikes\", \"List_of_Atlanta_Falcons_starting_quarterbacks\", \"List_of_Cincinnati_Bengals_starting_quarterbacks\", \"List_of_Dallas_Cowboys_starting_quarterbacks\", \"List_of_Denver_Broncos_starting_quarterbacks\", \"List_of_Houston_Texans_starting_quarterbacks\", \"List_of_Jacksonville_Jaguars_starting_quarterbacks\", \"List_of_Philadelphia_Eagles_starting_quarterbacks\", \"List_of_Seattle_Seahawks_starting_quarterbacks\", \"List_of_Tennessee_Titans_starting_quarterbacks\", \"1957_Detroit_Lions_season\", \"Hartford_Knights\", \"Ed_Rubbert\", \"Lynn_Thomas_-LRB-_American_football_-RRB-\", \"Al_Dixon\", \"Super_Bowl_XXVII\", \"Jim_Miller_-LRB-_punter_-RRB-\", \"1993_New_Orleans_Saints_season\", \"History_of_the_Cincinnati_Bengals\", \"Rex_Grossman_Sr_.\", \"List_of_Las_Vegas_Raiders_starting_quarterbacks\", \"List_of_New_York_Giants_starting_quarterbacks\", \"List_of_New_York_Jets_starting_quarterbacks\", \"List_of_Tampa_Bay_Buccaneers_starting_quarterbacks\", \"List_of_Hamilton_Tiger-Cats_starting_quarterbacks\", \"List_of_Winnipeg_Blue_Bombers_starting_quarterbacks\", \"2004_Cincinnati_Bengals_season\", \"Roman_Gabriel\", \"Kyle_Parker\", \"Reuben_Foster\", \"Cleveland_Elam\", \"Josh_Allen_-LRB-_quarterback_-RRB-\", \"2019–20_Botola\", \"Tony_Cline_Jr_.\", \"Vinny_Testaverde\", \"Matt_Cavanaugh\", \"Jeff_Smoker\", \"1990_Brownlow_Medal\", \"1993_New_York_Giants_season\", \"Parker_Hall_-LRB-_American_football_-RRB-\", \"Josh_Johnson_-LRB-_quarterback_-RRB-\", \"George_Wilson_-LRB-_American_football_coach_-RRB-\", \"1999_Denver_Broncos_season\", \"1987_Denver_Broncos_season\", \"1978_New_York_Jets_season\", \"Rich_Gannon\", \"Randy_Kerbow\", \"1987_Washington_Redskins_season\", \"Chicago_Rockets\", \"1999_New_York_Jets_season\", \"Hardy_Brown\", \"Rick_Strom_-LRB-_American_football_-RRB-\", \"Ken_Roskie\", \"Wade_Wilson_-LRB-_American_football_-RRB-\", \"Tom_Brady–Peyton_Manning_rivalry\", \"2000_Pittsburgh_Steelers_season\", \"1960_San_Francisco_49ers_season\", \"1976_Pittsburgh_Steelers_season\", \"Daunte_Culpepper\", \"1946–47_Dumbarton_F.C._season\", \"Mike_Groh\", \"Rich_Campbell_-LRB-_American_football_-RRB-\", \"1944_St._Louis_Cardinals_season\", \"Andy_Dalton\", \"List_of_Arizona_Cardinals_starting_quarterbacks\", \"2009_San_Francisco_49ers_season\", \"Sam_Ansley\", \"History_of_Kansas_City_Chiefs_quarterbacks\", \"1976_Buffalo_Bills_season\", \"Alex_Carder\", \"Bob_Gaiters\", \"1966_San_Francisco_49ers_season\", \"1969_San_Francisco_49ers_season\", \"1974_San_Francisco_49ers_season\", \"Whit_Taylor_-LRB-_American_football_-RRB-\", \"Doug_Hudson\", \"Keith_Cash\", \"Limbo_Parks\", \"Paul_Justin\", \"Billy_Stevens\", \"Doug_Mikolas\", \"2013_San_Francisco_49ers_season\", \"Tom_O'Malley_-LRB-_American_football_-RRB-\", \"Cardale_Jones\", \"1924_Nevada_Wolf_Pack_football_team\", \"Tony_Woodruff\", \"Kevin_Kolb\", \"2013_Buffalo_Bills_season\", \"1984_Buffalo_Bills_season\", \"Kendall_Fuller\", \"Kevin_O'Connell_-LRB-_American_football_-RRB-\", \"1995_Philadelphia_Eagles_season\", \"Daniel_Parslow\", \"2020_Los_Angeles_Chargers_season\", \"1995_St._Louis_Rams_season\", \"2001–02_Albanian_National_Championship\", \"Malcolm_Perry_-LRB-_American_football_-RRB-\", \"Len_Rohde\", \"Nathan_Smith_-LRB-_footballer_,_born_1987_-RRB-\", \"1971_San_Francisco_49ers_season\", \"Brett_Veach\", \"Marvin_Washington\", \"Eric_Kresser\", \"Robbie_Gould\", \"2008_Humanitarian_Bowl\", \"1998_San_Diego_Chargers_season\", \"List_of_NFL_1,000-yard_rushing_duos\", \"2003_San_Francisco_49ers_season\", \"Doug_DuBose\", \"Jim_Looney\", \"Tom_Stolhandske\", \"Mike_Koken\", \"Jerry_Mertens\", \"2008_Indianapolis_Colts_season\", \"Super_Bowl_LIV\", \"Chris_Chandler\", \"1989–90_Cardiff_City_F.C._season\", \"Barry_Helton\", \"Tua_Tagovailoa\", \"1957_Long_Beach_State_49ers_football_team\", \"Keith_Fahnhorst\", \"Jameis_Winston\", \"2012_NFL_Draft\", \"Tom_Burgess_-LRB-_Canadian_football_-RRB-\", \"1951_Los_Angeles_Rams_season\", \"Roger_Staubach\", \"Craig_Puki\", \"Ricky_Churchman\", \"George_Wilson_-LRB-_quarterback_-RRB-\", \"1997_Buffalo_Bills_season\", \"1982_San_Francisco_49ers_season\", \"1995_NFL_season\", \"Kaep_-LRB-_disambiguation_-RRB-\", \"1965–66_Manchester_City_F.C._season\", \"2000_Philadelphia_Eagles_season\", \"Pete_McCulley\", \"Scott_Bull\", \"Terry_Hoage\", \"Matt_Nagy\", \"Dick_Witcher\", \"2016_Denver_Broncos_season\", \"1980_San_Francisco_49ers_season\", \"List_of_Los_Angeles_Chargers_starting_quarterbacks\", \"Vad_Lee\", \"2017_Houston_Texans_season\", \"Carlyle_Holiday\", \"Ray_Buivid\", \"Brandon_Cox\", \"1998_Minnesota_Vikings_season\", \"Mark_Fischer_-LRB-_American_football_-RRB-\", \"Ernie_Hughes\", \"2019_Tampa_Bay_Buccaneers_season\", \"1988_Kansas_City_Chiefs_season\", \"Paul_Hackett_-LRB-_American_football_-RRB-\", \"Demetrius_Brown\", \"Rolf_Krueger\", \"Chuck_Fusina\", \"1946_Cleveland_Browns_season\", \"Pat_Barnes\", \"1977_Minnesota_Vikings_season\", \"List_of_Los_Angeles_Rams_starting_quarterbacks\", \"Jimmy_Thomas_-LRB-_American_football_-RRB-\", \"Wally_Gabler\", \"Arrington_Jones\", \"Joaquin_Gonzalez_-LRB-_American_football_-RRB-\", \"Casey_Weldon\", \"Todd_Reesing\", \"Adrian_Hardy\", \"Brian_Bollinger\", \"Donald_Hollas\", \"2005_California_Golden_Bears_football_team\", \"Jay_Fiedler\", \"Michael_Bishop_-LRB-_gridiron_football_-RRB-\", \"Jim_Nicholson_-LRB-_American_football_-RRB-\", \"Jack_Thompson_-LRB-_American_football_-RRB-\", \"Troy_Smith\", \"1947_Kentucky_Wildcats_football_team\", \"John_Keith_-LRB-_defensive_back_-RRB-\", \"Howard_Stidham\", \"Max_Runager\", \"Wayne_Trimble\", \"1933_Columbia_Lions_football_team\", \"Jake_Delhomme\", \"John_Sandusky\", \"2015_Cedar_Rapids_Titans_season\", \"Zac_Taylor\", \"2017_Green_Bay_Packers_season\", \"2013_Oakland_Raiders_season\", \"Jason_Moore_-LRB-_safety_-RRB-\", \"Gino_Torretta\", \"Sean_Estrada\", \"1972_New_York_Giants_season\", \"Jim_Strong_-LRB-_running_back_-RRB-\", \"1983_NFL_Draft\", \"Terrell_Owens\", \"Steven_Threet\", \"1968_San_Francisco_49ers_season\", \"2010_Washington_Redskins_season\", \"Butch_Simas\", \"Mike_Howell\", \"1997_Cincinnati_Bengals_season\", \"Craig_Dahl\", \"1987_San_Diego_Chargers_season\", \"Brian_Peets\", \"Jim_Jensen_-LRB-_wide_receiver_-RRB-\", \"Connor_Cook\", \"2005_NFL_Draft\", \"John_Reaves\", \"Brett_Carolan\", \"Clyde_Christensen\", \"2007_Atlanta_Falcons_season\", \"2015_Denver_Broncos_season\", \"Warren_Moon\", \"Masafumi_Kawaguchi\", \"Tom_McCormick\", \"Ben_Roethlisberger\", \"Randy_McEachern\", \"1978_Baltimore_Colts_season\", \"Colin_Rice\", \"2006_Dallas_Cowboys_season\", \"Jared_Lorenzen\", \"Tim_Van_Galder\", \"Pete_Thomas_-LRB-_American_football_-RRB-\", \"Ken_Casanega\", \"1984_New_York_Giants_season\", \"Harold_Davis_-LRB-_American_football_-RRB-\", \"Chad_Williams_-LRB-_safety_-RRB-\", \"Lowell_Wagner\", \"1981_New_York_Giants_season\", \"2018_Indianapolis_Colts_season\", \"John_Johnson_-LRB-_linebacker_-RRB-\", \"1981_NFL_season\", \"Jimmy_Brumbaugh\", \"2020_Indianapolis_Colts_season\", \"Will_Proctor\", \"2014_Ohio_State_Buckeyes_football_team\", \"Marty_Akins\", \"Tai_Streets\", \"2016_Philadelphia_Eagles_season\", \"List_of_Philadelphia_Eagles_seasons\", \"Issac_Booth\", \"Harry_Theofiledes\", \"Mobile_Seagulls\", \"Deion_Sanders\", \"1991_Philadelphia_Eagles_season\", \"2006_Philadelphia_Eagles_season\", \"Kyle_Shanahan\", \"Kermit_Johnson\", \"Colin_Robertson_-LRB-_footballer_-RRB-\", \"Greg_Jackson_-LRB-_American_football_-RRB-\", \"Drew_Olson\", \"George_Mira\", \"1970_NSWRFL_season\", \"Karl_Sweetan\", \"1980_Kansas_City_Chiefs_season\", \"Jim_Sniadecki\", \"Gary_Keithley\", \"Neil_Graff\", \"2011_Seattle_Seahawks_season\", \"Bob_Lee_-LRB-_quarterback_-RRB-\", \"John_Thomas_-LRB-_American_football_-RRB-\", \"1923_Nevada_Wolf_Pack_football_team\", \"List_of_most_consecutive_starts_by_a_National_Football_League_quarterback\", \"Baker_Mayfield\", \"Tommy_Wade\", \"Super_Bowl_XLIII\", \"1957_San_Francisco_49ers_season\", \"Damien_Russell\", \"Rhett_Hall\", \"Shane_Morris\", \"Shawn_McCarthy\", \"David_Carr_-LRB-_American_football_-RRB-\", \"List_of_Carolina_Panthers_starting_quarterbacks\", \"Jack_Harper_-LRB-_Canadian_football_-RRB-\", \"Greg_Boyd_-LRB-_American_football_-RRB-\", \"Reggie_Roby\", \"2000_Miami_Dolphins_season\", \"Leo_Hart\", \"Mike_Phipps\", \"Ed_Muransky\", \"Ron_Blum\", \"Dwayne_Ledford\", \"Million_Dollar_Backfield_-LRB-_San_Francisco_49ers_-RRB-\", \"Don_Greenwood_-LRB-_American_football_-RRB-\", \"2012_Texas_A_&_amp_;_M_Aggies_football_team\", \"Dave_Lapham\", \"2019–20_Úrvalsdeild_kvenna_-LRB-_basketball_-RRB-\", \"1986_Atlanta_Falcons_season\", \"2006_Atlanta_Falcons_season\", \"Trevor_Lawrence_-LRB-_American_football_-RRB-\", \"List_of_starting_quarterbacks_in_the_National_Football_League\", \"Ken_Margerum\", \"Bob_Hantla\", \"Mike_Iupati\", \"Shane_Austin\", \"1957–58_Northern_Rugby_Football_League_season\", \"Sean_Mannion_-LRB-_American_football_-RRB-\", \"Deflategate\", \"2018_Baltimore_Ravens_season\", \"Triple-threat_man\", \"Riley_Smith_-LRB-_American_football_-RRB-\", \"Patrick_McCain\", \"Erin_DiMeglio\", \"Shreveport_Knights\", \"List_of_National_Football_League_career_passing_completions_leaders\", \"Dylan_Thompson\", \"Los_Angeles_Chargers\", \"1977_New_York_Giants_season\", \"1989_NFL_season\", \"Tony_Morabito\", \"Jeff_Ulbrich\", \"George_Herring\", \"Jacory_Harris\", \"Bob_Brodhead\", \"Ingle_Martin\", \"Nat_Moore\", \"2020_San_Francisco_49ers_season\", \"Jake_Rudock\", \"Dayton_Sharks\", \"John_Benton_-LRB-_American_football_-RRB-\", \"Bobby_Douglass\", \"Dean_Caliguire\", \"Eddie_Lewis_-LRB-_American_football_-RRB-\", \"George_Kittle\", \"J._J._Stokes\", \"John_Choma_-LRB-_American_football_-RRB-\", \"Tony_Parrish\", \"Tsai_Hsien-tang\", \"2011_Saginaw_Sting_season\", \"Erik_Wilhelm\", \"2011_San_Francisco_49ers_season\", \"Mike_Kafka\", \"Gardner_Minshew\", \"Leslie_Kelley\", \"Jake_Locker\", \"1978_Cleveland_Browns_season\", \"Dennis_Patera\", \"Ben_Lynch\", \"Hugo_Hollas\", \"2018_Cleveland_Browns_season\", \"John_Chick\", \"Kim_McQuilken\", \"Pete_Kugler\", \"Alex_Espinoza\", \"1965_San_Francisco_49ers_season\", \"Justin_Peelle\", \"2006_Kansas_City_Chiefs_season\", \"Andriy_Vorobey\", \"Chad_Pennington\", \"List_of_National_Football_League_annual_passing_touchdowns_leaders\", \"Collin_Klein\", \"Jack_Robbins\", \"Rick_Gervais\", \"Wes_Chandler\", \"Kevin_Feterik\", \"1983_Mississippi_State_Bulldogs_football_team\", \"1974_Grambling_State_Tigers_football_team\", \"List_of_National_Football_League_career_passing_touchdowns_leaders\", \"Colin_Kelly_-LRB-_American_football_-RRB-\", \"2017_Denver_Broncos_season\", \"2013_Philadelphia_Eagles_season\", \"Bob_Ferrell\", \"Jamie_Williams_-LRB-_American_football_-RRB-\", \"Mike_Shanahan\", \"Jon_Kitna\", \"2016_Oakland_Raiders_season\", \"Jim_Ridlon\", \"Asad_Abdul-Khaliq\", \"John_Stocco\", \"1987_Sun_Bowl\", \"R._C._Owens\", \"Pepper_Rodgers\", \"John_Henry_Johnson\", \"LaKendrick_Jones\", \"1977_Green_Bay_Packers_season\", \"Mike_McMahon_-LRB-_American_football_-RRB-\", \"Brian_Bonner_-LRB-_linebacker_-RRB-\", \"1984_Philadelphia_Eagles_season\", \"Mike_Livingston\", \"Jeremiah_Masoli\", \"2014_Arizona_Cardinals_season\", \"Antonio_Goss\", \"Dennis_Brown_-LRB-_defensive_end_-RRB-\", \"Babe_Parilli\", \"Willie_Parker_-LRB-_offensive_lineman_-RRB-\", \"Seth_Doege\", \"1925_Boston_College_Eagles_football_team\", \"Dennis_Franklin\", \"Cedric_Killings\", \"Phil_Ostrowski\", \"Ronnie_Lee_South\", \"Shane_Matthews\", \"List_of_most_consecutive_starts_and_games_played_by_National_Football_League_players\", \"List_of_National_Football_League_annual_passing_yards_leaders\", \"Russ_Michna\", \"Joe_Margucci\", \"Giovanni_Carmazzi\", \"1993_Seattle_Seahawks_season\", \"Bob_Soleau\", \"Danny_Pierce\", \"1985_Oklahoma_Sooners_football_team\", \"Bob_Hewko\", \"1992_New_York_Giants_season\", \"2018_Miami_Dolphins_season\", \"1983_Denver_Broncos_season\", \"Madden_NFL_20\", \"Tommy_Thompson_-LRB-_quarterback_-RRB-\", \"1968_Baltimore_Colts_season\", \"Tony_Rice_-LRB-_gridiron_football_-RRB-\", \"Tate_Forcier\", \"Steve_Hendrickson\", \"Mike_Burns_-LRB-_American_football_-RRB-\", \"Thakarius_Keyes\", \"Colin_Baker_-LRB-_Irish_footballer_-RRB-\", \"Frank_Dancewicz\", \"1964_San_Francisco_49ers_season\", \"National_Football_League_Cheerleading\", \"1935–36_in_Scottish_football\", \"1959–60_in_Scottish_football\", \"1992_Cincinnati_Bengals_season\", \"2020_Edmonton_Football_Team_season\", \"Scott_Covington\", \"Thane_Gash\", \"Michael_Vick\", \"Johnny_Fuller\", \"Tim_McDonald\", \"Dré_Bly\", \"Trevor_Knight\", \"Mike_Bell_-LRB-_defensive_lineman_-RRB-\", \"NaVorro_Bowman\", \"1994_Cincinnati_Bengals_season\", \"1982_Chicago_Bears_season\", \"Chris_Turner_-LRB-_American_football_-RRB-\", \"Richie_Norman\", \"1975_Minnesota_Vikings_season\", \"Gary_Kubiak\", \"Dan_Kendra\", \"Dan_Fouts\", \"1962–63_Midland_Football_League\", \"2015–16_Hellenic_Football_League\", \"1984_Los_Angeles_Rams_season\", \"Dennis_Morrison\", \"Edgar_Fields\", \"Bob_Leahy\", \"Bud_Schwenk\", \"Dick_Horn\", \"1999_Chicago_Bears_season\", \"Mark_Duffner\", \"Tavares_Washington\", \"Kyle_Denney\", \"1979_Florida_Gators_football_team\", \"Josie_Munnelly\", \"Michael_Williams_-LRB-_defensive_back_-RRB-\", \"2017_Washington_Redskins_season\", \"Fred_Mazurek\", \"1928_Bluefield_Big_Blue_football_team\", \"Colin_Madison\", \"Royal_Cathcart\", \"2004_Oakland_Raiders_season\", \"Al_Matthews_-LRB-_American_football_-RRB-\", \"Rashad_Holman\", \"Tony_Blevins\", \"2012–13_Crawley_Town_F.C._season\", \"2001_Philadelphia_Eagles_season\", \"1972_Chicago_Bears_season\", \"1961–62_Northern_Football_League\", \"Bucky_Curtis\", \"1958_Pittsburgh_Steelers_season\", \"Richard_Sherman_-LRB-_American_football_-RRB-\", \"1994_Green_Bay_Packers_season\", \"Bill_Ring\", \"1993–94_La_Liga\", \"1959_VFL_season\", \"Brian_Ah_Yat\", \"Ken_O'Brien\", \"1991_New_York_Giants_season\", \"Howard_Mudd\", \"Tom_Brady\", \"Super_Bowl_LI\", \"Charles_E._Collins_-LRB-_American_football_-RRB-\", \"1925_Brownlow_Medal\", \"Bob_Nelson_-LRB-_linebacker_-RRB-\", \"Rick_Johnson_-LRB-_gridiron_football_-RRB-\", \"1955_San_Francisco_49ers_season\", \"Lenvil_Elliott\", \"Tyrone_Legette\", \"Ray_Graves\", \"Jim_Fahnhorst\", \"Rudy_Harris\", \"Mark_Rypien\", \"Sonny_Winters\", \"Matt_Smith_-LRB-_footballer_,_born_1982_-RRB-\", \"Bill_Musgrave\", \"2020_Calgary_Stampeders_season\", \"List_of_Florida_Gators_starting_quarterbacks\", \"1957_NFL_playoffs\", \"2020_Toronto_Argonauts_season\", \"Garry_Lyle\", \"Rod_Rust\", \"1964_Hawthorn_Football_Club_season\", \"Bill_Glass\", \"Charles_Cornelius_-LRB-_gridiron_football_-RRB-\", \"Julian_Spence\", \"Odessa_Turner\", \"Vern_Roberson\", \"Mike_Moroski\", \"2001_New_England_Patriots_season\", \"2002_Philadelphia_Eagles_season\", \"Robert_Brewer_-LRB-_American_football_-RRB-\", \"Thomas_H._McNeil\", \"List_of_National_Football_League_annual_passer_rating_leaders\", \"Fred_McNair_-LRB-_gridiron_football_-RRB-\", \"2020_Hamilton_Tiger-Cats_season\", \"2020_Saskatchewan_Roughriders_season\", \"Andy_Dennehy\", \"1990_Cleveland_Browns_season\", \"Ron_Lewis_-LRB-_wide_receiver_-RRB-\", \"Stan_Hindman\", \"Shorty_Miller\", \"Fran_Tarkenton\", \"San_Francisco_49ers\", \"Daryle_Skaugstad\", \"Arthur_Matsu\", \"2003_St._Louis_Rams_season\", \"Joe_Gibbs\", \"Tom_Cousineau\", \"Herb_Williams_-LRB-_American_football_-RRB-\", \"Mike_Pawlawski\", \"Guy_Benjamin\", \"Charlie_Krueger\", \"Melvin_Oliver\", \"1965_NFL_playoffs\", \"2013_NFL_season\", \"Pittsburgh_Maulers\", \"Matt_Blundin\", \"Birmingham_Stallions\", \"2016_CFL_season\", \"Willie_Casey_-LRB-_Gaelic_footballer_-RRB-\", \"2014_Philadelphia_Eagles_season\", \"1981_Kansas_City_Chiefs_season\", \"Visco_Grgich\", \"1961–62_Football_League\", \"1949_Brownlow_Medal\", \"Jack_Vest\", \"Dave_McCormick\", \"Abe_Woodson\", \"Nate_Singleton\", \"Sanjay_Beach\", \"1988_Miami_Dolphins_season\", \"Harold_Uren\", \"Bob_Celeri\", \"Chris_Washington_-LRB-_American_football_-RRB-\", \"Super_Bowl_XXXIX\", \"2006_Buffalo_Bills_season\", \"Rollin_Putzier\", \"Tommy_Hughitt\", \"Homer_Davidson\", \"Bob_Dawson_-LRB-_Canadian_football_-RRB-\", \"History_of_the_Cleveland_Browns\", \"2014_Saginaw_Sting_season\", \"2003_Chicago_Bears_season\", \"Tyler_Palko\", \"David_Johnson_-LRB-_quarterback_-RRB-\", \"Patrick_McGuirk\", \"Ron_Adam\", \"Jullian_Taylor\", \"Richard_Alston_-LRB-_gridiron_football_-RRB-\", \"Andy_Puplis\"]}\r\n"
     ]
    }
   ],
   "source": [
    "!head -n 1 /home/ryparmar/pyserini/run.fever-par-0.6-0.5.dev.jsonl"
   ]
  },
  {
   "cell_type": "code",
   "execution_count": 16,
   "metadata": {},
   "outputs": [
    {
     "name": "stdout",
     "output_type": "stream",
     "text": [
      "k\tFully Supported\tOracle Accuracy\r\n",
      "1\t0.2532\t0.5022\r\n",
      "5\t0.5536\t0.7024\r\n",
      "10\t0.6584\t0.7723\r\n",
      "25\t0.7595\t0.8397\r\n",
      "50\t0.8242\t0.8828\r\n",
      "100\t0.8663\t0.9109\r\n",
      "500\t0.9290\t0.9527\r\n"
     ]
    }
   ],
   "source": [
    "# Evaluate DRQA on FEVER paper dev data\n",
    "!python /home/ryparmar/pyserini/src/evaluate_doc_retrieval.py \\\n",
    "--truth_file /home/ryparmar/pyserini/fever/paper_dev.jsonl \\\n",
    "--run_file /home/ryparmar/pyserini/fever/paper_dev_drqa_k500.tsv"
   ]
  },
  {
   "cell_type": "code",
   "execution_count": 30,
   "metadata": {},
   "outputs": [
    {
     "name": "stdout",
     "output_type": "stream",
     "text": [
      "k\tFully Supported\tOracle Accuracy\r\n",
      "1\t0.3857\t0.5905\r\n",
      "5\t0.6367\t0.7578\r\n",
      "10\t0.7193\t0.8129\r\n",
      "25\t0.8003\t0.8669\r\n",
      "50\t0.8473\t0.8982\r\n",
      "100\t0.8804\t0.9203\r\n",
      "500\t0.9320\t0.9547\r\n"
     ]
    }
   ],
   "source": [
    "# Evaluate anserini finetuned on FEVER paper dev data\n",
    "!python /home/ryparmar/pyserini/src/evaluate_doc_retrieval.py \\\n",
    "--truth_file /home/ryparmar/pyserini/fever/paper_dev.jsonl \\\n",
    "--run_file /home/ryparmar/pyserini/fever/run.fever-par-finetuned-paper.dev.tsv"
   ]
  },
  {
   "cell_type": "code",
   "execution_count": 25,
   "metadata": {
    "scrolled": true
   },
   "outputs": [
    {
     "name": "stdout",
     "output_type": "stream",
     "text": [
      "k\tFully Supported\tOracle Accuracy\r\n",
      "1\t0.2033\t0.4689\r\n",
      "5\t0.3746\t0.5831\r\n",
      "10\t0.4471\t0.6314\r\n",
      "25\t0.5338\t0.6892\r\n",
      "50\t0.5878\t0.7252\r\n",
      "100\t0.6294\t0.7529\r\n",
      "500\t0.6898\t0.7932\r\n"
     ]
    }
   ],
   "source": [
    "# Evaluate anserini on FEVER dev data\n",
    "!python /home/ryparmar/pyserini/src/evaluate_doc_retrieval.py \\\n",
    "--truth_file /mnt/data/factcheck/fever/data-en-latest/fever-data/dev.jsonl \\\n",
    "--run_file /home/ryparmar/pyserini/en-latest/run.fever-par.dev.tsv"
   ]
  },
  {
   "cell_type": "code",
   "execution_count": 52,
   "metadata": {},
   "outputs": [
    {
     "name": "stdout",
     "output_type": "stream",
     "text": [
      "k\tFully Supported\tOracle Accuracy\r\n",
      "1\t0.2524\t0.5016\r\n",
      "5\t0.4389\t0.6260\r\n",
      "10\t0.5032\t0.6688\r\n",
      "25\t0.5794\t0.7196\r\n",
      "50\t0.6182\t0.7455\r\n",
      "100\t0.6534\t0.7689\r\n",
      "500\t0.7006\t0.8004\r\n"
     ]
    }
   ],
   "source": [
    "# Evaluate anserini finetuned on FEVER dev data\n",
    "!python /home/ryparmar/pyserini/src/evaluate_doc_retrieval.py \\\n",
    "--truth_file /mnt/data/factcheck/fever/data-en-latest/fever-data/dev.jsonl \\\n",
    "--run_file /home/ryparmar/pyserini/en-latest/run.fever-par-0.6-0.5.dev.tsv"
   ]
  },
  {
   "cell_type": "code",
   "execution_count": 53,
   "metadata": {},
   "outputs": [
    {
     "name": "stdout",
     "output_type": "stream",
     "text": [
      "k\tFully Supported\tOracle Accuracy\r\n",
      "1\t0.2825\t0.5217\r\n",
      "5\t0.5386\t0.6924\r\n",
      "10\t0.6380\t0.7587\r\n",
      "25\t0.7314\t0.8209\r\n",
      "50\t0.7869\t0.8579\r\n",
      "100\t0.8298\t0.8865\r\n",
      "500\t0.8875\t0.9250\r\n"
     ]
    }
   ],
   "source": [
    "# Evaluate drqa on FEVER dev data\n",
    "!python /home/ryparmar/pyserini/src/evaluate_doc_retrieval.py \\\n",
    "--truth_file /mnt/data/factcheck/fever/data-en-latest/fever-data/dev.jsonl \\\n",
    "--run_file /home/ryparmar/pyserini/en-latest/dev_drqa_k500.tsv"
   ]
  },
  {
   "cell_type": "code",
   "execution_count": null,
   "metadata": {},
   "outputs": [],
   "source": []
  },
  {
   "cell_type": "markdown",
   "metadata": {},
   "source": [
    "# Evaluate using our evaluation script"
   ]
  },
  {
   "cell_type": "code",
   "execution_count": 60,
   "metadata": {},
   "outputs": [
    {
     "name": "stdout",
     "output_type": "stream",
     "text": [
      "[INFO] 2020-09-10 12:39:27,952 - LogHelper - Log Helper set up\n",
      "[INFO] 2020-09-10 12:39:31,872 - EVALDR - Scores(precision=0.002055298647822243, recall=0.8874887488748875, f1=0.004101099727663442)\n"
     ]
    }
   ],
   "source": [
    "!python /home/ryparmar/drchajan/src/evaluate_document_retrieval.py \\\n",
    "--actual_jsonl /mnt/data/factcheck/fever/data-en-latest/fever-data/dev.jsonl \\\n",
    "--pred_jsonl /mnt/data/factcheck/fever/data-en-latest/predictions/dev_drqa_k500.jsonl \\\n",
    "--max_evidence 500"
   ]
  },
  {
   "cell_type": "code",
   "execution_count": 59,
   "metadata": {},
   "outputs": [
    {
     "name": "stdout",
     "output_type": "stream",
     "text": [
      "[INFO] 2020-09-10 12:39:18,968 - LogHelper - Log Helper set up\n",
      "[INFO] 2020-09-10 12:39:25,998 - EVALDR - Scores(precision=0.0016157452193816906, recall=0.7005700570057005, f1=0.0032240547070647844)\n"
     ]
    }
   ],
   "source": [
    "!python /home/ryparmar/drchajan/src/evaluate_document_retrieval.py \\\n",
    "--actual_jsonl /mnt/data/factcheck/fever/data-en-latest/fever-data/dev.jsonl \\\n",
    "--pred_jsonl /home/ryparmar/pyserini/en-latest/run.fever-par-0.6-0.5.dev.jsonl \\\n",
    "--max_evidence 500"
   ]
  },
  {
   "cell_type": "code",
   "execution_count": null,
   "metadata": {},
   "outputs": [],
   "source": []
  },
  {
   "cell_type": "code",
   "execution_count": 167,
   "metadata": {},
   "outputs": [
    {
     "name": "stdout",
     "output_type": "stream",
     "text": [
      "Done!\n",
      "Done!\n"
     ]
    }
   ],
   "source": [
    "# Evaluate with trec_eval (TREC)\n",
    "# Convert the runs and qrels to trec files\n",
    "!python /home/ryparmar/pyserini/src/convert_msmarco_to_trec_run.py \\\n",
    "--input /home/ryparmar/pyserini/run.fever-par-0.6-0.5.dev.tsv \\\n",
    "--output /home/ryparmar/pyserini/run.fever-par-0.6-0.5.dev.trec\n",
    "\n",
    "!python /home/ryparmar/pyserini/src/convert_msmarco_to_trec_qrels.py \\\n",
    "--input /home/ryparmar/pyserini/qrels.par.dev.tsv \\\n",
    "--output /home/ryparmar/pyserini/qrels.par.dev.trec"
   ]
  },
  {
   "cell_type": "code",
   "execution_count": 169,
   "metadata": {},
   "outputs": [
    {
     "name": "stdout",
     "output_type": "stream",
     "text": [
      "/usr/bin/sh: ./home/ryparmar/pyserini/src/trec_eval.9.0.4/trec_eval: No such file or directory\r\n"
     ]
    }
   ],
   "source": [
    "# Run evaluation itself\n",
    "!./home/ryparmar/pyserini/src/trec_eval.9.0.4/trec_eval -c -m all_trec \\\n",
    "/home/ryparmar/pyserini/qrels.par.dev.trec /home/ryparmar/pyserini/run.fever-par-0.6-0.5.dev.trec"
   ]
  },
  {
   "cell_type": "code",
   "execution_count": null,
   "metadata": {},
   "outputs": [],
   "source": []
  },
  {
   "cell_type": "code",
   "execution_count": null,
   "metadata": {},
   "outputs": [],
   "source": []
  }
 ],
 "metadata": {
  "kernelspec": {
   "display_name": "Python 3",
   "language": "python",
   "name": "python3"
  },
  "language_info": {
   "codemirror_mode": {
    "name": "ipython",
    "version": 3
   },
   "file_extension": ".py",
   "mimetype": "text/x-python",
   "name": "python",
   "nbconvert_exporter": "python",
   "pygments_lexer": "ipython3",
   "version": "3.7.4"
  }
 },
 "nbformat": 4,
 "nbformat_minor": 2
}
