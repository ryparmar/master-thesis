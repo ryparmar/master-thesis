{
 "cells": [
  {
   "cell_type": "code",
   "execution_count": 18,
   "metadata": {},
   "outputs": [],
   "source": [
    "#!python -m pip install pyserini --user\n",
    "#!python -m pip install jsonlines --user"
   ]
  },
  {
   "cell_type": "code",
   "execution_count": 36,
   "metadata": {},
   "outputs": [
    {
     "name": "stdout",
     "output_type": "stream",
     "text": [
      "total 26835M\r\n",
      "drwxr-xr-x   3 drchajan k13136        1M Sep 10 11:25 emb\r\n",
      "-rw-r--r--   1 drchajan factcheck  5972M Aug  3 18:20 enwiki.jsonl\r\n",
      "-rw-r--r--   1 drchajan factcheck 14103M Aug  3 17:12 enwiki.xml\r\n",
      "drwxr-xr-x 144 drchajan factcheck     1M Jul 29 22:49 extracted\r\n",
      "drwxr-xr-x   2 drchajan factcheck     1M Aug 12 17:04 fever\r\n",
      "drwxr-xr-x   2 drchajan factcheck     1M Aug  5 12:16 fever-data\r\n",
      "drwxr-xr-x   2 drchajan factcheck     1M Aug  5 09:45 index\r\n",
      "-rw-r--r--   1 drchajan factcheck     1M Aug  5 20:44 info.txt\r\n",
      "drwxr-xr-x   2 drchajan k13136        1M Sep 10 11:42 predictions\r\n",
      "drwxr-xr-x   2 drchajan factcheck     0M Aug  6 12:09 wiki-pages\r\n"
     ]
    }
   ],
   "source": [
    "!ls -l --block-size=M /mnt/data/factcheck/fever/data-en-latest/"
   ]
  },
  {
   "cell_type": "code",
   "execution_count": 37,
   "metadata": {},
   "outputs": [
    {
     "name": "stdout",
     "output_type": "stream",
     "text": [
      "This is EN Wiki dataset based on latest Wiki snapshot \r\n",
      " - abstracts only (as in original)\r\n",
      " - PTB tokenization using NLTK + fixes (mainly bracket tockenization) using Jupyter notebook (TODO: add to main code-base)\r\n",
      " - note that some pages were renamed since original Fever Wiki snapshot\r\n",
      " \r\n",
      "Updates:\r\n",
      "05/08/2020 - fixed titles to match original Fever tokenization\r\n",
      "\r\n"
     ]
    }
   ],
   "source": [
    "!cat /mnt/data/factcheck/fever/data-en-latest/info.txt"
   ]
  },
  {
   "cell_type": "markdown",
   "metadata": {},
   "source": [
    "# Run on FEVER data"
   ]
  },
  {
   "cell_type": "code",
   "execution_count": 1,
   "metadata": {},
   "outputs": [
    {
     "name": "stdout",
     "output_type": "stream",
     "text": [
      "__MACOSX  license.html\tpaper_dev.jsonl  train.jsonl  wiki-pages\r\n"
     ]
    }
   ],
   "source": [
    "DATAFOLDER='/home/ryparmar/pyserini/fever/'\n",
    "!ls /home/ryparmar/pyserini/fever/"
   ]
  },
  {
   "cell_type": "markdown",
   "metadata": {},
   "source": [
    "### Prepare the wiki dump into format suitable for anserini"
   ]
  },
  {
   "cell_type": "code",
   "execution_count": 2,
   "metadata": {},
   "outputs": [
    {
     "name": "stdout",
     "output_type": "stream",
     "text": [
      "Converting collection...\n",
      "Converted 100000 docs in 1 files\n",
      "Converted 200000 docs in 1 files\n",
      "Converted 300000 docs in 1 files\n",
      "Converted 400000 docs in 1 files\n",
      "Converted 500000 docs in 1 files\n",
      "Converted 600000 docs in 1 files\n",
      "Converted 700000 docs in 1 files\n",
      "Converted 800000 docs in 1 files\n",
      "Converted 900000 docs in 1 files\n",
      "Converted 1000000 docs in 1 files\n",
      "Converted 1100000 docs in 1 files\n",
      "Converted 1200000 docs in 1 files\n",
      "Converted 1300000 docs in 1 files\n",
      "Converted 1400000 docs in 1 files\n",
      "Converted 1500000 docs in 1 files\n",
      "Converted 1600000 docs in 1 files\n",
      "Converted 1700000 docs in 1 files\n",
      "Converted 1800000 docs in 1 files\n",
      "Converted 1900000 docs in 1 files\n",
      "Converted 2000000 docs in 1 files\n",
      "Converted 2100000 docs in 1 files\n",
      "Converted 2200000 docs in 1 files\n",
      "Converted 2300000 docs in 1 files\n",
      "Converted 2400000 docs in 1 files\n",
      "Converted 2500000 docs in 1 files\n",
      "Converted 2600000 docs in 1 files\n",
      "Converted 2700000 docs in 1 files\n",
      "Converted 2800000 docs in 1 files\n",
      "Converted 2900000 docs in 1 files\n",
      "Converted 3000000 docs in 1 files\n",
      "Converted 3100000 docs in 1 files\n",
      "Converted 3200000 docs in 1 files\n",
      "Converted 3300000 docs in 1 files\n",
      "Converted 3400000 docs in 1 files\n",
      "Converted 3500000 docs in 1 files\n",
      "Converted 3600000 docs in 1 files\n",
      "Converted 3700000 docs in 1 files\n",
      "Converted 3800000 docs in 1 files\n",
      "Converted 3900000 docs in 1 files\n",
      "Converted 4000000 docs in 1 files\n",
      "Converted 4100000 docs in 1 files\n",
      "Converted 4200000 docs in 1 files\n",
      "Converted 4300000 docs in 1 files\n",
      "Converted 4400000 docs in 1 files\n",
      "Converted 4500000 docs in 1 files\n",
      "Converted 4600000 docs in 1 files\n",
      "Converted 4700000 docs in 1 files\n",
      "Converted 4800000 docs in 1 files\n",
      "Converted 4900000 docs in 1 files\n",
      "Converted 5000000 docs in 1 files\n",
      "Converted 5100000 docs in 1 files\n",
      "Converted 5200000 docs in 1 files\n",
      "Converted 5300000 docs in 1 files\n",
      "Converted 5400000 docs in 1 files\n",
      "Done!\n"
     ]
    }
   ],
   "source": [
    "!python /home/ryparmar/pyserini/src/convert_collection_to_jsonl.py \\\n",
    "    --collection_folder /home/ryparmar/pyserini/fever/wiki-pages \\\n",
    "    --output_folder /home/ryparmar/pyserini/fever/data \\\n",
    "    --max_docs_per_file 10000000 \\\n",
    "    --granularity 'paragraph'"
   ]
  },
  {
   "cell_type": "code",
   "execution_count": 22,
   "metadata": {},
   "outputs": [
    {
     "name": "stdout",
     "output_type": "stream",
     "text": [
      "total 8101M\r\n",
      "-rw-r--r-- 1 ryparmar k13136 2981M Sep  8 13:27 docs00-id=int.json\r\n",
      "-rw-r--r-- 1 ryparmar k13136 3078M Sep  8 19:53 docs00.json\r\n"
     ]
    }
   ],
   "source": [
    "!ls -l --block-size=M /home/ryparmar/pyserini/data"
   ]
  },
  {
   "cell_type": "markdown",
   "metadata": {},
   "source": [
    "### Try to compute index"
   ]
  },
  {
   "cell_type": "code",
   "execution_count": 3,
   "metadata": {},
   "outputs": [
    {
     "name": "stdout",
     "output_type": "stream",
     "text": [
      "WARNING: sun.reflect.Reflection.getCallerClass is not supported. This will impact performance.\n",
      "2020-09-10 15:42:44,549 INFO  [main] index.IndexCollection (IndexCollection.java:636) - Setting log level to INFO\n",
      "2020-09-10 15:42:44,552 INFO  [main] index.IndexCollection (IndexCollection.java:639) - Starting indexer...\n",
      "2020-09-10 15:42:44,552 INFO  [main] index.IndexCollection (IndexCollection.java:640) - ============ Loading Parameters ============\n",
      "2020-09-10 15:42:44,552 INFO  [main] index.IndexCollection (IndexCollection.java:641) - DocumentCollection path: /home/ryparmar/pyserini/fever/data\n",
      "2020-09-10 15:42:44,553 INFO  [main] index.IndexCollection (IndexCollection.java:642) - CollectionClass: JsonCollection\n",
      "2020-09-10 15:42:44,553 INFO  [main] index.IndexCollection (IndexCollection.java:643) - Generator: DefaultLuceneDocumentGenerator\n",
      "2020-09-10 15:42:44,554 INFO  [main] index.IndexCollection (IndexCollection.java:644) - Threads: 1\n",
      "2020-09-10 15:42:44,554 INFO  [main] index.IndexCollection (IndexCollection.java:645) - Stemmer: porter\n",
      "2020-09-10 15:42:44,554 INFO  [main] index.IndexCollection (IndexCollection.java:646) - Keep stopwords? false\n",
      "2020-09-10 15:42:44,555 INFO  [main] index.IndexCollection (IndexCollection.java:647) - Stopwords:  null\n",
      "2020-09-10 15:42:44,556 INFO  [main] index.IndexCollection (IndexCollection.java:648) - Store positions? true\n",
      "2020-09-10 15:42:44,556 INFO  [main] index.IndexCollection (IndexCollection.java:649) - Store docvectors? true\n",
      "2020-09-10 15:42:44,556 INFO  [main] index.IndexCollection (IndexCollection.java:650) - Store document \"contents\" field? false\n",
      "2020-09-10 15:42:44,557 INFO  [main] index.IndexCollection (IndexCollection.java:651) - Store document \"raw\" field? true\n",
      "2020-09-10 15:42:44,557 INFO  [main] index.IndexCollection (IndexCollection.java:652) - Optimize (merge segments)? false\n",
      "2020-09-10 15:42:44,557 INFO  [main] index.IndexCollection (IndexCollection.java:653) - Whitelist: null\n",
      "2020-09-10 15:42:44,558 INFO  [main] index.IndexCollection (IndexCollection.java:673) - Directly building Lucene indexes...\n",
      "2020-09-10 15:42:44,558 INFO  [main] index.IndexCollection (IndexCollection.java:674) - Index path: /home/ryparmar/pyserini/fever/indexes\n",
      "2020-09-10 15:42:44,565 INFO  [main] index.IndexCollection (IndexCollection.java:723) - ============ Indexing Collection ============\n",
      "2020-09-10 15:42:44,720 INFO  [main] index.IndexCollection (IndexCollection.java:784) - Thread pool with 1 threads initialized.\n",
      "2020-09-10 15:42:44,720 INFO  [main] index.IndexCollection (IndexCollection.java:786) - Initializing collection in /home/ryparmar/pyserini/fever/data\n",
      "2020-09-10 15:42:44,724 INFO  [main] index.IndexCollection (IndexCollection.java:789) - 1 file found\n",
      "2020-09-10 15:42:44,725 INFO  [main] index.IndexCollection (IndexCollection.java:790) - Starting to index...\n",
      "2020-09-10 15:43:44,729 INFO  [main] index.IndexCollection (IndexCollection.java:808) - 610,000 documents indexed\n",
      "2020-09-10 15:44:44,730 INFO  [main] index.IndexCollection (IndexCollection.java:808) - 1,290,000 documents indexed\n",
      "2020-09-10 15:45:44,732 INFO  [main] index.IndexCollection (IndexCollection.java:808) - 1,980,000 documents indexed\n",
      "2020-09-10 15:46:44,734 INFO  [main] index.IndexCollection (IndexCollection.java:808) - 2,640,000 documents indexed\n",
      "2020-09-10 15:47:44,736 INFO  [main] index.IndexCollection (IndexCollection.java:808) - 3,340,000 documents indexed\n",
      "2020-09-10 15:48:44,737 INFO  [main] index.IndexCollection (IndexCollection.java:808) - 4,020,000 documents indexed\n",
      "2020-09-10 15:49:44,739 INFO  [main] index.IndexCollection (IndexCollection.java:808) - 4,670,000 documents indexed\n",
      "2020-09-10 15:50:44,740 INFO  [main] index.IndexCollection (IndexCollection.java:808) - 5,330,000 documents indexed\n",
      "2020-09-10 15:50:49,996 DEBUG [pool-2-thread-1] index.IndexCollection$LocalIndexerThread (IndexCollection.java:238) - data/docs00.json: 5396106 docs added.\n",
      "2020-09-10 15:51:50,472 INFO  [main] index.IndexCollection (IndexCollection.java:874) - Indexing Complete! 5,396,106 documents indexed\n",
      "2020-09-10 15:51:50,472 INFO  [main] index.IndexCollection (IndexCollection.java:875) - ============ Final Counter Values ============\n",
      "2020-09-10 15:51:50,473 INFO  [main] index.IndexCollection (IndexCollection.java:876) - indexed:        5,396,106\n",
      "2020-09-10 15:51:50,473 INFO  [main] index.IndexCollection (IndexCollection.java:877) - unindexable:            0\n",
      "2020-09-10 15:51:50,473 INFO  [main] index.IndexCollection (IndexCollection.java:878) - empty:             20,431\n",
      "2020-09-10 15:51:50,474 INFO  [main] index.IndexCollection (IndexCollection.java:879) - skipped:                0\n",
      "2020-09-10 15:51:50,474 INFO  [main] index.IndexCollection (IndexCollection.java:880) - errors:                 0\n",
      "2020-09-10 15:51:50,481 INFO  [main] index.IndexCollection (IndexCollection.java:883) - Total 5,396,106 documents indexed in 00:09:05\n"
     ]
    }
   ],
   "source": [
    "!python -m pyserini.index \\\n",
    "    -collection JsonCollection \\\n",
    "    -generator DefaultLuceneDocumentGenerator \\\n",
    "    -threads 1 \\\n",
    "    -input /home/ryparmar/pyserini/fever/data \\\n",
    "    -index /home/ryparmar/pyserini/fever/indexes \\\n",
    "    -storePositions -storeDocvectors -storeRaw"
   ]
  },
  {
   "cell_type": "code",
   "execution_count": 4,
   "metadata": {},
   "outputs": [
    {
     "name": "stdout",
     "output_type": "stream",
     "text": [
      "ls: cannot access /home/ryparmar/pyserini/indexes: No such file or directory\r\n"
     ]
    }
   ],
   "source": [
    "!ls /home/ryparmar/pyserini/indexes"
   ]
  },
  {
   "cell_type": "markdown",
   "metadata": {},
   "source": [
    "### Perform Retrieval on the Dev"
   ]
  },
  {
   "cell_type": "code",
   "execution_count": 5,
   "metadata": {},
   "outputs": [
    {
     "name": "stdout",
     "output_type": "stream",
     "text": [
      "Generating qrels...\n",
      "Generating queries...\n",
      "Done!\n"
     ]
    }
   ],
   "source": [
    "# Generate queries and qrels files for the dev split\n",
    "!python /home/ryparmar/pyserini/src/generate_queries_and_qrels.py \\\n",
    "--dataset_file /home/ryparmar/pyserini/fever/paper_dev.jsonl \\\n",
    "--output_queries_file /home/ryparmar/pyserini/fever/queries.par.dev.tsv \\\n",
    "--output_qrels_file /home/ryparmar/pyserini/fever/qrels.par.dev.tsv \\\n",
    "--granularity paragraph"
   ]
  },
  {
   "cell_type": "code",
   "execution_count": 6,
   "metadata": {},
   "outputs": [
    {
     "name": "stdout",
     "output_type": "stream",
     "text": [
      "91198\tColin Kaepernick became a starting quarterback during the 49ers 63rd season in the National Football League.\r\n",
      "194462\tTilda Swinton is a vegan.\r\n",
      "137334\tFox 2000 Pictures released the film Soul Food.\r\n"
     ]
    }
   ],
   "source": [
    "# claim_id, claim\n",
    "!head -n 3 /home/ryparmar/pyserini/fever/queries.par.dev.tsv"
   ]
  },
  {
   "cell_type": "code",
   "execution_count": 7,
   "metadata": {},
   "outputs": [
    {
     "name": "stdout",
     "output_type": "stream",
     "text": [
      "137334\t0\tSoul_Food_-LRB-film-RRB-\t2\r\n",
      "111897\t0\tTelemundo\t2\r\n",
      "111897\t0\tHispanic_and_Latino_Americans\t2\r\n"
     ]
    }
   ],
   "source": [
    "# claim_id, doc_id (where the evidence is present), evidence?? in the code is 2 (directly number)\n",
    "!head -n 3 /home/ryparmar/pyserini/fever/qrels.par.dev.tsv"
   ]
  },
  {
   "cell_type": "code",
   "execution_count": 8,
   "metadata": {},
   "outputs": [
    {
     "name": "stdout",
     "output_type": "stream",
     "text": [
      "{\"id\": 91198, \"verifiable\": \"NOT VERIFIABLE\", \"label\": \"NOT ENOUGH INFO\", \"claim\": \"Colin Kaepernick became a starting quarterback during the 49ers 63rd season in the National Football League.\", \"evidence\": [[[108548, null, null, null]]]}\r\n",
      "{\"id\": 194462, \"verifiable\": \"NOT VERIFIABLE\", \"label\": \"NOT ENOUGH INFO\", \"claim\": \"Tilda Swinton is a vegan.\", \"evidence\": [[[227768, null, null, null]]]}\r\n",
      "{\"id\": 137334, \"verifiable\": \"VERIFIABLE\", \"label\": \"SUPPORTS\", \"claim\": \"Fox 2000 Pictures released the film Soul Food.\", \"evidence\": [[[289914, 283015, \"Soul_Food_-LRB-film-RRB-\", 0]], [[291259, 284217, \"Soul_Food_-LRB-film-RRB-\", 0]], [[293412, 285960, \"Soul_Food_-LRB-film-RRB-\", 0]], [[337212, 322620, \"Soul_Food_-LRB-film-RRB-\", 0]], [[337214, 322622, \"Soul_Food_-LRB-film-RRB-\", 0]]]}\r\n"
     ]
    }
   ],
   "source": [
    "!head -n 3 /home/ryparmar/pyserini/fever/paper_dev.jsonl"
   ]
  },
  {
   "cell_type": "code",
   "execution_count": 12,
   "metadata": {},
   "outputs": [
    {
     "name": "stdout",
     "output_type": "stream",
     "text": [
      "Initializing BM25, setting k1=0.6 and b=0.5\n",
      "Retrieving query 0 (0.885 s/query)\n",
      "Retrieving query 100 (0.112 s/query)\n",
      "Retrieving query 200 (0.101 s/query)\n",
      "Retrieving query 300 (0.096 s/query)\n",
      "Retrieving query 400 (0.094 s/query)\n",
      "Retrieving query 500 (0.093 s/query)\n",
      "Retrieving query 600 (0.092 s/query)\n",
      "Retrieving query 700 (0.091 s/query)\n",
      "Retrieving query 800 (0.090 s/query)\n",
      "Retrieving query 900 (0.089 s/query)\n",
      "Retrieving query 1000 (0.088 s/query)\n",
      "Retrieving query 1100 (0.088 s/query)\n",
      "Retrieving query 1200 (0.087 s/query)\n",
      "Retrieving query 1300 (0.086 s/query)\n",
      "Retrieving query 1400 (0.086 s/query)\n",
      "Retrieving query 1500 (0.086 s/query)\n",
      "Retrieving query 1600 (0.086 s/query)\n",
      "Retrieving query 1700 (0.086 s/query)\n",
      "Retrieving query 1800 (0.086 s/query)\n",
      "Retrieving query 1900 (0.086 s/query)\n",
      "Retrieving query 2000 (0.086 s/query)\n",
      "Retrieving query 2100 (0.086 s/query)\n",
      "Retrieving query 2200 (0.086 s/query)\n",
      "Retrieving query 2300 (0.086 s/query)\n",
      "Retrieving query 2400 (0.085 s/query)\n",
      "Retrieving query 2500 (0.085 s/query)\n",
      "Retrieving query 2600 (0.085 s/query)\n",
      "Retrieving query 2700 (0.085 s/query)\n",
      "Retrieving query 2800 (0.085 s/query)\n",
      "Retrieving query 2900 (0.085 s/query)\n",
      "Retrieving query 3000 (0.085 s/query)\n",
      "Retrieving query 3100 (0.085 s/query)\n",
      "Retrieving query 3200 (0.085 s/query)\n",
      "Retrieving query 3300 (0.084 s/query)\n",
      "Retrieving query 3400 (0.084 s/query)\n",
      "Retrieving query 3500 (0.084 s/query)\n",
      "Retrieving query 3600 (0.084 s/query)\n",
      "Retrieving query 3700 (0.084 s/query)\n",
      "Retrieving query 3800 (0.084 s/query)\n",
      "Retrieving query 3900 (0.084 s/query)\n",
      "Retrieving query 4000 (0.084 s/query)\n",
      "Retrieving query 4100 (0.084 s/query)\n",
      "Retrieving query 4200 (0.084 s/query)\n",
      "Retrieving query 4300 (0.084 s/query)\n",
      "Retrieving query 4400 (0.084 s/query)\n",
      "Retrieving query 4500 (0.084 s/query)\n",
      "Retrieving query 4600 (0.084 s/query)\n",
      "Retrieving query 4700 (0.084 s/query)\n",
      "Retrieving query 4800 (0.084 s/query)\n",
      "Retrieving query 4900 (0.084 s/query)\n",
      "Retrieving query 5000 (0.084 s/query)\n",
      "Retrieving query 5100 (0.084 s/query)\n",
      "Retrieving query 5200 (0.084 s/query)\n",
      "Retrieving query 5300 (0.084 s/query)\n",
      "Retrieving query 5400 (0.084 s/query)\n",
      "Retrieving query 5500 (0.084 s/query)\n",
      "Retrieving query 5600 (0.084 s/query)\n",
      "Retrieving query 5700 (0.084 s/query)\n",
      "Retrieving query 5800 (0.084 s/query)\n",
      "Retrieving query 5900 (0.084 s/query)\n",
      "Retrieving query 6000 (0.084 s/query)\n",
      "Retrieving query 6100 (0.085 s/query)\n",
      "Retrieving query 6200 (0.086 s/query)\n",
      "Retrieving query 6300 (0.087 s/query)\n",
      "Retrieving query 6400 (0.088 s/query)\n",
      "Retrieving query 6500 (0.088 s/query)\n",
      "Retrieving query 6600 (0.089 s/query)\n",
      "Retrieving query 6700 (0.090 s/query)\n",
      "Retrieving query 6800 (0.090 s/query)\n",
      "Retrieving query 6900 (0.091 s/query)\n",
      "Retrieving query 7000 (0.092 s/query)\n",
      "Retrieving query 7100 (0.093 s/query)\n",
      "Retrieving query 7200 (0.093 s/query)\n",
      "Retrieving query 7300 (0.094 s/query)\n",
      "Retrieving query 7400 (0.094 s/query)\n",
      "Retrieving query 7500 (0.095 s/query)\n",
      "Retrieving query 7600 (0.096 s/query)\n",
      "Retrieving query 7700 (0.096 s/query)\n",
      "Retrieving query 7800 (0.097 s/query)\n",
      "Retrieving query 7900 (0.097 s/query)\n",
      "Retrieving query 8000 (0.098 s/query)\n",
      "Retrieving query 8100 (0.098 s/query)\n",
      "Retrieving query 8200 (0.099 s/query)\n",
      "Retrieving query 8300 (0.099 s/query)\n",
      "Retrieving query 8400 (0.099 s/query)\n",
      "Retrieving query 8500 (0.100 s/query)\n",
      "Retrieving query 8600 (0.100 s/query)\n",
      "Retrieving query 8700 (0.101 s/query)\n",
      "Retrieving query 8800 (0.101 s/query)\n",
      "Retrieving query 8900 (0.102 s/query)\n",
      "Retrieving query 9000 (0.102 s/query)\n",
      "Retrieving query 9100 (0.102 s/query)\n",
      "Retrieving query 9200 (0.103 s/query)\n",
      "Retrieving query 9300 (0.103 s/query)\n",
      "Retrieving query 9400 (0.103 s/query)\n",
      "Retrieving query 9500 (0.104 s/query)\n",
      "Retrieving query 9600 (0.104 s/query)\n",
      "Retrieving query 9700 (0.105 s/query)\n",
      "Retrieving query 9800 (0.105 s/query)\n",
      "Retrieving query 9900 (0.105 s/query)\n",
      "Total retrieval time: 1055.217 s\n",
      "Done!\n"
     ]
    }
   ],
   "source": [
    "# Retrieval run\n",
    "# k1=0.6 n=0.5 BM25 parameters found by finetuning\n",
    "!python /home/ryparmar/pyserini/src/retrieve.py \\\n",
    "--hits 1000 --threads 1 \\\n",
    "--index /home/ryparmar/pyserini/fever/indexes \\\n",
    "--queries /home/ryparmar/pyserini/fever/queries.par.dev.tsv \\\n",
    "--output /home/ryparmar/pyserini/fever/run.fever-par-finetuned-paper.dev.tsv \\\n",
    "--k1 0.6 --b 0.5"
   ]
  },
  {
   "cell_type": "code",
   "execution_count": 15,
   "metadata": {},
   "outputs": [
    {
     "name": "stdout",
     "output_type": "stream",
     "text": [
      "91198\tHerm_Edwards\t996\r\n",
      "91198\tMax_Choboian\t997\r\n",
      "91198\t1970_Cincinnati_Bengals_season\t998\r\n",
      "91198\tScott_Hilton\t999\r\n",
      "91198\t1970_San_Francisco_49ers_season\t1000\r\n",
      "194462\tTilda\t1\r\n",
      "194462\tSwinton_-LRB-surname-RRB-\t2\r\n",
      "194462\tList_of_awards_and_nominations_received_by_Tilda_Swinton\t3\r\n",
      "194462\tJulia_-LRB-2008_film-RRB-\t4\r\n",
      "194462\tEdinburgh_Filmhouse\t5\r\n"
     ]
    }
   ],
   "source": [
    "# claim_id, predicted_document_id, rank  -- see that there up to 1000 hits (hits arg)\n",
    "!head -n 1005 /home/ryparmar/pyserini/fever/run.fever-par-finetuned-paper.dev.tsv | tail -n 10"
   ]
  },
  {
   "cell_type": "markdown",
   "metadata": {},
   "source": [
    "### Evaluation"
   ]
  },
  {
   "cell_type": "code",
   "execution_count": 21,
   "metadata": {},
   "outputs": [],
   "source": [
    "import jsonlines\n",
    "# Convert .tsv (anserini) prediction into .jsonl (drqa) predictions\n",
    "def convert_to_drqa_format(inputfile, outputfile, truthfile):\n",
    "    out = {}\n",
    "    with jsonlines.open(truthfile) as ft:\n",
    "        for line in ft.iter():\n",
    "            out[str(line['id'])] = {'id': line['id'],\n",
    "                               'label': line['label'],\n",
    "                               'evidence': line['evidence']}\n",
    "    with open(inputfile) as fr:\n",
    "        for line in fr.readlines():\n",
    "            claim_id, pred_docid, _ = line.split('\\t')\n",
    "            if claim_id in out and 'predicted_pages' in out[claim_id]:\n",
    "                out[claim_id]['predicted_pages'].append(pred_docid)\n",
    "            else:\n",
    "                out[claim_id]['predicted_pages'] = [pred_docid]\n",
    "\n",
    "        with jsonlines.open(outputfile, 'w') as fw:\n",
    "            for key in out:\n",
    "                fw.write(out[key])\n",
    "                \n",
    "# Convert .jsonl (drqa) predictions into .tsv (anserini) prediction \n",
    "def convert_to_anserini_format(inputfile, outputfile):\n",
    "    out = []\n",
    "    with jsonlines.open(inputfile) as ft:\n",
    "        for line in ft.iter():\n",
    "            for rank, docid in enumerate(line['predicted_pages']):\n",
    "                out.append(\"{}\\t{}\\t{}\\n\".format(line['id'], docid, rank+1))\n",
    "\n",
    "        with open(outputfile, 'w') as fw:\n",
    "            for line in out:\n",
    "                fw.write(line)"
   ]
  },
  {
   "cell_type": "code",
   "execution_count": 14,
   "metadata": {},
   "outputs": [
    {
     "name": "stdout",
     "output_type": "stream",
     "text": [
      "k\tFully Supported\tOracle Accuracy\r\n",
      "1\t0.3857\t0.5905\r\n",
      "5\t0.6367\t0.7578\r\n",
      "10\t0.7193\t0.8129\r\n",
      "25\t0.8003\t0.8669\r\n",
      "50\t0.8473\t0.8982\r\n",
      "100\t0.8804\t0.9203\r\n",
      "500\t0.9320\t0.9547\r\n"
     ]
    }
   ],
   "source": [
    "# Evaluate anserini finetuned on FEVER dev data\n",
    "!python /home/ryparmar/pyserini/src/evaluate_doc_retrieval.py \\\n",
    "--truth_file /home/ryparmar/pyserini/fever/paper_dev.jsonl \\\n",
    "--run_file /home/ryparmar/pyserini/fever/run.fever-par-finetuned-paper.dev.tsv"
   ]
  },
  {
   "cell_type": "code",
   "execution_count": null,
   "metadata": {},
   "outputs": [],
   "source": []
  },
  {
   "cell_type": "code",
   "execution_count": null,
   "metadata": {},
   "outputs": [],
   "source": []
  },
  {
   "cell_type": "code",
   "execution_count": null,
   "metadata": {},
   "outputs": [],
   "source": []
  },
  {
   "cell_type": "code",
   "execution_count": 167,
   "metadata": {},
   "outputs": [
    {
     "name": "stdout",
     "output_type": "stream",
     "text": [
      "Done!\n",
      "Done!\n"
     ]
    }
   ],
   "source": [
    "# Evaluate with trec_eval (TREC)\n",
    "# Convert the runs and qrels to trec files\n",
    "!python /home/ryparmar/pyserini/src/convert_msmarco_to_trec_run.py \\\n",
    "--input /home/ryparmar/pyserini/run.fever-par-0.6-0.5.dev.tsv \\\n",
    "--output /home/ryparmar/pyserini/run.fever-par-0.6-0.5.dev.trec\n",
    "\n",
    "!python /home/ryparmar/pyserini/src/convert_msmarco_to_trec_qrels.py \\\n",
    "--input /home/ryparmar/pyserini/qrels.par.dev.tsv \\\n",
    "--output /home/ryparmar/pyserini/qrels.par.dev.trec"
   ]
  },
  {
   "cell_type": "code",
   "execution_count": 169,
   "metadata": {},
   "outputs": [
    {
     "name": "stdout",
     "output_type": "stream",
     "text": [
      "/usr/bin/sh: ./home/ryparmar/pyserini/src/trec_eval.9.0.4/trec_eval: No such file or directory\r\n"
     ]
    }
   ],
   "source": [
    "# Run evaluation itself\n",
    "!./home/ryparmar/pyserini/src/trec_eval.9.0.4/trec_eval -c -m all_trec \\\n",
    "/home/ryparmar/pyserini/qrels.par.dev.trec /home/ryparmar/pyserini/run.fever-par-0.6-0.5.dev.trec"
   ]
  },
  {
   "cell_type": "code",
   "execution_count": null,
   "metadata": {},
   "outputs": [],
   "source": []
  },
  {
   "cell_type": "code",
   "execution_count": null,
   "metadata": {},
   "outputs": [],
   "source": []
  },
  {
   "cell_type": "markdown",
   "metadata": {},
   "source": [
    "# Run the DrQA baseline"
   ]
  },
  {
   "cell_type": "code",
   "execution_count": 42,
   "metadata": {},
   "outputs": [],
   "source": [
    "# !python -m pip install allennlp==0.9.0 --user\n",
    "# !python -m pip install fever-api --user\n",
    "# !python -m pip install fever-allennlp --user\n",
    "# !python -m pip install fever-drqa --user\n",
    "# !python -m pip install pexpect --user"
   ]
  },
  {
   "cell_type": "code",
   "execution_count": 43,
   "metadata": {},
   "outputs": [
    {
     "name": "stdout",
     "output_type": "stream",
     "text": [
      "fever-tfidf-ngram=2-hash=16777216-tokenizer=simple.npz\r\n"
     ]
    }
   ],
   "source": [
    "!ls /mnt/data/factcheck/fever/data-en-latest/index"
   ]
  },
  {
   "cell_type": "code",
   "execution_count": 8,
   "metadata": {},
   "outputs": [
    {
     "name": "stdout",
     "output_type": "stream",
     "text": [
      "Traceback (most recent call last):\r\n",
      "  File \"/home/ryparmar/drchajan/src/predict_pages_drqa.py\", line 11, in <module>\r\n",
      "    from drqa.retriever.top_n import TopNDocsTopNSents\r\n",
      "ModuleNotFoundError: No module named 'drqa.retriever.top_n'\r\n"
     ]
    }
   ],
   "source": [
    "!python /home/ryparmar/drchajan/src/predict_pages_drqa.py \\\n",
    "--model /mnt/data/factcheck/fever/data-en-latest/index/fever-tfidf-ngram=2-hash=16777216-tokenizer=simple.npz \\\n",
    "--database /mnt/data/factcheck/fever/data-en-latest/fever/fever.db \\\n",
    "--in-file /mnt/data/factcheck/fever/data-en-latest/fever-data/dev.jsonl \\\n",
    "--out-file /home/ryparmar/pyserini/dev-predict-drqa \\\n",
    "--max-page 5"
   ]
  },
  {
   "cell_type": "code",
   "execution_count": 204,
   "metadata": {},
   "outputs": [],
   "source": [
    "!cat /home/ryparmar/pyserini/dev-predict-drqa"
   ]
  },
  {
   "cell_type": "code",
   "execution_count": null,
   "metadata": {},
   "outputs": [],
   "source": []
  },
  {
   "cell_type": "code",
   "execution_count": null,
   "metadata": {},
   "outputs": [],
   "source": []
  },
  {
   "cell_type": "code",
   "execution_count": 11,
   "metadata": {},
   "outputs": [
    {
     "name": "stdout",
     "output_type": "stream",
     "text": [
      "/mnt/appl/software/Python/3.7.4-GCCcore-8.3.0/bin/python: No module named predict_drqa\r\n"
     ]
    }
   ],
   "source": [
    "!python -m predict_drqa ./venv"
   ]
  },
  {
   "cell_type": "code",
   "execution_count": null,
   "metadata": {},
   "outputs": [],
   "source": []
  }
 ],
 "metadata": {
  "kernelspec": {
   "display_name": "Python 3",
   "language": "python",
   "name": "python3"
  },
  "language_info": {
   "codemirror_mode": {
    "name": "ipython",
    "version": 3
   },
   "file_extension": ".py",
   "mimetype": "text/x-python",
   "name": "python",
   "nbconvert_exporter": "python",
   "pygments_lexer": "ipython3",
   "version": "3.7.4"
  }
 },
 "nbformat": 4,
 "nbformat_minor": 2
}
