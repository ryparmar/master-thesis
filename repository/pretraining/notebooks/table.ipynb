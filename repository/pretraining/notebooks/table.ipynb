{
 "cells": [
  {
   "cell_type": "markdown",
   "metadata": {},
   "source": [
    "- Ran most early tests with just 1000 validation claims, in later ones I started using ~2000+ claims, which if anything lowers score by ~1% (absolute) on recall\n",
    "- Tried what happens when `k` gets large ~200, and recall platoes around 70% (using both data approaches in the following table)\n",
    "- r@500 ~ \n",
    "\n",
    "| Model | data| pretraining| max_seq_lenght | pooling type | k | precision@k | recall | f1 |\n",
    "|------|------|------|------|------|------|------|------|------|\n",
    "|   mBERT_5epoch_1e-5  | fever_cs_no_titles | ICT | 288 | cls | 10 | 0.042945 | 0.397239 | 0.077510 |  \n",
    "|   mBERT_5epoch_1e-5  | fever_cs_no_titles | ICT | 288 | cls | 5 | 0.068712 | 0.319018| 0.113070 |  \n",
    "|   mBERT_5epoch_1e-5  | fever_cs_no_titles | ICT | 512 | cls | 10 | 0.024233 | 0.228528 | 0.043820 |\n",
    "|   mBERT_5epoch_1e-5  | fever_cs_no_titles | ICT | 512 | cls | 5 | 0.035276 | 0.165644| 0.058165 |  \n",
    "|   mBERT_5epoch_512linLayer_validation_during_Training_1e-4| fever_cs_no_titles | ICT | 288 | cls | 10 | 0.009509 | 0.090491| 0.0172099 |  \n",
    "|   mBERT_5epoch_512linLayer_NO_valid_during_Training_1e-4 | fever_cs_no_titles | ICT | 288 | cls | 10 | 0.009662 | 0.092024 | 0.017488 |  \n",
    "|   mBERT_10epoch_512linLayer_1e-5 | fever_cs_no_titles | ICT | 288 | cls | 20 | 0.025074 | 0.447604 | 0.047489 | \n",
    "|   mBERT_10epoch_512linLayer_5e-5 | fever_cs_no_titles | ICT | 288 | cls | 10 | kept decreasing | kept decreasing | kept decreasing | \n",
    "|   mBERT_20epoch_512linLayer_1e-5 | fever_cs_no_titles | ICT | 288 | cls | 10 | 0.045552 | 0.415644 | 0.082106 | \n",
    "|   mBERT_20epoch_512linLayer_1e-5 | fever_cs_no_titles | ICT | 288 | cls | 20 | 0.026687 | 0.485429 | 0.050593 | \n",
    "|   **mBERT_20epoch_512linLayer_1e-5** | fever_cs_no_titles_multiple_chunks/article | ICT | 288 | cls | 10 | 0.052071 | **0.425613** | 0.092789 | \n",
    "|   **mBERT_20epoch_512linLayer_1e-5** | fever_cs_no_titles_multiple_chunks/article | ICT | 288 | cls | 20 | 0.031633 | **0.502301** | 0.059519 | \n",
    "\n",
    "\n",
    "\n",
    "\n",
    "\n"
   ]
  },
  {
   "cell_type": "code",
   "execution_count": null,
   "metadata": {},
   "outputs": [],
   "source": []
  }
 ],
 "metadata": {
  "kernelspec": {
   "display_name": "Python 3",
   "language": "python",
   "name": "python3"
  },
  "language_info": {
   "codemirror_mode": {
    "name": "ipython",
    "version": 3
   },
   "file_extension": ".py",
   "mimetype": "text/x-python",
   "name": "python",
   "nbconvert_exporter": "python",
   "pygments_lexer": "ipython3",
   "version": "3.7.3"
  }
 },
 "nbformat": 4,
 "nbformat_minor": 2
}
