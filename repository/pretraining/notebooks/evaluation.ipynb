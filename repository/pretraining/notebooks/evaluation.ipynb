{
 "cells": [
  {
   "cell_type": "code",
   "execution_count": 1,
   "metadata": {},
   "outputs": [],
   "source": [
    "# if '/home/ryparmar/.local/bin' not in sys.path:\n",
    "#     sys.path.append('/home/ryparmar/.local/bin')"
   ]
  },
  {
   "cell_type": "code",
   "execution_count": 2,
   "metadata": {},
   "outputs": [],
   "source": [
    "# !python -m pip install -U -q transformers==3.1.0 --user"
   ]
  },
  {
   "cell_type": "code",
   "execution_count": 3,
   "metadata": {},
   "outputs": [],
   "source": [
    "# transformers.__version__"
   ]
  },
  {
   "cell_type": "code",
   "execution_count": 1,
   "metadata": {},
   "outputs": [],
   "source": [
    "from tqdm import tqdm\n",
    "from datetime import datetime\n",
    "import sys, os\n",
    "import logging\n",
    "\n",
    "import torch \n",
    "from torch.utils.data import DataLoader, TensorDataset\n",
    "import transformers"
   ]
  },
  {
   "cell_type": "code",
   "execution_count": 2,
   "metadata": {},
   "outputs": [],
   "source": [
    "import faiss"
   ]
  },
  {
   "cell_type": "code",
   "execution_count": null,
   "metadata": {},
   "outputs": [],
   "source": []
  },
  {
   "cell_type": "code",
   "execution_count": 3,
   "metadata": {},
   "outputs": [],
   "source": [
    "if '/home/ryparmar/experimental-martin/inverse-cloze-task/src/' not in sys.path:\n",
    "    sys.path.append('/home/ryparmar/experimental-martin/inverse-cloze-task/src')\n",
    "\n",
    "import util, eval, io_util\n",
    "from model import Encoder as Model"
   ]
  },
  {
   "cell_type": "code",
   "execution_count": 4,
   "metadata": {},
   "outputs": [],
   "source": [
    "def optimizer_to(optim, device):\n",
    "    for param in optim.state.values():\n",
    "        # Not sure there are any global tensors in the state dict\n",
    "        if isinstance(param, torch.Tensor):\n",
    "            param.data = param.data.to(device)\n",
    "            if param._grad is not None:\n",
    "                param._grad.data = param._grad.data.to(device)\n",
    "        elif isinstance(param, dict):\n",
    "            for subparam in param.values():\n",
    "                if isinstance(subparam, torch.Tensor):\n",
    "                    subparam.data = subparam.data.to(device)\n",
    "                    if subparam._grad is not None:\n",
    "                        subparam._grad.data = subparam._grad.data.to(device)\n",
    "\n",
    "\n",
    "def instantiate_model(config, tokenizer):\n",
    "    configure_devices(config)\n",
    "    model = Model(config)\n",
    "    optimizer = transformers.AdamW(model.parameters(), lr=config.learning_rate, weight_decay=0)\n",
    "    last_epoch = 0\n",
    "    epoch_avg_loss = 0\n",
    "    if config.continue_training:\n",
    "        state_dict = torch.load(config.continue_training, map_location='cpu')\n",
    "        model.load_state_dict(state_dict['model'])\n",
    "        if 'optimizer_state_dict' in state_dict:\n",
    "            optimizer.load_state_dict(state_dict['optimizer_state_dict'])\n",
    "        last_epoch = state_dict['epoch']\n",
    "        # epoch_avg_loss = state_dict['loss']\n",
    "        # del state_dict # TODO TEST\n",
    "    if config.use_cuda:\n",
    "        model = model.cuda()\n",
    "        optimizer_to(optimizer, config.device)\n",
    "        model = torch.nn.DataParallel(model, device_ids=config.devices)\n",
    "    return model, optimizer, last_epoch, epoch_avg_loss\n",
    "\n",
    "\n",
    "def configure_devices(config):\n",
    "    config.devices = [int(device) for device in range(torch.cuda.device_count())]\n",
    "    config.device = config.devices[0] if config.use_cuda else \"cpu\"\n",
    "\n",
    "\n",
    "def get_loader(data, batch_size):\n",
    "    data = TensorDataset(data)\n",
    "    return DataLoader(data,\n",
    "                      batch_size=batch_size,\n",
    "                      shuffle=True,\n",
    "                      sampler=None, drop_last=True)"
   ]
  },
  {
   "cell_type": "code",
   "execution_count": 6,
   "metadata": {},
   "outputs": [],
   "source": [
    "class Config:\n",
    "    def __init__(self):\n",
    "#         self.mode = 'finetuning'\n",
    "#         self.claims_path = \"/mnt/data/factcheck/CTK/par4/ctk-data\"\n",
    "#         self.articles_path = \"/mnt/data/factcheck/CTK/par4/interim/ctk_filtered.db\"\n",
    "#         self.articles_chunks_path = \"/mnt/data/factcheck/ict_chunked_data/ids-chunks-288-finetuning-ctk_filtered.pkl\"\n",
    "#         self.continue_training = \"/home/ryparmar/trained_models/finetuned_mbert_10epochs_lr_1e-6_ict_1.4.w\"\n",
    "        #ctk_pre_3ep_1e-5_288.w\"\n",
    "        self.mode = 'finetuning'\n",
    "        self.claims_path = \"/mnt/data/factcheck/fever/data-cs/fever-data\"\n",
    "        self.articles_path = \"/mnt/data/factcheck/fever/data-cs/fever/fever.db\"\n",
    "        self.articles_chunks_path = \"/home/ryparmar/trained_models/ids-chunks-288-finetuning-feverwiki.pkl\"\n",
    "        self.continue_training = \"/home/ryparmar/trained_models/finetuned_mbert_10epochs_lr_1e-6_ict_1.4.w\"\n",
    "        self.bert_model = \"bert-base-multilingual-cased\"\n",
    "        self.learning_rate = 1e-6\n",
    "        self.max_seq = 288\n",
    "        self.epoch = 1\n",
    "        self.batch_size = 32\n",
    "        self.test_batch_size = 64\n",
    "        self.remove_percent = 0.9\n",
    "        self.use_cuda = True\n",
    "        self.logger = logging.getLogger(__name__)\n",
    "        \n",
    "    def add(self, name, val):\n",
    "        if name == 'cls_token_id':\n",
    "            self.cls_token_id = val\n",
    "        if name == 'pad_token_id':\n",
    "            self.pad_token_id = val"
   ]
  },
  {
   "cell_type": "code",
   "execution_count": 7,
   "metadata": {},
   "outputs": [],
   "source": [
    "config = Config()\n",
    "tokenizer = transformers.BertTokenizerFast.from_pretrained(config.bert_model)\n",
    "config.add('cls_token_id', tokenizer.encode(tokenizer.cls_token, add_special_tokens=False)[0])\n",
    "config.add('pad_token_id', tokenizer.encode(tokenizer.pad_token, add_special_tokens=False)[0])\n",
    "\n",
    "\n",
    "model, optimizer, _, _ = instantiate_model(config, tokenizer)\n",
    "loss_fn = torch.nn.CrossEntropyLoss()\n",
    "metrics = eval.Metrics()"
   ]
  },
  {
   "cell_type": "code",
   "execution_count": null,
   "metadata": {},
   "outputs": [],
   "source": []
  },
  {
   "cell_type": "code",
   "execution_count": null,
   "metadata": {},
   "outputs": [],
   "source": []
  },
  {
   "cell_type": "code",
   "execution_count": 8,
   "metadata": {},
   "outputs": [],
   "source": [
    "chunks, articles_ids = util.make_chunks(config.articles_path, tokenizer, config, save_chunks=False)\n",
    "chunks, chunks_mask = util.process_chunks(chunks, config)\n",
    "dev_chunks, dev_masks, dev_articles_ids = chunks, chunks_mask, articles_ids"
   ]
  },
  {
   "cell_type": "code",
   "execution_count": 9,
   "metadata": {},
   "outputs": [
    {
     "name": "stdout",
     "output_type": "stream",
     "text": [
      "Loaded 9999 claims from dev split.\n"
     ]
    }
   ],
   "source": [
    "claims_dev, evidence_dev, labels_dev = util.load_claims('dev', config)"
   ]
  },
  {
   "cell_type": "code",
   "execution_count": 10,
   "metadata": {},
   "outputs": [
    {
     "name": "stdout",
     "output_type": "stream",
     "text": [
      "9999 dev claims prepared for finetuning.\n"
     ]
    }
   ],
   "source": [
    "claims_dev, claims_dev_mask = util.process_claims(claims_dev, tokenizer, config, _pad_max=True)\n",
    "print(f\"{len(claims_dev)} dev claims prepared for finetuning.\")"
   ]
  },
  {
   "cell_type": "code",
   "execution_count": 11,
   "metadata": {},
   "outputs": [
    {
     "data": {
      "text/plain": [
       "torch.Size([288])"
      ]
     },
     "execution_count": 11,
     "metadata": {},
     "output_type": "execute_result"
    }
   ],
   "source": [
    "claims_dev[0].shape"
   ]
  },
  {
   "cell_type": "code",
   "execution_count": 12,
   "metadata": {},
   "outputs": [
    {
     "data": {
      "text/plain": [
       "['[CLS]',\n",
       " 'Soc',\n",
       " '##iologie',\n",
       " 'je',\n",
       " 'studium',\n",
       " 'v',\n",
       " '##y',\n",
       " '##́',\n",
       " '##voje',\n",
       " 'politik',\n",
       " '##y',\n",
       " '.',\n",
       " '[PAD]',\n",
       " '[PAD]',\n",
       " '[PAD]',\n",
       " '[PAD]',\n",
       " '[PAD]',\n",
       " '[PAD]',\n",
       " '[PAD]',\n",
       " '[PAD]',\n",
       " '[PAD]',\n",
       " '[PAD]',\n",
       " '[PAD]',\n",
       " '[PAD]',\n",
       " '[PAD]',\n",
       " '[PAD]',\n",
       " '[PAD]',\n",
       " '[PAD]',\n",
       " '[PAD]',\n",
       " '[PAD]',\n",
       " '[PAD]',\n",
       " '[PAD]',\n",
       " '[PAD]',\n",
       " '[PAD]',\n",
       " '[PAD]',\n",
       " '[PAD]',\n",
       " '[PAD]',\n",
       " '[PAD]',\n",
       " '[PAD]',\n",
       " '[PAD]',\n",
       " '[PAD]',\n",
       " '[PAD]',\n",
       " '[PAD]',\n",
       " '[PAD]',\n",
       " '[PAD]',\n",
       " '[PAD]',\n",
       " '[PAD]',\n",
       " '[PAD]',\n",
       " '[PAD]',\n",
       " '[PAD]',\n",
       " '[PAD]',\n",
       " '[PAD]',\n",
       " '[PAD]',\n",
       " '[PAD]',\n",
       " '[PAD]',\n",
       " '[PAD]',\n",
       " '[PAD]',\n",
       " '[PAD]',\n",
       " '[PAD]',\n",
       " '[PAD]',\n",
       " '[PAD]',\n",
       " '[PAD]',\n",
       " '[PAD]',\n",
       " '[PAD]',\n",
       " '[PAD]',\n",
       " '[PAD]',\n",
       " '[PAD]',\n",
       " '[PAD]',\n",
       " '[PAD]',\n",
       " '[PAD]',\n",
       " '[PAD]',\n",
       " '[PAD]',\n",
       " '[PAD]',\n",
       " '[PAD]',\n",
       " '[PAD]',\n",
       " '[PAD]',\n",
       " '[PAD]',\n",
       " '[PAD]',\n",
       " '[PAD]',\n",
       " '[PAD]',\n",
       " '[PAD]',\n",
       " '[PAD]',\n",
       " '[PAD]',\n",
       " '[PAD]',\n",
       " '[PAD]',\n",
       " '[PAD]',\n",
       " '[PAD]',\n",
       " '[PAD]',\n",
       " '[PAD]',\n",
       " '[PAD]',\n",
       " '[PAD]',\n",
       " '[PAD]',\n",
       " '[PAD]',\n",
       " '[PAD]',\n",
       " '[PAD]',\n",
       " '[PAD]',\n",
       " '[PAD]',\n",
       " '[PAD]',\n",
       " '[PAD]',\n",
       " '[PAD]',\n",
       " '[PAD]',\n",
       " '[PAD]',\n",
       " '[PAD]',\n",
       " '[PAD]',\n",
       " '[PAD]',\n",
       " '[PAD]',\n",
       " '[PAD]',\n",
       " '[PAD]',\n",
       " '[PAD]',\n",
       " '[PAD]',\n",
       " '[PAD]',\n",
       " '[PAD]',\n",
       " '[PAD]',\n",
       " '[PAD]',\n",
       " '[PAD]',\n",
       " '[PAD]',\n",
       " '[PAD]',\n",
       " '[PAD]',\n",
       " '[PAD]',\n",
       " '[PAD]',\n",
       " '[PAD]',\n",
       " '[PAD]',\n",
       " '[PAD]',\n",
       " '[PAD]',\n",
       " '[PAD]',\n",
       " '[PAD]',\n",
       " '[PAD]',\n",
       " '[PAD]',\n",
       " '[PAD]',\n",
       " '[PAD]',\n",
       " '[PAD]',\n",
       " '[PAD]',\n",
       " '[PAD]',\n",
       " '[PAD]',\n",
       " '[PAD]',\n",
       " '[PAD]',\n",
       " '[PAD]',\n",
       " '[PAD]',\n",
       " '[PAD]',\n",
       " '[PAD]',\n",
       " '[PAD]',\n",
       " '[PAD]',\n",
       " '[PAD]',\n",
       " '[PAD]',\n",
       " '[PAD]',\n",
       " '[PAD]',\n",
       " '[PAD]',\n",
       " '[PAD]',\n",
       " '[PAD]',\n",
       " '[PAD]',\n",
       " '[PAD]',\n",
       " '[PAD]',\n",
       " '[PAD]',\n",
       " '[PAD]',\n",
       " '[PAD]',\n",
       " '[PAD]',\n",
       " '[PAD]',\n",
       " '[PAD]',\n",
       " '[PAD]',\n",
       " '[PAD]',\n",
       " '[PAD]',\n",
       " '[PAD]',\n",
       " '[PAD]',\n",
       " '[PAD]',\n",
       " '[PAD]',\n",
       " '[PAD]',\n",
       " '[PAD]',\n",
       " '[PAD]',\n",
       " '[PAD]',\n",
       " '[PAD]',\n",
       " '[PAD]',\n",
       " '[PAD]',\n",
       " '[PAD]',\n",
       " '[PAD]',\n",
       " '[PAD]',\n",
       " '[PAD]',\n",
       " '[PAD]',\n",
       " '[PAD]',\n",
       " '[PAD]',\n",
       " '[PAD]',\n",
       " '[PAD]',\n",
       " '[PAD]',\n",
       " '[PAD]',\n",
       " '[PAD]',\n",
       " '[PAD]',\n",
       " '[PAD]',\n",
       " '[PAD]',\n",
       " '[PAD]',\n",
       " '[PAD]',\n",
       " '[PAD]',\n",
       " '[PAD]',\n",
       " '[PAD]',\n",
       " '[PAD]',\n",
       " '[PAD]',\n",
       " '[PAD]',\n",
       " '[PAD]',\n",
       " '[PAD]',\n",
       " '[PAD]',\n",
       " '[PAD]',\n",
       " '[PAD]',\n",
       " '[PAD]',\n",
       " '[PAD]',\n",
       " '[PAD]',\n",
       " '[PAD]',\n",
       " '[PAD]',\n",
       " '[PAD]',\n",
       " '[PAD]',\n",
       " '[PAD]',\n",
       " '[PAD]',\n",
       " '[PAD]',\n",
       " '[PAD]',\n",
       " '[PAD]',\n",
       " '[PAD]',\n",
       " '[PAD]',\n",
       " '[PAD]',\n",
       " '[PAD]',\n",
       " '[PAD]',\n",
       " '[PAD]',\n",
       " '[PAD]',\n",
       " '[PAD]',\n",
       " '[PAD]',\n",
       " '[PAD]',\n",
       " '[PAD]',\n",
       " '[PAD]',\n",
       " '[PAD]',\n",
       " '[PAD]',\n",
       " '[PAD]',\n",
       " '[PAD]',\n",
       " '[PAD]',\n",
       " '[PAD]',\n",
       " '[PAD]',\n",
       " '[PAD]',\n",
       " '[PAD]',\n",
       " '[PAD]',\n",
       " '[PAD]',\n",
       " '[PAD]',\n",
       " '[PAD]',\n",
       " '[PAD]',\n",
       " '[PAD]',\n",
       " '[PAD]',\n",
       " '[PAD]',\n",
       " '[PAD]',\n",
       " '[PAD]',\n",
       " '[PAD]',\n",
       " '[PAD]',\n",
       " '[PAD]',\n",
       " '[PAD]',\n",
       " '[PAD]',\n",
       " '[PAD]',\n",
       " '[PAD]',\n",
       " '[PAD]',\n",
       " '[PAD]',\n",
       " '[PAD]',\n",
       " '[PAD]',\n",
       " '[PAD]',\n",
       " '[PAD]',\n",
       " '[PAD]',\n",
       " '[PAD]',\n",
       " '[PAD]',\n",
       " '[PAD]',\n",
       " '[PAD]',\n",
       " '[PAD]',\n",
       " '[PAD]',\n",
       " '[PAD]',\n",
       " '[PAD]',\n",
       " '[PAD]',\n",
       " '[PAD]',\n",
       " '[PAD]',\n",
       " '[PAD]',\n",
       " '[PAD]',\n",
       " '[PAD]',\n",
       " '[PAD]',\n",
       " '[PAD]',\n",
       " '[PAD]',\n",
       " '[PAD]',\n",
       " '[PAD]',\n",
       " '[PAD]',\n",
       " '[PAD]',\n",
       " '[PAD]',\n",
       " '[PAD]',\n",
       " '[PAD]',\n",
       " '[PAD]',\n",
       " '[PAD]',\n",
       " '[PAD]',\n",
       " '[PAD]',\n",
       " '[PAD]',\n",
       " '[PAD]',\n",
       " '[PAD]']"
      ]
     },
     "execution_count": 12,
     "metadata": {},
     "output_type": "execute_result"
    }
   ],
   "source": [
    "tokenizer.convert_ids_to_tokens(claims_dev[0])"
   ]
  },
  {
   "cell_type": "markdown",
   "metadata": {},
   "source": [
    "## Evaluate dev set"
   ]
  },
  {
   "cell_type": "code",
   "execution_count": 13,
   "metadata": {},
   "outputs": [
    {
     "name": "stderr",
     "output_type": "stream",
     "text": [
      "Embedding given chunks...: 100%|██████████| 7057/7057 [37:53<00:00,  3.10it/s]\n",
      "Embedding given chunks...: 100%|██████████| 157/157 [00:50<00:00,  3.13it/s]\n"
     ]
    }
   ],
   "source": [
    "## Load embedded documents\n",
    "doc_emb_path = f\"/home/ryparmar/trained_models/doc-emb-{config.continue_training.split('/')[-1]}.npy\"\n",
    "if os.path.exists(doc_emb_path):\n",
    "    model.eval()\n",
    "    eval_claim_embeddings = eval.encode_chunks(claims_dev, claims_dev_mask, model, batch_size=config.test_batch_size)\n",
    "    eval_document_embeddings = io_util.load_np_embeddings(doc_emb_path)\n",
    "else:\n",
    "    eval_claim_embeddings, \\\n",
    "    eval_document_embeddings = eval.evaluation_preprocessing(claims_dev, claims_dev_mask, chunks, chunks_mask, model, config)\n",
    "    ### CTK PRETRAIN -- Save embedded documents\n",
    "    io_util.save_np_embeddings(eval_document_embeddings, doc_emb_path)\n",
    "    model.to('cpu')"
   ]
  },
  {
   "cell_type": "code",
   "execution_count": 14,
   "metadata": {},
   "outputs": [],
   "source": [
    "import numpy as np\n",
    "query_embeddings = eval_claim_embeddings\n",
    "corpus_embeddings = eval_document_embeddings\n",
    "evidence, labels, corpus_ids, config, k = evidence_dev, labels_dev, dev_articles_ids, config, 10\n",
    "\n",
    "macro_precision, macro_precision_hits = 0, 0\n",
    "macro_recall, macro_recall_hits = 0, 0\n",
    "macro_mrr, macro_mrr_hits = 0, 0\n",
    "\n",
    "D, I = eval.search_top_k(corpus_embeddings, np.asarray(query_embeddings), corpus_embeddings.shape[-1], k, config)"
   ]
  },
  {
   "cell_type": "code",
   "execution_count": null,
   "metadata": {},
   "outputs": [
    {
     "name": "stderr",
     "output_type": "stream",
     "text": [
      "Calculating evaluation metrics: 6849it [14:32,  7.87it/s]"
     ]
    }
   ],
   "source": [
    "for i, top_k_idxs in tqdm(enumerate(I), desc='Calculating evaluation metrics'):\n",
    "    predicted_evidence = np.take(corpus_ids, I[i])\n",
    "    \n",
    "    try:\n",
    "        macro_prec = eval.evidence_macro_precision(evidence[i], labels[i], predicted_evidence)\n",
    "        macro_precision += macro_prec[0]\n",
    "        macro_precision_hits += macro_prec[1]\n",
    "\n",
    "        macro_rec = eval.evidence_macro_recall(evidence[i], labels[i], predicted_evidence)\n",
    "        macro_recall += macro_rec[0]\n",
    "        macro_recall_hits += macro_rec[1]\n",
    "\n",
    "        macro_rr = eval.evidence_macro_mrr(evidence[i], labels[i], predicted_evidence)\n",
    "        macro_mrr += macro_rr[0]\n",
    "        macro_mrr_hits += macro_rr[1]\n",
    "    except:\n",
    "        print(\"ERROR on \", i)"
   ]
  },
  {
   "cell_type": "code",
   "execution_count": null,
   "metadata": {},
   "outputs": [],
   "source": [
    "pr = (macro_precision / macro_precision_hits) if macro_precision_hits > 0 else 1.0\n",
    "rec = (macro_recall / macro_recall_hits) if macro_recall_hits > 0 else 0.0\n",
    "mrr = (macro_mrr / macro_mrr_hits) if macro_mrr_hits > 0 else 0.0\n",
    "f1 = 2.0 * pr * rec / (pr + rec + 1e-6)\n",
    "print(f\"F1: {f1*100}\\nRecall@{k}: {rec*100}\\nPrecision@10: {pr*100}\\nMRR@10: {mrr*100}\")"
   ]
  },
  {
   "cell_type": "code",
   "execution_count": null,
   "metadata": {},
   "outputs": [],
   "source": []
  },
  {
   "cell_type": "code",
   "execution_count": null,
   "metadata": {},
   "outputs": [],
   "source": []
  },
  {
   "cell_type": "code",
   "execution_count": 40,
   "metadata": {},
   "outputs": [],
   "source": [
    "# # Evaluation\n",
    "# for k in [10, 20]:\n",
    "#     precision, recall, f1 = eval.retriever_score(eval_claim_embeddings, eval_document_embeddings, \n",
    "#                                                 evidence_dev, labels_dev, dev_articles_ids, config, k=k)\n",
    "#     # config.logger.info\n",
    "#     print(f\"F1: {f1}\\tRecall@{k}: {recall}\\tPrecision@10: {precision}\")"
   ]
  },
  {
   "cell_type": "markdown",
   "metadata": {},
   "source": [
    "## FAISS"
   ]
  },
  {
   "cell_type": "code",
   "execution_count": 21,
   "metadata": {},
   "outputs": [],
   "source": [
    "import numpy as np\n",
    "import math"
   ]
  },
  {
   "cell_type": "code",
   "execution_count": 22,
   "metadata": {},
   "outputs": [],
   "source": [
    "# SEARCH TOP K -- Prepare index\n",
    "index = faiss.index_factory(eval_document_embeddings.shape[-1], \"Flat\", faiss.METRIC_INNER_PRODUCT)\n",
    "faiss.normalize_L2(eval_document_embeddings)  # need to normalize query and corpus vectors for cosine distance\n",
    "faiss.normalize_L2(eval_claim_embeddings)\n",
    "if config.device != 'cpu':\n",
    "    res = faiss.StandardGpuResources()\n",
    "    if len(config.devices) > 1:\n",
    "        dev_index = faiss.index_cpu_to_all_gpus(index)  # use gpu\n",
    "    else:\n",
    "        dev_index = faiss.index_cpu_to_gpu(res, 0, index)\n",
    "else:\n",
    "    dev_index = index\n",
    "dev_index.add(eval_document_embeddings)"
   ]
  },
  {
   "cell_type": "code",
   "execution_count": 23,
   "metadata": {},
   "outputs": [],
   "source": [
    "# Execute the search\n",
    "D, I = dev_index.search(eval_claim_embeddings, 1000)"
   ]
  },
  {
   "cell_type": "code",
   "execution_count": 24,
   "metadata": {},
   "outputs": [
    {
     "name": "stdout",
     "output_type": "stream",
     "text": [
      "(83158, 1000) (83158, 1000)\n"
     ]
    }
   ],
   "source": [
    "print(D.shape, I.shape)"
   ]
  },
  {
   "cell_type": "code",
   "execution_count": 25,
   "metadata": {},
   "outputs": [
    {
     "name": "stdout",
     "output_type": "stream",
     "text": [
      "D: [0.79076725 0.831462   0.6842412  0.73045176 0.8863043  0.8287026\n",
      " 0.77836084 0.7367048  0.79012954 0.6705815 ]\n",
      "I: [292347 309477  49690 312889 211132 222134 422483 162622 322631 308474]\n"
     ]
    }
   ],
   "source": [
    "print(f\"D: {D[:10, 0]}\\nI: {I[:10, 0]}\")"
   ]
  },
  {
   "cell_type": "code",
   "execution_count": 31,
   "metadata": {},
   "outputs": [
    {
     "data": {
      "text/plain": [
       "[[[245753, 246454, 'Sammy Cahn', 0, 'Sammy Cahn']]]"
      ]
     },
     "execution_count": 31,
     "metadata": {},
     "output_type": "execute_result"
    }
   ],
   "source": [
    "evidence_dev[1]"
   ]
  },
  {
   "cell_type": "code",
   "execution_count": 32,
   "metadata": {},
   "outputs": [
    {
     "data": {
      "text/plain": [
       "'SUPPORTS'"
      ]
     },
     "execution_count": 32,
     "metadata": {},
     "output_type": "execute_result"
    }
   ],
   "source": [
    "labels_dev[1]"
   ]
  },
  {
   "cell_type": "code",
   "execution_count": 36,
   "metadata": {},
   "outputs": [
    {
     "data": {
      "text/plain": [
       "(83158, 1000)"
      ]
     },
     "execution_count": 36,
     "metadata": {},
     "output_type": "execute_result"
    }
   ],
   "source": [
    "I.shape"
   ]
  },
  {
   "cell_type": "code",
   "execution_count": 37,
   "metadata": {},
   "outputs": [
    {
     "data": {
      "text/plain": [
       "451629"
      ]
     },
     "execution_count": 37,
     "metadata": {},
     "output_type": "execute_result"
    }
   ],
   "source": [
    "len(articles_ids)"
   ]
  },
  {
   "cell_type": "code",
   "execution_count": 68,
   "metadata": {},
   "outputs": [
    {
     "ename": "IndexError",
     "evalue": "string index out of range",
     "output_type": "error",
     "traceback": [
      "\u001b[0;31m---------------------------------------------------------------------------\u001b[0m",
      "\u001b[0;31mIndexError\u001b[0m                                Traceback (most recent call last)",
      "\u001b[0;32m<ipython-input-68-9f9cbb6aef39>\u001b[0m in \u001b[0;36m<module>\u001b[0;34m\u001b[0m\n\u001b[1;32m      6\u001b[0m \u001b[0;34m\u001b[0m\u001b[0m\n\u001b[1;32m      7\u001b[0m     macro_prec = eval.evidence_macro_precision(evidence_train[i], labels_train[i], predicted_evidence, \n\u001b[0;32m----> 8\u001b[0;31m                                                max_evidence=None, page_only=True)\n\u001b[0m\u001b[1;32m      9\u001b[0m \u001b[0;34m\u001b[0m\u001b[0m\n\u001b[1;32m     10\u001b[0m     \u001b[0mmacro_precision\u001b[0m \u001b[0;34m+=\u001b[0m \u001b[0mmacro_prec\u001b[0m\u001b[0;34m[\u001b[0m\u001b[0;36m0\u001b[0m\u001b[0;34m]\u001b[0m\u001b[0;34m\u001b[0m\u001b[0;34m\u001b[0m\u001b[0m\n",
      "\u001b[0;32m~/experimental-martin/inverse-cloze-task/src/eval.py\u001b[0m in \u001b[0;36mevidence_macro_precision\u001b[0;34m(evidence, label, predicted_evid, max_evidence, page_only)\u001b[0m\n\u001b[1;32m     74\u001b[0m     \u001b[0;32mif\u001b[0m \u001b[0mlabel\u001b[0m\u001b[0;34m.\u001b[0m\u001b[0mupper\u001b[0m\u001b[0;34m(\u001b[0m\u001b[0;34m)\u001b[0m \u001b[0;34m!=\u001b[0m \u001b[0;34m\"NOT ENOUGH INFO\"\u001b[0m\u001b[0;34m:\u001b[0m\u001b[0;34m\u001b[0m\u001b[0;34m\u001b[0m\u001b[0m\n\u001b[1;32m     75\u001b[0m         \u001b[0;32mif\u001b[0m \u001b[0misinstance\u001b[0m\u001b[0;34m(\u001b[0m\u001b[0mevidence\u001b[0m\u001b[0;34m,\u001b[0m \u001b[0mlist\u001b[0m\u001b[0;34m)\u001b[0m\u001b[0;34m:\u001b[0m\u001b[0;34m\u001b[0m\u001b[0;34m\u001b[0m\u001b[0m\n\u001b[0;32m---> 76\u001b[0;31m             \u001b[0;32mif\u001b[0m \u001b[0mpage_only\u001b[0m\u001b[0;34m:\u001b[0m\u001b[0;34m\u001b[0m\u001b[0;34m\u001b[0m\u001b[0m\n\u001b[0m\u001b[1;32m     77\u001b[0m                 \u001b[0mall_evi\u001b[0m \u001b[0;34m=\u001b[0m \u001b[0;34m[\u001b[0m\u001b[0me\u001b[0m\u001b[0;34m[\u001b[0m\u001b[0;36m2\u001b[0m\u001b[0;34m]\u001b[0m \u001b[0;32mfor\u001b[0m \u001b[0meg\u001b[0m \u001b[0;32min\u001b[0m \u001b[0mevidence\u001b[0m \u001b[0;32mfor\u001b[0m \u001b[0me\u001b[0m \u001b[0;32min\u001b[0m \u001b[0meg\u001b[0m \u001b[0;32mif\u001b[0m \u001b[0me\u001b[0m\u001b[0;34m[\u001b[0m\u001b[0;36m3\u001b[0m\u001b[0;34m]\u001b[0m \u001b[0;32mis\u001b[0m \u001b[0;32mnot\u001b[0m \u001b[0;32mNone\u001b[0m\u001b[0;34m]\u001b[0m\u001b[0;34m\u001b[0m\u001b[0;34m\u001b[0m\u001b[0m\n\u001b[1;32m     78\u001b[0m             \u001b[0;32melse\u001b[0m\u001b[0;34m:\u001b[0m\u001b[0;34m\u001b[0m\u001b[0;34m\u001b[0m\u001b[0m\n",
      "\u001b[0;32m~/experimental-martin/inverse-cloze-task/src/eval.py\u001b[0m in \u001b[0;36m<listcomp>\u001b[0;34m(.0)\u001b[0m\n\u001b[1;32m     74\u001b[0m     \u001b[0;32mif\u001b[0m \u001b[0mlabel\u001b[0m\u001b[0;34m.\u001b[0m\u001b[0mupper\u001b[0m\u001b[0;34m(\u001b[0m\u001b[0;34m)\u001b[0m \u001b[0;34m!=\u001b[0m \u001b[0;34m\"NOT ENOUGH INFO\"\u001b[0m\u001b[0;34m:\u001b[0m\u001b[0;34m\u001b[0m\u001b[0;34m\u001b[0m\u001b[0m\n\u001b[1;32m     75\u001b[0m         \u001b[0;32mif\u001b[0m \u001b[0misinstance\u001b[0m\u001b[0;34m(\u001b[0m\u001b[0mevidence\u001b[0m\u001b[0;34m,\u001b[0m \u001b[0mlist\u001b[0m\u001b[0;34m)\u001b[0m\u001b[0;34m:\u001b[0m\u001b[0;34m\u001b[0m\u001b[0;34m\u001b[0m\u001b[0m\n\u001b[0;32m---> 76\u001b[0;31m             \u001b[0;32mif\u001b[0m \u001b[0mpage_only\u001b[0m\u001b[0;34m:\u001b[0m\u001b[0;34m\u001b[0m\u001b[0;34m\u001b[0m\u001b[0m\n\u001b[0m\u001b[1;32m     77\u001b[0m                 \u001b[0mall_evi\u001b[0m \u001b[0;34m=\u001b[0m \u001b[0;34m[\u001b[0m\u001b[0me\u001b[0m\u001b[0;34m[\u001b[0m\u001b[0;36m2\u001b[0m\u001b[0;34m]\u001b[0m \u001b[0;32mfor\u001b[0m \u001b[0meg\u001b[0m \u001b[0;32min\u001b[0m \u001b[0mevidence\u001b[0m \u001b[0;32mfor\u001b[0m \u001b[0me\u001b[0m \u001b[0;32min\u001b[0m \u001b[0meg\u001b[0m \u001b[0;32mif\u001b[0m \u001b[0me\u001b[0m\u001b[0;34m[\u001b[0m\u001b[0;36m3\u001b[0m\u001b[0;34m]\u001b[0m \u001b[0;32mis\u001b[0m \u001b[0;32mnot\u001b[0m \u001b[0;32mNone\u001b[0m\u001b[0;34m]\u001b[0m\u001b[0;34m\u001b[0m\u001b[0;34m\u001b[0m\u001b[0m\n\u001b[1;32m     78\u001b[0m             \u001b[0;32melse\u001b[0m\u001b[0;34m:\u001b[0m\u001b[0;34m\u001b[0m\u001b[0;34m\u001b[0m\u001b[0m\n",
      "\u001b[0;31mIndexError\u001b[0m: string index out of range"
     ]
    }
   ],
   "source": [
    "# RETRIEVER SCORER\n",
    "macro_precision, macro_precision_hits = 0, 0\n",
    "macro_recall, macro_recall_hits = 0, 0\n",
    "for i, top_k_idxs in enumerate(I):\n",
    "    predicted_evidence = np.take(articles_ids, I[i])\n",
    "\n",
    "    macro_prec = eval.evidence_macro_precision(evidence_train[i], labels_train[i], predicted_evidence, \n",
    "                                               max_evidence=None, page_only=True)\n",
    "    \n",
    "    macro_precision += macro_prec[0]\n",
    "    macro_precision_hits += macro_prec[1]\n",
    "\n",
    "    macro_rec = eval.evidence_macro_recall(evidence_train[i], labels_train[i], predicted_evidence)\n",
    "    macro_recall += macro_rec[0]\n",
    "    macro_recall_hits += macro_rec[1]\n",
    "\n",
    "pr = (macro_precision / macro_precision_hits) if macro_precision_hits > 0 else 1.0\n",
    "rec = (macro_recall / macro_recall_hits) if macro_recall_hits > 0 else 0.0\n",
    "f1 = 2.0 * pr * rec / (pr + rec + 1e-6)"
   ]
  },
  {
   "cell_type": "code",
   "execution_count": 69,
   "metadata": {},
   "outputs": [
    {
     "data": {
      "text/plain": [
       "'REFUTES'"
      ]
     },
     "execution_count": 69,
     "metadata": {},
     "output_type": "execute_result"
    }
   ],
   "source": [
    "labels_train[0]"
   ]
  },
  {
   "cell_type": "code",
   "execution_count": 70,
   "metadata": {},
   "outputs": [
    {
     "data": {
      "text/plain": [
       "'Nelson Mandela'"
      ]
     },
     "execution_count": 70,
     "metadata": {},
     "output_type": "execute_result"
    }
   ],
   "source": [
    "evidence_train[0]"
   ]
  },
  {
   "cell_type": "code",
   "execution_count": 71,
   "metadata": {},
   "outputs": [
    {
     "data": {
      "text/plain": [
       "array(['Tituly a vyznamenání Nelsona Mandely', '46664',\n",
       "       'HIV/AIDS v Africe', 'Nelson Mandela', 'Veřejné zdraví',\n",
       "       'Zdravotní pojištění', 'Umkhonto we Sizwe',\n",
       "       'Zdravotnický záchranář', 'Populační fond OSN',\n",
       "       'Diskografie Harveyho Mandela', 'Zdraví', 'Bill Nelson',\n",
       "       'Oddlužení', 'Přístup k pitné vodě v rozvojovém světě',\n",
       "       'Zdravá škola',\n",
       "       'Zaměstnávání osob se zdravotním postižením',\n",
       "       'Dětská úmrtnost',\n",
       "       'Domov pro osoby se zdravotním postižením',\n",
       "       'Ublížení na zdraví z nedbalosti', 'Zdravotnictví',\n",
       "       'Shangrenade', 'Zdravotnické zařízení',\n",
       "       'Převzetí člověka do zdravotnického zařízení bez jeho souhlasu',\n",
       "       'Cena za lidskost', 'HIV/AIDS ve Svazijsku', 'Život dětem',\n",
       "       'Zdravotní průkaz pracovníka v potravinářství',\n",
       "       'Rodičovský příspěvek', 'Příspěvek na péči',\n",
       "       'Dříve vyslovené přání',\n",
       "       'Všeobecná zdravotní pojišťovna České republiky', 'ANC',\n",
       "       'Čínské investice v Africe',\n",
       "       'Správa Spojených národů pro pomoc a obnovu',\n",
       "       'Zdravotní péče ve Francii',\n",
       "       'Seznam států světa podle průměru délky života',\n",
       "       'Na počátku', 'Dovolená', 'Báňský záchranář', 'Harambee',\n",
       "       'Cena za správný život',\n",
       "       'Ztracená léta života v důsledku nemoci',\n",
       "       'Zdravotní postižení', 'Ekonomika Svazijska',\n",
       "       'Právo na životní úroveň',\n",
       "       'Restituce v Československu po roce 1989',\n",
       "       'Mírová a bezpečnostní rada', 'Ublížení na zdraví',\n",
       "       'Úmluva OSN o právech osob se zdravotním postižením',\n",
       "       'Oborová zdravotní pojišťovna zaměstnanců bank, pojišťoven a stavebnictví',\n",
       "       'NEPAD', 'Hladomory v Somálsku',\n",
       "       'Léčebna dlouhodobě nemocných', 'Namibijský dolar',\n",
       "       'Seznam prezidentů Somalilandu', 'Zdravotní pojišťovna',\n",
       "       'Zdravá délka života',\n",
       "       'Dobročinný řád afrického osvobození',\n",
       "       'Ministerstvo zdravotnictví České republiky',\n",
       "       'Zákon o péči o zdraví lidu',\n",
       "       'Jihoafrické rozvojové společenství',\n",
       "       'Rezoluce Rady bezpečnosti OSN č. 418', 'Nemoc z povolání',\n",
       "       'Zodpovědné úvěrování', 'Kapka naděje',\n",
       "       'Evropský průkaz zdravotního pojištění', 'Lékárnička',\n",
       "       'Sanace (ekologie)', 'Rizikový faktor',\n",
       "       'Národní zdravotní výbor Čínské lidové republiky',\n",
       "       'Uzavření českých škol 2020', 'Dobrovolný záchranář',\n",
       "       'Svoboda (rozcestník)', 'Kuchyně Zimbabwe', 'Zdravotník',\n",
       "       'ABC prevence',\n",
       "       'Ministerstvo zdravotnictví a sociální péče Spojených států amerických',\n",
       "       'Mezinárodní den za odstranění chudoby', 'Obchod s chudobou',\n",
       "       'Plena', 'Holandská nemoc (hospodářství)',\n",
       "       'Ekologická daňová reforma', 'Státní dluh',\n",
       "       'Národní transplantační zákon z roku 1984',\n",
       "       'Řád svobody (Portugalsko)', 'Humanitární organizace',\n",
       "       'Rezoluce Rady bezpečnosti OSN č. 2177', 'Vězeň svědomí',\n",
       "       'Shromáždění hlav států Africké unie',\n",
       "       'Osoba samostatně výdělečně činná',\n",
       "       'Akční plán z Lagosu', 'Ekonomika Afriky', 'Mikrofinancování',\n",
       "       'Jihoafrický rand', 'Daňová asignace', 'Svépomocné spolky',\n",
       "       'Krugerův národní park', 'Daňový řád',\n",
       "       'Jardin Nelson-Mandela', 'Revitalizace',\n",
       "       'Stupně výstrahy před pandemií', 'Světový den zdraví',\n",
       "       'Podmíněné finanční dávky', 'Sanace', 'Hnutí pro-life',\n",
       "       'Těžké ublížení na zdraví z nedbalosti',\n",
       "       'Nemocenské pojištění', 'Imunita (právo)',\n",
       "       'Ústav národního zdraví', 'Stacionář',\n",
       "       'Východoafrická federace',\n",
       "       'Vliv globálního oteplování na člověka', 'Průměrná mzda',\n",
       "       'Zemědělský půdní fond', 'Rehabilitační lékařství',\n",
       "       'Financování zdravotnictví v Česku',\n",
       "       'Znečištění ovzduší v Česku', 'Lékaři bez hranic',\n",
       "       'Rodičovská dovolená', 'Udržitelný rozvoj',\n",
       "       'Práce na černo', 'UNAIDS', 'Ekonomika Čadu', 'Hospitalizace',\n",
       "       'Minimalizace rizik', 'Přídavek na dítě',\n",
       "       'LGBT práva v Zimbabwe', 'Závěť',\n",
       "       'Zvláštní práva čerpání', 'Ekonomika Burundi',\n",
       "       'Sleva na dani', 'Zastoupení členem domácnosti',\n",
       "       'Hymna Jihoafrické republiky', 'Sociální nouze',\n",
       "       'Extrémní chudoba', 'Klíčové hnutí', 'Invalidita',\n",
       "       'Čtvrtý svět', 'Doplatek na bydlení', 'Násilí', 'Primář',\n",
       "       'Apartheid', 'Náboženská segregace', 'One Health',\n",
       "       'Den daňové svobody', 'Nelson Mandela Bay Stadium',\n",
       "       'Dluhové poradenství', 'Ošetřovné', 'Prezident Itálie',\n",
       "       'Dárcovství orgánů', 'Daň z příjmů fyzických osob',\n",
       "       'Dobrovolná daň', 'Index lidského rozvoje',\n",
       "       'Ochrana člověka za mimořádných událostí',\n",
       "       'Seznam měst v Jihoafrické republice', 'Tísňové volání',\n",
       "       'Nepojistné sociální dávky', 'Festus Mogae',\n",
       "       'Hospodářská politika',\n",
       "       'Práva rodičů a dětí při poskytování zdravotní péče',\n",
       "       'Bantustan', 'Světová zdravotnická organizace', 'Sam Nujoma',\n",
       "       'Laudemium', 'Dovolená na zotavenou', 'Chudoba',\n",
       "       'Rozvojová spolupráce', 'Gombár', 'Nadváha',\n",
       "       'Rada pro lidská práva', 'Bolestné', 'Pandemie',\n",
       "       'Veřejná stráž', 'Zůstavitel', 'Pomáháme lidem na útěku',\n",
       "       'Džigme Dordže Wangčhug', 'Státní fond rozvoje bydlení',\n",
       "       'Léčivý přípravek', 'Úmrtnost', 'Jihoafrická republika',\n",
       "       'Znárodnění', '.za', 'Martina Štěpánková (úřednice)',\n",
       "       'Civilizační choroba',\n",
       "       'Potravinová krize v Africkém rohu (2011)', 'Plat',\n",
       "       'Odpuštění', 'Seznam ministrů zdravotnictví Československa',\n",
       "       'Členění Afriky', 'Demokratizace Madagaskaru',\n",
       "       'Ekonomika Jihoafrické republiky', 'Ministr financí',\n",
       "       'Terčovník', 'Etický kodex úředníka', 'ATLS', 'Sanitář',\n",
       "       \"Mary's Meals\", 'Inkubační doba', 'Liga lidských práv',\n",
       "       'Smluvní služebník', 'Fronta (zástup)',\n",
       "       'LGBT práva v Jihoafrické republice', 'Who',\n",
       "       'Mimořádná veterinární opatření', 'Denní stacionář',\n",
       "       'Pásový opar', 'Indové v Jihoafrické republice',\n",
       "       'Seznam předsedů vlád Jižní Afriky',\n",
       "       'Seznam států světa podle HDP na obyvatele',\n",
       "       'Ohrožení veřejného zdraví mezinárodního významu',\n",
       "       'Sekundární infekce', 'Nemoci ptáků',\n",
       "       'Zařízení následné péče', 'Protivládní iniciativa',\n",
       "       'Družstevní záložna', 'Pojišťovna VZP',\n",
       "       'Stráž přírody v České republice', 'Zaměstnání',\n",
       "       'Yoweri Museveni', 'Ministerstvo zdravotnictví',\n",
       "       'Prezidentská vlajka', 'Indemnita',\n",
       "       'Zákon o pojistném na veřejné zdravotní pojištění',\n",
       "       'Zabezpečovací zařízení', 'Svazijsko', 'Sluníčko pro děti',\n",
       "       'Unie svobody', 'Den lidských práv', 'Práh chudoby',\n",
       "       'Východní Kapsko', 'Povodeň', 'Útěk z vězení',\n",
       "       'Úrazové pojištění', 'Správní rada vysoké školy', 'SOLUS',\n",
       "       'The Snake (album, Harvey Mandel)', 'Velká hospodářská krize',\n",
       "       'Nemocnice', 'Eutanazie', 'Privatizace',\n",
       "       'Podpora v nezaměstnanosti', 'Postnička', 'Lazariánská pomoc',\n",
       "       'Přeshraniční park Kgalagadi',\n",
       "       'Španělské severoafrické državy', 'Česko proti chudobě',\n",
       "       'Organizace pro výživu a zemědělství', 'Zpětný odběr',\n",
       "       'Dobrý zemědělský a environmentální stav půdy',\n",
       "       'Ekonomika založená na zdrojích',\n",
       "       'Český svaz ochránců přírody',\n",
       "       'Svaz léčebných lázní České republiky',\n",
       "       'Osoba bez zdanitelných příjmů', 'Závislost na lécích',\n",
       "       'Otrokářství', 'Rezoluce Rady bezpečnosti OSN č. 794',\n",
       "       'Mandát (politika)', 'Dotace', 'Darování pro případ smrti',\n",
       "       'Otcovská dovolená', 'Human Rights Watch',\n",
       "       'Durrell Wildlife Conservation Trust', 'Nezaměstnanost',\n",
       "       'Antonín Pečenka', 'Hospodářský rozvoj', 'Nansenova cena',\n",
       "       'Vládní dluh České republiky', 'Dar', 'Důchodce',\n",
       "       'Raná péče', 'Škůdce', 'Movember', 'Pečovatelská služba',\n",
       "       'Pediatrie', 'Střední Afrika', 'Fond solidarity',\n",
       "       'Adopce na dálku', 'Odečitatelná položka',\n",
       "       'Zdravotní pojišťovna ministerstva vnitra České republiky',\n",
       "       'Gaylord Nelson', 'Pojištění schopnosti splácet',\n",
       "       'Česká průmyslová zdravotní pojišťovna', 'Pro bono',\n",
       "       'Mateřská dovolená', 'Feel the Sound of Harvey Mandel',\n",
       "       'Fond národního majetku České republiky', 'Zimbabwe Rhodesie',\n",
       "       'Klinická výživa', 'Surinamský dolar', 'Live Aid',\n",
       "       'Twist City', 'Poslanec', 'Církevní restituce v Česku',\n",
       "       'Světový potravinový program', 'Povolání',\n",
       "       'Veřejná prospěšnost', 'Záškoláctví', 'Diaspora',\n",
       "       'Měnová reforma', \"Let's Face the Music and Dance (album)\",\n",
       "       'Klasa',\n",
       "       'Ministerstvo pro záležitosti veteránů Spojených států amerických',\n",
       "       'Základ daně z příjmů fyzických osob v České republice',\n",
       "       'Světový fond na ochranu přírody',\n",
       "       'Prezidentské milosti Miloše Zemana', 'Nadace Dobrý anděl',\n",
       "       'Fidelis dispensator et prudens',\n",
       "       'Dětský fond Organizace spojených národů',\n",
       "       'Daňové řízení', 'Řád svobody',\n",
       "       'Mezivládní úřad pro rozvoj',\n",
       "       'Ministerstvo zdravotnictví Slovenské republiky',\n",
       "       'Sterilizace zdravotnického materiálu a nástrojů',\n",
       "       'Africké hospodářské společenství',\n",
       "       'Rezignace (psychologie)',\n",
       "       'Administrativní dělení Jihoafrické republiky',\n",
       "       'Energetická chudoba', 'Prezidentská komise Ugandy',\n",
       "       'Zákon o úrazovém pojištění zaměstnanců',\n",
       "       'Národní referenční laboratoř', 'Společenský odstup',\n",
       "       'SOS Sluníčko',\n",
       "       'Svaz postižených civilizačními chorobami v ČR',\n",
       "       'Zákon o zpracování osobních údajů',\n",
       "       'Světová organizace pro zdraví zvířat',\n",
       "       'Ekonomika Austrálie', 'Azylový dům',\n",
       "       'Cena ministra životního prostředí',\n",
       "       'Trestněprávní imunita', 'Seznam zemí podle státního dluhu',\n",
       "       'Krize ve Venezuele',\n",
       "       'Rozpočtové určení daní v České republice',\n",
       "       'Pamlsková vyhláška', 'Svoboda svědomí', 'Hmotná nouze',\n",
       "       'Zákon o nemocenském pojištění', 'Milost (právo)',\n",
       "       'Pašeráctví', 'Snake Attack', 'Srážky ze mzdy',\n",
       "       'Panafrický parlament', 'Státní fondy České republiky',\n",
       "       'Ochrana životního prostředí',\n",
       "       'Ministerstvo pro správu národního majetku a jeho privatizaci České republiky',\n",
       "       'Střední délka života', 'Světový den boje proti AIDS',\n",
       "       'Odlehčovací služby', 'Občanská válka v Mosambiku',\n",
       "       'Zdravotní gramotnost', 'Prodlení', 'Ekonomika Africké unie',\n",
       "       'AIDS', 'Kuchyně Nauru', 'Přímá daň',\n",
       "       'Obyvatelstvo Čínské lidové republiky', 'Urgentní medicína',\n",
       "       'Duševní zdraví', 'Státní zemědělský intervenční fond',\n",
       "       'Paliativní péče', 'Specifický rizikový materiál',\n",
       "       'Národní zdravotnický informační systém',\n",
       "       'Seznam premiérů Nizozemska',\n",
       "       'Seznam představitelů Jižní Afriky', 'Seznam ostrovů Afriky',\n",
       "       'Dekolonizace Afriky', 'Hymna Zimbabwe', 'Rwandská kuchyně',\n",
       "       'Dispenzarizace',\n",
       "       'Seznam ministrů zdravotnictví České republiky',\n",
       "       'Krizová pomoc',\n",
       "       'Nařízení EU o zdravotnických prostředcích', 'Anosmie',\n",
       "       'Státní dluh Česka',\n",
       "       'Sbor dobrovolných hasičů České Budějovice',\n",
       "       'Ugandský šilink',\n",
       "       'Ústřední nákazová komise České republiky',\n",
       "       'Ekonomika Gabonu',\n",
       "       'Základ daně z příjmů právnických osob v České republice',\n",
       "       'Měkký vřed',\n",
       "       'Zimbabwská africká národní unie – Vlastenecká fronta',\n",
       "       'ADRA', 'Vlajka Jihoafrické republiky',\n",
       "       'Environmentální migrace', 'Seznam prezidentských vet',\n",
       "       'Brazzavillská skupina', 'Mezinárodní obchodní spory',\n",
       "       'Pohřebné', 'Dětství', 'Spořicí účet',\n",
       "       'Šok (lékařství)', 'Koordinátor podpory',\n",
       "       'Předčasný porod', 'Pojišťovna',\n",
       "       'Hospodářské společenství států střední Afriky',\n",
       "       'Thabo Mbeki', 'Zdravotnictví v Česku',\n",
       "       'Cena OSN na poli lidských práv', 'Povinná volební účast',\n",
       "       'Amnesty International', 'Pojištění odpovědnosti za škodu',\n",
       "       'Obec křesťanů', 'Řád uznání',\n",
       "       'Seznam lůžkových zdravotnických zařízení v Brně',\n",
       "       'Děkujeme, odcházíme', 'Ekonomika Itálie', 'Safari',\n",
       "       'Bezpečnost', 'Ministr zdravotnictví Izraele',\n",
       "       'Seznam voleb prezidenta Maďarska', 'Tularémie',\n",
       "       'Prokazování původu majetku', 'Přehřívání ekonomiky',\n",
       "       'Hnutí Na vlastních nohou – Stonožka', 'Baby Batter',\n",
       "       'Svazijská kuchyně', 'Ugandsko-tanzanská válka',\n",
       "       'Seznam prezidentů Libanonu', 'Přírodní památka Černý důl',\n",
       "       'Důchodové pojištění',\n",
       "       'Dopad produkce masa na životní prostředí',\n",
       "       'Podpůrná léčba', 'Řád Tomáše Garrigua Masaryka',\n",
       "       'Minimální mzda', 'Třídění pacientů', 'Kožní štěpy',\n",
       "       'African Jesuit AIDS Network', 'Vliv vína na zdraví',\n",
       "       'Makroobezřetnostní regulace', 'Podvýživa', 'Krejčovství',\n",
       "       'Emmerson Mnangagwa', 'Jihoafrické námořnictvo',\n",
       "       'Kgalema Motlanthe', 'Schistosomóza', 'Srdcerváči',\n",
       "       'Vzkříšení', 'Vlast', 'Léčivo',\n",
       "       'Zákon o posuzování vlivů na životní prostředí',\n",
       "       'Zaměstnanec', 'Svolení poškozeného',\n",
       "       'Největší Jihoafričané podle SABC3', 'Štěch',\n",
       "       'Měnová politika', 'Obřízka', 'Přechodová ekonomika',\n",
       "       'Epidemie', 'Nkrumahovo mauzoleum', 'Svazijský lilangeni',\n",
       "       'Dálniční poplatek', 'Dluhová spirála',\n",
       "       'Program OSN pro životní prostředí', 'Doprava lidskou silou',\n",
       "       'Penzijní fond', 'Jaderný program Jihoafrické republiky',\n",
       "       'Úřad Vysokého komisaře OSN pro uprchlíky',\n",
       "       'Kolébka lidstva', 'Udržitelná spotřeba', 'Domovní svoboda',\n",
       "       'Státní dluh Slovinska', 'Volby v Itálii',\n",
       "       'Škola v přírodě', 'Daňové přiznání',\n",
       "       'Uprchlický tábor', 'Evropský sociální fond', 'Daň z obratu',\n",
       "       'Státní zdravotní ústav', 'Mutter', \"Youssou N'Dour\",\n",
       "       'Dávky pěstounské péče',\n",
       "       'Zařízení pro děti vyžadující okamžitou pomoc',\n",
       "       'Pavla Gomba', 'Růžové límečky', 'Keňa', 'Rok Afriky',\n",
       "       'Kapitálové životní pojištění', 'Pojištění vkladů',\n",
       "       'Fair trade', 'Očkování',\n",
       "       'Johannesburská deklarace o udržitelném rozvoji',\n",
       "       'Ekoregiony Madagaskaru', 'Rezoluce Rady bezpečnosti OSN č. 733',\n",
       "       'Azylová a přistěhovalecká politika EU', 'Hladomor',\n",
       "       'Pohlavní dospělost', 'Řád africké hvězdy (Libérie)',\n",
       "       'Kuchyně Jihoafrické republiky', 'Složené úročení',\n",
       "       'Tanzanský šilink', 'Spořitelna', 'Smrt', 'Pozůstalost',\n",
       "       'Město přechodu',\n",
       "       'Ministerstvo pro správu a privatizaci národního majetku Slovenské republiky',\n",
       "       'Cristo Redentor', 'Půst', 'Mosambická hymna',\n",
       "       'Svoboda sdružování',\n",
       "       'Výbor pro zdravotnictví Poslanecké sněmovny Parlamentu České republiky',\n",
       "       'Nadace OKD', 'Rozměry lidského penisu', 'Ostrov svobody',\n",
       "       'Seznam prezidentů Itálie', 'Východoafrické společenství',\n",
       "       'Dopady evropské migrační krize v Itálii', 'Jomo Kenyatta',\n",
       "       'Polní nemocnice', 'Lékařské tajemství', 'Osobní finance',\n",
       "       'Sociální potřebnost', 'Daň', 'Český svaz hemofiliků',\n",
       "       'Zimbabwe', 'Frontové státy', 'Sněmovna lidu',\n",
       "       'Ministerstvo financí', 'Devizový příslib',\n",
       "       'Seznam prezidentů Somálska', 'Lovemore Bonjisi',\n",
       "       'Řád liberijských průkopníků', 'Snakes and Stripes',\n",
       "       'Seznam zemí podle zahraničního dluhu', 'Pozemková renta',\n",
       "       'Nelson (příjmení)', 'Jihoafrická celní unie', 'Stočné',\n",
       "       'Morbidita', 'Goldmanova cena', 'Hrubá mzda',\n",
       "       'Emergency (charitativní organizace)',\n",
       "       'Zdravotnická záchranná služba Moravskoslezského kraje',\n",
       "       'Druhá válka v Kongu', 'Pandemie covidu-19 v Itálii',\n",
       "       'Odpočet DPH', 'Epizootie', 'Peněžitá pomoc v mateřství',\n",
       "       'Občanská práva', 'Morgan Tsvangirai', 'Zpráva o stavu Unie',\n",
       "       'John Dalli', 'Rakovina', 'Rozdělení povinností',\n",
       "       'Pandemie covidu-19 ve Švýcarsku', 'Právní ochrana',\n",
       "       'Národní řád Madagaskaru', 'Východní Afrika',\n",
       "       'Salmonelózy drůbeže', 'Obchod s lidmi', 'Vlajka Zimbabwe',\n",
       "       'Mzdové účetnictví', 'Politický systém Itálie',\n",
       "       'Bezpečnost a ochrana zdraví při práci',\n",
       "       'Státní znak Jihoafrické republiky',\n",
       "       'Státní veterinární správa České republiky',\n",
       "       'Asociace samaritánů České republiky', 'SAR',\n",
       "       'Dolar Šalomounových ostrovů', 'Pořízení pro případ smrti',\n",
       "       'Vlastenecké sdružení čínských katolíků',\n",
       "       'Rozvojové cíle tisíciletí', 'Velké Zimbabwe', 'Stáří',\n",
       "       'Ochranná pomůcka', 'Humanitární pomoc', 'Večerka',\n",
       "       'Římská unie řádu svaté Voršily', 'Křest za mrtvé',\n",
       "       'Chráněný trh práce', 'Parenterální výživa',\n",
       "       'Protikuřácký zákon',\n",
       "       'Čmelák – Společnost přátel přírody', 'Předdůchod',\n",
       "       'André Milongo', 'Ken Livingstone', 'Zambia Wildlife Authority',\n",
       "       'Kauzalita (epidemiologie)', 'Zdravotnická záchranná služba',\n",
       "       'Cena Přístav', 'Dočasná péče', 'Witwatersrand',\n",
       "       'Konvalidace', 'Morový doktor', 'Frikční nezaměstnanost',\n",
       "       'Seznam měst přejmenovaných ve 20. století',\n",
       "       'Menstruační vložka', 'Trest', 'Veterinární lékařství',\n",
       "       'Prezidentské volby 2020', 'Farm Aid', 'Jurečka',\n",
       "       'Bezpečnost práce v Číně', 'První pomoc', 'Afričan',\n",
       "       'Gorontalo', 'Státní sociální podpora', 'Mzda', 'Den Afriky',\n",
       "       'Seznam premiérů Haiti',\n",
       "       'Ministerstvo zemědělství Spojených států amerických',\n",
       "       'Řád zásluh o Italskou republiku', 'Lustrace',\n",
       "       'Vzdělávání osob se speciálními vzdělávacími potřebami v Česku',\n",
       "       'Nerůst', 'Klimatická krize', 'Rwandská vlastenecká fronta',\n",
       "       'Světová komise pro přehrady', 'Čížečku, čížečku',\n",
       "       'Uštknutí', 'Italský hospodářský zázrak', 'Vaal', 'Vodné',\n",
       "       'Investiční společnost', 'Investiční riziko',\n",
       "       'Konžská krize', 'Hrubý domácí produkt', 'Noclehárna',\n",
       "       'Naražení na kůl', 'Kontrolní program',\n",
       "       'Česká důchodová reforma (2011)', 'Zpráva', 'Financializace',\n",
       "       'Virové onemocnění',\n",
       "       'Tituly a vyznamenání Haile Selassieho I.',\n",
       "       'Místopředseda Státní rady Čínské lidové republiky',\n",
       "       'Majetková, správní a delimitační unie odborových svazů',\n",
       "       'Zpomalovač hoření', 'Veřejně prospěšný poplatník',\n",
       "       'Starobní důchod', 'Smrtnost', 'Tísňová péče',\n",
       "       'Primární sektor', 'Natal', 'Státní znak Rwandy',\n",
       "       'Řád Ľudovíta Štúra', 'Mluvčí práv dítěte (Polsko)',\n",
       "       'Rostlinolékařství', 'Výživová doporučení',\n",
       "       'Česká správa sociálního zabezpečení',\n",
       "       'United Nations Peacebuilding Fund', 'Polluter Pays Principle',\n",
       "       'Klimatická nouze', 'Ustavující smlouva Africké unie',\n",
       "       'Botswana', 'Imunita zákonodárců v Česku',\n",
       "       'Pracovní podmínky v rozvojových zemích',\n",
       "       'Spotřební zboží', 'Princ-regent', 'Darování krve',\n",
       "       'Karcinogenní složky cigaretového kouře',\n",
       "       'Jindra (příjmení)', 'Remise', 'Výpalné',\n",
       "       'Seznam představitelů Malty',\n",
       "       'Katolická církev v Jihoafrické republice', 'Šedá ekonomika',\n",
       "       'Porážka zvířat', 'Endemie',\n",
       "       'Zdravotnické operační středisko', 'Prince', 'Brooksley Born',\n",
       "       'Botswanská kuchyně', 'Výchova k volbě povolání',\n",
       "       'Heroes (album, Willie Nelson)', 'National AIDS Memorial Grove',\n",
       "       'Včelí farma', 'První válka v Kongu',\n",
       "       'Porod koncem pánevním', 'Pojišťovnictví', 'Rastislav Maďar',\n",
       "       'Kuchyně Malawi', 'Nadace rozvoje občanské společnosti',\n",
       "       'Stav nebezpečí', 'Fondy Evropské unie', 'Andrew Bonar Law',\n",
       "       'Harare', 'Prezidentské volby 2018', 'Peněžní převod',\n",
       "       'Poškození cizí věci', 'Volby prezidenta Brazílie 2010',\n",
       "       'Mistrovství světa v letech na lyžích 2002', 'Hrady na Malši',\n",
       "       'Velká privatizace',\n",
       "       'Sociálně aktivizační služby pro rodiny s dětmi',\n",
       "       'Nemocnice s poliklinikou Mělník', 'Černý trh', 'Náměstek',\n",
       "       'Transvaal', 'Oddlužení (úpadkové řízení)',\n",
       "       'Čínské investice v Austrálii', 'Pojištění osob',\n",
       "       'Konference OSN o změně klimatu',\n",
       "       'Řád za zásluhy (Středoafrická republika)',\n",
       "       'Náhradní rodinná péče', 'Občanská válka v Somálsku',\n",
       "       'Deklarace Konference OSN o životním prostředí a rozvoji',\n",
       "       'Rodinný rozpočet', 'Východoafrický šilink',\n",
       "       'Prezident Gruzie', 'Hnutí Ducha svatého',\n",
       "       'Medaile za službu v Africe',\n",
       "       'Podpůrná opatření pátého stupně', 'Prezident Slovinska',\n",
       "       'LGBT práva v Tanzanii', 'Chudoba v Ruské federaci',\n",
       "       'Darování', 'Trvalý následek',\n",
       "       'Liberalizace poštovního trhu v České republice',\n",
       "       'Umrlčí pas', 'Malawi', 'Nadační fond REGI Base I.',\n",
       "       'Administrativní dělení Madagaskaru', 'Erekční kroužek',\n",
       "       'Prezidentské volby 2019', 'Nouzový stav v Česku',\n",
       "       'Jihoafrická republika na Zimních olympijských hrách 2010',\n",
       "       'Krugerrand', 'Evropský fond pro regionální rozvoj',\n",
       "       'Španělská chřipka', 'PRO Zdraví a Sport', 'Pallor',\n",
       "       'Silniční správní úřad', 'Kuchyně Burkiny Faso',\n",
       "       'Příklep (právo)', 'Řád republiky (Tunisko)',\n",
       "       'Podvracení republiky', 'Transplantace', 'Rakovina varlat',\n",
       "       'Dopad pandemie covidu-19 na životní prostředí',\n",
       "       'Nobelova pamětní cena za ekonomii',\n",
       "       'Žlutá zakrslost ječmene', 'Čchun-jün',\n",
       "       'Sociálně-právní ochrana dětí',\n",
       "       'Seznam prezidentů Papežské komise pro Městský stát Vatikán',\n",
       "       'Černá smrt', 'Women of Liberia Mass Action for Peace',\n",
       "       'Mezinárodní měnový fond', 'Subvence',\n",
       "       'Těžké ublížení na zdraví',\n",
       "       'Sacharovova cena za svobodu myšlení', 'Povodeň v Česku 2010',\n",
       "       'Seznam prezidentů Etiopie', 'Udržitelný život',\n",
       "       'Mléko z farmy', 'Frederik Willem de Klerk', 'Nočník',\n",
       "       'Sars (rozcestník)', 'Armáda národního odporu',\n",
       "       'Úvrať (zemědělství)', 'Spotřeba', 'První dáma',\n",
       "       'Zahrádkářství', 'Kategorizace prací', 'HIV',\n",
       "       'Svatotomášská dobra', 'Ndola', 'Seznam prezidentů Gambie',\n",
       "       'Domov se zvláštním režimem', 'Holandská nemoc',\n",
       "       'Vojenská zdravotní pojišťovna České republiky',\n",
       "       'Obmyšlený', 'Státní sociální podpora v Česku',\n",
       "       'Naše společná budoucnost', 'Restitutio in integrum',\n",
       "       'Rezoluce Rady bezpečnosti OSN č. 746',\n",
       "       'Plánované rodičovství', 'Swiss Life Select',\n",
       "       'Australský dolar', 'Řád svatých Mořice a Lazara', 'Godenu',\n",
       "       'Předseda Africké unie',\n",
       "       'Pomník obětem katastrofy na dole Nelson', 'Eradikace',\n",
       "       'Těžební průmysl a životní prostředí', 'Kapitalismus',\n",
       "       'Gambijský dalasi', 'Paulo Muwanga', 'Zabijačka',\n",
       "       'Rychlá zdravotnická pomoc', 'Březost', 'Exhumace',\n",
       "       'Jakaya Kikwete', 'Environmentální spravedlnost',\n",
       "       'Úřad pro kontrolu potravin a léčiv', 'Národní park Taï',\n",
       "       'Srílanské zelené hnutí', 'Seznam prezidentů Keni',\n",
       "       'Letiště Gaborone',\n",
       "       'Hospodářská, sociální a kulturní práva',\n",
       "       'Zákon o pomoci v hmotné nouzi', 'Králičí mor',\n",
       "       'Asistovaná sebevražda', 'Tři přání', 'Godfrey Binaisa',\n",
       "       'Národní park', 'Krizová situace', 'Ekosystémové služby',\n",
       "       'Švýcarská národní banka', 'Příušnice',\n",
       "       'Doživotní prezident', 'Africká unie', 'Buněčné poškození',\n",
       "       'Životní úroveň', 'Žilní návrat', 'Willie Nelson',\n",
       "       'Křižák', 'Obyvatelstvo', 'Botswanská pula',\n",
       "       'Přídělový systém', 'Veřejně prospěšné práce', 'Podvod',\n",
       "       'William Beveridge', 'Mezinárodní klasifikace nemocí',\n",
       "       'Salto mortale', 'Spotřebitelský úvěr',\n",
       "       'Hiporehabilitační kůň', 'Řád budovatelů lidového Polska',\n",
       "       'Obrat (účetnictví)', 'Národní galerie Zimbabwe', 'Uganda',\n",
       "       'Nežádoucí účinky', 'Krajská veterinární správa',\n",
       "       'Interrupce v Česku', 'Pupečníková žíla',\n",
       "       'Křesťanské mnišství', 'Superhrubá mzda', 'Obamacare',\n",
       "       'Technické služby', 'Pojištění majetku', 'Naturalizace',\n",
       "       'Znečištění', 'Svalová dystrofie', 'Dobrovolnictví',\n",
       "       'Výrobní faktor', 'Ekonomická a sociální rada OSN',\n",
       "       'Africká měnová unie', 'Ultimate Sports Nutrition',\n",
       "       'Řád osvoboditele', 'Šoková terapie (ekonomie)',\n",
       "       'Otevřená ekonomika', 'Rada vlády pro lidská práva',\n",
       "       'Lékařský odborový klub – Svaz českých lékařů',\n",
       "       'Ekologická daň', 'Novozélandský dolar', 'Přírodní park',\n",
       "       'Koronavirová recese', 'Demokratický deficit', 'Pojištěný',\n",
       "       'Department of Conservation', 'Zvolený prezident',\n",
       "       'Příjem na osobu', 'Správa uprchlických zařízení', 'Azyl',\n",
       "       'Tedros Adhanom Ghebreyesus', 'Fundace',\n",
       "       'Zdravotnická záchranná služba Kraje Vysočina',\n",
       "       'Ekonomika Čínské lidové republiky', 'Obecné užívání',\n",
       "       'Ženská obřízka', 'Evropská banka pro obnovu a rozvoj',\n",
       "       'Daň z deště', 'Kolonizace Afriky', 'Okupace (právo)',\n",
       "       'Senior', 'Epifytie', 'Příspěvek na bydlení',\n",
       "       'Sexuálně přenosná nemoc', 'Gambela', 'Twyfelfontein',\n",
       "       'Rozalio', 'Správní rada',\n",
       "       'Protikuřácké tažení v nacistickém Německu',\n",
       "       'Občanské sdružení Horní náměstí',\n",
       "       'Syndrom náhlého úmrtí kojenců',\n",
       "       'Garanční systém finančního trhu', 'Znečištění ovzduší',\n",
       "       'Emoční vývoj dítěte předškolního věku', 'Karóši',\n",
       "       'Flavivirové infekce ptáků', 'Monument znovuzrození Afriky',\n",
       "       'Snake Pit', 'Méněcenný statek', 'Udržitelná doprava',\n",
       "       'Míra incidence', 'Spavá nemoc', 'Kumi Naidoo', 'Bydliště',\n",
       "       'SUDEP', 'Parlamentář', 'Podnikání', 'Laurent-Désiré Kabila',\n",
       "       'Správa státních hmotných rezerv', 'Pupečníková krev',\n",
       "       'Regulace nájemného', 'Institut Roberta Kocha',\n",
       "       'Nízkoprahové zařízení pro děti a mládež',\n",
       "       'Zákon o zajištění dalších podmínek bezpečnosti a ochrany zdraví při práci',\n",
       "       'Přirozený přírůstek', 'Dopravní obslužnost',\n",
       "       'Recorded Music NZ', 'Yusuf Lule', 'Krádež',\n",
       "       'Seznam politických stran v Namibii', 'Program rozvoje venkova',\n",
       "       'Zájmové vzdělávání dospělých', 'Potřeba',\n",
       "       'Jihoafrická unie', 'Nemoc', 'Dědic',\n",
       "       'Reprodukční lékařství', 'Wealth management',\n",
       "       'Terciární sektor', 'Kuru', 'Beztřídní společnost',\n",
       "       'Svoboda shromažďovací', 'Rezervní fond', 'Incidence',\n",
       "       'Společný trh pro Východní a Jižní Afriku',\n",
       "       'Gambijská hymna', 'Liberalizace', 'Maendeleo', 'Obezita',\n",
       "       'Židé v Nizozemsku', \"Yesterday's Wine\", 'Smíšená ekonomika',\n",
       "       'Porodné', 'Mistrovství světa v letech na lyžích 1992',\n",
       "       'Zábradlí', 'Školská rada', 'Muhammad Siad Barre',\n",
       "       'Tržní ekonomika', 'Mandátní území',\n",
       "       'Právo svěřenských fondů', 'Italské referendum (1946)',\n",
       "       'Svrchovanost', 'Křivé tlumočení', 'Úrok',\n",
       "       'Zákon o ochraně osobních údajů', 'Guinea (region)',\n",
       "       'Ceny Paměti národa', 'SIRIRI', 'Safari rallye',\n",
       "       'Rezoluce Rady bezpečnosti OSN č. 1973', 'Masakr v Sharpeville',\n",
       "       'Těhotenství po termínu', 'Krizový manažer', 'Malnutrice',\n",
       "       'Pozemková reforma v Československu', 'Sudetoněmecká nadace',\n",
       "       'Lesothský loti', 'Soukromá mateřská škola',\n",
       "       'Boží hrob (rozcestník)', 'Index nakažlivosti',\n",
       "       'Řád znovuzrozeného Polska',\n",
       "       'Československá měnová reforma (1953)', 'Kalahari',\n",
       "       'Přelidnění', 'René', 'Žebrání',\n",
       "       'Implementační plán ze Světového summitu o udržitelném rozvoji',\n",
       "       'Právo na uspokojivé pracovní podmínky', 'Sisal',\n",
       "       'Belizský dolar', 'Bilance služeb',\n",
       "       'Seznam ministrů zdravotnictví Předlitavska', 'Šrotovné',\n",
       "       'Ošetřovatelství', 'Spotřební daň', 'Italské Somálsko',\n",
       "       'Africký národní kongres', 'PMR opakovač',\n",
       "       'Jihoafrická republika na Letních olympijských hrách 1996',\n",
       "       'Rozvojová politika', 'Cena Ď',\n",
       "       'Bangladéš (Rozvojové cíle tisíciletí)', 'Státní poradce',\n",
       "       'Salmonelóza', 'Savoir vivre', 'Cena Františka Kriegla',\n",
       "       'Občanská angažovanost', 'Invalidní důchod',\n",
       "       'Státní veterinární ústav Jihlava',\n",
       "       'Ministerstvo pro místní rozvoj České republiky',\n",
       "       'LGBT práva v Ugandě', 'Against all risks', 'Těžební limit',\n",
       "       'Ohnisko (epidemiologie)', 'Západoafrická libra',\n",
       "       'Řád za zásluhy (Senegal)', 'Mezinárodní asociace pro rozvoj',\n",
       "       'Omerta', 'Doprava ve Středoafrické republice',\n",
       "       'Ornithobakterióza drůbeže',\n",
       "       'Rámcová úmluva OSN o změně klimatu', 'Misandrie',\n",
       "       'Values Party', 'Hana Brixi', 'Cena Josefa Vavrouška',\n",
       "       'Ekonomika Nizozemska', 'DZS Přeštice', 'Křováci'],\n",
       "      dtype='<U182')"
      ]
     },
     "execution_count": 71,
     "metadata": {},
     "output_type": "execute_result"
    }
   ],
   "source": [
    "predicted_evidence"
   ]
  },
  {
   "cell_type": "code",
   "execution_count": 72,
   "metadata": {},
   "outputs": [
    {
     "data": {
      "text/plain": [
       "True"
      ]
     },
     "execution_count": 72,
     "metadata": {},
     "output_type": "execute_result"
    }
   ],
   "source": [
    "evidence_train[0] in predicted_evidence"
   ]
  },
  {
   "cell_type": "code",
   "execution_count": 74,
   "metadata": {},
   "outputs": [
    {
     "data": {
      "text/plain": [
       "str"
      ]
     },
     "execution_count": 74,
     "metadata": {},
     "output_type": "execute_result"
    }
   ],
   "source": [
    "type(evidence_train[0])"
   ]
  },
  {
   "cell_type": "code",
   "execution_count": 73,
   "metadata": {},
   "outputs": [
    {
     "ename": "IndexError",
     "evalue": "string index out of range",
     "output_type": "error",
     "traceback": [
      "\u001b[0;31m---------------------------------------------------------------------------\u001b[0m",
      "\u001b[0;31mIndexError\u001b[0m                                Traceback (most recent call last)",
      "\u001b[0;32m<ipython-input-73-b562f3959227>\u001b[0m in \u001b[0;36m<module>\u001b[0;34m\u001b[0m\n\u001b[1;32m      1\u001b[0m macro_prec = eval.evidence_macro_precision(evidence_train[0], labels_train[0], predicted_evidence, \n\u001b[0;32m----> 2\u001b[0;31m                                                    max_evidence=None, page_only=True)\n\u001b[0m",
      "\u001b[0;32m~/experimental-martin/inverse-cloze-task/src/eval.py\u001b[0m in \u001b[0;36mevidence_macro_precision\u001b[0;34m(evidence, label, predicted_evid, max_evidence, page_only)\u001b[0m\n\u001b[1;32m     74\u001b[0m     \u001b[0;32mif\u001b[0m \u001b[0mlabel\u001b[0m\u001b[0;34m.\u001b[0m\u001b[0mupper\u001b[0m\u001b[0;34m(\u001b[0m\u001b[0;34m)\u001b[0m \u001b[0;34m!=\u001b[0m \u001b[0;34m\"NOT ENOUGH INFO\"\u001b[0m\u001b[0;34m:\u001b[0m\u001b[0;34m\u001b[0m\u001b[0;34m\u001b[0m\u001b[0m\n\u001b[1;32m     75\u001b[0m         \u001b[0;32mif\u001b[0m \u001b[0misinstance\u001b[0m\u001b[0;34m(\u001b[0m\u001b[0mevidence\u001b[0m\u001b[0;34m,\u001b[0m \u001b[0mlist\u001b[0m\u001b[0;34m)\u001b[0m\u001b[0;34m:\u001b[0m\u001b[0;34m\u001b[0m\u001b[0;34m\u001b[0m\u001b[0m\n\u001b[0;32m---> 76\u001b[0;31m             \u001b[0;32mif\u001b[0m \u001b[0mpage_only\u001b[0m\u001b[0;34m:\u001b[0m\u001b[0;34m\u001b[0m\u001b[0;34m\u001b[0m\u001b[0m\n\u001b[0m\u001b[1;32m     77\u001b[0m                 \u001b[0mall_evi\u001b[0m \u001b[0;34m=\u001b[0m \u001b[0;34m[\u001b[0m\u001b[0me\u001b[0m\u001b[0;34m[\u001b[0m\u001b[0;36m2\u001b[0m\u001b[0;34m]\u001b[0m \u001b[0;32mfor\u001b[0m \u001b[0meg\u001b[0m \u001b[0;32min\u001b[0m \u001b[0mevidence\u001b[0m \u001b[0;32mfor\u001b[0m \u001b[0me\u001b[0m \u001b[0;32min\u001b[0m \u001b[0meg\u001b[0m \u001b[0;32mif\u001b[0m \u001b[0me\u001b[0m\u001b[0;34m[\u001b[0m\u001b[0;36m3\u001b[0m\u001b[0;34m]\u001b[0m \u001b[0;32mis\u001b[0m \u001b[0;32mnot\u001b[0m \u001b[0;32mNone\u001b[0m\u001b[0;34m]\u001b[0m\u001b[0;34m\u001b[0m\u001b[0;34m\u001b[0m\u001b[0m\n\u001b[1;32m     78\u001b[0m             \u001b[0;32melse\u001b[0m\u001b[0;34m:\u001b[0m\u001b[0;34m\u001b[0m\u001b[0;34m\u001b[0m\u001b[0m\n",
      "\u001b[0;32m~/experimental-martin/inverse-cloze-task/src/eval.py\u001b[0m in \u001b[0;36m<listcomp>\u001b[0;34m(.0)\u001b[0m\n\u001b[1;32m     74\u001b[0m     \u001b[0;32mif\u001b[0m \u001b[0mlabel\u001b[0m\u001b[0;34m.\u001b[0m\u001b[0mupper\u001b[0m\u001b[0;34m(\u001b[0m\u001b[0;34m)\u001b[0m \u001b[0;34m!=\u001b[0m \u001b[0;34m\"NOT ENOUGH INFO\"\u001b[0m\u001b[0;34m:\u001b[0m\u001b[0;34m\u001b[0m\u001b[0;34m\u001b[0m\u001b[0m\n\u001b[1;32m     75\u001b[0m         \u001b[0;32mif\u001b[0m \u001b[0misinstance\u001b[0m\u001b[0;34m(\u001b[0m\u001b[0mevidence\u001b[0m\u001b[0;34m,\u001b[0m \u001b[0mlist\u001b[0m\u001b[0;34m)\u001b[0m\u001b[0;34m:\u001b[0m\u001b[0;34m\u001b[0m\u001b[0;34m\u001b[0m\u001b[0m\n\u001b[0;32m---> 76\u001b[0;31m             \u001b[0;32mif\u001b[0m \u001b[0mpage_only\u001b[0m\u001b[0;34m:\u001b[0m\u001b[0;34m\u001b[0m\u001b[0;34m\u001b[0m\u001b[0m\n\u001b[0m\u001b[1;32m     77\u001b[0m                 \u001b[0mall_evi\u001b[0m \u001b[0;34m=\u001b[0m \u001b[0;34m[\u001b[0m\u001b[0me\u001b[0m\u001b[0;34m[\u001b[0m\u001b[0;36m2\u001b[0m\u001b[0;34m]\u001b[0m \u001b[0;32mfor\u001b[0m \u001b[0meg\u001b[0m \u001b[0;32min\u001b[0m \u001b[0mevidence\u001b[0m \u001b[0;32mfor\u001b[0m \u001b[0me\u001b[0m \u001b[0;32min\u001b[0m \u001b[0meg\u001b[0m \u001b[0;32mif\u001b[0m \u001b[0me\u001b[0m\u001b[0;34m[\u001b[0m\u001b[0;36m3\u001b[0m\u001b[0;34m]\u001b[0m \u001b[0;32mis\u001b[0m \u001b[0;32mnot\u001b[0m \u001b[0;32mNone\u001b[0m\u001b[0;34m]\u001b[0m\u001b[0;34m\u001b[0m\u001b[0;34m\u001b[0m\u001b[0m\n\u001b[1;32m     78\u001b[0m             \u001b[0;32melse\u001b[0m\u001b[0;34m:\u001b[0m\u001b[0;34m\u001b[0m\u001b[0;34m\u001b[0m\u001b[0m\n",
      "\u001b[0;31mIndexError\u001b[0m: string index out of range"
     ]
    }
   ],
   "source": [
    "macro_prec = eval.evidence_macro_precision(evidence_train[0], labels_train[0], predicted_evidence, \n",
    "                                                   max_evidence=None, page_only=True)"
   ]
  },
  {
   "cell_type": "code",
   "execution_count": 75,
   "metadata": {},
   "outputs": [],
   "source": [
    "def evidence_macro_precision(evidence, label, predicted_evid, max_evidence=None, page_only=True):\n",
    "    \"\"\"\n",
    "    precision = predicted\n",
    "    \"\"\"\n",
    "    this_precision = 0.0\n",
    "    this_precision_hits = 0.0\n",
    "\n",
    "    if label.upper() != \"NOT ENOUGH INFO\":\n",
    "        if isinstance(evidence, list):\n",
    "            if page_only:\n",
    "                all_evi = [e[2] for eg in evidence for e in eg if e[3] is not None]\n",
    "            else:\n",
    "                all_evi = [[e[2], e[3]] for eg in evidence for e in eg if e[3] is not None]\n",
    "        elif isinstance(evidence, str):\n",
    "            all_evi = [evidence]\n",
    "        else:\n",
    "            print(\"UNEXPECTED EVIDENCE TYPE! in evidence_macro_precisin function!\")\n",
    "\n",
    "        for prediction in predicted_evid:\n",
    "            if prediction in all_evi:\n",
    "                this_precision += 1.0\n",
    "            this_precision_hits += 1.0\n",
    "\n",
    "        return (this_precision / this_precision_hits) if this_precision_hits > 0 else 1.0, 1.0\n",
    "\n",
    "    return 0.0, 0.0"
   ]
  },
  {
   "cell_type": "code",
   "execution_count": 76,
   "metadata": {},
   "outputs": [],
   "source": [
    "macro_prec = evidence_macro_precision(evidence_train[0], labels_train[0], predicted_evidence, \n",
    "                                                   max_evidence=None, page_only=True)"
   ]
  },
  {
   "cell_type": "code",
   "execution_count": 77,
   "metadata": {},
   "outputs": [
    {
     "data": {
      "text/plain": [
       "(0.001, 1.0)"
      ]
     },
     "execution_count": 77,
     "metadata": {},
     "output_type": "execute_result"
    }
   ],
   "source": [
    "macro_prec"
   ]
  },
  {
   "cell_type": "code",
   "execution_count": 41,
   "metadata": {},
   "outputs": [
    {
     "name": "stdout",
     "output_type": "stream",
     "text": [
      "['Sammy Cahn']\n"
     ]
    }
   ],
   "source": [
    "for ev in evidence_dev[1]:\n",
    "    print([e[2] for e in ev])"
   ]
  },
  {
   "cell_type": "code",
   "execution_count": 35,
   "metadata": {},
   "outputs": [
    {
     "name": "stdout",
     "output_type": "stream",
     "text": [
      "precision: 0.0\trecall: 0.0\tf1: 0.0\n"
     ]
    }
   ],
   "source": [
    "print(f\"precision: {pr}\\trecall: {rec}\\tf1: {f1}\")"
   ]
  },
  {
   "cell_type": "code",
   "execution_count": null,
   "metadata": {},
   "outputs": [],
   "source": [
    "# update_metrics_scores_at_k(f1, k, metrics, precision, recall)\n",
    "# if recall > metrics.max_rec and k == 10:  # we want to maximize recall@10\n",
    "#     metrics.max_rec = recall\n",
    "#     metrics.max_prec = precision\n",
    "#     metrics.max_f1 = f1\n",
    "#     config.logger.info(f\"F1: {f1}\\tRecall@{k}: {recall}\\tPrecision@{k}: {precision}\")\n",
    "#     if save_model:\n",
    "#         io_util.save_model(model, metrics.per_epoch['epoch'][-1], loss=metrics.per_epoch['loss'][-1], \n",
    "#                         rec=metrics.max_rec, optimizer=optimizer, config=config)"
   ]
  },
  {
   "cell_type": "code",
   "execution_count": null,
   "metadata": {},
   "outputs": [],
   "source": [
    "# eval.evaluate_model_update_metrics_and_save_if_best_recall(eval_claim_embeddings, eval_document_embeddings, \n",
    "#                                                 dev_articles_ids, evidence_dev, labels_dev, \n",
    "#                                                 metrics, model, optimizer, config, save_model=False)"
   ]
  }
 ],
 "metadata": {
  "kernelspec": {
   "display_name": "Python 3",
   "language": "python",
   "name": "python3"
  },
  "language_info": {
   "codemirror_mode": {
    "name": "ipython",
    "version": 3
   },
   "file_extension": ".py",
   "mimetype": "text/x-python",
   "name": "python",
   "nbconvert_exporter": "python",
   "pygments_lexer": "ipython3",
   "version": "3.7.4"
  }
 },
 "nbformat": 4,
 "nbformat_minor": 2
}
